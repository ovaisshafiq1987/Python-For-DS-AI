{
 "cells": [
  {
   "cell_type": "markdown",
   "metadata": {},
   "source": [
    "# Quiz No 1"
   ]
  },
  {
   "cell_type": "markdown",
   "metadata": {},
   "source": [
    "### Answer No 1 is : b"
   ]
  },
  {
   "cell_type": "code",
   "execution_count": 1,
   "metadata": {},
   "outputs": [
    {
     "name": "stdout",
     "output_type": "stream",
     "text": [
      "5\n"
     ]
    }
   ],
   "source": [
    "#What is the output of the following code? \n",
    "my_list = [1, 2, 3, 4] \n",
    "my_list.append([5, 6]) \n",
    "print(len(my_list)) \n"
   ]
  },
  {
   "cell_type": "markdown",
   "metadata": {},
   "source": [
    "### Answer No 2 is : b (Tuples can contain duplicate elements)"
   ]
  },
  {
   "cell_type": "markdown",
   "metadata": {},
   "source": [
    "### Answer No 3 is: b"
   ]
  },
  {
   "cell_type": "code",
   "execution_count": 2,
   "metadata": {},
   "outputs": [
    {
     "name": "stdout",
     "output_type": "stream",
     "text": [
      "4\n"
     ]
    }
   ],
   "source": [
    "my_set = {1, 2, 2, 3, 4}\n",
    "print(len(my_set))"
   ]
  },
  {
   "cell_type": "markdown",
   "metadata": {},
   "source": [
    "### Answer No 4 is : b (Hello)"
   ]
  },
  {
   "cell_type": "code",
   "execution_count": 2,
   "metadata": {},
   "outputs": [
    {
     "name": "stdout",
     "output_type": "stream",
     "text": [
      "Hello\n"
     ]
    }
   ],
   "source": [
    "x = \"Hello\"\n",
    "y = x\n",
    "y += \" World\"\n",
    "print(x)"
   ]
  },
  {
   "cell_type": "markdown",
   "metadata": {},
   "source": [
    "### Answer No 5 is : None of these"
   ]
  },
  {
   "cell_type": "markdown",
   "metadata": {},
   "source": [
    "### Answer No 6 is : C"
   ]
  },
  {
   "cell_type": "code",
   "execution_count": 5,
   "metadata": {},
   "outputs": [
    {
     "name": "stdout",
     "output_type": "stream",
     "text": [
      "{1, 2, 3, 4, 5}\n"
     ]
    }
   ],
   "source": [
    "set_a = {1, 2, 3}\n",
    "set_b = {3, 4, 5} \n",
    "result = set_a.union(set_b) \n",
    "print(result) \n"
   ]
  },
  {
   "cell_type": "markdown",
   "metadata": {},
   "source": [
    "####  Answer No 7 is: Mutable Data Types:\n",
    "##### Mutable data types can be modified after they are created.\n",
    "##### Examples: Lists, dictionaries, and sets.\n",
    "##### Characteristics:\n",
    "##### Elements can be added, removed, or changed.\n",
    "##### Memory allocation may change if the structure grows or shrinks.\n",
    "##### Immutable Data Types:\n",
    "##### Definition: Immutable data types cannot be changed after they are created.\n",
    "##### Examples: Tuples, strings, and frozensets.\n",
    "##### Characteristics:\n",
    "##### Any modification results in the creation of a new object.\n",
    "##### More memory-efficient in certain contexts, and safer from unintended changes.\n",
    "\n"
   ]
  },
  {
   "cell_type": "markdown",
   "metadata": {},
   "source": [
    "### Answer No 8 is :"
   ]
  },
  {
   "cell_type": "code",
   "execution_count": 6,
   "metadata": {},
   "outputs": [
    {
     "name": "stdout",
     "output_type": "stream",
     "text": [
      "Sorted Ages: [19, 19, 20, 22, 24, 24, 24, 25, 25, 26, 27, 19, 27]\n",
      "Minimum Age: 19\n",
      "Maximum Age: 27\n",
      "Average Age: 23.153846153846153\n",
      "Range of Ages: 8\n"
     ]
    }
   ],
   "source": [
    "# Given list of ages\n",
    "ages = [19, 22, 19, 24, 20, 25, 26, 24, 25, 24, 27]\n",
    "\n",
    "ages.sort()\n",
    "\n",
    "# Find the minimum and maximum ages\n",
    "min_age = min(ages)\n",
    "max_age = max(ages)\n",
    "\n",
    "# Add the min and max ages to the list\n",
    "ages.append(min_age)\n",
    "ages.append(max_age)\n",
    "\n",
    "\n",
    "# Find the average age\n",
    "average_age = sum(ages) / len(ages)\n",
    "\n",
    "# Find the range of the ages\n",
    "age_range = max_age - min_age\n",
    "\n",
    "# Print results\n",
    "print(\"Sorted Ages:\", ages)\n",
    "print(\"Minimum Age:\", min_age)\n",
    "print(\"Maximum Age:\", max_age)\n",
    "print(\"Average Age:\", average_age)\n",
    "print(\"Range of Ages:\", age_range)\n"
   ]
  },
  {
   "cell_type": "markdown",
   "metadata": {},
   "source": [
    "### Answer No 9 (1) is:"
   ]
  },
  {
   "cell_type": "code",
   "execution_count": 8,
   "metadata": {},
   "outputs": [
    {
     "name": "stdout",
     "output_type": "stream",
     "text": [
      "()\n",
      "<class 'tuple'>\n"
     ]
    }
   ],
   "source": [
    "# Creating an empty tuple\n",
    "empty_tuple = ()\n",
    "print(empty_tuple)\n",
    "print(type(empty_tuple))\n"
   ]
  },
  {
   "cell_type": "markdown",
   "metadata": {},
   "source": [
    "### Answer No 9 (2):"
   ]
  },
  {
   "cell_type": "code",
   "execution_count": 10,
   "metadata": {},
   "outputs": [
    {
     "name": "stdout",
     "output_type": "stream",
     "text": [
      "('Anas', 'Saad', 'Maria', 'Javeria')\n"
     ]
    }
   ],
   "source": [
    "siblings = (\"Anas\", \"Saad\", \"Maria\", \"Javeria\")\n",
    "print(siblings)\n"
   ]
  },
  {
   "cell_type": "markdown",
   "metadata": {},
   "source": [
    "### Answer No 9 (3) :"
   ]
  },
  {
   "cell_type": "code",
   "execution_count": 11,
   "metadata": {},
   "outputs": [
    {
     "name": "stdout",
     "output_type": "stream",
     "text": [
      "('Anas', 'Saad', 'MAria', 'Javeria')\n"
     ]
    }
   ],
   "source": [
    "brothers = (\"Anas\", \"Saad\")\n",
    "sisters = (\"MAria\", \"Javeria\")\n",
    "\n",
    "siblings = brothers + sisters\n",
    "\n",
    "print(siblings)  \n",
    "\n"
   ]
  },
  {
   "cell_type": "markdown",
   "metadata": {},
   "source": [
    "### Answer No 9 (4):"
   ]
  },
  {
   "cell_type": "code",
   "execution_count": 12,
   "metadata": {},
   "outputs": [
    {
     "name": "stdout",
     "output_type": "stream",
     "text": [
      "Number of siblings: 4\n"
     ]
    }
   ],
   "source": [
    "siblings = (\"Anas\", \"Saad\", \"Maria\", \"Javeria\")\n",
    "num_siblings = len(siblings)\n",
    "print(\"Number of siblings:\", num_siblings)\n"
   ]
  },
  {
   "cell_type": "markdown",
   "metadata": {},
   "source": [
    "### Answer No 9 (5):"
   ]
  },
  {
   "cell_type": "code",
   "execution_count": 13,
   "metadata": {},
   "outputs": [
    {
     "name": "stdout",
     "output_type": "stream",
     "text": [
      "('Anas', 'Saad', 'Maria', 'Javeria', 'Shafeeq', 'Farzana')\n"
     ]
    }
   ],
   "source": [
    "siblings = (\"Anas\", \"Saad\", \"Maria\", \"Javeria\")\n",
    "\n",
    "# Creating tuples for father and mother\n",
    "father = (\"Shafeeq\",)\n",
    "mother = (\"Farzana\",)\n",
    "family_members = siblings + father + mother\n",
    "print(family_members)  "
   ]
  },
  {
   "cell_type": "markdown",
   "metadata": {},
   "source": [
    "### Answer No 9 (6):"
   ]
  },
  {
   "cell_type": "code",
   "execution_count": 14,
   "metadata": {},
   "outputs": [
    {
     "name": "stdout",
     "output_type": "stream",
     "text": [
      "Siblings: ('Anas', 'Saad', 'Maria', 'Javeria')\n",
      "Father: Shafeeq\n",
      "Mother: Farzana\n"
     ]
    }
   ],
   "source": [
    "family_members = ('Anas', 'Saad', 'Maria', 'Javeria', 'Shafeeq', 'Farzana')\n",
    "\n",
    "siblings, father, mother = family_members[:4], family_members[4], family_members[5]\n",
    "\n",
    "print(\"Siblings:\", siblings)  \n",
    "print(\"Father:\", father)      \n",
    "print(\"Mother:\", mother)      \n",
    "\n"
   ]
  }
 ],
 "metadata": {
  "kernelspec": {
   "display_name": "Python 3",
   "language": "python",
   "name": "python3"
  },
  "language_info": {
   "codemirror_mode": {
    "name": "ipython",
    "version": 3
   },
   "file_extension": ".py",
   "mimetype": "text/x-python",
   "name": "python",
   "nbconvert_exporter": "python",
   "pygments_lexer": "ipython3",
   "version": "3.12.7"
  }
 },
 "nbformat": 4,
 "nbformat_minor": 2
}
