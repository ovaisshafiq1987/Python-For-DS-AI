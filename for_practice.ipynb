{
 "cells": [
  {
   "cell_type": "code",
   "execution_count": 118,
   "metadata": {},
   "outputs": [
    {
     "name": "stdout",
     "output_type": "stream",
     "text": [
      "<class 'dict'>\n"
     ]
    },
    {
     "data": {
      "text/plain": [
       "80"
      ]
     },
     "execution_count": 118,
     "metadata": {},
     "output_type": "execute_result"
    }
   ],
   "source": [
    "key_value = {'name' : 'Ovais' , 'Education' : 'Engineer' ,'Age' : 36,\n",
    "             'Subject' : {'AI': 70 , 'Python':80 ,'CSS':90} , 'Company':'Al-Saadat'}\n",
    "\n",
    "print(type(key_value))\n",
    "key_value.keys()\n",
    "key_value.values()\n",
    "key_value.get('Education')\n",
    "key_value.get('Subject')['Python']\n"
   ]
  },
  {
   "cell_type": "code",
   "execution_count": 119,
   "metadata": {},
   "outputs": [
    {
     "name": "stdout",
     "output_type": "stream",
     "text": [
      "{'name': 'Ovais', 'Education': 'Engineer', 'Age': 36, 'Subject': {'AI': 70, 'Python': 80, 'CSS': 90}, 'Company': 'Al-Saadat', 'Nature of Bussiness': 'Building Material'}\n"
     ]
    }
   ],
   "source": [
    "key_value['Nature of Bussiness'] = 'Building Material'\n",
    "print(key_value)"
   ]
  },
  {
   "cell_type": "code",
   "execution_count": 120,
   "metadata": {},
   "outputs": [
    {
     "data": {
      "text/plain": [
       "dict_values(['Ovais', 'Engineer', 36, {'AI': 70, 'Python': 80, 'CSS': 90}, 'Al-Saadat', 'Building Material', 14, 'Saadi Town'])"
      ]
     },
     "execution_count": 120,
     "metadata": {},
     "output_type": "execute_result"
    }
   ],
   "source": [
    "key_value.update({'Roll No' : 14 , 'Address':'Saadi Town'})\n",
    "key_value.values()"
   ]
  },
  {
   "cell_type": "markdown",
   "metadata": {},
   "source": [
    "# Assignment Practice"
   ]
  },
  {
   "cell_type": "code",
   "execution_count": 121,
   "metadata": {},
   "outputs": [
    {
     "name": "stdout",
     "output_type": "stream",
     "text": [
      "<class 'list'>\n",
      "[]\n"
     ]
    }
   ],
   "source": [
    "empty_list = []\n",
    "print(type(empty_list))\n",
    "print(empty_list)"
   ]
  },
  {
   "cell_type": "code",
   "execution_count": 122,
   "metadata": {},
   "outputs": [
    {
     "name": "stdout",
     "output_type": "stream",
     "text": [
      "6\n"
     ]
    }
   ],
   "source": [
    "list1 = ['Ovais','Salman','Eshal','Saad','Anas','Maria']\n",
    "n = len(list1)\n",
    "print(n)"
   ]
  },
  {
   "cell_type": "code",
   "execution_count": 123,
   "metadata": {},
   "outputs": [
    {
     "name": "stdout",
     "output_type": "stream",
     "text": [
      "First Element is : Ovais\n",
      "Last Element is : Maria\n",
      "Middle Element is : Saad\n"
     ]
    }
   ],
   "source": [
    "first_item = list1[0]\n",
    "last_item = list1[-1]\n",
    "middle_item = list1[len(list1) // 2]\n",
    "\n",
    "print(\"First Element is :\" , first_item)\n",
    "print(\"Last Element is :\" , last_item)\n",
    "print(\"Middle Element is :\" , middle_item)"
   ]
  },
  {
   "cell_type": "code",
   "execution_count": 124,
   "metadata": {},
   "outputs": [
    {
     "name": "stdout",
     "output_type": "stream",
     "text": [
      "['Ovais', 36, 5.9, 'Married', 'Saadi Town']\n"
     ]
    }
   ],
   "source": [
    "mixed_data_types = ['Ovais',36,5.9,'Married','Saadi Town']\n",
    "print(mixed_data_types)"
   ]
  },
  {
   "cell_type": "code",
   "execution_count": 125,
   "metadata": {},
   "outputs": [
    {
     "name": "stdout",
     "output_type": "stream",
     "text": [
      "['Facebook', 'Google', 'Microsoft', 'Apple', 'IBM', 'Oracle', 'Amazon']\n",
      "7\n"
     ]
    }
   ],
   "source": [
    "IT_companies = ['Facebook', 'Google','Microsoft', 'Apple', 'IBM', 'Oracle', 'Amazon']\n",
    "print(IT_companies)\n",
    "print(len(IT_companies))"
   ]
  },
  {
   "cell_type": "code",
   "execution_count": 126,
   "metadata": {},
   "outputs": [
    {
     "name": "stdout",
     "output_type": "stream",
     "text": [
      "Facebook\n",
      "Amazon\n",
      "Apple\n"
     ]
    }
   ],
   "source": [
    "first_company = IT_companies[0]\n",
    "last_company = IT_companies[-1]\n",
    "middle_company = IT_companies[len(IT_companies) //2 ]\n",
    "\n",
    "print(first_company)\n",
    "print(last_company)\n",
    "print(middle_company)"
   ]
  },
  {
   "cell_type": "code",
   "execution_count": 127,
   "metadata": {},
   "outputs": [
    {
     "name": "stdout",
     "output_type": "stream",
     "text": [
      "['Facebook', 'Google', 'Sidat Haider', 'Apple', 'IBM', 'Oracle', 'Amazon']\n"
     ]
    }
   ],
   "source": [
    "IT_companies[2] = 'Sidat Haider'\n",
    "print(IT_companies)"
   ]
  },
  {
   "cell_type": "code",
   "execution_count": 128,
   "metadata": {},
   "outputs": [
    {
     "name": "stdout",
     "output_type": "stream",
     "text": [
      "['Facebook', 'Google', 'Sidat Haider', 'Apple', 'IBM', 'Oracle', 'Amazon', 'Gmail', 'Yahoo']\n"
     ]
    }
   ],
   "source": [
    "IT_companies.append('Gmail')\n",
    "IT_companies.append('Yahoo')\n",
    "print(IT_companies)\n"
   ]
  },
  {
   "cell_type": "code",
   "execution_count": 129,
   "metadata": {},
   "outputs": [
    {
     "name": "stdout",
     "output_type": "stream",
     "text": [
      "['Facebook', 'Google', 'Sidat Haider', 'Apple', 'IBM', 'Oracle', 'Amazon', 'Gmail', 'Yahoo']\n",
      "4\n",
      "['Facebook', 'Google', 'Sidat Haider', 'Apple', 'Al-Saadat', 'IBM', 'Oracle', 'Amazon', 'Gmail', 'Yahoo']\n"
     ]
    }
   ],
   "source": [
    "print(IT_companies)\n",
    "middle_index = len(IT_companies) // 2\n",
    "\n",
    "print(middle_index)\n",
    "IT_companies.insert(middle_index , 'Al-Saadat')\n",
    "print(IT_companies)"
   ]
  },
  {
   "cell_type": "code",
   "execution_count": 130,
   "metadata": {},
   "outputs": [
    {
     "name": "stdout",
     "output_type": "stream",
     "text": [
      "['Facebook', 'Google', 'Sidat Haider', 'Apple', 'Al-Saadat', 'IBM', 'Oracle', 'Amazon', 'Gmail', 'Yahoo']\n",
      "['Facebook', 'Google', 'SIDAT HAIDER', 'APPLE', 'Al-Saadat', 'IBM', 'Oracle', 'Amazon', 'Gmail', 'Yahoo']\n"
     ]
    }
   ],
   "source": [
    "print(IT_companies)\n",
    "IT_companies[2]=IT_companies[2].upper()\n",
    "IT_companies[3] = IT_companies[3].upper()\n",
    "print(IT_companies)"
   ]
  },
  {
   "cell_type": "code",
   "execution_count": 131,
   "metadata": {},
   "outputs": [
    {
     "name": "stdout",
     "output_type": "stream",
     "text": [
      "['APPLE', 'Al-Saadat', 'Amazon', 'Facebook', 'Gmail', 'Google', 'IBM', 'Oracle', 'SIDAT HAIDER', 'Yahoo']\n"
     ]
    }
   ],
   "source": [
    "IT_companies.sort()\n",
    "print(IT_companies)"
   ]
  },
  {
   "cell_type": "code",
   "execution_count": 132,
   "metadata": {},
   "outputs": [
    {
     "name": "stdout",
     "output_type": "stream",
     "text": [
      "['Yahoo', 'SIDAT HAIDER', 'Oracle', 'IBM', 'Google', 'Gmail', 'Facebook', 'Amazon', 'Al-Saadat', 'APPLE']\n"
     ]
    }
   ],
   "source": [
    "IT_companies.reverse()\n",
    "print(IT_companies)"
   ]
  },
  {
   "cell_type": "code",
   "execution_count": 133,
   "metadata": {},
   "outputs": [
    {
     "name": "stdout",
     "output_type": "stream",
     "text": [
      "['Yahoo', 'SIDAT HAIDER', 'Oracle']\n"
     ]
    }
   ],
   "source": [
    "it_companies_slicing = IT_companies[:3]\n",
    "print(it_companies_slicing)"
   ]
  },
  {
   "cell_type": "code",
   "execution_count": 134,
   "metadata": {},
   "outputs": [
    {
     "name": "stdout",
     "output_type": "stream",
     "text": [
      "['Amazon', 'Al-Saadat', 'APPLE']\n"
     ]
    }
   ],
   "source": [
    "it_companies_slicing = IT_companies[-3:]\n",
    "print(it_companies_slicing)"
   ]
  },
  {
   "cell_type": "code",
   "execution_count": 135,
   "metadata": {},
   "outputs": [
    {
     "name": "stdout",
     "output_type": "stream",
     "text": [
      "['APPLE', 'Al-Saadat', 'Amazon', 'Facebook', 'Gmail', 'Google', 'IBM', 'Oracle', 'SIDAT HAIDER', 'Yahoo']\n"
     ]
    }
   ],
   "source": [
    "IT_companies.reverse()\n",
    "print(IT_companies)"
   ]
  },
  {
   "cell_type": "code",
   "execution_count": 136,
   "metadata": {},
   "outputs": [
    {
     "name": "stdout",
     "output_type": "stream",
     "text": [
      "['APPLE', 'Al-Saadat', 'Amazon', 'Facebook', 'Gmail', 'Google', 'IBM', 'Oracle', 'SIDAT HAIDER']\n"
     ]
    }
   ],
   "source": [
    "IT_companies.pop()\n",
    "print(IT_companies)\n"
   ]
  },
  {
   "cell_type": "code",
   "execution_count": 137,
   "metadata": {},
   "outputs": [
    {
     "data": {
      "text/plain": [
       "'Gmail'"
      ]
     },
     "execution_count": 137,
     "metadata": {},
     "output_type": "execute_result"
    }
   ],
   "source": [
    "IT_companies[len(IT_companies) // 2]\n"
   ]
  },
  {
   "cell_type": "code",
   "execution_count": 138,
   "metadata": {},
   "outputs": [
    {
     "name": "stdout",
     "output_type": "stream",
     "text": [
      "['Al-Saadat', 'Amazon', 'Facebook', 'Gmail', 'Google', 'IBM', 'Oracle', 'SIDAT HAIDER']\n"
     ]
    }
   ],
   "source": [
    "IT_companies.pop(0)\n",
    "print(IT_companies)"
   ]
  },
  {
   "cell_type": "code",
   "execution_count": 139,
   "metadata": {},
   "outputs": [
    {
     "name": "stdout",
     "output_type": "stream",
     "text": [
      "['Al-Saadat', 'Amazon', 'Facebook', 'Gmail', 'Google', 'IBM', 'Oracle']\n"
     ]
    }
   ],
   "source": [
    "IT_companies.pop(-1)\n",
    "print(IT_companies)"
   ]
  },
  {
   "cell_type": "code",
   "execution_count": 140,
   "metadata": {},
   "outputs": [
    {
     "data": {
      "text/plain": [
       "3"
      ]
     },
     "execution_count": 140,
     "metadata": {},
     "output_type": "execute_result"
    }
   ],
   "source": [
    "len(IT_companies) // 2"
   ]
  },
  {
   "cell_type": "code",
   "execution_count": 141,
   "metadata": {},
   "outputs": [
    {
     "name": "stdout",
     "output_type": "stream",
     "text": [
      "['Al-Saadat', 'Amazon', 'Facebook', 'Google', 'IBM', 'Oracle']\n"
     ]
    }
   ],
   "source": [
    "IT_companies.pop(3)\n",
    "print(IT_companies)"
   ]
  },
  {
   "cell_type": "code",
   "execution_count": 142,
   "metadata": {},
   "outputs": [
    {
     "name": "stdout",
     "output_type": "stream",
     "text": [
      "[]\n"
     ]
    }
   ],
   "source": [
    "IT_companies.clear()\n",
    "print(IT_companies)"
   ]
  },
  {
   "cell_type": "code",
   "execution_count": 143,
   "metadata": {},
   "outputs": [
    {
     "ename": "NameError",
     "evalue": "name 'IT_companies' is not defined",
     "output_type": "error",
     "traceback": [
      "\u001b[1;31m---------------------------------------------------------------------------\u001b[0m",
      "\u001b[1;31mNameError\u001b[0m                                 Traceback (most recent call last)",
      "Cell \u001b[1;32mIn[143], line 2\u001b[0m\n\u001b[0;32m      1\u001b[0m \u001b[38;5;28;01mdel\u001b[39;00m IT_companies\n\u001b[1;32m----> 2\u001b[0m \u001b[38;5;28mprint\u001b[39m(\u001b[43mIT_companies\u001b[49m)\n",
      "\u001b[1;31mNameError\u001b[0m: name 'IT_companies' is not defined"
     ]
    }
   ],
   "source": [
    "del IT_companies\n",
    "print(IT_companies)"
   ]
  },
  {
   "cell_type": "code",
   "execution_count": 147,
   "metadata": {},
   "outputs": [
    {
     "name": "stdout",
     "output_type": "stream",
     "text": [
      "['HTML', 'CSS', 'JS', 'React', 'Redux', 'Node', 'Express', 'MongoDB']\n"
     ]
    }
   ],
   "source": [
    "front_end = ['HTML', 'CSS', 'JS', 'React', 'Redux']\n",
    "back_end = ['Node','Express', 'MongoDB']\n",
    "\n",
    "full_stack = front_end + back_end\n",
    "print(full_stack)"
   ]
  },
  {
   "cell_type": "code",
   "execution_count": 148,
   "metadata": {},
   "outputs": [
    {
     "name": "stdout",
     "output_type": "stream",
     "text": [
      "['HTML', 'CSS', 'JS', 'React', 'Redux', 'Python', 'Node', 'Express', 'MongoDB']\n"
     ]
    }
   ],
   "source": [
    "full_stack.insert(5 ,'Python')\n",
    "print(full_stack)"
   ]
  },
  {
   "cell_type": "code",
   "execution_count": 149,
   "metadata": {},
   "outputs": [
    {
     "name": "stdout",
     "output_type": "stream",
     "text": [
      "['HTML', 'CSS', 'JS', 'React', 'Redux', 'Python', 'SQL', 'Node', 'Express', 'MongoDB']\n"
     ]
    }
   ],
   "source": [
    "full_stack.insert(6,'SQL')\n",
    "print(full_stack)"
   ]
  },
  {
   "cell_type": "code",
   "execution_count": 150,
   "metadata": {},
   "outputs": [],
   "source": [
    "ages = [19, 22, 19, 24, 20, 25, 26, 24, 25, 24]"
   ]
  },
  {
   "cell_type": "code",
   "execution_count": 151,
   "metadata": {},
   "outputs": [],
   "source": [
    "ages.sort()"
   ]
  },
  {
   "cell_type": "code",
   "execution_count": 153,
   "metadata": {},
   "outputs": [
    {
     "name": "stdout",
     "output_type": "stream",
     "text": [
      "[19, 19, 20, 22, 24, 24, 24, 25, 25, 26]\n"
     ]
    }
   ],
   "source": [
    "print(ages)"
   ]
  },
  {
   "cell_type": "code",
   "execution_count": 155,
   "metadata": {},
   "outputs": [
    {
     "name": "stdout",
     "output_type": "stream",
     "text": [
      "19\n",
      "26\n"
     ]
    }
   ],
   "source": [
    "min_ages = min(ages)\n",
    "max_ages = max(ages)\n",
    "print(min_ages)\n",
    "print(max_ages)"
   ]
  },
  {
   "cell_type": "code",
   "execution_count": 156,
   "metadata": {},
   "outputs": [],
   "source": [
    "ages.append(4)"
   ]
  },
  {
   "cell_type": "code",
   "execution_count": 157,
   "metadata": {},
   "outputs": [],
   "source": [
    "ages.append(30)"
   ]
  },
  {
   "cell_type": "code",
   "execution_count": 160,
   "metadata": {},
   "outputs": [
    {
     "name": "stdout",
     "output_type": "stream",
     "text": [
      "[4, 17, 19, 19, 20, 22, 24, 24, 24, 25, 25, 26, 30]\n"
     ]
    }
   ],
   "source": [
    "ages.append(17)\n",
    "ages.sort()\n",
    "print(ages)"
   ]
  },
  {
   "cell_type": "code",
   "execution_count": 161,
   "metadata": {},
   "outputs": [
    {
     "data": {
      "text/plain": [
       "13"
      ]
     },
     "execution_count": 161,
     "metadata": {},
     "output_type": "execute_result"
    }
   ],
   "source": [
    "len(ages)"
   ]
  },
  {
   "cell_type": "code",
   "execution_count": 164,
   "metadata": {},
   "outputs": [
    {
     "name": "stdout",
     "output_type": "stream",
     "text": [
      "The Median age is : 24\n"
     ]
    }
   ],
   "source": [
    "length = len(ages)\n",
    "median = ages[len(ages) // 2]\n",
    "\n",
    "print(\"The Median age is :\" ,median )"
   ]
  },
  {
   "cell_type": "code",
   "execution_count": 166,
   "metadata": {},
   "outputs": [
    {
     "name": "stdout",
     "output_type": "stream",
     "text": [
      "The Avg Age is : 21\n"
     ]
    }
   ],
   "source": [
    "n = len(ages)\n",
    "sum_ages = sum(ages)\n",
    "\n",
    "print(\"The Avg Age is :\" , sum_ages//n)"
   ]
  },
  {
   "cell_type": "code",
   "execution_count": 169,
   "metadata": {},
   "outputs": [
    {
     "name": "stdout",
     "output_type": "stream",
     "text": [
      "Min Age is: 4\n",
      "MAx Age is : 30\n",
      "The Range of the ages is: 26\n"
     ]
    }
   ],
   "source": [
    "max_range = max(ages)\n",
    "min_range = min(ages)\n",
    "\n",
    "Range_of_ages = max_range - min_range\n",
    "\n",
    "print(\"Min Age is:\" , min_range)\n",
    "print(\"MAx Age is :\" , max_range)\n",
    "print(\"The Range of the ages is:\" , Range_of_ages)"
   ]
  },
  {
   "cell_type": "code",
   "execution_count": 173,
   "metadata": {},
   "outputs": [
    {
     "name": "stdout",
     "output_type": "stream",
     "text": [
      "[4, 17, 19, 19, 20, 22, 24, 24, 24, 25, 25, 26, 30]\n",
      "The Absolute min avg is Greater\n"
     ]
    }
   ],
   "source": [
    "print(ages)\n",
    "min_age = min(ages)\n",
    "max_age = max(ages)\n",
    "avg_age = sum(ages) / len(ages)\n",
    "# Absolute Diff using ABS\n",
    "\n",
    "diff_abs_min = abs(min_age - avg_age)\n",
    "diff_abs_max = abs(max_age - avg_age)\n",
    "\n",
    "if diff_abs_min > diff_abs_max :\n",
    "    print(\"The Absolute min avg is Greater\")\n",
    "elif diff_abs_min < diff_abs_max:\n",
    "    print(\"The Absolute Max avg is Greater\")\n",
    "else:\n",
    "    print(\"The Absolute Min and Max avg are Equal\")\n"
   ]
  },
  {
   "cell_type": "code",
   "execution_count": 185,
   "metadata": {},
   "outputs": [
    {
     "name": "stdout",
     "output_type": "stream",
     "text": [
      "The Middle Country is : Finland\n",
      "The First Half Countries are: ['China', 'Russia', 'USA', 'Finland']\n",
      "The Second Half Countries are: ['Sweden', 'Norway', 'Denmark']\n"
     ]
    }
   ],
   "source": [
    "countries =['China', 'Russia', 'USA', 'Finland', 'Sweden', 'Norway', 'Denmark']\n",
    "print(\"The Middle Country is :\" , countries[len(countries) //2])\n",
    "\n",
    "mid_point = len(countries) // 2 +1\n",
    "first_half = countries[:mid_point]\n",
    "second_half = countries[mid_point:]\n",
    "\n",
    "print(\"The First Half Countries are:\" , first_half)\n",
    "print(\"The Second Half Countries are:\" , second_half)"
   ]
  },
  {
   "cell_type": "code",
   "execution_count": 181,
   "metadata": {},
   "outputs": [
    {
     "name": "stdout",
     "output_type": "stream",
     "text": [
      "The Middle Country is : Sweden\n",
      "The First Half Countries are: ['China', 'Russia', 'USA', 'Finland']\n",
      "The Second Half Countries are: ['Sweden', 'Norway', 'Denmark', 'Pakistan']\n"
     ]
    }
   ],
   "source": [
    "countries =['China', 'Russia', 'USA', 'Finland', 'Sweden', 'Norway', 'Denmark','Pakistan']\n",
    "print(\"The Middle Country is :\" , countries[len(countries) //2])\n",
    "\n",
    "mid_point = len(countries) // 2 \n",
    "first_half = countries[:mid_point]\n",
    "second_half = countries[mid_point:]\n",
    "\n",
    "print(\"The First Half Countries are:\" , first_half)\n",
    "print(\"The Second Half Countries are:\" , second_half)"
   ]
  },
  {
   "cell_type": "code",
   "execution_count": 192,
   "metadata": {},
   "outputs": [
    {
     "name": "stdout",
     "output_type": "stream",
     "text": [
      "['China', 'Russia', 'USA', 'Finland', 'Sweden', 'Norway', 'Denmark']\n",
      "The First Country is : China\n",
      "The Second Country is : Russia\n",
      "The Third Country is : USA\n",
      "The Scandic Countries are : ['Finland', 'Sweden', 'Norway', 'Denmark']\n"
     ]
    }
   ],
   "source": [
    "print(countries)\n",
    "\n",
    "first , second , third , *Scandic = countries\n",
    "print('The First Country is :' , first)\n",
    "print('The Second Country is :' , second)\n",
    "print('The Third Country is :' , third)\n",
    "print('The Scandic Countries are :' , Scandic)"
   ]
  },
  {
   "cell_type": "markdown",
   "metadata": {},
   "source": [
    "# Tuples"
   ]
  },
  {
   "cell_type": "code",
   "execution_count": 194,
   "metadata": {},
   "outputs": [
    {
     "name": "stdout",
     "output_type": "stream",
     "text": [
      "<class 'tuple'>\n",
      "()\n"
     ]
    }
   ],
   "source": [
    "tuple1 = ()\n",
    "print(type(tuple1))\n",
    "print(tuple1)"
   ]
  },
  {
   "cell_type": "code",
   "execution_count": 195,
   "metadata": {},
   "outputs": [
    {
     "name": "stdout",
     "output_type": "stream",
     "text": [
      "Siblings are : ('Anas', 'Saad', 'Shayan', 'Maria', 'Javeria')\n"
     ]
    }
   ],
   "source": [
    "siblings = ('Anas' ,'Saad','Shayan','Maria','Javeria')\n",
    "print(\"Siblings are :\" , siblings)"
   ]
  },
  {
   "cell_type": "code",
   "execution_count": 197,
   "metadata": {},
   "outputs": [
    {
     "name": "stdout",
     "output_type": "stream",
     "text": [
      "('Anas', 'Saad', 'Shayan', 'Maria', 'Javeria')\n"
     ]
    }
   ],
   "source": [
    "brothers = ('Anas','Saad','Shayan')\n",
    "sisters = ('Maria','Javeria')\n",
    "\n",
    "siblings = brothers + sisters\n",
    "print(siblings)"
   ]
  },
  {
   "cell_type": "code",
   "execution_count": 200,
   "metadata": {},
   "outputs": [
    {
     "name": "stdout",
     "output_type": "stream",
     "text": [
      "I have 5 siblings\n"
     ]
    }
   ],
   "source": [
    "siblings_numbers = len(siblings)\n",
    "print(\"I have\" ,siblings_numbers ,'siblings')"
   ]
  },
  {
   "cell_type": "code",
   "execution_count": 202,
   "metadata": {},
   "outputs": [
    {
     "name": "stdout",
     "output_type": "stream",
     "text": [
      "My Family Member Name is : ('Shafeeq', 'Farzana', 'Anas', 'Saad', 'Shayan', 'Maria', 'Javeria')\n"
     ]
    }
   ],
   "source": [
    "parents = ('Shafeeq' , 'Farzana')\n",
    "\n",
    "family_members = parents + siblings\n",
    "print('My Family Member Name is :' , family_members)"
   ]
  },
  {
   "cell_type": "code",
   "execution_count": 204,
   "metadata": {},
   "outputs": [
    {
     "name": "stdout",
     "output_type": "stream",
     "text": [
      "('Shafeeq', 'Farzana', 'Anas', 'Saad', 'Shayan', 'Maria', 'Javeria')\n",
      "My Father Name is : Shafeeq\n",
      "My Mother Name is : Farzana\n",
      "My Sibling Name are : ['Anas', 'Saad', 'Shayan', 'Maria', 'Javeria']\n"
     ]
    }
   ],
   "source": [
    "print(family_members)\n",
    "father , mother , *siblings = family_members\n",
    "print('My Father Name is :' , father)\n",
    "print('My Mother Name is :' , mother)\n",
    "print('My Sibling Name are :' , siblings)"
   ]
  },
  {
   "cell_type": "code",
   "execution_count": 208,
   "metadata": {},
   "outputs": [
    {
     "name": "stdout",
     "output_type": "stream",
     "text": [
      "('Banana', 'Apple', 'Mango', 'Garlic', 'Chilli', 'Potato', 'Badam', 'Pista', 'Buiscuit', 'Lal Mirch')\n",
      "<class 'tuple'>\n"
     ]
    }
   ],
   "source": [
    "fruits = ('Banana','Apple','Mango')\n",
    "vagetable = ('Garlic','Chilli','Potato')\n",
    "animal_product = ('Badam','Pista','Buiscuit','Lal Mirch')\n",
    "\n",
    "food_stuff_tp = fruits + vagetable + animal_product\n",
    "print(food_stuff_tp)\n",
    "print(type(food_stuff_tp))"
   ]
  },
  {
   "cell_type": "code",
   "execution_count": 209,
   "metadata": {},
   "outputs": [
    {
     "name": "stdout",
     "output_type": "stream",
     "text": [
      "['Banana', 'Apple', 'Mango', 'Garlic', 'Chilli', 'Potato', 'Badam', 'Pista', 'Buiscuit', 'Lal Mirch']\n",
      "<class 'list'>\n"
     ]
    }
   ],
   "source": [
    "food_stuff_lt = list(food_stuff_tp)\n",
    "print(food_stuff_lt)\n",
    "print(type(food_stuff_lt))"
   ]
  },
  {
   "cell_type": "code",
   "execution_count": 214,
   "metadata": {},
   "outputs": [
    {
     "name": "stdout",
     "output_type": "stream",
     "text": [
      "['Banana', 'Apple', 'Mango', 'Garlic', 'Chilli', 'Potato', 'Badam', 'Pista', 'Buiscuit', 'Lal Mirch']\n",
      "The Middle Term is Chilli and Potato\n"
     ]
    }
   ],
   "source": [
    "print(food_stuff_lt)\n",
    "\n",
    "length = len(food_stuff_lt)\n",
    "\n",
    "if length % 2 == 0:\n",
    "    mid1 = food_stuff_lt[length //2 - 1]\n",
    "    mid2 = food_stuff_lt[length // 2]\n",
    "    print('The Middle Term is' , mid1, 'and' , mid2)\n",
    "else:\n",
    "    mid = food_stuff_lt[length // 2]\n",
    "    print('The Middle Element is :' , mid)"
   ]
  },
  {
   "cell_type": "code",
   "execution_count": 216,
   "metadata": {},
   "outputs": [
    {
     "name": "stdout",
     "output_type": "stream",
     "text": [
      "The Food Stuff List is : ['Banana', 'Apple', 'Mango', 'Garlic', 'Chilli', 'Potato', 'Badam', 'Pista', 'Buiscuit', 'Lal Mirch']\n",
      "The First Three Food Items are : ['Banana', 'Apple', 'Mango']\n",
      "The Last Three Food Items are : ['Pista', 'Buiscuit', 'Lal Mirch']\n"
     ]
    }
   ],
   "source": [
    "print('The Food Stuff List is :' ,food_stuff_lt)\n",
    "\n",
    "first_three = food_stuff_lt[:3]\n",
    "last_three = food_stuff_lt[-3:]\n",
    "\n",
    "print('The First Three Food Items are :' ,first_three)\n",
    "print('The Last Three Food Items are :' ,last_three)"
   ]
  },
  {
   "cell_type": "code",
   "execution_count": 217,
   "metadata": {},
   "outputs": [
    {
     "ename": "NameError",
     "evalue": "name 'food_stuff_tp' is not defined",
     "output_type": "error",
     "traceback": [
      "\u001b[1;31m---------------------------------------------------------------------------\u001b[0m",
      "\u001b[1;31mNameError\u001b[0m                                 Traceback (most recent call last)",
      "Cell \u001b[1;32mIn[217], line 2\u001b[0m\n\u001b[0;32m      1\u001b[0m \u001b[38;5;28;01mdel\u001b[39;00m food_stuff_tp\n\u001b[1;32m----> 2\u001b[0m \u001b[38;5;28mprint\u001b[39m(\u001b[43mfood_stuff_tp\u001b[49m)\n",
      "\u001b[1;31mNameError\u001b[0m: name 'food_stuff_tp' is not defined"
     ]
    }
   ],
   "source": [
    "del food_stuff_tp\n",
    "print(food_stuff_tp)"
   ]
  },
  {
   "cell_type": "markdown",
   "metadata": {},
   "source": [
    "# Sets"
   ]
  },
  {
   "cell_type": "code",
   "execution_count": 219,
   "metadata": {},
   "outputs": [
    {
     "name": "stdout",
     "output_type": "stream",
     "text": [
      "7\n"
     ]
    }
   ],
   "source": [
    "it_companies = {'Facebook', 'Google', 'Microsoft', 'Apple', 'IBM', 'Oracle','Amazon'}\n",
    "print(len(it_companies))"
   ]
  },
  {
   "cell_type": "code",
   "execution_count": 222,
   "metadata": {},
   "outputs": [
    {
     "name": "stdout",
     "output_type": "stream",
     "text": [
      "{'Oracle', 'Amazon', 'Microsoft', 'Google', 'IBM', 'Twitter', 'Apple', 'Facebook'}\n",
      "8\n"
     ]
    }
   ],
   "source": [
    "it_companies.add('Twitter')\n",
    "print(it_companies)\n",
    "print(len(it_companies))"
   ]
  },
  {
   "cell_type": "code",
   "execution_count": 229,
   "metadata": {},
   "outputs": [
    {
     "name": "stdout",
     "output_type": "stream",
     "text": [
      "{'NLC', 'Twitter', 'Apple', 'Facebook', 'Rashid Food', 'Oracle', 'Amazon', 'Google', 'Al-Saadat', 'Sidat Haider', 'IBM'}\n",
      "11\n"
     ]
    }
   ],
   "source": [
    "multiple_companies = {'Sidat Haider','Rashid Food','Al-Saadat','NLC'}\n",
    "\n",
    "it_companies.update(multiple_companies)\n",
    "print(it_companies)\n",
    "print(len(it_companies))"
   ]
  },
  {
   "cell_type": "code",
   "execution_count": 230,
   "metadata": {},
   "outputs": [
    {
     "ename": "KeyError",
     "evalue": "'Microsoft'",
     "output_type": "error",
     "traceback": [
      "\u001b[1;31m---------------------------------------------------------------------------\u001b[0m",
      "\u001b[1;31mKeyError\u001b[0m                                  Traceback (most recent call last)",
      "Cell \u001b[1;32mIn[230], line 1\u001b[0m\n\u001b[1;32m----> 1\u001b[0m \u001b[43mit_companies\u001b[49m\u001b[38;5;241;43m.\u001b[39;49m\u001b[43mremove\u001b[49m\u001b[43m(\u001b[49m\u001b[38;5;124;43m'\u001b[39;49m\u001b[38;5;124;43mMicrosoft\u001b[39;49m\u001b[38;5;124;43m'\u001b[39;49m\u001b[43m)\u001b[49m\n",
      "\u001b[1;31mKeyError\u001b[0m: 'Microsoft'"
     ]
    }
   ],
   "source": [
    "it_companies.remove('Microsoft')\n"
   ]
  },
  {
   "cell_type": "code",
   "execution_count": 236,
   "metadata": {},
   "outputs": [
    {
     "name": "stdout",
     "output_type": "stream",
     "text": [
      "{'Twitter', 'Apple', 'Facebook', 'Rashid Food', 'Oracle', 'Amazon', 'Google', 'Al-Saadat', 'Sidat Haider', 'IBM'}\n",
      "10\n"
     ]
    }
   ],
   "source": [
    "it_companies.discard('Microsoft')\n",
    "it_companies.discard('NLC')\n",
    "print(it_companies)\n",
    "print(len(it_companies))"
   ]
  },
  {
   "cell_type": "code",
   "execution_count": 238,
   "metadata": {},
   "outputs": [
    {
     "name": "stdout",
     "output_type": "stream",
     "text": [
      "{19, 20, 22, 24, 25, 26, 27, 28}\n"
     ]
    }
   ],
   "source": [
    "A = {19, 22, 24, 20, 25, 26}\n",
    "B = {19, 22, 20, 25, 26, 24, 28, 27}\n",
    "\n",
    "joined_set = A.union(B)\n",
    "print(joined_set)"
   ]
  },
  {
   "cell_type": "code",
   "execution_count": 239,
   "metadata": {},
   "outputs": [
    {
     "name": "stdout",
     "output_type": "stream",
     "text": [
      "{19, 20, 22, 24, 25, 26}\n"
     ]
    }
   ],
   "source": [
    "joined_intersec = A.intersection(B)\n",
    "print(joined_intersec)"
   ]
  },
  {
   "cell_type": "code",
   "execution_count": 240,
   "metadata": {},
   "outputs": [],
   "source": [
    "del A\n",
    "del B\n",
    "del it_companies"
   ]
  },
  {
   "cell_type": "code",
   "execution_count": 242,
   "metadata": {},
   "outputs": [
    {
     "ename": "NameError",
     "evalue": "name 'A' is not defined",
     "output_type": "error",
     "traceback": [
      "\u001b[1;31m---------------------------------------------------------------------------\u001b[0m",
      "\u001b[1;31mNameError\u001b[0m                                 Traceback (most recent call last)",
      "Cell \u001b[1;32mIn[242], line 1\u001b[0m\n\u001b[1;32m----> 1\u001b[0m \u001b[38;5;28mprint\u001b[39m(\u001b[43mA\u001b[49m)\n",
      "\u001b[1;31mNameError\u001b[0m: name 'A' is not defined"
     ]
    }
   ],
   "source": [
    "print(A)"
   ]
  },
  {
   "cell_type": "code",
   "execution_count": 243,
   "metadata": {},
   "outputs": [],
   "source": [
    "age = [22, 19, 24, 25, 26, 24, 25, 24]"
   ]
  },
  {
   "cell_type": "code",
   "execution_count": 246,
   "metadata": {},
   "outputs": [
    {
     "name": "stdout",
     "output_type": "stream",
     "text": [
      "<class 'set'>\n"
     ]
    }
   ],
   "source": [
    "convert_age_to_set = set(age)\n",
    "print(type(convert_age_to_set))"
   ]
  },
  {
   "cell_type": "code",
   "execution_count": 253,
   "metadata": {},
   "outputs": [
    {
     "name": "stdout",
     "output_type": "stream",
     "text": [
      "[19, 19, 20, 22, 24, 24, 24, 25, 25, 26, 27]\n"
     ]
    }
   ],
   "source": [
    "ages = [19, 22, 19, 24, 20, 25, 26, 24, 25, 24 , 27]\n",
    "ages.sort()\n",
    "print(ages)"
   ]
  },
  {
   "cell_type": "code",
   "execution_count": 254,
   "metadata": {},
   "outputs": [
    {
     "name": "stdout",
     "output_type": "stream",
     "text": [
      "Minimum Age : 19\n",
      "Maximum Age : 27\n"
     ]
    }
   ],
   "source": [
    "min_age = min(ages)\n",
    "max_age = max(ages)\n",
    "print('Minimum Age :' , min_age)\n",
    "print('Maximum Age :' , max_age)"
   ]
  },
  {
   "cell_type": "code",
   "execution_count": 255,
   "metadata": {},
   "outputs": [
    {
     "name": "stdout",
     "output_type": "stream",
     "text": [
      "[2, 19, 19, 20, 22, 24, 24, 24, 25, 25, 26, 27, 31]\n"
     ]
    }
   ],
   "source": [
    "ages.append(2)\n",
    "ages.append(31)\n",
    "ages.sort()\n",
    "print(ages)"
   ]
  },
  {
   "cell_type": "code",
   "execution_count": 258,
   "metadata": {},
   "outputs": [
    {
     "name": "stdout",
     "output_type": "stream",
     "text": [
      "13\n",
      "24\n"
     ]
    }
   ],
   "source": [
    "print(len(ages))\n",
    "median_age = ages[len(ages) // 2]\n",
    "print(median_age)"
   ]
  },
  {
   "cell_type": "code",
   "execution_count": 259,
   "metadata": {},
   "outputs": [
    {
     "name": "stdout",
     "output_type": "stream",
     "text": [
      "The Avg Age is :  22\n"
     ]
    }
   ],
   "source": [
    "avg_age = sum(ages) // len(ages)\n",
    "\n",
    "print(\"The Avg Age is : \" , avg_age)"
   ]
  },
  {
   "cell_type": "code",
   "execution_count": 260,
   "metadata": {},
   "outputs": [
    {
     "name": "stdout",
     "output_type": "stream",
     "text": [
      "The Avg Range of Age is: 29\n"
     ]
    }
   ],
   "source": [
    "max_age = max(ages)\n",
    "min_age = min(ages)\n",
    "range_of_age = max_age - min_age\n",
    "print('The Avg Range of Age is:' , range_of_age)"
   ]
  },
  {
   "cell_type": "code",
   "execution_count": 261,
   "metadata": {},
   "outputs": [
    {
     "name": "stdout",
     "output_type": "stream",
     "text": [
      "<class 'tuple'>\n",
      "()\n"
     ]
    }
   ],
   "source": [
    "empty_tp = ()\n",
    "print(type(empty_tp))\n",
    "print(empty_tp)"
   ]
  },
  {
   "cell_type": "markdown",
   "metadata": {},
   "source": [
    "# DICT"
   ]
  },
  {
   "cell_type": "markdown",
   "metadata": {},
   "source": []
  },
  {
   "cell_type": "code",
   "execution_count": 265,
   "metadata": {},
   "outputs": [
    {
     "name": "stdout",
     "output_type": "stream",
     "text": [
      "<class 'dict'>\n",
      "{'Name': 'ovais', 'Age': 37, 'Qualification': 'engineer', 'Marks': {'Python': '76', 'Java': '59', 'CSS': '88'}}\n"
     ]
    }
   ],
   "source": [
    "personal = {'Name': input(\"Enter Your Name\"), 'Age':int(input(\"Enter Your Age\")),\n",
    "            'Qualification':input(\"Enter Your Qualification\"),'Marks':{'Python':input(\"Enter your Marks\"),\n",
    "                                                                       'Java':input(\"Enter Your Java Marks\"),\n",
    "                                                                       'CSS':input('Enter your CSS Marks')}}\n",
    "print(type(personal))\n",
    "print(personal)"
   ]
  },
  {
   "cell_type": "code",
   "execution_count": 266,
   "metadata": {},
   "outputs": [
    {
     "name": "stdout",
     "output_type": "stream",
     "text": [
      "59\n"
     ]
    }
   ],
   "source": [
    "print(personal.get('Marks')['Java'])"
   ]
  },
  {
   "cell_type": "code",
   "execution_count": 267,
   "metadata": {},
   "outputs": [
    {
     "name": "stdout",
     "output_type": "stream",
     "text": [
      "76\n"
     ]
    }
   ],
   "source": [
    "print(personal.get('Marks')['Python'])"
   ]
  },
  {
   "cell_type": "code",
   "execution_count": 268,
   "metadata": {},
   "outputs": [
    {
     "name": "stdout",
     "output_type": "stream",
     "text": [
      "<class 'dict'>\n",
      "{'Occupation': 'System Engineer', 'Address': 'Karachi', 'Cell #': 3122830873}\n"
     ]
    }
   ],
   "source": [
    "personal_1 = {'Occupation':'System Engineer' ,'Address':'Karachi' , 'Cell #':int(input('Enter your Cell No'))}\n",
    "print(type(personal_1))\n",
    "print(personal_1)"
   ]
  },
  {
   "cell_type": "code",
   "execution_count": 270,
   "metadata": {},
   "outputs": [
    {
     "name": "stdout",
     "output_type": "stream",
     "text": [
      "{'Name': 'ovais', 'Age': 37, 'Qualification': 'engineer', 'Marks': {'Python': '76', 'Java': '59', 'CSS': '88'}, 'Occupation': 'System Engineer', 'Address': 'Karachi', 'Cell #': 3122830873}\n"
     ]
    }
   ],
   "source": [
    "personal.update(personal_1)\n",
    "print(personal)"
   ]
  },
  {
   "cell_type": "code",
   "execution_count": 271,
   "metadata": {},
   "outputs": [
    {
     "data": {
      "text/plain": [
       "dict_values(['System Engineer', 'Karachi', 3122830873])"
      ]
     },
     "execution_count": 271,
     "metadata": {},
     "output_type": "execute_result"
    }
   ],
   "source": [
    "personal_1.values()"
   ]
  },
  {
   "cell_type": "code",
   "execution_count": 272,
   "metadata": {},
   "outputs": [
    {
     "data": {
      "text/plain": [
       "dict_keys(['Name', 'Age', 'Qualification', 'Marks', 'Occupation', 'Address', 'Cell #'])"
      ]
     },
     "execution_count": 272,
     "metadata": {},
     "output_type": "execute_result"
    }
   ],
   "source": [
    "personal.keys()"
   ]
  },
  {
   "cell_type": "code",
   "execution_count": 273,
   "metadata": {},
   "outputs": [
    {
     "data": {
      "text/plain": [
       "dict_items([('Name', 'ovais'), ('Age', 37), ('Qualification', 'engineer'), ('Marks', {'Python': '76', 'Java': '59', 'CSS': '88'}), ('Occupation', 'System Engineer'), ('Address', 'Karachi'), ('Cell #', 3122830873)])"
      ]
     },
     "execution_count": 273,
     "metadata": {},
     "output_type": "execute_result"
    }
   ],
   "source": [
    "personal.items()"
   ]
  },
  {
   "cell_type": "code",
   "execution_count": 274,
   "metadata": {},
   "outputs": [],
   "source": [
    "personal['Organization'] = 'Al-Saadat Construction'"
   ]
  },
  {
   "cell_type": "code",
   "execution_count": 275,
   "metadata": {},
   "outputs": [
    {
     "data": {
      "text/plain": [
       "'Al-Saadat Construction'"
      ]
     },
     "execution_count": 275,
     "metadata": {},
     "output_type": "execute_result"
    }
   ],
   "source": [
    "personal.get('Organization')"
   ]
  },
  {
   "cell_type": "markdown",
   "metadata": {},
   "source": [
    "# Conditional Statement"
   ]
  },
  {
   "cell_type": "code",
   "execution_count": 279,
   "metadata": {},
   "outputs": [
    {
     "name": "stdout",
     "output_type": "stream",
     "text": [
      "Your Name is Long\n",
      "Your Name Length is 7 Character. And Your Name is SHafeeq .\n"
     ]
    }
   ],
   "source": [
    "name = input(\"Enter Your Name\")\n",
    "\n",
    "if len(name) <= 4:\n",
    "    print(\"Your name is too short\")\n",
    "elif len(name) <=6:\n",
    "    print('Your Name is Average')\n",
    "else:\n",
    "    print('Your Name is Long')\n",
    "    \n",
    "print(\"Your Name Length is\", len(name),'Character. And Your Name is' , name ,'.' )"
   ]
  },
  {
   "cell_type": "code",
   "execution_count": 282,
   "metadata": {},
   "outputs": [
    {
     "name": "stdout",
     "output_type": "stream",
     "text": [
      "The Largest Number is :  9.0\n",
      "The Smallest Number is :  2.0\n"
     ]
    }
   ],
   "source": [
    "num1 = float(input('Enter First Number'))\n",
    "num2 = float(input('Enter Second Number'))\n",
    "num3 = float(input('Enter Third Number'))\n",
    "\n",
    "if num1 > num2 and num1 > num3:\n",
    "    largerst = num1\n",
    "elif num2 > num1 and num2 > num3:\n",
    "    largerst = num2\n",
    "else:\n",
    "    largerst = num3\n",
    "    \n",
    "    \n",
    "if  num1 < num2 and num1 < num3:\n",
    "    smallest = num1\n",
    "elif num2 < num1 and num2 < num3:\n",
    "    smallest = num2\n",
    "else:\n",
    "    smallest = num3\n",
    "    \n",
    "print(\"The Largest Number is : \", largerst)\n",
    "print('The Smallest Number is : ', smallest)"
   ]
  },
  {
   "cell_type": "code",
   "execution_count": null,
   "metadata": {},
   "outputs": [],
   "source": [
    "number = float(input('Enter Your Number'))\n",
    "\n",
    "if number > 0:\n",
    "    print(\"The Number is Positive\")\n",
    "elif number < 0:\n",
    "    print(\"The Number is Negative\")\n",
    "else:\n",
    "    print(\"The Number is Zero\")"
   ]
  },
  {
   "cell_type": "code",
   "execution_count": 306,
   "metadata": {},
   "outputs": [
    {
     "name": "stdout",
     "output_type": "stream",
     "text": [
      "Invalid Input\n"
     ]
    }
   ],
   "source": [
    "number = (input('Enter Your Number'))\n",
    "\n",
    "if number.replace('.' ,'').replace('-','').replace('+','').isdigit():\n",
    "    num = float(number)\n",
    "    \n",
    "    \n",
    "    if num > 0:\n",
    "        print(\"The Number is Positive\")\n",
    "    elif num < 0:\n",
    "        print(\"The Number is Negative\")\n",
    "    else:\n",
    "        print(\"The Number is Zero\")\n",
    "else:\n",
    "    print(\"Invalid Input\")"
   ]
  },
  {
   "cell_type": "code",
   "execution_count": 314,
   "metadata": {},
   "outputs": [
    {
     "name": "stdout",
     "output_type": "stream",
     "text": [
      "Plesae Enter your Correct Password\n",
      "Welcom Dashboard after 01 attempt of Correct Password\n"
     ]
    }
   ],
   "source": [
    "email = input(\"Please Enter Your Email\")\n",
    "password = input(\"Enter Your Password\")\n",
    "\n",
    "if email == 'ovais@gmail.com' and password == '123456':\n",
    "    print(\"Welcome to Dashboard\")\n",
    "elif email != 'ovais@gmail.com' and password == '123456':\n",
    "    print(\"Please Enter Correct Email\")\n",
    "    email = input(\"Enter Your Email Again\")\n",
    "    if email == 'ovais@gmail.com' and password == '123456':\n",
    "        print(\"Welcome to Dashboard after 1 attempt\")\n",
    "    else:\n",
    "        print(\"Wrong Email,Please Remember your Email and then Type\")\n",
    "elif email == 'ovais@gmail.com' and password != '123456':\n",
    "    print(\"Plesae Enter your Correct Password\")\n",
    "    password = input(\"Enter Your Password Again\")\n",
    "    if password == '123456':\n",
    "        print(\"Welcom Dashboard after 01 attempt of Correct Password\")\n",
    "    else:\n",
    "        print('You have Entered again incorrect Password,Now Go to Hell')\n",
    "else:\n",
    "    print(\"Please remember you Email and Password and try later\")"
   ]
  },
  {
   "cell_type": "markdown",
   "metadata": {},
   "source": [
    "### take no of units from a consumer, if no of unit less then 150 per unit =15, fixed charges = 250 , if no of unit greater then 150 and less then 250 per unit charge = 25,fixed charges = 350 , if no of unit greater then 250 and less then 350 per unit charge = 35,fixed charges = 450 , if no of unit greater then 350 per unit charge = 45,fixed charges = 1000 ,  Total bill =amount_pay (no of unit consumed * cost of a unit ) + fixed charges ."
   ]
  },
  {
   "cell_type": "code",
   "execution_count": 316,
   "metadata": {},
   "outputs": [
    {
     "name": "stdout",
     "output_type": "stream",
     "text": [
      "You have consumed 723 units and Your Total Bill is 33535\n"
     ]
    }
   ],
   "source": [
    "units = int(input(\"Enter the number of unit consumed\"))\n",
    "\n",
    "if units <= 150:\n",
    "    fixed_per_unit = 15\n",
    "    fixed_charges = 250\n",
    "elif units > 150 and units <= 250:\n",
    "    fixed_per_unit = 25\n",
    "    fixed_charges = 350\n",
    "elif units > 250 and units <= 350:\n",
    "    fixed_per_unit = 35\n",
    "    fixed_charges = 450\n",
    "else:\n",
    "    fixed_per_unit = 45\n",
    "    fixed_charges = 1000\n",
    "\n",
    "total_bill = (units * fixed_per_unit) + fixed_charges\n",
    "print('You have consumed' , units , 'units and Your Total Bill is' , total_bill)"
   ]
  },
  {
   "cell_type": "markdown",
   "metadata": {},
   "source": [
    "### Menu Driven Program"
   ]
  },
  {
   "cell_type": "code",
   "execution_count": 319,
   "metadata": {},
   "outputs": [
    {
     "name": "stdout",
     "output_type": "stream",
     "text": [
      "The Product of 5.0 and 6.0 is = 30.0\n"
     ]
    }
   ],
   "source": [
    "option = input('''\n",
    "\n",
    "1.Addition\n",
    "2.Subtraction\n",
    "3.Multiplication\n",
    "4.Division''')\n",
    "\n",
    "num1 = float(input(\"Enter your first Number\"))\n",
    "num2 = float(input(\"Enter your Second Number\"))\n",
    "\n",
    "if option == '1':\n",
    "    print('The Sum of' , num1 , 'and' , num2, 'is =' , num1 + num2)\n",
    "elif option == '2':\n",
    "    print('The Subtraction of' , num1 , 'and' , num2, 'is =' , num1 - num2)\n",
    "elif option == '3':\n",
    "    print('The Product of' , num1 , 'and' , num2, 'is =' , num1 * num2)\n",
    "elif option == '4':\n",
    "    print('The Division of' , num1 , 'and' , num2, 'is =' , num1 / num2)\n",
    "else:\n",
    "    print(\"Select Numbers from a given List\")"
   ]
  },
  {
   "cell_type": "code",
   "execution_count": 2,
   "metadata": {},
   "outputs": [
    {
     "name": "stdout",
     "output_type": "stream",
     "text": [
      "6 * 1 = 6\n",
      "6 * 2 = 12\n",
      "6 * 3 = 18\n",
      "6 * 4 = 24\n",
      "6 * 5 = 30\n",
      "6 * 6 = 36\n",
      "6 * 7 = 42\n",
      "6 * 8 = 48\n",
      "6 * 9 = 54\n",
      "6 * 10 = 60\n",
      "My Required Table was just 1 to 10\n"
     ]
    }
   ],
   "source": [
    "num = int(input(\"Enter Your Desire Number\"))\n",
    "\n",
    "i = 1\n",
    "while i < 11:\n",
    "    print(num, \"*\", i, \"=\", num * i)\n",
    "    i += 1\n",
    "print(\"My Required Table was just 1 to 10\")"
   ]
  },
  {
   "cell_type": "markdown",
   "metadata": {},
   "source": [
    "# Coffe Machine"
   ]
  },
  {
   "cell_type": "code",
   "execution_count": 3,
   "metadata": {},
   "outputs": [
    {
     "name": "stdout",
     "output_type": "stream",
     "text": [
      "Welcome to the Coffee Machine!\n",
      "Available options:\n",
      "1. Espresso - $2\n",
      "2. Latte - $3\n",
      "3. Cappuccino - $4\n",
      "You selected Espresso.\n",
      "Insufficient funds. Transaction cancelled.\n"
     ]
    }
   ],
   "source": [
    "print(\"Welcome to the Coffee Machine!\")\n",
    "print(\"Available options:\")\n",
    "print(\"1. Espresso - $2\")\n",
    "print(\"2. Latte - $3\")\n",
    "print(\"3. Cappuccino - $4\")\n",
    "\n",
    "menu = {\n",
    "    \"1\": {\"name\": \"Espresso\", \"price\": 2},\n",
    "    \"2\": {\"name\": \"Latte\", \"price\": 3},\n",
    "    \"3\": {\"name\": \"Cappuccino\", \"price\": 4}\n",
    "}\n",
    "\n",
    "selection = input(\"Please enter the number of your choice: \")\n",
    "\n",
    "if selection in menu:\n",
    "    print(f\"You selected {menu[selection]['name']}.\")\n",
    "    money_inserted = float(input(f\"Please insert ${menu[selection]['price']} or more: \"))\n",
    "\n",
    "    if money_inserted >= menu[selection]['price']:\n",
    "        change = money_inserted - menu[selection]['price']\n",
    "        print(f\"Enjoy your {menu[selection]['name']}!\")\n",
    "        if change > 0:\n",
    "            print(f\"Here is your change: ${change:.2f}\")\n",
    "    else:\n",
    "        print(\"Insufficient funds. Transaction cancelled.\")\n",
    "else:\n",
    "    print(\"Invalid selection. Please try again.\")\n"
   ]
  },
  {
   "cell_type": "markdown",
   "metadata": {},
   "source": [
    "# ATM Machine"
   ]
  },
  {
   "cell_type": "code",
   "execution_count": null,
   "metadata": {},
   "outputs": [],
   "source": [
    "print(\"Welcome to the ATM System\")\n",
    "\n",
    "# Initial balance\n",
    "balance = 1000.00\n",
    "\n",
    "while True:\n",
    "    print(\"\\nPlease choose an option:\")\n",
    "    print(\"1. Display current balance\")\n",
    "    print(\"2. Deposit money\")\n",
    "    print(\"3. Withdraw money\")\n",
    "    print(\"4. Exit\")\n",
    "\n",
    "    choice = input(\"Enter your choice (1-4): \")\n",
    "\n",
    "    if choice == \"1\":\n",
    "        # Display balance\n",
    "        print(f\"Your current balance is: ${balance:.2f}\")\n",
    "    \n",
    "    elif choice == \"2\":\n",
    "        # Deposit money\n",
    "        try:\n",
    "            deposit_amount = float(input(\"Enter the amount to deposit: \"))\n",
    "            if deposit_amount > 0:\n",
    "                balance += deposit_amount\n",
    "                print(f\"Deposit successful. Your new balance is: ${balance:.2f}\")\n",
    "            else:\n",
    "                print(\"Invalid amount. Please enter a positive value.\")\n",
    "        except ValueError:\n",
    "            print(\"Invalid input. Please enter a numeric value.\")\n",
    "\n",
    "    elif choice == \"3\":\n",
    "        # Withdraw money\n",
    "        try:\n",
    "            withdraw_amount = float(input(\"Enter the amount to withdraw: \"))\n",
    "            if withdraw_amount > 0:\n",
    "                if withdraw_amount <= balance:\n",
    "                    balance -= withdraw_amount\n",
    "                    print(f\"Withdrawal successful. Your new balance is: ${balance:.2f}\")\n",
    "                else:\n",
    "                    print(\"Insufficient funds.\")\n",
    "            else:\n",
    "                print(\"Invalid amount. Please enter a positive value.\")\n",
    "        except ValueError:\n",
    "            print(\"Invalid input. Please enter a numeric value.\")\n",
    "\n",
    "    elif choice == \"4\":\n",
    "        # Exit the ATM\n",
    "        print(\"Thank you for using the ATM. Goodbye!\")\n",
    "        break\n",
    "\n",
    "    else:\n",
    "        print(\"Invalid choice. Please select a valid option.\")\n"
   ]
  },
  {
   "cell_type": "code",
   "execution_count": null,
   "metadata": {},
   "outputs": [],
   "source": [
    "print(\"Welcome to ATM System\")\n",
    "\n",
    "\n",
    "balance_1 = 1000\n",
    "\n",
    "while True:\n",
    "    print(\"1. Check Balance\")\n",
    "    print(\"2. Withdraw Money\")\n",
    "    print(\"3. Deposit Money\")\n",
    "    print(\"4. Exit\")\n",
    "    choice = input(\"Enter your choice (1-4): \")\n",
    "    if choice == \"1\":\n",
    "        print(\"Your current balance is: \", balance_1)\n",
    "    elif choice == \"2\":\n",
    "        withdrawl_amount = float(input(\"Enter the amount to withdraw: \"))\n",
    "        if withdrawl_amount > 0:\n",
    "            if withdrawl_amount <= balance_1:\n",
    "                balance_1 -= withdrawl_amount\n",
    "                print(\"Withdrawl Successfull ! Now your balance is:\", balance_1)\n",
    "            else:\n",
    "                print(\"Insufficient Balance !\")\n",
    "        else:\n",
    "            print(\"Invalid Amount ! Please enter a positive amount.\")\n",
    "    elif choice == \"3\":\n",
    "        deposit_amount = float(input(\"Enter the amount to deposit: \"))\n",
    "        if deposit_amount > 0:\n",
    "            balance_1 += deposit_amount\n",
    "            print(\"Deposit Successfull ! Now your balance is:\", balance_1)\n",
    "        else:\n",
    "            print(\"Invalid Amount ! Please enter a positive amount.\")\n",
    "    elif choice == \"4\":\n",
    "        print(\"Thank you for using our ATM System !\")\n",
    "    break\n",
    "else:\n",
    "    print(\"Invalid choice ! Please enter a number between 1 and 4.\")"
   ]
  },
  {
   "cell_type": "code",
   "execution_count": null,
   "metadata": {},
   "outputs": [],
   "source": [
    "print(\"Welcome to ATM System\")\n",
    "Bal = 2000\n",
    "\n",
    "while True:\n",
    "    print(\"1. Check Balance\")\n",
    "    print(\"2. Cash Withdrawl\")\n",
    "    print(\"3. Deposit Money\")\n",
    "    print(\"4. Exit\")\n",
    "    \n",
    "    opt = (input(\"Enter Your Choice (1-4)\"))\n",
    "    \n",
    "    if opt == \"1\":\n",
    "        print(\"Your Current Balance is:\" ,Bal)\n",
    "    elif opt == \"2\":\n",
    "        cash_withdrawl = float(input(\"Please Enter the amount\"))\n",
    "        if cash_withdrawl > 0:\n",
    "            if cash_withdrawl <= Bal:\n",
    "                Bal -= cash_withdrawl\n",
    "                print(\"Successfully Withdrawl! Now your remaining balance is :\" ,Bal)\n",
    "            else:\n",
    "                print(\"Insufficent Balance!\")\n",
    "        else:\n",
    "            print(\"Invalid Amount. Please Enter a positive Number\")\n",
    "    elif opt == \"3\":\n",
    "        deposit_money = float(input(\"Enter the deposit Amount\"))\n",
    "        Bal += deposit_money\n",
    "        print(\"After Deposited the Amout,Now your current Balance is:\" ,Bal)\n",
    "    elif opt == \"4\":\n",
    "        print(\"Thankyou for using Askari ATM Machine\")\n",
    "    break\n",
    "else:\n",
    "    print(\"Invalid Option! Choose correct option\") \n",
    "                "
   ]
  },
  {
   "cell_type": "code",
   "execution_count": 12,
   "metadata": {},
   "outputs": [
    {
     "name": "stdout",
     "output_type": "stream",
     "text": [
      "Welcome to ATM System\n",
      "\n",
      "1. Check Balance\n",
      "2. Withdraw\n",
      "3. Deposit\n",
      "4. Exit\n",
      "Invalid Input. Please enter a valid number.\n"
     ]
    }
   ],
   "source": [
    "print(\"Welcome to ATM System\")\n",
    "\n",
    "amount = 1000\n",
    "while True:\n",
    "    print(\"\\n1. Check Balance\")\n",
    "    print(\"2. Withdraw\")\n",
    "    print(\"3. Deposit\")\n",
    "    print(\"4. Exit\")\n",
    "    choice = input(\"Enter your choice: \")\n",
    "    if choice == \"1\":\n",
    "        print(f\"Your balance is {amount}\")\n",
    "    elif choice == \"2\":\n",
    "        \n",
    "        try:\n",
    "            withdraw = int(input(\"Enter amount to withdraw: \"))\n",
    "            if withdraw > 0:\n",
    "                if withdraw <= amount:\n",
    "                    amount -= withdraw\n",
    "                    print(f\"Withdrawn {withdraw}. Remaining balance is {amount}\")\n",
    "                else:\n",
    "                    print(\"Insufficient balance\")\n",
    "            else:\n",
    "                print(\"Invalid amount. Please enter a positive value.\")\n",
    "        except ValueError:\n",
    "            print(\"Invalid Input. Please enter a valid number.\")\n",
    "    elif choice == \"3\":\n",
    "        deposit = int(input(\"Enter amount to deposit: \"))\n",
    "        if deposit > 0:\n",
    "            amount += deposit\n",
    "            print(f\"Deposited {deposit}. New balance is {amount}\")\n",
    "        else:\n",
    "            print(\"Invalid amount\")\n",
    "    elif choice == \"4\":\n",
    "        print(\"Thank you for using our ATM system\")\n",
    "    break\n",
    "else:\n",
    "    print(\"Invalid choice\")"
   ]
  }
 ],
 "metadata": {
  "kernelspec": {
   "display_name": "Python 3",
   "language": "python",
   "name": "python3"
  },
  "language_info": {
   "codemirror_mode": {
    "name": "ipython",
    "version": 3
   },
   "file_extension": ".py",
   "mimetype": "text/x-python",
   "name": "python",
   "nbconvert_exporter": "python",
   "pygments_lexer": "ipython3",
   "version": "3.12.7"
  }
 },
 "nbformat": 4,
 "nbformat_minor": 2
}
