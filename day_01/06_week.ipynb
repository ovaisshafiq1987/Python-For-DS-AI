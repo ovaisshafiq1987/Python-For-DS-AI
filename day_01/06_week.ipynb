{
 "cells": [
  {
   "cell_type": "markdown",
   "metadata": {},
   "source": [
    "# While Loop"
   ]
  },
  {
   "cell_type": "markdown",
   "metadata": {},
   "source": [
    "### Guess Game"
   ]
  },
  {
   "cell_type": "code",
   "execution_count": null,
   "metadata": {},
   "outputs": [
    {
     "name": "stdout",
     "output_type": "stream",
     "text": [
      "15\n"
     ]
    }
   ],
   "source": [
    "# Example of Random Number\n",
    "import random\n",
    "\n",
    "jackpot = random.randint(1,100)\n",
    "print(jackpot)"
   ]
  },
  {
   "cell_type": "code",
   "execution_count": 11,
   "metadata": {},
   "outputs": [
    {
     "name": "stdout",
     "output_type": "stream",
     "text": [
      "You Have Selected The Number: 45\n",
      "Too High, Guess Lower\n"
     ]
    }
   ],
   "source": [
    "import random\n",
    "\n",
    "jackpot = random.randint(1,100)\n",
    "guess_num = int(input(\"Guess The Number\"))\n",
    "print(\"You Have Selected The Number:\" ,guess_num)\n",
    "if guess_num < jackpot:\n",
    "    print(\"Too Low, Guess Higher\")\n",
    "else:\n",
    "    print(\"Too High, Guess Lower\")\n",
    "    "
   ]
  },
  {
   "cell_type": "code",
   "execution_count": 13,
   "metadata": {},
   "outputs": [
    {
     "name": "stdout",
     "output_type": "stream",
     "text": [
      "You Have Selected The Number: 80\n",
      "Too High, Guess Lower\n",
      "You Have Selected The Number: 70\n",
      "Too Low, Guess Higher\n",
      "You Have Selected The Number: 70\n",
      "Too Low, Guess Higher\n",
      "You Have Selected The Number: 75\n",
      "Too Low, Guess Higher\n",
      "You Have Selected The Number: 74\n",
      "Too Low, Guess Higher\n",
      "You Have Selected The Number: 77\n",
      "Too High, Guess Lower\n",
      "Congratulations, You Have Won The Jackpot\n"
     ]
    }
   ],
   "source": [
    "import random\n",
    "\n",
    "jackpot = random.randint(1,100)\n",
    "guess_num = int(input(\"Guess The Number\"))\n",
    "\n",
    "while guess_num != jackpot:\n",
    "\n",
    "    print(\"You Have Selected The Number:\" ,guess_num)\n",
    "    if guess_num < jackpot:\n",
    "        print(\"Too Low, Guess Higher\")\n",
    "    else:\n",
    "        print(\"Too High, Guess Lower\")\n",
    "    guess_num = int(input(\"Guess The Number\"))\n",
    "    \n",
    "else:\n",
    "    print(\"Congratulations, You Have Won The Jackpot\")"
   ]
  },
  {
   "cell_type": "code",
   "execution_count": 14,
   "metadata": {},
   "outputs": [
    {
     "name": "stdout",
     "output_type": "stream",
     "text": [
      "You Have Selected The Number: 50\n",
      "Too High, Guess Lower\n",
      "You Have Selected The Number: 30\n",
      "Too High, Guess Lower\n",
      "You Have Selected The Number: 20\n",
      "Too Low, Guess Higher\n",
      "You Have Selected The Number: 25\n",
      "Too Low, Guess Higher\n",
      "You Have Selected The Number: 28\n",
      "Too High, Guess Lower\n",
      "You Have Selected The Number: 28\n",
      "Too High, Guess Lower\n",
      "Congratulations, You Have Won The Jackpot\n",
      "Number Of Guesses: 7\n"
     ]
    }
   ],
   "source": [
    "import random\n",
    "\n",
    "jackpot = random.randint(1,100)\n",
    "guess_num = int(input(\"Guess The Number\"))\n",
    "counter = 1\n",
    "\n",
    "while guess_num != jackpot:\n",
    "\n",
    "    print(\"You Have Selected The Number:\" ,guess_num)\n",
    "    if guess_num < jackpot:\n",
    "        print(\"Too Low, Guess Higher\")\n",
    "    else:\n",
    "        print(\"Too High, Guess Lower\")\n",
    "    guess_num = int(input(\"Guess The Number\"))\n",
    "    counter = counter + 1      # OR counter += 1\n",
    "    \n",
    "else:\n",
    "    print(\"Congratulations, You Have Won The Jackpot\")\n",
    "    print(\"Number Of Guesses:\", counter)"
   ]
  },
  {
   "cell_type": "markdown",
   "metadata": {},
   "source": [
    "### is mai hum random number generate karne ke liye use karte hai.or is command sy humain pta chal jaiga ki hum kis number ko select karte hai."
   ]
  },
  {
   "cell_type": "code",
   "execution_count": 15,
   "metadata": {},
   "outputs": [
    {
     "name": "stdout",
     "output_type": "stream",
     "text": [
      "85\n",
      "Congratulations, You Have Won The Jackpot\n",
      "Number Of Guesses: 1\n"
     ]
    }
   ],
   "source": [
    "import random\n",
    "\n",
    "jackpot = random.randint(1,100)\n",
    "print(jackpot)       # is sy humain jackpot ka guess kiya hua number pta chal jaiga\n",
    "guess_num = int(input(\"Guess The Number\"))\n",
    "counter = 1\n",
    "\n",
    "while guess_num != jackpot:\n",
    "\n",
    "    print(\"You Have Selected The Number:\" ,guess_num)\n",
    "    if guess_num < jackpot:\n",
    "        print(\"Too Low, Guess Higher\")\n",
    "    else:\n",
    "        print(\"Too High, Guess Lower\")\n",
    "    guess_num = int(input(\"Guess The Number\"))\n",
    "    counter = counter + 1      # OR counter += 1\n",
    "    \n",
    "else:\n",
    "    print(\"Congratulations, You Have Won The Jackpot\")\n",
    "    print(\"Number Of Guesses:\", counter)"
   ]
  },
  {
   "cell_type": "markdown",
   "metadata": {},
   "source": [
    "# For Loop"
   ]
  },
  {
   "cell_type": "code",
   "execution_count": null,
   "metadata": {},
   "outputs": [
    {
     "name": "stdout",
     "output_type": "stream",
     "text": [
      "1\n",
      "2\n",
      "3\n",
      "4\n",
      "5\n",
      "6\n",
      "7\n",
      "8\n",
      "9\n",
      "10\n",
      "11\n",
      "12\n",
      "13\n",
      "14\n"
     ]
    }
   ],
   "source": [
    "for num in range(1,15):      # for k bad jo b chez aigi usy Itrator and in k bad jo b aiga usy Itrable\n",
    "    print(num)"
   ]
  },
  {
   "cell_type": "code",
   "execution_count": 17,
   "metadata": {},
   "outputs": [
    {
     "name": "stdout",
     "output_type": "stream",
     "text": [
      "1\n",
      "3\n",
      "5\n",
      "7\n",
      "9\n",
      "11\n",
      "13\n"
     ]
    }
   ],
   "source": [
    "for num in range(1,15,2):      \n",
    "    print(num)"
   ]
  },
  {
   "cell_type": "code",
   "execution_count": 18,
   "metadata": {},
   "outputs": [
    {
     "name": "stdout",
     "output_type": "stream",
     "text": [
      "Apple\n",
      "Banana\n",
      "Cherry\n",
      "Mango\n"
     ]
    }
   ],
   "source": [
    "fruits = ['Apple','Banana','Cherry','Mango']\n",
    "for i in fruits:\n",
    "    print(i)"
   ]
  },
  {
   "cell_type": "code",
   "execution_count": 19,
   "metadata": {},
   "outputs": [
    {
     "name": "stdout",
     "output_type": "stream",
     "text": [
      "O\n",
      "v\n",
      "a\n",
      "i\n",
      "s\n",
      " \n",
      "S\n",
      "h\n",
      "a\n",
      "f\n",
      "e\n",
      "e\n",
      "q\n"
     ]
    }
   ],
   "source": [
    "name = 'Ovais Shafeeq'\n",
    "for i in name:\n",
    "    print(i)"
   ]
  },
  {
   "cell_type": "code",
   "execution_count": 20,
   "metadata": {},
   "outputs": [
    {
     "name": "stdout",
     "output_type": "stream",
     "text": [
      "Name\n",
      "age\n",
      "Education\n",
      "Occupation\n"
     ]
    }
   ],
   "source": [
    "bia_data = {'Name':'Ovais' , 'age':37,'Education':'Engineer','Occupation':'Bussiness'}\n",
    "for i in bia_data:\n",
    "    print(i)"
   ]
  },
  {
   "cell_type": "code",
   "execution_count": 22,
   "metadata": {},
   "outputs": [
    {
     "name": "stdout",
     "output_type": "stream",
     "text": [
      "('Name', 'Ovais')\n",
      "('age', 37)\n",
      "('Education', 'Engineer')\n",
      "('Occupation', 'Bussiness')\n"
     ]
    }
   ],
   "source": [
    "bia_data = {'Name':'Ovais' , 'age':37,'Education':'Engineer','Occupation':'Bussiness'}\n",
    "for i in bia_data.items():\n",
    "    print(i)"
   ]
  },
  {
   "cell_type": "code",
   "execution_count": 24,
   "metadata": {},
   "outputs": [
    {
     "name": "stdout",
     "output_type": "stream",
     "text": [
      "Name Ovais\n",
      "age 37\n",
      "Education Engineer\n",
      "Occupation Bussiness\n"
     ]
    }
   ],
   "source": [
    "bio_data = {'Name':'Ovais' , 'age':37,'Education':'Engineer','Occupation':'Bussiness'}\n",
    "for i in bia_data:\n",
    "    print(i,bio_data[i])"
   ]
  },
  {
   "cell_type": "markdown",
   "metadata": {},
   "source": [
    "### The current population of a town is 10000. the population of a town is increasing at the rate of 10% per year. write a program to find out the population at the end of each of the last 10years"
   ]
  },
  {
   "cell_type": "code",
   "execution_count": 26,
   "metadata": {},
   "outputs": [
    {
     "name": "stdout",
     "output_type": "stream",
     "text": [
      "10\n",
      "9\n",
      "8\n",
      "7\n",
      "6\n",
      "5\n",
      "4\n",
      "3\n",
      "2\n",
      "1\n"
     ]
    }
   ],
   "source": [
    "current_population = 10000\n",
    "for year in range(10,0,-1):\n",
    "    print(year)"
   ]
  },
  {
   "cell_type": "code",
   "execution_count": 27,
   "metadata": {},
   "outputs": [
    {
     "name": "stdout",
     "output_type": "stream",
     "text": [
      "10 10000\n",
      "9 10000\n",
      "8 10000\n",
      "7 10000\n",
      "6 10000\n",
      "5 10000\n",
      "4 10000\n",
      "3 10000\n",
      "2 10000\n",
      "1 10000\n"
     ]
    }
   ],
   "source": [
    "current_population = 10000\n",
    "for year in range(10,0,-1):\n",
    "    print(year,current_population)"
   ]
  },
  {
   "cell_type": "code",
   "execution_count": 35,
   "metadata": {},
   "outputs": [
    {
     "name": "stdout",
     "output_type": "stream",
     "text": [
      "Year|Population\n",
      "---------------\n",
      "10 | 10000\n",
      "9 | 9091\n",
      "8 | 8265\n",
      "7 | 7514\n",
      "6 | 6831\n",
      "5 | 6210\n",
      "4 | 5645\n",
      "3 | 5132\n",
      "2 | 4665\n",
      "1 | 4241\n"
     ]
    }
   ],
   "source": [
    "current_population = 10000\n",
    "print(\"Year|Population\")\n",
    "print(\"---------------\")\n",
    "for year in range(10,0,-1):\n",
    "    print(year, '|',current_population)\n",
    "    current_population = round(current_population/1.1)"
   ]
  },
  {
   "cell_type": "code",
   "execution_count": 29,
   "metadata": {},
   "outputs": [
    {
     "name": "stdout",
     "output_type": "stream",
     "text": [
      "Year | Population\n",
      "------------------\n",
      "  10 |      9091\n",
      "   9 |      8264\n",
      "   8 |      7513\n",
      "   7 |      6830\n",
      "   6 |      6209\n",
      "   5 |      5645\n",
      "   4 |      5132\n",
      "   3 |      4665\n",
      "   2 |      4241\n",
      "   1 |      3855\n"
     ]
    }
   ],
   "source": [
    "current_population = 10000  # Current population\n",
    "growth_rate = 0.10  # Annual growth rate (10%)\n",
    "\n",
    "print(\"Year | Population\")\n",
    "print(\"------------------\")\n",
    "\n",
    "population = current_population\n",
    "for year in range(10, 0, -1):  # Loop for the last 10 years\n",
    "    population /= (1 + growth_rate)  # Calculate population for the previous year\n",
    "    print(f\"{year:4d} | {round(population):9d}\")\n"
   ]
  },
  {
   "cell_type": "markdown",
   "metadata": {},
   "source": [
    "# Nested Loop"
   ]
  },
  {
   "cell_type": "code",
   "execution_count": 36,
   "metadata": {},
   "outputs": [
    {
     "name": "stdout",
     "output_type": "stream",
     "text": [
      "1\n",
      "2\n",
      "3\n",
      "4\n"
     ]
    }
   ],
   "source": [
    "for i in range(1,5):\n",
    "    print(i)"
   ]
  },
  {
   "cell_type": "code",
   "execution_count": 37,
   "metadata": {},
   "outputs": [
    {
     "name": "stdout",
     "output_type": "stream",
     "text": [
      "1 1\n",
      "1 2\n",
      "1 3\n",
      "1 4\n",
      "2 1\n",
      "2 2\n",
      "2 3\n",
      "2 4\n",
      "3 1\n",
      "3 2\n",
      "3 3\n",
      "3 4\n",
      "4 1\n",
      "4 2\n",
      "4 3\n",
      "4 4\n"
     ]
    }
   ],
   "source": [
    "for i in range(1,5):\n",
    "    for j in range(1,5):\n",
    "        print(i,j)"
   ]
  },
  {
   "cell_type": "markdown",
   "metadata": {},
   "source": [
    "### Pattern 1"
   ]
  },
  {
   "cell_type": "code",
   "execution_count": 39,
   "metadata": {},
   "outputs": [
    {
     "name": "stdout",
     "output_type": "stream",
     "text": [
      "*\n",
      "*\n",
      "*\n",
      "*\n"
     ]
    }
   ],
   "source": [
    "rows = int(input(\"Enter the rows of pattern\"))\n",
    "for i in range(1,rows):\n",
    "    print('*')"
   ]
  },
  {
   "cell_type": "code",
   "execution_count": 40,
   "metadata": {},
   "outputs": [
    {
     "name": "stdout",
     "output_type": "stream",
     "text": [
      "*\n",
      "*\n",
      "*\n",
      "*\n",
      "*\n"
     ]
    }
   ],
   "source": [
    "rows = int(input(\"Enter the rows of pattern\"))\n",
    "for i in range(1,rows+1):\n",
    "    print('*')"
   ]
  },
  {
   "cell_type": "code",
   "execution_count": 48,
   "metadata": {},
   "outputs": [
    {
     "name": "stdout",
     "output_type": "stream",
     "text": [
      "*\n",
      "**\n",
      "***\n",
      "****\n",
      "*****\n",
      "******\n",
      "*******\n",
      "********\n",
      "*********\n",
      "**********\n"
     ]
    }
   ],
   "source": [
    "rows = int(input(\"Enter the rows of pattern\"))\n",
    "for i in range(1,rows+1):\n",
    "    for j in range(1,i+1):\n",
    "        print('*' , end='')\n",
    "    print()"
   ]
  },
  {
   "cell_type": "code",
   "execution_count": 54,
   "metadata": {},
   "outputs": [
    {
     "name": "stdout",
     "output_type": "stream",
     "text": [
      "*\n",
      "**\n",
      "***\n",
      "****\n"
     ]
    }
   ],
   "source": [
    "print('*')\n",
    "print('*',end='')\n",
    "print('*')\n",
    "print('*',end='')\n",
    "print('*',end='')\n",
    "print('*')\n",
    "print('*',end='')\n",
    "print('*',end='')\n",
    "print('*',end='')\n",
    "print('*')\n"
   ]
  },
  {
   "cell_type": "markdown",
   "metadata": {},
   "source": [
    "### Pattern in Reverse Order"
   ]
  },
  {
   "cell_type": "code",
   "execution_count": 55,
   "metadata": {},
   "outputs": [
    {
     "name": "stdout",
     "output_type": "stream",
     "text": [
      "*****\n",
      "****\n",
      "***\n",
      "**\n",
      "*\n"
     ]
    }
   ],
   "source": [
    "rows = int(input(\"Enter the number of rows: \"))\n",
    "\n",
    "for i in range(rows, 0, -1):  # Start from 'rows' and go down to 1\n",
    "    print(\"*\" * i)  # Print 'i' number of '*'\n"
   ]
  }
 ],
 "metadata": {
  "kernelspec": {
   "display_name": "Python 3",
   "language": "python",
   "name": "python3"
  },
  "language_info": {
   "codemirror_mode": {
    "name": "ipython",
    "version": 3
   },
   "file_extension": ".py",
   "mimetype": "text/x-python",
   "name": "python",
   "nbconvert_exporter": "python",
   "pygments_lexer": "ipython3",
   "version": "3.12.7"
  }
 },
 "nbformat": 4,
 "nbformat_minor": 2
}
