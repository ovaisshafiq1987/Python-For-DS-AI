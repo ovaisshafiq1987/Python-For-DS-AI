{
 "cells": [
  {
   "cell_type": "markdown",
   "metadata": {},
   "source": [
    "# Practice Functions"
   ]
  },
  {
   "cell_type": "code",
   "execution_count": 1,
   "metadata": {},
   "outputs": [
    {
     "name": "stdout",
     "output_type": "stream",
     "text": [
      "<function add at 0x000001A2E727BB00>\n",
      "<function sub at 0x000001A2E727BA60>\n",
      "<function mul at 0x000001A2E727BE20>\n",
      "<function div at 0x000001A2E73AAFC0>\n"
     ]
    }
   ],
   "source": [
    "def add(num1 , num2):\n",
    "    return add\n",
    "\n",
    "def sub(num1 , num2):\n",
    "    return sub\n",
    "\n",
    "def mul(num1 , num2):\n",
    "    return mul\n",
    "\n",
    "def div(num1 , num2):\n",
    "    return div\n",
    "\n",
    "num1 = int(input(\"Enter the First Number\"))\n",
    "num2 = int(input(\"Enter the Second Number\"))\n",
    "\n",
    "print(add(num1,num2))\n",
    "print(sub(num1,num2))\n",
    "print(mul(num1,num2))\n",
    "print(div(num1,num2))"
   ]
  },
  {
   "cell_type": "markdown",
   "metadata": {},
   "source": [
    "# Scope of Variables\n",
    "### Local and Global Variables"
   ]
  },
  {
   "cell_type": "code",
   "execution_count": 2,
   "metadata": {},
   "outputs": [
    {
     "name": "stdout",
     "output_type": "stream",
     "text": [
      "5\n",
      "6\n",
      "5\n"
     ]
    }
   ],
   "source": [
    "def g(y):\n",
    "    print(x)\n",
    "    print(x+1)\n",
    "x=5\n",
    "g(x)\n",
    "print(x)"
   ]
  },
  {
   "cell_type": "code",
   "execution_count": 3,
   "metadata": {},
   "outputs": [
    {
     "name": "stdout",
     "output_type": "stream",
     "text": [
      "5\n",
      "6\n",
      "5\n"
     ]
    }
   ],
   "source": [
    "def g(x):\n",
    "    print(x)\n",
    "    print(x+1)\n",
    "name=5\n",
    "g(name)\n",
    "print(name)"
   ]
  },
  {
   "cell_type": "code",
   "execution_count": 4,
   "metadata": {},
   "outputs": [
    {
     "name": "stdout",
     "output_type": "stream",
     "text": [
      "2\n",
      "5\n"
     ]
    }
   ],
   "source": [
    "def f(y):\n",
    "    x = 1\n",
    "    x += 1\n",
    "    print(x)\n",
    "x=5\n",
    "f(x)\n",
    "print(x)"
   ]
  },
  {
   "cell_type": "code",
   "execution_count": 5,
   "metadata": {},
   "outputs": [
    {
     "name": "stdout",
     "output_type": "stream",
     "text": [
      "2\n",
      "5\n"
     ]
    }
   ],
   "source": [
    "def f(y):\n",
    "    y = 1\n",
    "    y += 1\n",
    "    print(y)\n",
    "x=5\n",
    "f(x)\n",
    "print(x)"
   ]
  },
  {
   "cell_type": "code",
   "execution_count": 6,
   "metadata": {},
   "outputs": [
    {
     "name": "stdout",
     "output_type": "stream",
     "text": [
      "3\n",
      "5\n"
     ]
    }
   ],
   "source": [
    "def f(y):\n",
    "    y = 2\n",
    "    y += 1\n",
    "    print(y)\n",
    "y=5\n",
    "f(y)\n",
    "print(y)"
   ]
  },
  {
   "cell_type": "code",
   "execution_count": 3,
   "metadata": {},
   "outputs": [
    {
     "ename": "UnboundLocalError",
     "evalue": "cannot access local variable 'x' where it is not associated with a value",
     "output_type": "error",
     "traceback": [
      "\u001b[1;31m---------------------------------------------------------------------------\u001b[0m",
      "\u001b[1;31mUnboundLocalError\u001b[0m                         Traceback (most recent call last)",
      "Cell \u001b[1;32mIn[3], line 4\u001b[0m\n\u001b[0;32m      2\u001b[0m     x \u001b[38;5;241m+\u001b[39m\u001b[38;5;241m=\u001b[39m \u001b[38;5;241m1\u001b[39m\n\u001b[0;32m      3\u001b[0m x \u001b[38;5;241m=\u001b[39m \u001b[38;5;241m5\u001b[39m\n\u001b[1;32m----> 4\u001b[0m \u001b[43mh\u001b[49m\u001b[43m(\u001b[49m\u001b[43mx\u001b[49m\u001b[43m)\u001b[49m\n\u001b[0;32m      5\u001b[0m \u001b[38;5;28mprint\u001b[39m(x)\n",
      "Cell \u001b[1;32mIn[3], line 2\u001b[0m, in \u001b[0;36mh\u001b[1;34m(y)\u001b[0m\n\u001b[0;32m      1\u001b[0m \u001b[38;5;28;01mdef\u001b[39;00m \u001b[38;5;21mh\u001b[39m(y):\n\u001b[1;32m----> 2\u001b[0m     \u001b[43mx\u001b[49m \u001b[38;5;241m+\u001b[39m\u001b[38;5;241m=\u001b[39m \u001b[38;5;241m1\u001b[39m\n",
      "\u001b[1;31mUnboundLocalError\u001b[0m: cannot access local variable 'x' where it is not associated with a value"
     ]
    }
   ],
   "source": [
    "def h(y):\n",
    "    x += 1\n",
    "x = 5\n",
    "h(x)\n",
    "print(x)"
   ]
  },
  {
   "cell_type": "code",
   "execution_count": 4,
   "metadata": {},
   "outputs": [
    {
     "name": "stdout",
     "output_type": "stream",
     "text": [
      "5\n"
     ]
    }
   ],
   "source": [
    "def h(x):\n",
    "    x += 1\n",
    "x = 5\n",
    "h(x)\n",
    "print(x)"
   ]
  },
  {
   "cell_type": "code",
   "execution_count": 5,
   "metadata": {},
   "outputs": [
    {
     "name": "stdout",
     "output_type": "stream",
     "text": [
      "in f(x):x =  4\n",
      "in main program scope: z = 4\n",
      "in main program scope: x = 3\n"
     ]
    }
   ],
   "source": [
    "def f(x):\n",
    "    x = x+1\n",
    "    print('in f(x):x = ', x)\n",
    "    return x\n",
    "x = 3\n",
    "z = f(x)\n",
    "print('in main program scope: z =' ,z)\n",
    "print('in main program scope: x =' ,x)"
   ]
  },
  {
   "cell_type": "markdown",
   "metadata": {},
   "source": [
    "# Nested Function"
   ]
  },
  {
   "cell_type": "code",
   "execution_count": null,
   "metadata": {},
   "outputs": [
    {
     "name": "stdout",
     "output_type": "stream",
     "text": [
      "Hello from outer function\n",
      "Hello from inner function\n"
     ]
    }
   ],
   "source": [
    "def function1():   # Outer Function\n",
    "    print('Hello from outer function')\n",
    "    def function2(): # Inner Function\n",
    "        print('Hello from inner function')\n",
    "    function2()\n",
    "function1()"
   ]
  },
  {
   "cell_type": "code",
   "execution_count": 7,
   "metadata": {},
   "outputs": [
    {
     "name": "stdout",
     "output_type": "stream",
     "text": [
      "<function num1.<locals>.num2 at 0x000001C5479D9260>\n",
      "50\n"
     ]
    }
   ],
   "source": [
    "def num1(x):\n",
    "    def num2(y):\n",
    "        return x*y\n",
    "    return num2\n",
    "\n",
    "res = num1(10)\n",
    "print(res)\n",
    "print(res(5))"
   ]
  },
  {
   "cell_type": "code",
   "execution_count": 9,
   "metadata": {},
   "outputs": [
    {
     "name": "stdout",
     "output_type": "stream",
     "text": [
      "<function num1.<locals>.num2 at 0x000001C5479D9300>\n",
      "32\n"
     ]
    }
   ],
   "source": [
    "def num1(x):\n",
    "    def num2(y):\n",
    "        return x*y\n",
    "    return num2\n",
    "\n",
    "res = num1(int(input('Enter the Value of X:')))\n",
    "print(res)\n",
    "print(res(int(input(\"Enter the value of Y:\"))))"
   ]
  },
  {
   "cell_type": "code",
   "execution_count": 11,
   "metadata": {},
   "outputs": [
    {
     "name": "stdout",
     "output_type": "stream",
     "text": [
      "<function num1.<locals>.num2 at 0x000001C5479D9300>\n",
      "49\n"
     ]
    }
   ],
   "source": [
    "def num1(x):\n",
    "    def num2(y):\n",
    "        return x**y\n",
    "    return num2\n",
    "\n",
    "res = num1(7)\n",
    "print(res)\n",
    "print(res(2))"
   ]
  },
  {
   "cell_type": "code",
   "execution_count": 14,
   "metadata": {},
   "outputs": [
    {
     "name": "stdout",
     "output_type": "stream",
     "text": [
      "<function num1.<locals>.num2 at 0x000001C5479D9DA0>\n",
      "25\n"
     ]
    }
   ],
   "source": [
    "def num1(x):\n",
    "    def num2(y):\n",
    "        return x**y\n",
    "    return num2\n",
    "\n",
    "res = num1(int(input('Enter the Value of Base:')))\n",
    "print(res)\n",
    "print(res(int(input(\"Enter the value of Power:\"))))"
   ]
  },
  {
   "cell_type": "code",
   "execution_count": null,
   "metadata": {},
   "outputs": [],
   "source": [
    "def num1(base):\n",
    "    def num2(power):\n",
    "        return base**power\n",
    "    return num2\n",
    "\n",
    "res = num1(int(input('Enter the Value of Base:')))\n",
    "print(res)\n",
    "print(res(int(input(\"Enter the value of Power:\"))))"
   ]
  },
  {
   "cell_type": "code",
   "execution_count": null,
   "metadata": {},
   "outputs": [
    {
     "name": "stdout",
     "output_type": "stream",
     "text": [
      "<function num1 at 0x000001C547A2C9A0>\n",
      "<function num1 at 0x000001C547A2C9A0>\n",
      "<function num1 at 0x000001C547A2C9A0>\n"
     ]
    }
   ],
   "source": [
    "def num1(x):\n",
    "    def num2(y):\n",
    "        def num3(z):\n",
    "            return x*y*z\n",
    "        return num3\n",
    "    return num2\n",
    "res = num1(int(input('Enter the Value of X:')))\n",
    "print(res)\n",
    "print(res(int(input(\"Enter the value of Y:\"))))\n",
    "print(res(int(input(\"Enter the value of Z:\"))))"
   ]
  },
  {
   "cell_type": "code",
   "execution_count": 18,
   "metadata": {},
   "outputs": [
    {
     "name": "stdout",
     "output_type": "stream",
     "text": [
      "The result of x * y * z is: 27\n"
     ]
    }
   ],
   "source": [
    "def num1(x):\n",
    "    def num2(y):\n",
    "        def num3(z):\n",
    "            return x * y * z\n",
    "        return num3\n",
    "    return num2\n",
    "\n",
    "# Step-by-step process\n",
    "x = int(input('Enter the Value of X: '))\n",
    "res1 = num1(x)  # num1 returns num2\n",
    "\n",
    "y = int(input('Enter the Value of Y: '))\n",
    "res2 = res1(y)  # num2 returns num3\n",
    "\n",
    "z = int(input('Enter the Value of Z: '))\n",
    "result = res2(z)  # num3 returns the final result\n",
    "\n",
    "print(\"The result of x * y * z is:\", result)\n"
   ]
  },
  {
   "cell_type": "markdown",
   "metadata": {},
   "source": [
    "Syed Muhammad Ovais ye result mai ana chahiye aik 7 \n",
    "isi nested function sy input ly k"
   ]
  },
  {
   "cell_type": "code",
   "execution_count": 23,
   "metadata": {},
   "outputs": [
    {
     "name": "stdout",
     "output_type": "stream",
     "text": [
      "<function name1.<locals>.name2 at 0x000001C547A2CEA0>\n",
      "M Nihal Iqbal\n"
     ]
    }
   ],
   "source": [
    "def name1(x):\n",
    "  def name2(y):\n",
    "    def name3(z):\n",
    "      return x+y+z\n",
    "    return name3\n",
    "  return name2  \n",
    "\n",
    "res = name1('M ')\n",
    "print(res)\n",
    "res1 = res('Nihal')\n",
    "print(res1(\" Iqbal\"))"
   ]
  },
  {
   "cell_type": "markdown",
   "metadata": {},
   "source": [
    "# Libraries"
   ]
  },
  {
   "cell_type": "code",
   "execution_count": 1,
   "metadata": {},
   "outputs": [],
   "source": [
    "import pandas as pd\n",
    "import numpy as np\n"
   ]
  },
  {
   "cell_type": "code",
   "execution_count": 7,
   "metadata": {},
   "outputs": [
    {
     "data": {
      "text/plain": [
       "array([[ 0,  1,  2,  3,  4,  5],\n",
       "       [ 6,  7,  8,  9, 10, 11],\n",
       "       [12, 13, 14, 15, 16, 17],\n",
       "       [18, 19, 20, 21, 22, 23]])"
      ]
     },
     "execution_count": 7,
     "metadata": {},
     "output_type": "execute_result"
    }
   ],
   "source": [
    "data = np.arange(24).reshape(4,6)\n",
    "data"
   ]
  },
  {
   "cell_type": "code",
   "execution_count": 11,
   "metadata": {},
   "outputs": [],
   "source": [
    "import pandas as pd\n",
    "import numpy as np\n",
    "\n",
    "data = np.arange(30).reshape(5,6)"
   ]
  },
  {
   "cell_type": "code",
   "execution_count": 12,
   "metadata": {},
   "outputs": [
    {
     "data": {
      "text/plain": [
       "array([[ 0,  1,  2,  3,  4,  5],\n",
       "       [ 6,  7,  8,  9, 10, 11],\n",
       "       [12, 13, 14, 15, 16, 17],\n",
       "       [18, 19, 20, 21, 22, 23],\n",
       "       [24, 25, 26, 27, 28, 29]])"
      ]
     },
     "execution_count": 12,
     "metadata": {},
     "output_type": "execute_result"
    }
   ],
   "source": [
    "data"
   ]
  },
  {
   "cell_type": "code",
   "execution_count": 8,
   "metadata": {},
   "outputs": [
    {
     "data": {
      "text/plain": [
       "array([[30, 31, 32, 33, 34, 35],\n",
       "       [36, 37, 38, 39, 40, 41],\n",
       "       [42, 43, 44, 45, 46, 47],\n",
       "       [48, 49, 50, 51, 52, 53],\n",
       "       [54, 55, 56, 57, 58, 59]])"
      ]
     },
     "execution_count": 8,
     "metadata": {},
     "output_type": "execute_result"
    }
   ],
   "source": [
    "data1=np.arange(30,60).reshape(5,6)\n",
    "data1"
   ]
  },
  {
   "cell_type": "code",
   "execution_count": 13,
   "metadata": {},
   "outputs": [
    {
     "data": {
      "text/plain": [
       "numpy.ndarray"
      ]
     },
     "execution_count": 13,
     "metadata": {},
     "output_type": "execute_result"
    }
   ],
   "source": [
    "type(data1)"
   ]
  },
  {
   "cell_type": "code",
   "execution_count": 16,
   "metadata": {},
   "outputs": [
    {
     "data": {
      "text/plain": [
       "array([20.])"
      ]
     },
     "execution_count": 16,
     "metadata": {},
     "output_type": "execute_result"
    }
   ],
   "source": [
    "data2 = np.linspace(20,10,1)\n",
    "data2"
   ]
  },
  {
   "cell_type": "code",
   "execution_count": 17,
   "metadata": {},
   "outputs": [
    {
     "data": {
      "text/plain": [
       "array([20., 10.])"
      ]
     },
     "execution_count": 17,
     "metadata": {},
     "output_type": "execute_result"
    }
   ],
   "source": [
    "data2 = np.linspace(20,10,2)\n",
    "data2"
   ]
  },
  {
   "cell_type": "code",
   "execution_count": 18,
   "metadata": {},
   "outputs": [
    {
     "data": {
      "text/plain": [
       "array([20., 15., 10.])"
      ]
     },
     "execution_count": 18,
     "metadata": {},
     "output_type": "execute_result"
    }
   ],
   "source": [
    "data2 = np.linspace(20,10,3)\n",
    "data2"
   ]
  },
  {
   "cell_type": "code",
   "execution_count": 19,
   "metadata": {},
   "outputs": [
    {
     "data": {
      "text/plain": [
       "array([20.        , 16.66666667, 13.33333333, 10.        ])"
      ]
     },
     "execution_count": 19,
     "metadata": {},
     "output_type": "execute_result"
    }
   ],
   "source": [
    "data2 = np.linspace(20,10,4)\n",
    "data2"
   ]
  },
  {
   "cell_type": "code",
   "execution_count": 20,
   "metadata": {},
   "outputs": [
    {
     "data": {
      "text/plain": [
       "array([20.        , 18.88888889, 17.77777778, 16.66666667, 15.55555556,\n",
       "       14.44444444, 13.33333333, 12.22222222, 11.11111111, 10.        ])"
      ]
     },
     "execution_count": 20,
     "metadata": {},
     "output_type": "execute_result"
    }
   ],
   "source": [
    "data2 = np.linspace(20,10,10)\n",
    "data2"
   ]
  },
  {
   "cell_type": "code",
   "execution_count": 26,
   "metadata": {},
   "outputs": [
    {
     "data": {
      "text/plain": [
       "3"
      ]
     },
     "execution_count": 26,
     "metadata": {},
     "output_type": "execute_result"
    }
   ],
   "source": [
    "np.random.randint(10)"
   ]
  },
  {
   "cell_type": "markdown",
   "metadata": {},
   "source": [
    "# PANDAS"
   ]
  },
  {
   "cell_type": "code",
   "execution_count": 28,
   "metadata": {},
   "outputs": [
    {
     "data": {
      "text/html": [
       "<div>\n",
       "<style scoped>\n",
       "    .dataframe tbody tr th:only-of-type {\n",
       "        vertical-align: middle;\n",
       "    }\n",
       "\n",
       "    .dataframe tbody tr th {\n",
       "        vertical-align: top;\n",
       "    }\n",
       "\n",
       "    .dataframe thead th {\n",
       "        text-align: right;\n",
       "    }\n",
       "</style>\n",
       "<table border=\"1\" class=\"dataframe\">\n",
       "  <thead>\n",
       "    <tr style=\"text-align: right;\">\n",
       "      <th></th>\n",
       "      <th>0</th>\n",
       "      <th>1</th>\n",
       "      <th>2</th>\n",
       "      <th>3</th>\n",
       "      <th>4</th>\n",
       "      <th>5</th>\n",
       "    </tr>\n",
       "  </thead>\n",
       "  <tbody>\n",
       "    <tr>\n",
       "      <th>0</th>\n",
       "      <td>30</td>\n",
       "      <td>31</td>\n",
       "      <td>32</td>\n",
       "      <td>33</td>\n",
       "      <td>34</td>\n",
       "      <td>35</td>\n",
       "    </tr>\n",
       "    <tr>\n",
       "      <th>1</th>\n",
       "      <td>36</td>\n",
       "      <td>37</td>\n",
       "      <td>38</td>\n",
       "      <td>39</td>\n",
       "      <td>40</td>\n",
       "      <td>41</td>\n",
       "    </tr>\n",
       "    <tr>\n",
       "      <th>2</th>\n",
       "      <td>42</td>\n",
       "      <td>43</td>\n",
       "      <td>44</td>\n",
       "      <td>45</td>\n",
       "      <td>46</td>\n",
       "      <td>47</td>\n",
       "    </tr>\n",
       "    <tr>\n",
       "      <th>3</th>\n",
       "      <td>48</td>\n",
       "      <td>49</td>\n",
       "      <td>50</td>\n",
       "      <td>51</td>\n",
       "      <td>52</td>\n",
       "      <td>53</td>\n",
       "    </tr>\n",
       "    <tr>\n",
       "      <th>4</th>\n",
       "      <td>54</td>\n",
       "      <td>55</td>\n",
       "      <td>56</td>\n",
       "      <td>57</td>\n",
       "      <td>58</td>\n",
       "      <td>59</td>\n",
       "    </tr>\n",
       "  </tbody>\n",
       "</table>\n",
       "</div>"
      ],
      "text/plain": [
       "    0   1   2   3   4   5\n",
       "0  30  31  32  33  34  35\n",
       "1  36  37  38  39  40  41\n",
       "2  42  43  44  45  46  47\n",
       "3  48  49  50  51  52  53\n",
       "4  54  55  56  57  58  59"
      ]
     },
     "execution_count": 28,
     "metadata": {},
     "output_type": "execute_result"
    }
   ],
   "source": [
    "# Dataframe is a composition of indices\n",
    "df = pd.DataFrame(data1)\n",
    "df"
   ]
  },
  {
   "cell_type": "code",
   "execution_count": 48,
   "metadata": {},
   "outputs": [],
   "source": [
    "data1,index = ['Row1','Row2','Row3','Row4','Row5'],['Column1','Column2','Colum3','Columns4','Columns5']"
   ]
  },
  {
   "cell_type": "code",
   "execution_count": 49,
   "metadata": {},
   "outputs": [
    {
     "data": {
      "text/html": [
       "<div>\n",
       "<style scoped>\n",
       "    .dataframe tbody tr th:only-of-type {\n",
       "        vertical-align: middle;\n",
       "    }\n",
       "\n",
       "    .dataframe tbody tr th {\n",
       "        vertical-align: top;\n",
       "    }\n",
       "\n",
       "    .dataframe thead th {\n",
       "        text-align: right;\n",
       "    }\n",
       "</style>\n",
       "<table border=\"1\" class=\"dataframe\">\n",
       "  <thead>\n",
       "    <tr style=\"text-align: right;\">\n",
       "      <th></th>\n",
       "      <th>0</th>\n",
       "      <th>1</th>\n",
       "      <th>2</th>\n",
       "      <th>3</th>\n",
       "      <th>4</th>\n",
       "      <th>5</th>\n",
       "    </tr>\n",
       "  </thead>\n",
       "  <tbody>\n",
       "    <tr>\n",
       "      <th>0</th>\n",
       "      <td>30</td>\n",
       "      <td>31</td>\n",
       "      <td>32</td>\n",
       "      <td>33</td>\n",
       "      <td>34</td>\n",
       "      <td>35</td>\n",
       "    </tr>\n",
       "    <tr>\n",
       "      <th>1</th>\n",
       "      <td>36</td>\n",
       "      <td>37</td>\n",
       "      <td>38</td>\n",
       "      <td>39</td>\n",
       "      <td>40</td>\n",
       "      <td>41</td>\n",
       "    </tr>\n",
       "    <tr>\n",
       "      <th>2</th>\n",
       "      <td>42</td>\n",
       "      <td>43</td>\n",
       "      <td>44</td>\n",
       "      <td>45</td>\n",
       "      <td>46</td>\n",
       "      <td>47</td>\n",
       "    </tr>\n",
       "    <tr>\n",
       "      <th>3</th>\n",
       "      <td>48</td>\n",
       "      <td>49</td>\n",
       "      <td>50</td>\n",
       "      <td>51</td>\n",
       "      <td>52</td>\n",
       "      <td>53</td>\n",
       "    </tr>\n",
       "    <tr>\n",
       "      <th>4</th>\n",
       "      <td>54</td>\n",
       "      <td>55</td>\n",
       "      <td>56</td>\n",
       "      <td>57</td>\n",
       "      <td>58</td>\n",
       "      <td>59</td>\n",
       "    </tr>\n",
       "  </tbody>\n",
       "</table>\n",
       "</div>"
      ],
      "text/plain": [
       "    0   1   2   3   4   5\n",
       "0  30  31  32  33  34  35\n",
       "1  36  37  38  39  40  41\n",
       "2  42  43  44  45  46  47\n",
       "3  48  49  50  51  52  53\n",
       "4  54  55  56  57  58  59"
      ]
     },
     "execution_count": 49,
     "metadata": {},
     "output_type": "execute_result"
    }
   ],
   "source": [
    "df.replace(data1,index)"
   ]
  },
  {
   "cell_type": "code",
   "execution_count": 33,
   "metadata": {},
   "outputs": [
    {
     "data": {
      "text/plain": [
       "RangeIndex(start=0, stop=6, step=1)"
      ]
     },
     "execution_count": 33,
     "metadata": {},
     "output_type": "execute_result"
    }
   ],
   "source": [
    "df.columns"
   ]
  },
  {
   "cell_type": "code",
   "execution_count": 34,
   "metadata": {},
   "outputs": [
    {
     "data": {
      "text/plain": [
       "(5, 6)"
      ]
     },
     "execution_count": 34,
     "metadata": {},
     "output_type": "execute_result"
    }
   ],
   "source": [
    "df.shape"
   ]
  },
  {
   "cell_type": "code",
   "execution_count": 35,
   "metadata": {},
   "outputs": [
    {
     "data": {
      "text/html": [
       "<div>\n",
       "<style scoped>\n",
       "    .dataframe tbody tr th:only-of-type {\n",
       "        vertical-align: middle;\n",
       "    }\n",
       "\n",
       "    .dataframe tbody tr th {\n",
       "        vertical-align: top;\n",
       "    }\n",
       "\n",
       "    .dataframe thead th {\n",
       "        text-align: right;\n",
       "    }\n",
       "</style>\n",
       "<table border=\"1\" class=\"dataframe\">\n",
       "  <thead>\n",
       "    <tr style=\"text-align: right;\">\n",
       "      <th></th>\n",
       "      <th>0</th>\n",
       "      <th>1</th>\n",
       "      <th>2</th>\n",
       "      <th>3</th>\n",
       "      <th>4</th>\n",
       "      <th>5</th>\n",
       "    </tr>\n",
       "  </thead>\n",
       "  <tbody>\n",
       "    <tr>\n",
       "      <th>0</th>\n",
       "      <td>30</td>\n",
       "      <td>31</td>\n",
       "      <td>32</td>\n",
       "      <td>33</td>\n",
       "      <td>34</td>\n",
       "      <td>35</td>\n",
       "    </tr>\n",
       "    <tr>\n",
       "      <th>1</th>\n",
       "      <td>36</td>\n",
       "      <td>37</td>\n",
       "      <td>38</td>\n",
       "      <td>39</td>\n",
       "      <td>40</td>\n",
       "      <td>41</td>\n",
       "    </tr>\n",
       "    <tr>\n",
       "      <th>2</th>\n",
       "      <td>42</td>\n",
       "      <td>43</td>\n",
       "      <td>44</td>\n",
       "      <td>45</td>\n",
       "      <td>46</td>\n",
       "      <td>47</td>\n",
       "    </tr>\n",
       "    <tr>\n",
       "      <th>3</th>\n",
       "      <td>48</td>\n",
       "      <td>49</td>\n",
       "      <td>50</td>\n",
       "      <td>51</td>\n",
       "      <td>52</td>\n",
       "      <td>53</td>\n",
       "    </tr>\n",
       "    <tr>\n",
       "      <th>4</th>\n",
       "      <td>54</td>\n",
       "      <td>55</td>\n",
       "      <td>56</td>\n",
       "      <td>57</td>\n",
       "      <td>58</td>\n",
       "      <td>59</td>\n",
       "    </tr>\n",
       "  </tbody>\n",
       "</table>\n",
       "</div>"
      ],
      "text/plain": [
       "    0   1   2   3   4   5\n",
       "0  30  31  32  33  34  35\n",
       "1  36  37  38  39  40  41\n",
       "2  42  43  44  45  46  47\n",
       "3  48  49  50  51  52  53\n",
       "4  54  55  56  57  58  59"
      ]
     },
     "execution_count": 35,
     "metadata": {},
     "output_type": "execute_result"
    }
   ],
   "source": [
    "df.head()"
   ]
  },
  {
   "cell_type": "code",
   "execution_count": 36,
   "metadata": {},
   "outputs": [
    {
     "data": {
      "text/html": [
       "<div>\n",
       "<style scoped>\n",
       "    .dataframe tbody tr th:only-of-type {\n",
       "        vertical-align: middle;\n",
       "    }\n",
       "\n",
       "    .dataframe tbody tr th {\n",
       "        vertical-align: top;\n",
       "    }\n",
       "\n",
       "    .dataframe thead th {\n",
       "        text-align: right;\n",
       "    }\n",
       "</style>\n",
       "<table border=\"1\" class=\"dataframe\">\n",
       "  <thead>\n",
       "    <tr style=\"text-align: right;\">\n",
       "      <th></th>\n",
       "      <th>0</th>\n",
       "      <th>1</th>\n",
       "      <th>2</th>\n",
       "      <th>3</th>\n",
       "      <th>4</th>\n",
       "      <th>5</th>\n",
       "    </tr>\n",
       "  </thead>\n",
       "  <tbody>\n",
       "    <tr>\n",
       "      <th>4</th>\n",
       "      <td>54</td>\n",
       "      <td>55</td>\n",
       "      <td>56</td>\n",
       "      <td>57</td>\n",
       "      <td>58</td>\n",
       "      <td>59</td>\n",
       "    </tr>\n",
       "  </tbody>\n",
       "</table>\n",
       "</div>"
      ],
      "text/plain": [
       "    0   1   2   3   4   5\n",
       "4  54  55  56  57  58  59"
      ]
     },
     "execution_count": 36,
     "metadata": {},
     "output_type": "execute_result"
    }
   ],
   "source": [
    "df.sample()"
   ]
  },
  {
   "cell_type": "code",
   "execution_count": 37,
   "metadata": {},
   "outputs": [
    {
     "data": {
      "text/html": [
       "<div>\n",
       "<style scoped>\n",
       "    .dataframe tbody tr th:only-of-type {\n",
       "        vertical-align: middle;\n",
       "    }\n",
       "\n",
       "    .dataframe tbody tr th {\n",
       "        vertical-align: top;\n",
       "    }\n",
       "\n",
       "    .dataframe thead th {\n",
       "        text-align: right;\n",
       "    }\n",
       "</style>\n",
       "<table border=\"1\" class=\"dataframe\">\n",
       "  <thead>\n",
       "    <tr style=\"text-align: right;\">\n",
       "      <th></th>\n",
       "      <th>0</th>\n",
       "      <th>1</th>\n",
       "      <th>2</th>\n",
       "      <th>3</th>\n",
       "      <th>4</th>\n",
       "      <th>5</th>\n",
       "    </tr>\n",
       "  </thead>\n",
       "  <tbody>\n",
       "    <tr>\n",
       "      <th>count</th>\n",
       "      <td>5.000000</td>\n",
       "      <td>5.000000</td>\n",
       "      <td>5.000000</td>\n",
       "      <td>5.000000</td>\n",
       "      <td>5.000000</td>\n",
       "      <td>5.000000</td>\n",
       "    </tr>\n",
       "    <tr>\n",
       "      <th>mean</th>\n",
       "      <td>42.000000</td>\n",
       "      <td>43.000000</td>\n",
       "      <td>44.000000</td>\n",
       "      <td>45.000000</td>\n",
       "      <td>46.000000</td>\n",
       "      <td>47.000000</td>\n",
       "    </tr>\n",
       "    <tr>\n",
       "      <th>std</th>\n",
       "      <td>9.486833</td>\n",
       "      <td>9.486833</td>\n",
       "      <td>9.486833</td>\n",
       "      <td>9.486833</td>\n",
       "      <td>9.486833</td>\n",
       "      <td>9.486833</td>\n",
       "    </tr>\n",
       "    <tr>\n",
       "      <th>min</th>\n",
       "      <td>30.000000</td>\n",
       "      <td>31.000000</td>\n",
       "      <td>32.000000</td>\n",
       "      <td>33.000000</td>\n",
       "      <td>34.000000</td>\n",
       "      <td>35.000000</td>\n",
       "    </tr>\n",
       "    <tr>\n",
       "      <th>25%</th>\n",
       "      <td>36.000000</td>\n",
       "      <td>37.000000</td>\n",
       "      <td>38.000000</td>\n",
       "      <td>39.000000</td>\n",
       "      <td>40.000000</td>\n",
       "      <td>41.000000</td>\n",
       "    </tr>\n",
       "    <tr>\n",
       "      <th>50%</th>\n",
       "      <td>42.000000</td>\n",
       "      <td>43.000000</td>\n",
       "      <td>44.000000</td>\n",
       "      <td>45.000000</td>\n",
       "      <td>46.000000</td>\n",
       "      <td>47.000000</td>\n",
       "    </tr>\n",
       "    <tr>\n",
       "      <th>75%</th>\n",
       "      <td>48.000000</td>\n",
       "      <td>49.000000</td>\n",
       "      <td>50.000000</td>\n",
       "      <td>51.000000</td>\n",
       "      <td>52.000000</td>\n",
       "      <td>53.000000</td>\n",
       "    </tr>\n",
       "    <tr>\n",
       "      <th>max</th>\n",
       "      <td>54.000000</td>\n",
       "      <td>55.000000</td>\n",
       "      <td>56.000000</td>\n",
       "      <td>57.000000</td>\n",
       "      <td>58.000000</td>\n",
       "      <td>59.000000</td>\n",
       "    </tr>\n",
       "  </tbody>\n",
       "</table>\n",
       "</div>"
      ],
      "text/plain": [
       "               0          1          2          3          4          5\n",
       "count   5.000000   5.000000   5.000000   5.000000   5.000000   5.000000\n",
       "mean   42.000000  43.000000  44.000000  45.000000  46.000000  47.000000\n",
       "std     9.486833   9.486833   9.486833   9.486833   9.486833   9.486833\n",
       "min    30.000000  31.000000  32.000000  33.000000  34.000000  35.000000\n",
       "25%    36.000000  37.000000  38.000000  39.000000  40.000000  41.000000\n",
       "50%    42.000000  43.000000  44.000000  45.000000  46.000000  47.000000\n",
       "75%    48.000000  49.000000  50.000000  51.000000  52.000000  53.000000\n",
       "max    54.000000  55.000000  56.000000  57.000000  58.000000  59.000000"
      ]
     },
     "execution_count": 37,
     "metadata": {},
     "output_type": "execute_result"
    }
   ],
   "source": [
    "df.describe()"
   ]
  },
  {
   "cell_type": "code",
   "execution_count": 38,
   "metadata": {},
   "outputs": [
    {
     "name": "stdout",
     "output_type": "stream",
     "text": [
      "<class 'pandas.core.frame.DataFrame'>\n",
      "RangeIndex: 5 entries, 0 to 4\n",
      "Data columns (total 6 columns):\n",
      " #   Column  Non-Null Count  Dtype\n",
      "---  ------  --------------  -----\n",
      " 0   0       5 non-null      int64\n",
      " 1   1       5 non-null      int64\n",
      " 2   2       5 non-null      int64\n",
      " 3   3       5 non-null      int64\n",
      " 4   4       5 non-null      int64\n",
      " 5   5       5 non-null      int64\n",
      "dtypes: int64(6)\n",
      "memory usage: 372.0 bytes\n"
     ]
    }
   ],
   "source": [
    "df.info()"
   ]
  },
  {
   "cell_type": "code",
   "execution_count": 54,
   "metadata": {},
   "outputs": [],
   "source": [
    "data = {\n",
    "    'App': [f'App_{i}' for i in range(1, 31)],\n",
    "    'Category': np.random.choice(['Game', 'Productivity', 'Health', 'Education'], 30),\n",
    "    'Rating': np.random.uniform(1.0, 5.0, 30).round(1),\n",
    "    'Reviews': np.random.randint(1, 10000, 30),\n",
    "    'Size': np.random.choice(['Varies with device', '10M', '20M', '30M'], 30),\n",
    "    'Installs': np.random.choice(['1,000+', '10,000+', '50,000+', '100,000+'], 30),\n",
    "    'Type': np.random.choice(['Free', 'Paid'], 30),\n",
    "    'Price': np.random.choice(['0', '0.99', '1.99', '2.99', '4.99', '5.99', '9.99'], 30),\n",
    "    'Content Rating': np.random.choice(['Everyone', 'Teen', 'Everyone 10+', 'Mature 17+'], 30)\n",
    "}"
   ]
  },
  {
   "cell_type": "code",
   "execution_count": 55,
   "metadata": {},
   "outputs": [
    {
     "data": {
      "text/plain": [
       "{'App': ['App_1',\n",
       "  'App_2',\n",
       "  'App_3',\n",
       "  'App_4',\n",
       "  'App_5',\n",
       "  'App_6',\n",
       "  'App_7',\n",
       "  'App_8',\n",
       "  'App_9',\n",
       "  'App_10',\n",
       "  'App_11',\n",
       "  'App_12',\n",
       "  'App_13',\n",
       "  'App_14',\n",
       "  'App_15',\n",
       "  'App_16',\n",
       "  'App_17',\n",
       "  'App_18',\n",
       "  'App_19',\n",
       "  'App_20',\n",
       "  'App_21',\n",
       "  'App_22',\n",
       "  'App_23',\n",
       "  'App_24',\n",
       "  'App_25',\n",
       "  'App_26',\n",
       "  'App_27',\n",
       "  'App_28',\n",
       "  'App_29',\n",
       "  'App_30'],\n",
       " 'Category': array(['Game', 'Productivity', 'Productivity', 'Productivity', 'Game',\n",
       "        'Game', 'Productivity', 'Productivity', 'Game', 'Productivity',\n",
       "        'Productivity', 'Productivity', 'Education', 'Education', 'Game',\n",
       "        'Education', 'Education', 'Game', 'Health', 'Health', 'Education',\n",
       "        'Productivity', 'Game', 'Education', 'Productivity', 'Education',\n",
       "        'Education', 'Health', 'Productivity', 'Productivity'],\n",
       "       dtype='<U12'),\n",
       " 'Rating': array([3.4, 4.2, 2. , 3.6, 4.8, 3.3, 2.9, 1.5, 1.9, 2.5, 2.1, 2.2, 4.3,\n",
       "        4. , 4.1, 3.9, 4.6, 4.1, 1.8, 4.4, 1.9, 4.3, 2.8, 2. , 3.6, 3.5,\n",
       "        3.8, 3.5, 4.5, 1.4]),\n",
       " 'Reviews': array([6537, 3641, 5175, 6715, 9801, 7833, 7968, 8162, 3138, 4065, 3877,\n",
       "         487, 3439, 6616, 5398, 7201, 6258, 8342, 6347, 1702, 8475, 7798,\n",
       "        6592, 8733, 7469, 6391, 6209, 2414, 4556, 5306], dtype=int32),\n",
       " 'Size': array(['10M', 'Varies with device', '20M', '30M', '20M',\n",
       "        'Varies with device', 'Varies with device', 'Varies with device',\n",
       "        '10M', '30M', 'Varies with device', '30M', 'Varies with device',\n",
       "        'Varies with device', 'Varies with device', '30M', '10M', '30M',\n",
       "        '20M', '30M', '20M', 'Varies with device', 'Varies with device',\n",
       "        '10M', 'Varies with device', '10M', '20M', '30M', '10M', '30M'],\n",
       "       dtype='<U18'),\n",
       " 'Installs': array(['50,000+', '50,000+', '10,000+', '1,000+', '10,000+', '50,000+',\n",
       "        '1,000+', '10,000+', '100,000+', '1,000+', '1,000+', '100,000+',\n",
       "        '50,000+', '1,000+', '50,000+', '10,000+', '50,000+', '50,000+',\n",
       "        '1,000+', '100,000+', '50,000+', '100,000+', '50,000+', '1,000+',\n",
       "        '10,000+', '100,000+', '1,000+', '50,000+', '50,000+', '50,000+'],\n",
       "       dtype='<U8'),\n",
       " 'Type': array(['Paid', 'Paid', 'Paid', 'Paid', 'Free', 'Free', 'Paid', 'Paid',\n",
       "        'Paid', 'Paid', 'Free', 'Free', 'Free', 'Free', 'Free', 'Free',\n",
       "        'Free', 'Paid', 'Free', 'Paid', 'Free', 'Paid', 'Free', 'Paid',\n",
       "        'Free', 'Paid', 'Free', 'Paid', 'Paid', 'Paid'], dtype='<U4'),\n",
       " 'Price': array(['9.99', '9.99', '4.99', '0', '1.99', '5.99', '5.99', '5.99', '0',\n",
       "        '1.99', '0.99', '0', '0', '4.99', '2.99', '9.99', '2.99', '5.99',\n",
       "        '5.99', '0', '9.99', '5.99', '0.99', '4.99', '9.99', '1.99',\n",
       "        '4.99', '0.99', '5.99', '2.99'], dtype='<U4'),\n",
       " 'Content Rating': array(['Everyone 10+', 'Everyone 10+', 'Teen', 'Everyone', 'Everyone 10+',\n",
       "        'Mature 17+', 'Everyone 10+', 'Mature 17+', 'Everyone 10+', 'Teen',\n",
       "        'Mature 17+', 'Teen', 'Teen', 'Teen', 'Teen', 'Everyone',\n",
       "        'Everyone', 'Everyone 10+', 'Mature 17+', 'Teen', 'Everyone',\n",
       "        'Everyone', 'Everyone', 'Teen', 'Everyone', 'Teen', 'Mature 17+',\n",
       "        'Everyone', 'Everyone 10+', 'Mature 17+'], dtype='<U12')}"
      ]
     },
     "execution_count": 55,
     "metadata": {},
     "output_type": "execute_result"
    }
   ],
   "source": [
    "data"
   ]
  },
  {
   "cell_type": "code",
   "execution_count": 56,
   "metadata": {},
   "outputs": [
    {
     "data": {
      "text/html": [
       "<div>\n",
       "<style scoped>\n",
       "    .dataframe tbody tr th:only-of-type {\n",
       "        vertical-align: middle;\n",
       "    }\n",
       "\n",
       "    .dataframe tbody tr th {\n",
       "        vertical-align: top;\n",
       "    }\n",
       "\n",
       "    .dataframe thead th {\n",
       "        text-align: right;\n",
       "    }\n",
       "</style>\n",
       "<table border=\"1\" class=\"dataframe\">\n",
       "  <thead>\n",
       "    <tr style=\"text-align: right;\">\n",
       "      <th></th>\n",
       "      <th>App</th>\n",
       "      <th>Category</th>\n",
       "      <th>Rating</th>\n",
       "      <th>Reviews</th>\n",
       "      <th>Size</th>\n",
       "      <th>Installs</th>\n",
       "      <th>Type</th>\n",
       "      <th>Price</th>\n",
       "      <th>Content Rating</th>\n",
       "    </tr>\n",
       "  </thead>\n",
       "  <tbody>\n",
       "    <tr>\n",
       "      <th>0</th>\n",
       "      <td>App_1</td>\n",
       "      <td>Game</td>\n",
       "      <td>3.4</td>\n",
       "      <td>6537</td>\n",
       "      <td>10M</td>\n",
       "      <td>50,000+</td>\n",
       "      <td>Paid</td>\n",
       "      <td>9.99</td>\n",
       "      <td>Everyone 10+</td>\n",
       "    </tr>\n",
       "    <tr>\n",
       "      <th>1</th>\n",
       "      <td>App_2</td>\n",
       "      <td>Productivity</td>\n",
       "      <td>4.2</td>\n",
       "      <td>3641</td>\n",
       "      <td>Varies with device</td>\n",
       "      <td>50,000+</td>\n",
       "      <td>Paid</td>\n",
       "      <td>9.99</td>\n",
       "      <td>Everyone 10+</td>\n",
       "    </tr>\n",
       "    <tr>\n",
       "      <th>2</th>\n",
       "      <td>App_3</td>\n",
       "      <td>Productivity</td>\n",
       "      <td>2.0</td>\n",
       "      <td>5175</td>\n",
       "      <td>20M</td>\n",
       "      <td>10,000+</td>\n",
       "      <td>Paid</td>\n",
       "      <td>4.99</td>\n",
       "      <td>Teen</td>\n",
       "    </tr>\n",
       "    <tr>\n",
       "      <th>3</th>\n",
       "      <td>App_4</td>\n",
       "      <td>Productivity</td>\n",
       "      <td>3.6</td>\n",
       "      <td>6715</td>\n",
       "      <td>30M</td>\n",
       "      <td>1,000+</td>\n",
       "      <td>Paid</td>\n",
       "      <td>0</td>\n",
       "      <td>Everyone</td>\n",
       "    </tr>\n",
       "    <tr>\n",
       "      <th>4</th>\n",
       "      <td>App_5</td>\n",
       "      <td>Game</td>\n",
       "      <td>4.8</td>\n",
       "      <td>9801</td>\n",
       "      <td>20M</td>\n",
       "      <td>10,000+</td>\n",
       "      <td>Free</td>\n",
       "      <td>1.99</td>\n",
       "      <td>Everyone 10+</td>\n",
       "    </tr>\n",
       "    <tr>\n",
       "      <th>5</th>\n",
       "      <td>App_6</td>\n",
       "      <td>Game</td>\n",
       "      <td>3.3</td>\n",
       "      <td>7833</td>\n",
       "      <td>Varies with device</td>\n",
       "      <td>50,000+</td>\n",
       "      <td>Free</td>\n",
       "      <td>5.99</td>\n",
       "      <td>Mature 17+</td>\n",
       "    </tr>\n",
       "    <tr>\n",
       "      <th>6</th>\n",
       "      <td>App_7</td>\n",
       "      <td>Productivity</td>\n",
       "      <td>2.9</td>\n",
       "      <td>7968</td>\n",
       "      <td>Varies with device</td>\n",
       "      <td>1,000+</td>\n",
       "      <td>Paid</td>\n",
       "      <td>5.99</td>\n",
       "      <td>Everyone 10+</td>\n",
       "    </tr>\n",
       "    <tr>\n",
       "      <th>7</th>\n",
       "      <td>App_8</td>\n",
       "      <td>Productivity</td>\n",
       "      <td>1.5</td>\n",
       "      <td>8162</td>\n",
       "      <td>Varies with device</td>\n",
       "      <td>10,000+</td>\n",
       "      <td>Paid</td>\n",
       "      <td>5.99</td>\n",
       "      <td>Mature 17+</td>\n",
       "    </tr>\n",
       "    <tr>\n",
       "      <th>8</th>\n",
       "      <td>App_9</td>\n",
       "      <td>Game</td>\n",
       "      <td>1.9</td>\n",
       "      <td>3138</td>\n",
       "      <td>10M</td>\n",
       "      <td>100,000+</td>\n",
       "      <td>Paid</td>\n",
       "      <td>0</td>\n",
       "      <td>Everyone 10+</td>\n",
       "    </tr>\n",
       "    <tr>\n",
       "      <th>9</th>\n",
       "      <td>App_10</td>\n",
       "      <td>Productivity</td>\n",
       "      <td>2.5</td>\n",
       "      <td>4065</td>\n",
       "      <td>30M</td>\n",
       "      <td>1,000+</td>\n",
       "      <td>Paid</td>\n",
       "      <td>1.99</td>\n",
       "      <td>Teen</td>\n",
       "    </tr>\n",
       "    <tr>\n",
       "      <th>10</th>\n",
       "      <td>App_11</td>\n",
       "      <td>Productivity</td>\n",
       "      <td>2.1</td>\n",
       "      <td>3877</td>\n",
       "      <td>Varies with device</td>\n",
       "      <td>1,000+</td>\n",
       "      <td>Free</td>\n",
       "      <td>0.99</td>\n",
       "      <td>Mature 17+</td>\n",
       "    </tr>\n",
       "    <tr>\n",
       "      <th>11</th>\n",
       "      <td>App_12</td>\n",
       "      <td>Productivity</td>\n",
       "      <td>2.2</td>\n",
       "      <td>487</td>\n",
       "      <td>30M</td>\n",
       "      <td>100,000+</td>\n",
       "      <td>Free</td>\n",
       "      <td>0</td>\n",
       "      <td>Teen</td>\n",
       "    </tr>\n",
       "    <tr>\n",
       "      <th>12</th>\n",
       "      <td>App_13</td>\n",
       "      <td>Education</td>\n",
       "      <td>4.3</td>\n",
       "      <td>3439</td>\n",
       "      <td>Varies with device</td>\n",
       "      <td>50,000+</td>\n",
       "      <td>Free</td>\n",
       "      <td>0</td>\n",
       "      <td>Teen</td>\n",
       "    </tr>\n",
       "    <tr>\n",
       "      <th>13</th>\n",
       "      <td>App_14</td>\n",
       "      <td>Education</td>\n",
       "      <td>4.0</td>\n",
       "      <td>6616</td>\n",
       "      <td>Varies with device</td>\n",
       "      <td>1,000+</td>\n",
       "      <td>Free</td>\n",
       "      <td>4.99</td>\n",
       "      <td>Teen</td>\n",
       "    </tr>\n",
       "    <tr>\n",
       "      <th>14</th>\n",
       "      <td>App_15</td>\n",
       "      <td>Game</td>\n",
       "      <td>4.1</td>\n",
       "      <td>5398</td>\n",
       "      <td>Varies with device</td>\n",
       "      <td>50,000+</td>\n",
       "      <td>Free</td>\n",
       "      <td>2.99</td>\n",
       "      <td>Teen</td>\n",
       "    </tr>\n",
       "    <tr>\n",
       "      <th>15</th>\n",
       "      <td>App_16</td>\n",
       "      <td>Education</td>\n",
       "      <td>3.9</td>\n",
       "      <td>7201</td>\n",
       "      <td>30M</td>\n",
       "      <td>10,000+</td>\n",
       "      <td>Free</td>\n",
       "      <td>9.99</td>\n",
       "      <td>Everyone</td>\n",
       "    </tr>\n",
       "    <tr>\n",
       "      <th>16</th>\n",
       "      <td>App_17</td>\n",
       "      <td>Education</td>\n",
       "      <td>4.6</td>\n",
       "      <td>6258</td>\n",
       "      <td>10M</td>\n",
       "      <td>50,000+</td>\n",
       "      <td>Free</td>\n",
       "      <td>2.99</td>\n",
       "      <td>Everyone</td>\n",
       "    </tr>\n",
       "    <tr>\n",
       "      <th>17</th>\n",
       "      <td>App_18</td>\n",
       "      <td>Game</td>\n",
       "      <td>4.1</td>\n",
       "      <td>8342</td>\n",
       "      <td>30M</td>\n",
       "      <td>50,000+</td>\n",
       "      <td>Paid</td>\n",
       "      <td>5.99</td>\n",
       "      <td>Everyone 10+</td>\n",
       "    </tr>\n",
       "    <tr>\n",
       "      <th>18</th>\n",
       "      <td>App_19</td>\n",
       "      <td>Health</td>\n",
       "      <td>1.8</td>\n",
       "      <td>6347</td>\n",
       "      <td>20M</td>\n",
       "      <td>1,000+</td>\n",
       "      <td>Free</td>\n",
       "      <td>5.99</td>\n",
       "      <td>Mature 17+</td>\n",
       "    </tr>\n",
       "    <tr>\n",
       "      <th>19</th>\n",
       "      <td>App_20</td>\n",
       "      <td>Health</td>\n",
       "      <td>4.4</td>\n",
       "      <td>1702</td>\n",
       "      <td>30M</td>\n",
       "      <td>100,000+</td>\n",
       "      <td>Paid</td>\n",
       "      <td>0</td>\n",
       "      <td>Teen</td>\n",
       "    </tr>\n",
       "    <tr>\n",
       "      <th>20</th>\n",
       "      <td>App_21</td>\n",
       "      <td>Education</td>\n",
       "      <td>1.9</td>\n",
       "      <td>8475</td>\n",
       "      <td>20M</td>\n",
       "      <td>50,000+</td>\n",
       "      <td>Free</td>\n",
       "      <td>9.99</td>\n",
       "      <td>Everyone</td>\n",
       "    </tr>\n",
       "    <tr>\n",
       "      <th>21</th>\n",
       "      <td>App_22</td>\n",
       "      <td>Productivity</td>\n",
       "      <td>4.3</td>\n",
       "      <td>7798</td>\n",
       "      <td>Varies with device</td>\n",
       "      <td>100,000+</td>\n",
       "      <td>Paid</td>\n",
       "      <td>5.99</td>\n",
       "      <td>Everyone</td>\n",
       "    </tr>\n",
       "    <tr>\n",
       "      <th>22</th>\n",
       "      <td>App_23</td>\n",
       "      <td>Game</td>\n",
       "      <td>2.8</td>\n",
       "      <td>6592</td>\n",
       "      <td>Varies with device</td>\n",
       "      <td>50,000+</td>\n",
       "      <td>Free</td>\n",
       "      <td>0.99</td>\n",
       "      <td>Everyone</td>\n",
       "    </tr>\n",
       "    <tr>\n",
       "      <th>23</th>\n",
       "      <td>App_24</td>\n",
       "      <td>Education</td>\n",
       "      <td>2.0</td>\n",
       "      <td>8733</td>\n",
       "      <td>10M</td>\n",
       "      <td>1,000+</td>\n",
       "      <td>Paid</td>\n",
       "      <td>4.99</td>\n",
       "      <td>Teen</td>\n",
       "    </tr>\n",
       "    <tr>\n",
       "      <th>24</th>\n",
       "      <td>App_25</td>\n",
       "      <td>Productivity</td>\n",
       "      <td>3.6</td>\n",
       "      <td>7469</td>\n",
       "      <td>Varies with device</td>\n",
       "      <td>10,000+</td>\n",
       "      <td>Free</td>\n",
       "      <td>9.99</td>\n",
       "      <td>Everyone</td>\n",
       "    </tr>\n",
       "    <tr>\n",
       "      <th>25</th>\n",
       "      <td>App_26</td>\n",
       "      <td>Education</td>\n",
       "      <td>3.5</td>\n",
       "      <td>6391</td>\n",
       "      <td>10M</td>\n",
       "      <td>100,000+</td>\n",
       "      <td>Paid</td>\n",
       "      <td>1.99</td>\n",
       "      <td>Teen</td>\n",
       "    </tr>\n",
       "    <tr>\n",
       "      <th>26</th>\n",
       "      <td>App_27</td>\n",
       "      <td>Education</td>\n",
       "      <td>3.8</td>\n",
       "      <td>6209</td>\n",
       "      <td>20M</td>\n",
       "      <td>1,000+</td>\n",
       "      <td>Free</td>\n",
       "      <td>4.99</td>\n",
       "      <td>Mature 17+</td>\n",
       "    </tr>\n",
       "    <tr>\n",
       "      <th>27</th>\n",
       "      <td>App_28</td>\n",
       "      <td>Health</td>\n",
       "      <td>3.5</td>\n",
       "      <td>2414</td>\n",
       "      <td>30M</td>\n",
       "      <td>50,000+</td>\n",
       "      <td>Paid</td>\n",
       "      <td>0.99</td>\n",
       "      <td>Everyone</td>\n",
       "    </tr>\n",
       "    <tr>\n",
       "      <th>28</th>\n",
       "      <td>App_29</td>\n",
       "      <td>Productivity</td>\n",
       "      <td>4.5</td>\n",
       "      <td>4556</td>\n",
       "      <td>10M</td>\n",
       "      <td>50,000+</td>\n",
       "      <td>Paid</td>\n",
       "      <td>5.99</td>\n",
       "      <td>Everyone 10+</td>\n",
       "    </tr>\n",
       "    <tr>\n",
       "      <th>29</th>\n",
       "      <td>App_30</td>\n",
       "      <td>Productivity</td>\n",
       "      <td>1.4</td>\n",
       "      <td>5306</td>\n",
       "      <td>30M</td>\n",
       "      <td>50,000+</td>\n",
       "      <td>Paid</td>\n",
       "      <td>2.99</td>\n",
       "      <td>Mature 17+</td>\n",
       "    </tr>\n",
       "  </tbody>\n",
       "</table>\n",
       "</div>"
      ],
      "text/plain": [
       "       App      Category  Rating  Reviews                Size  Installs  Type  \\\n",
       "0    App_1          Game     3.4     6537                 10M   50,000+  Paid   \n",
       "1    App_2  Productivity     4.2     3641  Varies with device   50,000+  Paid   \n",
       "2    App_3  Productivity     2.0     5175                 20M   10,000+  Paid   \n",
       "3    App_4  Productivity     3.6     6715                 30M    1,000+  Paid   \n",
       "4    App_5          Game     4.8     9801                 20M   10,000+  Free   \n",
       "5    App_6          Game     3.3     7833  Varies with device   50,000+  Free   \n",
       "6    App_7  Productivity     2.9     7968  Varies with device    1,000+  Paid   \n",
       "7    App_8  Productivity     1.5     8162  Varies with device   10,000+  Paid   \n",
       "8    App_9          Game     1.9     3138                 10M  100,000+  Paid   \n",
       "9   App_10  Productivity     2.5     4065                 30M    1,000+  Paid   \n",
       "10  App_11  Productivity     2.1     3877  Varies with device    1,000+  Free   \n",
       "11  App_12  Productivity     2.2      487                 30M  100,000+  Free   \n",
       "12  App_13     Education     4.3     3439  Varies with device   50,000+  Free   \n",
       "13  App_14     Education     4.0     6616  Varies with device    1,000+  Free   \n",
       "14  App_15          Game     4.1     5398  Varies with device   50,000+  Free   \n",
       "15  App_16     Education     3.9     7201                 30M   10,000+  Free   \n",
       "16  App_17     Education     4.6     6258                 10M   50,000+  Free   \n",
       "17  App_18          Game     4.1     8342                 30M   50,000+  Paid   \n",
       "18  App_19        Health     1.8     6347                 20M    1,000+  Free   \n",
       "19  App_20        Health     4.4     1702                 30M  100,000+  Paid   \n",
       "20  App_21     Education     1.9     8475                 20M   50,000+  Free   \n",
       "21  App_22  Productivity     4.3     7798  Varies with device  100,000+  Paid   \n",
       "22  App_23          Game     2.8     6592  Varies with device   50,000+  Free   \n",
       "23  App_24     Education     2.0     8733                 10M    1,000+  Paid   \n",
       "24  App_25  Productivity     3.6     7469  Varies with device   10,000+  Free   \n",
       "25  App_26     Education     3.5     6391                 10M  100,000+  Paid   \n",
       "26  App_27     Education     3.8     6209                 20M    1,000+  Free   \n",
       "27  App_28        Health     3.5     2414                 30M   50,000+  Paid   \n",
       "28  App_29  Productivity     4.5     4556                 10M   50,000+  Paid   \n",
       "29  App_30  Productivity     1.4     5306                 30M   50,000+  Paid   \n",
       "\n",
       "   Price Content Rating  \n",
       "0   9.99   Everyone 10+  \n",
       "1   9.99   Everyone 10+  \n",
       "2   4.99           Teen  \n",
       "3      0       Everyone  \n",
       "4   1.99   Everyone 10+  \n",
       "5   5.99     Mature 17+  \n",
       "6   5.99   Everyone 10+  \n",
       "7   5.99     Mature 17+  \n",
       "8      0   Everyone 10+  \n",
       "9   1.99           Teen  \n",
       "10  0.99     Mature 17+  \n",
       "11     0           Teen  \n",
       "12     0           Teen  \n",
       "13  4.99           Teen  \n",
       "14  2.99           Teen  \n",
       "15  9.99       Everyone  \n",
       "16  2.99       Everyone  \n",
       "17  5.99   Everyone 10+  \n",
       "18  5.99     Mature 17+  \n",
       "19     0           Teen  \n",
       "20  9.99       Everyone  \n",
       "21  5.99       Everyone  \n",
       "22  0.99       Everyone  \n",
       "23  4.99           Teen  \n",
       "24  9.99       Everyone  \n",
       "25  1.99           Teen  \n",
       "26  4.99     Mature 17+  \n",
       "27  0.99       Everyone  \n",
       "28  5.99   Everyone 10+  \n",
       "29  2.99     Mature 17+  "
      ]
     },
     "execution_count": 56,
     "metadata": {},
     "output_type": "execute_result"
    }
   ],
   "source": [
    "df = pd.DataFrame(data)\n",
    "df"
   ]
  },
  {
   "cell_type": "code",
   "execution_count": 58,
   "metadata": {},
   "outputs": [
    {
     "data": {
      "text/plain": [
       "pandas.core.series.Series"
      ]
     },
     "execution_count": 58,
     "metadata": {},
     "output_type": "execute_result"
    }
   ],
   "source": [
    "type(df.App)"
   ]
  },
  {
   "cell_type": "code",
   "execution_count": 59,
   "metadata": {},
   "outputs": [
    {
     "data": {
      "text/html": [
       "<div>\n",
       "<style scoped>\n",
       "    .dataframe tbody tr th:only-of-type {\n",
       "        vertical-align: middle;\n",
       "    }\n",
       "\n",
       "    .dataframe tbody tr th {\n",
       "        vertical-align: top;\n",
       "    }\n",
       "\n",
       "    .dataframe thead th {\n",
       "        text-align: right;\n",
       "    }\n",
       "</style>\n",
       "<table border=\"1\" class=\"dataframe\">\n",
       "  <thead>\n",
       "    <tr style=\"text-align: right;\">\n",
       "      <th></th>\n",
       "      <th>App</th>\n",
       "      <th>Category</th>\n",
       "      <th>Rating</th>\n",
       "      <th>Reviews</th>\n",
       "      <th>Size</th>\n",
       "      <th>Installs</th>\n",
       "      <th>Type</th>\n",
       "      <th>Price</th>\n",
       "      <th>Content Rating</th>\n",
       "    </tr>\n",
       "  </thead>\n",
       "  <tbody>\n",
       "    <tr>\n",
       "      <th>0</th>\n",
       "      <td>App_1</td>\n",
       "      <td>Game</td>\n",
       "      <td>3.4</td>\n",
       "      <td>6537</td>\n",
       "      <td>10M</td>\n",
       "      <td>50,000+</td>\n",
       "      <td>Paid</td>\n",
       "      <td>9.99</td>\n",
       "      <td>Everyone 10+</td>\n",
       "    </tr>\n",
       "    <tr>\n",
       "      <th>1</th>\n",
       "      <td>App_2</td>\n",
       "      <td>Productivity</td>\n",
       "      <td>4.2</td>\n",
       "      <td>3641</td>\n",
       "      <td>Varies with device</td>\n",
       "      <td>50,000+</td>\n",
       "      <td>Paid</td>\n",
       "      <td>9.99</td>\n",
       "      <td>Everyone 10+</td>\n",
       "    </tr>\n",
       "    <tr>\n",
       "      <th>2</th>\n",
       "      <td>App_3</td>\n",
       "      <td>Productivity</td>\n",
       "      <td>2.0</td>\n",
       "      <td>5175</td>\n",
       "      <td>20M</td>\n",
       "      <td>10,000+</td>\n",
       "      <td>Paid</td>\n",
       "      <td>4.99</td>\n",
       "      <td>Teen</td>\n",
       "    </tr>\n",
       "    <tr>\n",
       "      <th>3</th>\n",
       "      <td>App_4</td>\n",
       "      <td>Productivity</td>\n",
       "      <td>3.6</td>\n",
       "      <td>6715</td>\n",
       "      <td>30M</td>\n",
       "      <td>1,000+</td>\n",
       "      <td>Paid</td>\n",
       "      <td>0</td>\n",
       "      <td>Everyone</td>\n",
       "    </tr>\n",
       "    <tr>\n",
       "      <th>4</th>\n",
       "      <td>App_5</td>\n",
       "      <td>Game</td>\n",
       "      <td>4.8</td>\n",
       "      <td>9801</td>\n",
       "      <td>20M</td>\n",
       "      <td>10,000+</td>\n",
       "      <td>Free</td>\n",
       "      <td>1.99</td>\n",
       "      <td>Everyone 10+</td>\n",
       "    </tr>\n",
       "  </tbody>\n",
       "</table>\n",
       "</div>"
      ],
      "text/plain": [
       "     App      Category  Rating  Reviews                Size Installs  Type  \\\n",
       "0  App_1          Game     3.4     6537                 10M  50,000+  Paid   \n",
       "1  App_2  Productivity     4.2     3641  Varies with device  50,000+  Paid   \n",
       "2  App_3  Productivity     2.0     5175                 20M  10,000+  Paid   \n",
       "3  App_4  Productivity     3.6     6715                 30M   1,000+  Paid   \n",
       "4  App_5          Game     4.8     9801                 20M  10,000+  Free   \n",
       "\n",
       "  Price Content Rating  \n",
       "0  9.99   Everyone 10+  \n",
       "1  9.99   Everyone 10+  \n",
       "2  4.99           Teen  \n",
       "3     0       Everyone  \n",
       "4  1.99   Everyone 10+  "
      ]
     },
     "execution_count": 59,
     "metadata": {},
     "output_type": "execute_result"
    }
   ],
   "source": [
    "df.head()"
   ]
  },
  {
   "cell_type": "code",
   "execution_count": 60,
   "metadata": {},
   "outputs": [
    {
     "data": {
      "text/html": [
       "<div>\n",
       "<style scoped>\n",
       "    .dataframe tbody tr th:only-of-type {\n",
       "        vertical-align: middle;\n",
       "    }\n",
       "\n",
       "    .dataframe tbody tr th {\n",
       "        vertical-align: top;\n",
       "    }\n",
       "\n",
       "    .dataframe thead th {\n",
       "        text-align: right;\n",
       "    }\n",
       "</style>\n",
       "<table border=\"1\" class=\"dataframe\">\n",
       "  <thead>\n",
       "    <tr style=\"text-align: right;\">\n",
       "      <th></th>\n",
       "      <th>App</th>\n",
       "      <th>Category</th>\n",
       "      <th>Rating</th>\n",
       "      <th>Reviews</th>\n",
       "      <th>Size</th>\n",
       "      <th>Installs</th>\n",
       "      <th>Type</th>\n",
       "      <th>Price</th>\n",
       "      <th>Content Rating</th>\n",
       "    </tr>\n",
       "  </thead>\n",
       "  <tbody>\n",
       "    <tr>\n",
       "      <th>25</th>\n",
       "      <td>App_26</td>\n",
       "      <td>Education</td>\n",
       "      <td>3.5</td>\n",
       "      <td>6391</td>\n",
       "      <td>10M</td>\n",
       "      <td>100,000+</td>\n",
       "      <td>Paid</td>\n",
       "      <td>1.99</td>\n",
       "      <td>Teen</td>\n",
       "    </tr>\n",
       "    <tr>\n",
       "      <th>26</th>\n",
       "      <td>App_27</td>\n",
       "      <td>Education</td>\n",
       "      <td>3.8</td>\n",
       "      <td>6209</td>\n",
       "      <td>20M</td>\n",
       "      <td>1,000+</td>\n",
       "      <td>Free</td>\n",
       "      <td>4.99</td>\n",
       "      <td>Mature 17+</td>\n",
       "    </tr>\n",
       "    <tr>\n",
       "      <th>27</th>\n",
       "      <td>App_28</td>\n",
       "      <td>Health</td>\n",
       "      <td>3.5</td>\n",
       "      <td>2414</td>\n",
       "      <td>30M</td>\n",
       "      <td>50,000+</td>\n",
       "      <td>Paid</td>\n",
       "      <td>0.99</td>\n",
       "      <td>Everyone</td>\n",
       "    </tr>\n",
       "    <tr>\n",
       "      <th>28</th>\n",
       "      <td>App_29</td>\n",
       "      <td>Productivity</td>\n",
       "      <td>4.5</td>\n",
       "      <td>4556</td>\n",
       "      <td>10M</td>\n",
       "      <td>50,000+</td>\n",
       "      <td>Paid</td>\n",
       "      <td>5.99</td>\n",
       "      <td>Everyone 10+</td>\n",
       "    </tr>\n",
       "    <tr>\n",
       "      <th>29</th>\n",
       "      <td>App_30</td>\n",
       "      <td>Productivity</td>\n",
       "      <td>1.4</td>\n",
       "      <td>5306</td>\n",
       "      <td>30M</td>\n",
       "      <td>50,000+</td>\n",
       "      <td>Paid</td>\n",
       "      <td>2.99</td>\n",
       "      <td>Mature 17+</td>\n",
       "    </tr>\n",
       "  </tbody>\n",
       "</table>\n",
       "</div>"
      ],
      "text/plain": [
       "       App      Category  Rating  Reviews Size  Installs  Type Price  \\\n",
       "25  App_26     Education     3.5     6391  10M  100,000+  Paid  1.99   \n",
       "26  App_27     Education     3.8     6209  20M    1,000+  Free  4.99   \n",
       "27  App_28        Health     3.5     2414  30M   50,000+  Paid  0.99   \n",
       "28  App_29  Productivity     4.5     4556  10M   50,000+  Paid  5.99   \n",
       "29  App_30  Productivity     1.4     5306  30M   50,000+  Paid  2.99   \n",
       "\n",
       "   Content Rating  \n",
       "25           Teen  \n",
       "26     Mature 17+  \n",
       "27       Everyone  \n",
       "28   Everyone 10+  \n",
       "29     Mature 17+  "
      ]
     },
     "execution_count": 60,
     "metadata": {},
     "output_type": "execute_result"
    }
   ],
   "source": [
    "df.tail()"
   ]
  },
  {
   "cell_type": "code",
   "execution_count": 62,
   "metadata": {},
   "outputs": [
    {
     "name": "stdout",
     "output_type": "stream",
     "text": [
      "<class 'pandas.core.frame.DataFrame'>\n",
      "RangeIndex: 30 entries, 0 to 29\n",
      "Data columns (total 9 columns):\n",
      " #   Column          Non-Null Count  Dtype  \n",
      "---  ------          --------------  -----  \n",
      " 0   App             30 non-null     object \n",
      " 1   Category        30 non-null     object \n",
      " 2   Rating          30 non-null     float64\n",
      " 3   Reviews         30 non-null     int32  \n",
      " 4   Size            30 non-null     object \n",
      " 5   Installs        30 non-null     object \n",
      " 6   Type            30 non-null     object \n",
      " 7   Price           30 non-null     object \n",
      " 8   Content Rating  30 non-null     object \n",
      "dtypes: float64(1), int32(1), object(7)\n",
      "memory usage: 2.1+ KB\n"
     ]
    }
   ],
   "source": [
    "df.info()"
   ]
  },
  {
   "cell_type": "code",
   "execution_count": 64,
   "metadata": {},
   "outputs": [
    {
     "data": {
      "text/html": [
       "<div>\n",
       "<style scoped>\n",
       "    .dataframe tbody tr th:only-of-type {\n",
       "        vertical-align: middle;\n",
       "    }\n",
       "\n",
       "    .dataframe tbody tr th {\n",
       "        vertical-align: top;\n",
       "    }\n",
       "\n",
       "    .dataframe thead th {\n",
       "        text-align: right;\n",
       "    }\n",
       "</style>\n",
       "<table border=\"1\" class=\"dataframe\">\n",
       "  <thead>\n",
       "    <tr style=\"text-align: right;\">\n",
       "      <th></th>\n",
       "      <th>App</th>\n",
       "      <th>Category</th>\n",
       "      <th>Rating</th>\n",
       "      <th>Reviews</th>\n",
       "      <th>Size</th>\n",
       "      <th>Installs</th>\n",
       "      <th>Type</th>\n",
       "      <th>Price</th>\n",
       "      <th>Content Rating</th>\n",
       "    </tr>\n",
       "  </thead>\n",
       "  <tbody>\n",
       "    <tr>\n",
       "      <th>3</th>\n",
       "      <td>App_4</td>\n",
       "      <td>Productivity</td>\n",
       "      <td>3.6</td>\n",
       "      <td>6715</td>\n",
       "      <td>30M</td>\n",
       "      <td>1,000+</td>\n",
       "      <td>Paid</td>\n",
       "      <td>0</td>\n",
       "      <td>Everyone</td>\n",
       "    </tr>\n",
       "  </tbody>\n",
       "</table>\n",
       "</div>"
      ],
      "text/plain": [
       "     App      Category  Rating  Reviews Size Installs  Type Price  \\\n",
       "3  App_4  Productivity     3.6     6715  30M   1,000+  Paid     0   \n",
       "\n",
       "  Content Rating  \n",
       "3       Everyone  "
      ]
     },
     "execution_count": 64,
     "metadata": {},
     "output_type": "execute_result"
    }
   ],
   "source": [
    "df.sample()"
   ]
  },
  {
   "cell_type": "code",
   "execution_count": 67,
   "metadata": {},
   "outputs": [
    {
     "data": {
      "text/plain": [
       "0     9.99\n",
       "1     9.99\n",
       "2     4.99\n",
       "3        0\n",
       "4     1.99\n",
       "5     5.99\n",
       "6     5.99\n",
       "7     5.99\n",
       "8        0\n",
       "9     1.99\n",
       "10    0.99\n",
       "11       0\n",
       "12       0\n",
       "13    4.99\n",
       "14    2.99\n",
       "15    9.99\n",
       "16    2.99\n",
       "17    5.99\n",
       "18    5.99\n",
       "19       0\n",
       "20    9.99\n",
       "21    5.99\n",
       "22    0.99\n",
       "23    4.99\n",
       "24    9.99\n",
       "25    1.99\n",
       "26    4.99\n",
       "27    0.99\n",
       "28    5.99\n",
       "29    2.99\n",
       "Name: Price, dtype: object"
      ]
     },
     "execution_count": 67,
     "metadata": {},
     "output_type": "execute_result"
    }
   ],
   "source": [
    "df.Price"
   ]
  },
  {
   "cell_type": "code",
   "execution_count": 69,
   "metadata": {},
   "outputs": [
    {
     "data": {
      "text/html": [
       "<div>\n",
       "<style scoped>\n",
       "    .dataframe tbody tr th:only-of-type {\n",
       "        vertical-align: middle;\n",
       "    }\n",
       "\n",
       "    .dataframe tbody tr th {\n",
       "        vertical-align: top;\n",
       "    }\n",
       "\n",
       "    .dataframe thead th {\n",
       "        text-align: right;\n",
       "    }\n",
       "</style>\n",
       "<table border=\"1\" class=\"dataframe\">\n",
       "  <thead>\n",
       "    <tr style=\"text-align: right;\">\n",
       "      <th></th>\n",
       "      <th>App</th>\n",
       "      <th>Price</th>\n",
       "      <th>Size</th>\n",
       "    </tr>\n",
       "  </thead>\n",
       "  <tbody>\n",
       "    <tr>\n",
       "      <th>0</th>\n",
       "      <td>App_1</td>\n",
       "      <td>9.99</td>\n",
       "      <td>10M</td>\n",
       "    </tr>\n",
       "    <tr>\n",
       "      <th>1</th>\n",
       "      <td>App_2</td>\n",
       "      <td>9.99</td>\n",
       "      <td>Varies with device</td>\n",
       "    </tr>\n",
       "    <tr>\n",
       "      <th>2</th>\n",
       "      <td>App_3</td>\n",
       "      <td>4.99</td>\n",
       "      <td>20M</td>\n",
       "    </tr>\n",
       "    <tr>\n",
       "      <th>3</th>\n",
       "      <td>App_4</td>\n",
       "      <td>0</td>\n",
       "      <td>30M</td>\n",
       "    </tr>\n",
       "    <tr>\n",
       "      <th>4</th>\n",
       "      <td>App_5</td>\n",
       "      <td>1.99</td>\n",
       "      <td>20M</td>\n",
       "    </tr>\n",
       "    <tr>\n",
       "      <th>5</th>\n",
       "      <td>App_6</td>\n",
       "      <td>5.99</td>\n",
       "      <td>Varies with device</td>\n",
       "    </tr>\n",
       "    <tr>\n",
       "      <th>6</th>\n",
       "      <td>App_7</td>\n",
       "      <td>5.99</td>\n",
       "      <td>Varies with device</td>\n",
       "    </tr>\n",
       "    <tr>\n",
       "      <th>7</th>\n",
       "      <td>App_8</td>\n",
       "      <td>5.99</td>\n",
       "      <td>Varies with device</td>\n",
       "    </tr>\n",
       "    <tr>\n",
       "      <th>8</th>\n",
       "      <td>App_9</td>\n",
       "      <td>0</td>\n",
       "      <td>10M</td>\n",
       "    </tr>\n",
       "    <tr>\n",
       "      <th>9</th>\n",
       "      <td>App_10</td>\n",
       "      <td>1.99</td>\n",
       "      <td>30M</td>\n",
       "    </tr>\n",
       "    <tr>\n",
       "      <th>10</th>\n",
       "      <td>App_11</td>\n",
       "      <td>0.99</td>\n",
       "      <td>Varies with device</td>\n",
       "    </tr>\n",
       "    <tr>\n",
       "      <th>11</th>\n",
       "      <td>App_12</td>\n",
       "      <td>0</td>\n",
       "      <td>30M</td>\n",
       "    </tr>\n",
       "    <tr>\n",
       "      <th>12</th>\n",
       "      <td>App_13</td>\n",
       "      <td>0</td>\n",
       "      <td>Varies with device</td>\n",
       "    </tr>\n",
       "    <tr>\n",
       "      <th>13</th>\n",
       "      <td>App_14</td>\n",
       "      <td>4.99</td>\n",
       "      <td>Varies with device</td>\n",
       "    </tr>\n",
       "    <tr>\n",
       "      <th>14</th>\n",
       "      <td>App_15</td>\n",
       "      <td>2.99</td>\n",
       "      <td>Varies with device</td>\n",
       "    </tr>\n",
       "    <tr>\n",
       "      <th>15</th>\n",
       "      <td>App_16</td>\n",
       "      <td>9.99</td>\n",
       "      <td>30M</td>\n",
       "    </tr>\n",
       "    <tr>\n",
       "      <th>16</th>\n",
       "      <td>App_17</td>\n",
       "      <td>2.99</td>\n",
       "      <td>10M</td>\n",
       "    </tr>\n",
       "    <tr>\n",
       "      <th>17</th>\n",
       "      <td>App_18</td>\n",
       "      <td>5.99</td>\n",
       "      <td>30M</td>\n",
       "    </tr>\n",
       "    <tr>\n",
       "      <th>18</th>\n",
       "      <td>App_19</td>\n",
       "      <td>5.99</td>\n",
       "      <td>20M</td>\n",
       "    </tr>\n",
       "    <tr>\n",
       "      <th>19</th>\n",
       "      <td>App_20</td>\n",
       "      <td>0</td>\n",
       "      <td>30M</td>\n",
       "    </tr>\n",
       "    <tr>\n",
       "      <th>20</th>\n",
       "      <td>App_21</td>\n",
       "      <td>9.99</td>\n",
       "      <td>20M</td>\n",
       "    </tr>\n",
       "    <tr>\n",
       "      <th>21</th>\n",
       "      <td>App_22</td>\n",
       "      <td>5.99</td>\n",
       "      <td>Varies with device</td>\n",
       "    </tr>\n",
       "    <tr>\n",
       "      <th>22</th>\n",
       "      <td>App_23</td>\n",
       "      <td>0.99</td>\n",
       "      <td>Varies with device</td>\n",
       "    </tr>\n",
       "    <tr>\n",
       "      <th>23</th>\n",
       "      <td>App_24</td>\n",
       "      <td>4.99</td>\n",
       "      <td>10M</td>\n",
       "    </tr>\n",
       "    <tr>\n",
       "      <th>24</th>\n",
       "      <td>App_25</td>\n",
       "      <td>9.99</td>\n",
       "      <td>Varies with device</td>\n",
       "    </tr>\n",
       "    <tr>\n",
       "      <th>25</th>\n",
       "      <td>App_26</td>\n",
       "      <td>1.99</td>\n",
       "      <td>10M</td>\n",
       "    </tr>\n",
       "    <tr>\n",
       "      <th>26</th>\n",
       "      <td>App_27</td>\n",
       "      <td>4.99</td>\n",
       "      <td>20M</td>\n",
       "    </tr>\n",
       "    <tr>\n",
       "      <th>27</th>\n",
       "      <td>App_28</td>\n",
       "      <td>0.99</td>\n",
       "      <td>30M</td>\n",
       "    </tr>\n",
       "    <tr>\n",
       "      <th>28</th>\n",
       "      <td>App_29</td>\n",
       "      <td>5.99</td>\n",
       "      <td>10M</td>\n",
       "    </tr>\n",
       "    <tr>\n",
       "      <th>29</th>\n",
       "      <td>App_30</td>\n",
       "      <td>2.99</td>\n",
       "      <td>30M</td>\n",
       "    </tr>\n",
       "  </tbody>\n",
       "</table>\n",
       "</div>"
      ],
      "text/plain": [
       "       App Price                Size\n",
       "0    App_1  9.99                 10M\n",
       "1    App_2  9.99  Varies with device\n",
       "2    App_3  4.99                 20M\n",
       "3    App_4     0                 30M\n",
       "4    App_5  1.99                 20M\n",
       "5    App_6  5.99  Varies with device\n",
       "6    App_7  5.99  Varies with device\n",
       "7    App_8  5.99  Varies with device\n",
       "8    App_9     0                 10M\n",
       "9   App_10  1.99                 30M\n",
       "10  App_11  0.99  Varies with device\n",
       "11  App_12     0                 30M\n",
       "12  App_13     0  Varies with device\n",
       "13  App_14  4.99  Varies with device\n",
       "14  App_15  2.99  Varies with device\n",
       "15  App_16  9.99                 30M\n",
       "16  App_17  2.99                 10M\n",
       "17  App_18  5.99                 30M\n",
       "18  App_19  5.99                 20M\n",
       "19  App_20     0                 30M\n",
       "20  App_21  9.99                 20M\n",
       "21  App_22  5.99  Varies with device\n",
       "22  App_23  0.99  Varies with device\n",
       "23  App_24  4.99                 10M\n",
       "24  App_25  9.99  Varies with device\n",
       "25  App_26  1.99                 10M\n",
       "26  App_27  4.99                 20M\n",
       "27  App_28  0.99                 30M\n",
       "28  App_29  5.99                 10M\n",
       "29  App_30  2.99                 30M"
      ]
     },
     "execution_count": 69,
     "metadata": {},
     "output_type": "execute_result"
    }
   ],
   "source": [
    "df[['App','Price','Size']]"
   ]
  },
  {
   "cell_type": "code",
   "execution_count": 70,
   "metadata": {},
   "outputs": [
    {
     "data": {
      "text/html": [
       "<div>\n",
       "<style scoped>\n",
       "    .dataframe tbody tr th:only-of-type {\n",
       "        vertical-align: middle;\n",
       "    }\n",
       "\n",
       "    .dataframe tbody tr th {\n",
       "        vertical-align: top;\n",
       "    }\n",
       "\n",
       "    .dataframe thead th {\n",
       "        text-align: right;\n",
       "    }\n",
       "</style>\n",
       "<table border=\"1\" class=\"dataframe\">\n",
       "  <thead>\n",
       "    <tr style=\"text-align: right;\">\n",
       "      <th></th>\n",
       "      <th>Rating</th>\n",
       "      <th>Reviews</th>\n",
       "    </tr>\n",
       "  </thead>\n",
       "  <tbody>\n",
       "    <tr>\n",
       "      <th>count</th>\n",
       "      <td>30.000000</td>\n",
       "      <td>30.000000</td>\n",
       "    </tr>\n",
       "    <tr>\n",
       "      <th>mean</th>\n",
       "      <td>3.230000</td>\n",
       "      <td>5888.166667</td>\n",
       "    </tr>\n",
       "    <tr>\n",
       "      <th>std</th>\n",
       "      <td>1.050501</td>\n",
       "      <td>2256.842623</td>\n",
       "    </tr>\n",
       "    <tr>\n",
       "      <th>min</th>\n",
       "      <td>1.400000</td>\n",
       "      <td>487.000000</td>\n",
       "    </tr>\n",
       "    <tr>\n",
       "      <th>25%</th>\n",
       "      <td>2.125000</td>\n",
       "      <td>4187.750000</td>\n",
       "    </tr>\n",
       "    <tr>\n",
       "      <th>50%</th>\n",
       "      <td>3.500000</td>\n",
       "      <td>6369.000000</td>\n",
       "    </tr>\n",
       "    <tr>\n",
       "      <th>75%</th>\n",
       "      <td>4.100000</td>\n",
       "      <td>7715.750000</td>\n",
       "    </tr>\n",
       "    <tr>\n",
       "      <th>max</th>\n",
       "      <td>4.800000</td>\n",
       "      <td>9801.000000</td>\n",
       "    </tr>\n",
       "  </tbody>\n",
       "</table>\n",
       "</div>"
      ],
      "text/plain": [
       "          Rating      Reviews\n",
       "count  30.000000    30.000000\n",
       "mean    3.230000  5888.166667\n",
       "std     1.050501  2256.842623\n",
       "min     1.400000   487.000000\n",
       "25%     2.125000  4187.750000\n",
       "50%     3.500000  6369.000000\n",
       "75%     4.100000  7715.750000\n",
       "max     4.800000  9801.000000"
      ]
     },
     "execution_count": 70,
     "metadata": {},
     "output_type": "execute_result"
    }
   ],
   "source": [
    "df.describe()"
   ]
  },
  {
   "cell_type": "code",
   "execution_count": 72,
   "metadata": {},
   "outputs": [
    {
     "data": {
      "text/plain": [
       "(30, 9)"
      ]
     },
     "execution_count": 72,
     "metadata": {},
     "output_type": "execute_result"
    }
   ],
   "source": [
    "df.shape"
   ]
  },
  {
   "cell_type": "code",
   "execution_count": 74,
   "metadata": {},
   "outputs": [
    {
     "data": {
      "text/plain": [
       "array(['10M', 'Varies with device', '20M', '30M'], dtype=object)"
      ]
     },
     "execution_count": 74,
     "metadata": {},
     "output_type": "execute_result"
    }
   ],
   "source": [
    "df['Size'].unique()"
   ]
  },
  {
   "cell_type": "code",
   "execution_count": 76,
   "metadata": {},
   "outputs": [
    {
     "data": {
      "text/plain": [
       "array([6537, 3641, 5175, 6715, 9801, 7833, 7968, 8162, 3138, 4065, 3877,\n",
       "        487, 3439, 6616, 5398, 7201, 6258, 8342, 6347, 1702, 8475, 7798,\n",
       "       6592, 8733, 7469, 6391, 6209, 2414, 4556, 5306], dtype=int32)"
      ]
     },
     "execution_count": 76,
     "metadata": {},
     "output_type": "execute_result"
    }
   ],
   "source": [
    "df['Reviews'].unique()"
   ]
  },
  {
   "cell_type": "code",
   "execution_count": 77,
   "metadata": {},
   "outputs": [
    {
     "data": {
      "text/plain": [
       "array(['50,000+', '10,000+', '1,000+', '100,000+'], dtype=object)"
      ]
     },
     "execution_count": 77,
     "metadata": {},
     "output_type": "execute_result"
    }
   ],
   "source": [
    "df['Installs'].unique()"
   ]
  },
  {
   "cell_type": "code",
   "execution_count": 78,
   "metadata": {},
   "outputs": [
    {
     "data": {
      "text/html": [
       "<div>\n",
       "<style scoped>\n",
       "    .dataframe tbody tr th:only-of-type {\n",
       "        vertical-align: middle;\n",
       "    }\n",
       "\n",
       "    .dataframe tbody tr th {\n",
       "        vertical-align: top;\n",
       "    }\n",
       "\n",
       "    .dataframe thead th {\n",
       "        text-align: right;\n",
       "    }\n",
       "</style>\n",
       "<table border=\"1\" class=\"dataframe\">\n",
       "  <thead>\n",
       "    <tr style=\"text-align: right;\">\n",
       "      <th></th>\n",
       "      <th>App</th>\n",
       "      <th>Category</th>\n",
       "      <th>Rating</th>\n",
       "      <th>Reviews</th>\n",
       "      <th>Size</th>\n",
       "      <th>Installs</th>\n",
       "      <th>Type</th>\n",
       "      <th>Price</th>\n",
       "      <th>Content Rating</th>\n",
       "    </tr>\n",
       "  </thead>\n",
       "  <tbody>\n",
       "    <tr>\n",
       "      <th>0</th>\n",
       "      <td>False</td>\n",
       "      <td>False</td>\n",
       "      <td>False</td>\n",
       "      <td>False</td>\n",
       "      <td>False</td>\n",
       "      <td>False</td>\n",
       "      <td>False</td>\n",
       "      <td>False</td>\n",
       "      <td>False</td>\n",
       "    </tr>\n",
       "    <tr>\n",
       "      <th>1</th>\n",
       "      <td>False</td>\n",
       "      <td>False</td>\n",
       "      <td>False</td>\n",
       "      <td>False</td>\n",
       "      <td>False</td>\n",
       "      <td>False</td>\n",
       "      <td>False</td>\n",
       "      <td>False</td>\n",
       "      <td>False</td>\n",
       "    </tr>\n",
       "    <tr>\n",
       "      <th>2</th>\n",
       "      <td>False</td>\n",
       "      <td>False</td>\n",
       "      <td>False</td>\n",
       "      <td>False</td>\n",
       "      <td>False</td>\n",
       "      <td>False</td>\n",
       "      <td>False</td>\n",
       "      <td>False</td>\n",
       "      <td>False</td>\n",
       "    </tr>\n",
       "    <tr>\n",
       "      <th>3</th>\n",
       "      <td>False</td>\n",
       "      <td>False</td>\n",
       "      <td>False</td>\n",
       "      <td>False</td>\n",
       "      <td>False</td>\n",
       "      <td>False</td>\n",
       "      <td>False</td>\n",
       "      <td>False</td>\n",
       "      <td>False</td>\n",
       "    </tr>\n",
       "    <tr>\n",
       "      <th>4</th>\n",
       "      <td>False</td>\n",
       "      <td>False</td>\n",
       "      <td>False</td>\n",
       "      <td>False</td>\n",
       "      <td>False</td>\n",
       "      <td>False</td>\n",
       "      <td>False</td>\n",
       "      <td>False</td>\n",
       "      <td>False</td>\n",
       "    </tr>\n",
       "    <tr>\n",
       "      <th>5</th>\n",
       "      <td>False</td>\n",
       "      <td>False</td>\n",
       "      <td>False</td>\n",
       "      <td>False</td>\n",
       "      <td>False</td>\n",
       "      <td>False</td>\n",
       "      <td>False</td>\n",
       "      <td>False</td>\n",
       "      <td>False</td>\n",
       "    </tr>\n",
       "    <tr>\n",
       "      <th>6</th>\n",
       "      <td>False</td>\n",
       "      <td>False</td>\n",
       "      <td>False</td>\n",
       "      <td>False</td>\n",
       "      <td>False</td>\n",
       "      <td>False</td>\n",
       "      <td>False</td>\n",
       "      <td>False</td>\n",
       "      <td>False</td>\n",
       "    </tr>\n",
       "    <tr>\n",
       "      <th>7</th>\n",
       "      <td>False</td>\n",
       "      <td>False</td>\n",
       "      <td>False</td>\n",
       "      <td>False</td>\n",
       "      <td>False</td>\n",
       "      <td>False</td>\n",
       "      <td>False</td>\n",
       "      <td>False</td>\n",
       "      <td>False</td>\n",
       "    </tr>\n",
       "    <tr>\n",
       "      <th>8</th>\n",
       "      <td>False</td>\n",
       "      <td>False</td>\n",
       "      <td>False</td>\n",
       "      <td>False</td>\n",
       "      <td>False</td>\n",
       "      <td>False</td>\n",
       "      <td>False</td>\n",
       "      <td>False</td>\n",
       "      <td>False</td>\n",
       "    </tr>\n",
       "    <tr>\n",
       "      <th>9</th>\n",
       "      <td>False</td>\n",
       "      <td>False</td>\n",
       "      <td>False</td>\n",
       "      <td>False</td>\n",
       "      <td>False</td>\n",
       "      <td>False</td>\n",
       "      <td>False</td>\n",
       "      <td>False</td>\n",
       "      <td>False</td>\n",
       "    </tr>\n",
       "    <tr>\n",
       "      <th>10</th>\n",
       "      <td>False</td>\n",
       "      <td>False</td>\n",
       "      <td>False</td>\n",
       "      <td>False</td>\n",
       "      <td>False</td>\n",
       "      <td>False</td>\n",
       "      <td>False</td>\n",
       "      <td>False</td>\n",
       "      <td>False</td>\n",
       "    </tr>\n",
       "    <tr>\n",
       "      <th>11</th>\n",
       "      <td>False</td>\n",
       "      <td>False</td>\n",
       "      <td>False</td>\n",
       "      <td>False</td>\n",
       "      <td>False</td>\n",
       "      <td>False</td>\n",
       "      <td>False</td>\n",
       "      <td>False</td>\n",
       "      <td>False</td>\n",
       "    </tr>\n",
       "    <tr>\n",
       "      <th>12</th>\n",
       "      <td>False</td>\n",
       "      <td>False</td>\n",
       "      <td>False</td>\n",
       "      <td>False</td>\n",
       "      <td>False</td>\n",
       "      <td>False</td>\n",
       "      <td>False</td>\n",
       "      <td>False</td>\n",
       "      <td>False</td>\n",
       "    </tr>\n",
       "    <tr>\n",
       "      <th>13</th>\n",
       "      <td>False</td>\n",
       "      <td>False</td>\n",
       "      <td>False</td>\n",
       "      <td>False</td>\n",
       "      <td>False</td>\n",
       "      <td>False</td>\n",
       "      <td>False</td>\n",
       "      <td>False</td>\n",
       "      <td>False</td>\n",
       "    </tr>\n",
       "    <tr>\n",
       "      <th>14</th>\n",
       "      <td>False</td>\n",
       "      <td>False</td>\n",
       "      <td>False</td>\n",
       "      <td>False</td>\n",
       "      <td>False</td>\n",
       "      <td>False</td>\n",
       "      <td>False</td>\n",
       "      <td>False</td>\n",
       "      <td>False</td>\n",
       "    </tr>\n",
       "    <tr>\n",
       "      <th>15</th>\n",
       "      <td>False</td>\n",
       "      <td>False</td>\n",
       "      <td>False</td>\n",
       "      <td>False</td>\n",
       "      <td>False</td>\n",
       "      <td>False</td>\n",
       "      <td>False</td>\n",
       "      <td>False</td>\n",
       "      <td>False</td>\n",
       "    </tr>\n",
       "    <tr>\n",
       "      <th>16</th>\n",
       "      <td>False</td>\n",
       "      <td>False</td>\n",
       "      <td>False</td>\n",
       "      <td>False</td>\n",
       "      <td>False</td>\n",
       "      <td>False</td>\n",
       "      <td>False</td>\n",
       "      <td>False</td>\n",
       "      <td>False</td>\n",
       "    </tr>\n",
       "    <tr>\n",
       "      <th>17</th>\n",
       "      <td>False</td>\n",
       "      <td>False</td>\n",
       "      <td>False</td>\n",
       "      <td>False</td>\n",
       "      <td>False</td>\n",
       "      <td>False</td>\n",
       "      <td>False</td>\n",
       "      <td>False</td>\n",
       "      <td>False</td>\n",
       "    </tr>\n",
       "    <tr>\n",
       "      <th>18</th>\n",
       "      <td>False</td>\n",
       "      <td>False</td>\n",
       "      <td>False</td>\n",
       "      <td>False</td>\n",
       "      <td>False</td>\n",
       "      <td>False</td>\n",
       "      <td>False</td>\n",
       "      <td>False</td>\n",
       "      <td>False</td>\n",
       "    </tr>\n",
       "    <tr>\n",
       "      <th>19</th>\n",
       "      <td>False</td>\n",
       "      <td>False</td>\n",
       "      <td>False</td>\n",
       "      <td>False</td>\n",
       "      <td>False</td>\n",
       "      <td>False</td>\n",
       "      <td>False</td>\n",
       "      <td>False</td>\n",
       "      <td>False</td>\n",
       "    </tr>\n",
       "    <tr>\n",
       "      <th>20</th>\n",
       "      <td>False</td>\n",
       "      <td>False</td>\n",
       "      <td>False</td>\n",
       "      <td>False</td>\n",
       "      <td>False</td>\n",
       "      <td>False</td>\n",
       "      <td>False</td>\n",
       "      <td>False</td>\n",
       "      <td>False</td>\n",
       "    </tr>\n",
       "    <tr>\n",
       "      <th>21</th>\n",
       "      <td>False</td>\n",
       "      <td>False</td>\n",
       "      <td>False</td>\n",
       "      <td>False</td>\n",
       "      <td>False</td>\n",
       "      <td>False</td>\n",
       "      <td>False</td>\n",
       "      <td>False</td>\n",
       "      <td>False</td>\n",
       "    </tr>\n",
       "    <tr>\n",
       "      <th>22</th>\n",
       "      <td>False</td>\n",
       "      <td>False</td>\n",
       "      <td>False</td>\n",
       "      <td>False</td>\n",
       "      <td>False</td>\n",
       "      <td>False</td>\n",
       "      <td>False</td>\n",
       "      <td>False</td>\n",
       "      <td>False</td>\n",
       "    </tr>\n",
       "    <tr>\n",
       "      <th>23</th>\n",
       "      <td>False</td>\n",
       "      <td>False</td>\n",
       "      <td>False</td>\n",
       "      <td>False</td>\n",
       "      <td>False</td>\n",
       "      <td>False</td>\n",
       "      <td>False</td>\n",
       "      <td>False</td>\n",
       "      <td>False</td>\n",
       "    </tr>\n",
       "    <tr>\n",
       "      <th>24</th>\n",
       "      <td>False</td>\n",
       "      <td>False</td>\n",
       "      <td>False</td>\n",
       "      <td>False</td>\n",
       "      <td>False</td>\n",
       "      <td>False</td>\n",
       "      <td>False</td>\n",
       "      <td>False</td>\n",
       "      <td>False</td>\n",
       "    </tr>\n",
       "    <tr>\n",
       "      <th>25</th>\n",
       "      <td>False</td>\n",
       "      <td>False</td>\n",
       "      <td>False</td>\n",
       "      <td>False</td>\n",
       "      <td>False</td>\n",
       "      <td>False</td>\n",
       "      <td>False</td>\n",
       "      <td>False</td>\n",
       "      <td>False</td>\n",
       "    </tr>\n",
       "    <tr>\n",
       "      <th>26</th>\n",
       "      <td>False</td>\n",
       "      <td>False</td>\n",
       "      <td>False</td>\n",
       "      <td>False</td>\n",
       "      <td>False</td>\n",
       "      <td>False</td>\n",
       "      <td>False</td>\n",
       "      <td>False</td>\n",
       "      <td>False</td>\n",
       "    </tr>\n",
       "    <tr>\n",
       "      <th>27</th>\n",
       "      <td>False</td>\n",
       "      <td>False</td>\n",
       "      <td>False</td>\n",
       "      <td>False</td>\n",
       "      <td>False</td>\n",
       "      <td>False</td>\n",
       "      <td>False</td>\n",
       "      <td>False</td>\n",
       "      <td>False</td>\n",
       "    </tr>\n",
       "    <tr>\n",
       "      <th>28</th>\n",
       "      <td>False</td>\n",
       "      <td>False</td>\n",
       "      <td>False</td>\n",
       "      <td>False</td>\n",
       "      <td>False</td>\n",
       "      <td>False</td>\n",
       "      <td>False</td>\n",
       "      <td>False</td>\n",
       "      <td>False</td>\n",
       "    </tr>\n",
       "    <tr>\n",
       "      <th>29</th>\n",
       "      <td>False</td>\n",
       "      <td>False</td>\n",
       "      <td>False</td>\n",
       "      <td>False</td>\n",
       "      <td>False</td>\n",
       "      <td>False</td>\n",
       "      <td>False</td>\n",
       "      <td>False</td>\n",
       "      <td>False</td>\n",
       "    </tr>\n",
       "  </tbody>\n",
       "</table>\n",
       "</div>"
      ],
      "text/plain": [
       "      App  Category  Rating  Reviews   Size  Installs   Type  Price  \\\n",
       "0   False     False   False    False  False     False  False  False   \n",
       "1   False     False   False    False  False     False  False  False   \n",
       "2   False     False   False    False  False     False  False  False   \n",
       "3   False     False   False    False  False     False  False  False   \n",
       "4   False     False   False    False  False     False  False  False   \n",
       "5   False     False   False    False  False     False  False  False   \n",
       "6   False     False   False    False  False     False  False  False   \n",
       "7   False     False   False    False  False     False  False  False   \n",
       "8   False     False   False    False  False     False  False  False   \n",
       "9   False     False   False    False  False     False  False  False   \n",
       "10  False     False   False    False  False     False  False  False   \n",
       "11  False     False   False    False  False     False  False  False   \n",
       "12  False     False   False    False  False     False  False  False   \n",
       "13  False     False   False    False  False     False  False  False   \n",
       "14  False     False   False    False  False     False  False  False   \n",
       "15  False     False   False    False  False     False  False  False   \n",
       "16  False     False   False    False  False     False  False  False   \n",
       "17  False     False   False    False  False     False  False  False   \n",
       "18  False     False   False    False  False     False  False  False   \n",
       "19  False     False   False    False  False     False  False  False   \n",
       "20  False     False   False    False  False     False  False  False   \n",
       "21  False     False   False    False  False     False  False  False   \n",
       "22  False     False   False    False  False     False  False  False   \n",
       "23  False     False   False    False  False     False  False  False   \n",
       "24  False     False   False    False  False     False  False  False   \n",
       "25  False     False   False    False  False     False  False  False   \n",
       "26  False     False   False    False  False     False  False  False   \n",
       "27  False     False   False    False  False     False  False  False   \n",
       "28  False     False   False    False  False     False  False  False   \n",
       "29  False     False   False    False  False     False  False  False   \n",
       "\n",
       "    Content Rating  \n",
       "0            False  \n",
       "1            False  \n",
       "2            False  \n",
       "3            False  \n",
       "4            False  \n",
       "5            False  \n",
       "6            False  \n",
       "7            False  \n",
       "8            False  \n",
       "9            False  \n",
       "10           False  \n",
       "11           False  \n",
       "12           False  \n",
       "13           False  \n",
       "14           False  \n",
       "15           False  \n",
       "16           False  \n",
       "17           False  \n",
       "18           False  \n",
       "19           False  \n",
       "20           False  \n",
       "21           False  \n",
       "22           False  \n",
       "23           False  \n",
       "24           False  \n",
       "25           False  \n",
       "26           False  \n",
       "27           False  \n",
       "28           False  \n",
       "29           False  "
      ]
     },
     "execution_count": 78,
     "metadata": {},
     "output_type": "execute_result"
    }
   ],
   "source": [
    "df.isnull()"
   ]
  },
  {
   "cell_type": "code",
   "execution_count": 79,
   "metadata": {},
   "outputs": [
    {
     "data": {
      "text/plain": [
       "App               0\n",
       "Category          0\n",
       "Rating            0\n",
       "Reviews           0\n",
       "Size              0\n",
       "Installs          0\n",
       "Type              0\n",
       "Price             0\n",
       "Content Rating    0\n",
       "dtype: int64"
      ]
     },
     "execution_count": 79,
     "metadata": {},
     "output_type": "execute_result"
    }
   ],
   "source": [
    "df.isnull().sum()"
   ]
  },
  {
   "cell_type": "code",
   "execution_count": 80,
   "metadata": {},
   "outputs": [
    {
     "data": {
      "text/plain": [
       "array(['9.99', '4.99', '0', '1.99', '5.99', '0.99', '2.99'], dtype=object)"
      ]
     },
     "execution_count": 80,
     "metadata": {},
     "output_type": "execute_result"
    }
   ],
   "source": [
    "df['Price'].unique()"
   ]
  },
  {
   "cell_type": "code",
   "execution_count": 81,
   "metadata": {},
   "outputs": [
    {
     "data": {
      "text/plain": [
       "0     9.99\n",
       "1     9.99\n",
       "2     4.99\n",
       "3        0\n",
       "4     1.99\n",
       "5     5.99\n",
       "6     5.99\n",
       "7     5.99\n",
       "8        0\n",
       "9     1.99\n",
       "10    0.99\n",
       "11       0\n",
       "12       0\n",
       "13    4.99\n",
       "14    2.99\n",
       "15    9.99\n",
       "16    2.99\n",
       "17    5.99\n",
       "18    5.99\n",
       "19       0\n",
       "20    9.99\n",
       "21    5.99\n",
       "22    0.99\n",
       "23    4.99\n",
       "24    9.99\n",
       "25    1.99\n",
       "26    4.99\n",
       "27    0.99\n",
       "28    5.99\n",
       "29    2.99\n",
       "Name: Price, dtype: object"
      ]
     },
     "execution_count": 81,
     "metadata": {},
     "output_type": "execute_result"
    }
   ],
   "source": [
    "df['Price'].replace('Free','0')"
   ]
  },
  {
   "cell_type": "code",
   "execution_count": 83,
   "metadata": {},
   "outputs": [],
   "source": [
    "df['Price'] = df['Price'].replace('Free','0')"
   ]
  }
 ],
 "metadata": {
  "kernelspec": {
   "display_name": "Python 3",
   "language": "python",
   "name": "python3"
  },
  "language_info": {
   "codemirror_mode": {
    "name": "ipython",
    "version": 3
   },
   "file_extension": ".py",
   "mimetype": "text/x-python",
   "name": "python",
   "nbconvert_exporter": "python",
   "pygments_lexer": "ipython3",
   "version": "3.12.7"
  }
 },
 "nbformat": 4,
 "nbformat_minor": 2
}
