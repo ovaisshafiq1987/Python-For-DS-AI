{
 "cells": [
  {
   "cell_type": "code",
   "execution_count": 1,
   "metadata": {},
   "outputs": [
    {
     "name": "stdout",
     "output_type": "stream",
     "text": [
      "This is a first class\n"
     ]
    }
   ],
   "source": [
    "print(\"This is a first class\")"
   ]
  },
  {
   "cell_type": "code",
   "execution_count": 2,
   "metadata": {},
   "outputs": [],
   "source": [
    "name = \"we are learning Pyhton\""
   ]
  },
  {
   "cell_type": "code",
   "execution_count": 3,
   "metadata": {},
   "outputs": [
    {
     "name": "stdout",
     "output_type": "stream",
     "text": [
      "we are learning Pyhton\n"
     ]
    }
   ],
   "source": [
    "print(name)"
   ]
  },
  {
   "cell_type": "markdown",
   "metadata": {},
   "source": [
    "# Data Types\n",
    "\n",
    "## 1. Int\n",
    "## 2. Str\n",
    "## 3. flt\n",
    "## 4. Bool\n"
   ]
  },
  {
   "cell_type": "code",
   "execution_count": 4,
   "metadata": {},
   "outputs": [
    {
     "name": "stdout",
     "output_type": "stream",
     "text": [
      "20\n",
      "<class 'int'>\n"
     ]
    }
   ],
   "source": [
    "number =20\n",
    "print(number)\n",
    "print(type(number))"
   ]
  },
  {
   "cell_type": "code",
   "execution_count": 5,
   "metadata": {},
   "outputs": [
    {
     "name": "stdout",
     "output_type": "stream",
     "text": [
      "20.7\n",
      "<class 'float'>\n"
     ]
    }
   ],
   "source": [
    "number =20.7\n",
    "print(number)\n",
    "print(type(number))"
   ]
  },
  {
   "cell_type": "code",
   "execution_count": 6,
   "metadata": {},
   "outputs": [
    {
     "name": "stdout",
     "output_type": "stream",
     "text": [
      "Ovais\n",
      "<class 'str'>\n"
     ]
    }
   ],
   "source": [
    "number =\"Ovais\"\n",
    "print(number)\n",
    "print(type(number))"
   ]
  },
  {
   "cell_type": "code",
   "execution_count": 7,
   "metadata": {},
   "outputs": [
    {
     "name": "stdout",
     "output_type": "stream",
     "text": [
      "False\n",
      "<class 'bool'>\n"
     ]
    }
   ],
   "source": [
    "number =False\n",
    "print(number)\n",
    "print(type(number))"
   ]
  },
  {
   "cell_type": "code",
   "execution_count": 8,
   "metadata": {},
   "outputs": [
    {
     "name": "stdout",
     "output_type": "stream",
     "text": [
      "ovais rashid\n"
     ]
    }
   ],
   "source": [
    "name1 = 'ovais'\n",
    "name2 = 'rashid'\n",
    "\n",
    "print(name1 , name2)"
   ]
  },
  {
   "cell_type": "code",
   "execution_count": 13,
   "metadata": {},
   "outputs": [
    {
     "name": "stdout",
     "output_type": "stream",
     "text": [
      "Calculated  force is:  34.8\n"
     ]
    }
   ],
   "source": [
    "mass = 4\n",
    "acce = 8.7\n",
    "force =  mass * acce\n",
    "\n",
    "print('Calculated  force is: ', force)\n",
    "\n"
   ]
  },
  {
   "cell_type": "code",
   "execution_count": 16,
   "metadata": {},
   "outputs": [
    {
     "name": "stdout",
     "output_type": "stream",
     "text": [
      "The vale of Mass is 4\n",
      "The vale of Acce is 8.7\n",
      "The vale of Force is 34.8\n"
     ]
    }
   ],
   "source": [
    "print('The vale of Mass is' , mass)\n",
    "print('The vale of Acce is' , acce)\n",
    "print('The vale of Force is' , force)\n"
   ]
  },
  {
   "cell_type": "code",
   "execution_count": 19,
   "metadata": {},
   "outputs": [
    {
     "name": "stdout",
     "output_type": "stream",
     "text": [
      "4\n",
      "<class 'int'>\n",
      "8.7\n",
      "<class 'float'>\n",
      "34.8\n",
      "<class 'float'>\n"
     ]
    }
   ],
   "source": [
    "print(mass)\n",
    "print(type(mass))\n",
    "\n",
    "print(acce)\n",
    "print(type(acce))\n",
    "\n",
    "print(mass*acce)\n",
    "print(type(force))\n"
   ]
  },
  {
   "cell_type": "markdown",
   "metadata": {},
   "source": [
    "# Task"
   ]
  },
  {
   "cell_type": "markdown",
   "metadata": {},
   "source": [
    "################################Profilr##########################\n",
    "Name = Ovais\n",
    "Age =  25\n",
    "Gender =\n",
    "Designation = \n",
    "Occupation = \n",
    "Education =\n",
    "Organization =\n",
    "\n",
    "################################################################"
   ]
  },
  {
   "cell_type": "code",
   "execution_count": 2,
   "metadata": {},
   "outputs": [
    {
     "name": "stdout",
     "output_type": "stream",
     "text": [
      "Calculated  force is:  60.199999999999996\n"
     ]
    }
   ],
   "source": [
    "# mass = 4\n",
    "# acce = 8.7\n",
    "# force =  mass * acce\n",
    "\n",
    "# print('Calculated  force is: ', force)\n",
    "\n",
    "mass = float(input(\"Enter the Value of Mass  \"))\n",
    "acce = float(input(\"Enter the Value of Mass  \"))\n",
    "\n",
    "force = mass *  acce\n",
    "print('Calculated  force is: ', force)\n"
   ]
  },
  {
   "cell_type": "code",
   "execution_count": 6,
   "metadata": {},
   "outputs": [
    {
     "name": "stdout",
     "output_type": "stream",
     "text": [
      "The 1st Number is : 19.0\n",
      "The 2nd Number is : 15.0\n",
      "The Sum of :  34.0\n"
     ]
    }
   ],
   "source": [
    "number = float(input(\"Enter the 1st Number :  \"))\n",
    "number1 = float(input(\"Enter the 2nd Number : \"))\n",
    "\n",
    "print(\"The 1st Number is :\" ,number)\n",
    "print(\"The 2nd Number is :\" , number1)\n",
    "\n",
    "result = number +  number1\n",
    "print('The Sum of : ', result)"
   ]
  },
  {
   "cell_type": "code",
   "execution_count": 11,
   "metadata": {},
   "outputs": [
    {
     "name": "stdout",
     "output_type": "stream",
     "text": [
      "The 1st Number is : 43.0\n",
      "The 2nd Number is : 421.0\n",
      "The Reminder of :  0.1021377672209026\n"
     ]
    }
   ],
   "source": [
    "number = float(input(\"Enter the 1st Number :  \"))\n",
    "number1 = float(input(\"Enter the 2nd Number : \"))\n",
    "\n",
    "print(\"The 1st Number is :\" ,number)\n",
    "print(\"The 2nd Number is :\" , number1)\n",
    "\n",
    "result = number /  number1\n",
    "print('The Reminder of : ', result)"
   ]
  },
  {
   "cell_type": "markdown",
   "metadata": {},
   "source": [
    "# Power Function"
   ]
  },
  {
   "cell_type": "code",
   "execution_count": 1,
   "metadata": {},
   "outputs": [
    {
     "name": "stdout",
     "output_type": "stream",
     "text": [
      "The Number is : 3.0\n",
      "The Power is : 2.0\n",
      "The Power of :  9.0\n"
     ]
    }
   ],
   "source": [
    "number = float(input(\"Enter the Number :  \"))\n",
    "number1 = float(input(\"Enter the Power : \"))\n",
    "\n",
    "print(\"The Number is :\" ,number)\n",
    "print(\"The Power is :\" , number1)\n",
    "\n",
    "power = number **  number1\n",
    "print('The Power of : ', power)"
   ]
  },
  {
   "cell_type": "markdown",
   "metadata": {},
   "source": [
    "# Reminder Operator denote %"
   ]
  },
  {
   "cell_type": "code",
   "execution_count": 15,
   "metadata": {},
   "outputs": [
    {
     "data": {
      "text/plain": [
       "1"
      ]
     },
     "execution_count": 15,
     "metadata": {},
     "output_type": "execute_result"
    }
   ],
   "source": [
    "5 % 2"
   ]
  },
  {
   "cell_type": "code",
   "execution_count": 11,
   "metadata": {},
   "outputs": [
    {
     "name": "stdout",
     "output_type": "stream",
     "text": [
      "<class 'bool'>\n",
      "<class 'str'>\n"
     ]
    }
   ],
   "source": [
    "# Find data type of is_job and age\n",
    "name , age , gender , education ,  occupation , income , marital_status , children , religion , language ,  is_job = 'Ovais' , 35 ,  'Male' , 'Bachelors' , 'Engineer' , 50000 , 'Married' , 1 , 'Islam' ,'Urdu' , True\n",
    "print(type(is_job))\n",
    "print(type(religion))"
   ]
  },
  {
   "cell_type": "markdown",
   "metadata": {},
   "source": [
    "# Lower and Upper Case"
   ]
  },
  {
   "cell_type": "code",
   "execution_count": 4,
   "metadata": {},
   "outputs": [
    {
     "name": "stdout",
     "output_type": "stream",
     "text": [
      "Titanic, launched on May 31, 1911, and set sail on its maiden voyage from Southampton on April 10, \n",
      "      1912, with 2,240 passengers and crew on board. On April 15, 1912,\n",
      "      after striking an iceberg, Titanic broke apart and sank to the bottom of the ocean, \n",
      "      taking with it the lives of more than 1,500 passengers and crew.\n"
     ]
    },
    {
     "data": {
      "text/plain": [
       "'TITANIC, LAUNCHED ON MAY 31, 1911, AND SET SAIL ON ITS MAIDEN VOYAGE FROM SOUTHAMPTON ON APRIL 10, \\n      1912, WITH 2,240 PASSENGERS AND CREW ON BOARD. ON APRIL 15, 1912,\\n      AFTER STRIKING AN ICEBERG, TITANIC BROKE APART AND SANK TO THE BOTTOM OF THE OCEAN, \\n      TAKING WITH IT THE LIVES OF MORE THAN 1,500 PASSENGERS AND CREW.'"
      ]
     },
     "execution_count": 4,
     "metadata": {},
     "output_type": "execute_result"
    }
   ],
   "source": [
    "Ovais = '''Titanic, launched on May 31, 1911, and set sail on its maiden voyage from Southampton on April 10, \n",
    "      1912, with 2,240 passengers and crew on board. On April 15, 1912,\n",
    "      after striking an iceberg, Titanic broke apart and sank to the bottom of the ocean, \n",
    "      taking with it the lives of more than 1,500 passengers and crew.'''\n",
    "\n",
    "print(Ovais)\n",
    "\n",
    "Ovais.upper()"
   ]
  },
  {
   "cell_type": "code",
   "execution_count": 3,
   "metadata": {},
   "outputs": [
    {
     "data": {
      "text/plain": [
       "12"
      ]
     },
     "execution_count": 3,
     "metadata": {},
     "output_type": "execute_result"
    }
   ],
   "source": [
    "s = (3,4,5)\n",
    "\n",
    "sum(s)"
   ]
  }
 ],
 "metadata": {
  "kernelspec": {
   "display_name": "Python 3",
   "language": "python",
   "name": "python3"
  },
  "language_info": {
   "codemirror_mode": {
    "name": "ipython",
    "version": 3
   },
   "file_extension": ".py",
   "mimetype": "text/x-python",
   "name": "python",
   "nbconvert_exporter": "python",
   "pygments_lexer": "ipython3",
   "version": "3.12.7"
  }
 },
 "nbformat": 4,
 "nbformat_minor": 2
}
