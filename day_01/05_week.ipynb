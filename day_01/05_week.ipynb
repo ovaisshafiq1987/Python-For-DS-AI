{
 "cells": [
  {
   "cell_type": "markdown",
   "metadata": {},
   "source": [
    "# Conditional Statement\n",
    "\n",
    "### Week 4 to Continue"
   ]
  },
  {
   "cell_type": "code",
   "execution_count": null,
   "metadata": {},
   "outputs": [
    {
     "name": "stdout",
     "output_type": "stream",
     "text": [
      "Password is incorrect, Re-enter your password\n",
      "Now WElcome after one attampt\n"
     ]
    }
   ],
   "source": [
    "user_name = input(\"Enter User Name\")\n",
    "password = input('Enter your password')\n",
    "\n",
    "if user_name == 'ovais@gmail.com' and password == '12345':\n",
    "    print(\"Welcom Ovais\")\n",
    "elif user_name == 'ovais@gmail.com' and password != '12345':\n",
    "    print('Password is incorrect, Re-enter your password')\n",
    "    password = input(\"Enter PAssword Again\")\n",
    "    if password == '12345':\n",
    "        print(\"Now Welcome after one attampt\")\n",
    "    else:\n",
    "        print(\"Your password is incorrect\")\n",
    "else:\n",
    "    print(\"Enter Correct Email and Password\")"
   ]
  },
  {
   "cell_type": "code",
   "execution_count": null,
   "metadata": {},
   "outputs": [
    {
     "ename": "IndentationError",
     "evalue": "unexpected indent (2742313006.py, line 6)",
     "output_type": "error",
     "traceback": [
      "\u001b[1;36m  Cell \u001b[1;32mIn[7], line 6\u001b[1;36m\u001b[0m\n\u001b[1;33m    user_name = input(\"Enter email again\")\u001b[0m\n\u001b[1;37m    ^\u001b[0m\n\u001b[1;31mIndentationError\u001b[0m\u001b[1;31m:\u001b[0m unexpected indent\n"
     ]
    }
   ],
   "source": [
    "user_name = input(\"Enter User Name\")\n",
    "password = input('Enter your password')\n",
    "\n",
    "if user_name != 'ovais@gmail.com' and password == '12345':\n",
    "    print(\"Incorrect Email, Please write correct Email\")\n",
    "    user_name = input(\"Enter email again\")\n",
    "        if user_name == 'ovais@gmail.com':\n",
    "            print(\"Welcome, you are now logged in\")\n",
    "        else:\n",
    "            print(\"Incorrect Email, Please write correct Email\")\n",
    "elif user_name == 'ovais@gmail.com' and password != '12345':\n",
    "    print('Password is incorrect, Re-enter your password')\n",
    "    password = input(\"Enter PAssword Again\")\n",
    "    if password == '12345':\n",
    "        print(\"Now Welcome after one attampt\")\n",
    "    else:\n",
    "        print(\"Your password is incorrect\")\n",
    "else:\n",
    "    print(\"Enter Correct Email and Password\")"
   ]
  },
  {
   "cell_type": "markdown",
   "metadata": {},
   "source": [
    "### Example Assignment"
   ]
  },
  {
   "cell_type": "markdown",
   "metadata": {},
   "source": [
    "take no of units from a consumer, if no of unit less then 150 per unit =15, fixed charges = 250 , if no of unit greater then 150 and less then 250 per unit charge = 25,fixed charges = 350 , if no of unit greater then 250 and less then 350 per unit charge = 35,fixed charges = 450 , if no of unit greater then 350 per unit charge = 45,fixed charges = 1000 ,  Total bill =amount_pay (no of unit consumed * cost of a unit ) + fixed charges ."
   ]
  },
  {
   "cell_type": "code",
   "execution_count": 9,
   "metadata": {},
   "outputs": [
    {
     "name": "stdout",
     "output_type": "stream",
     "text": [
      "Your Electricity Bill is :  400\n"
     ]
    }
   ],
   "source": [
    "# Electricity Bill\n",
    "\n",
    "units = int(input(\"Enter the number of units consumed: \"))\n",
    "\n",
    "if units < 150 :\n",
    "    fixed_per_unit =15\n",
    "    fixed_charges = 250\n",
    "elif units > 150 and units < 250 :\n",
    "    fixed_per_unit = 25\n",
    "    fixed_charges = 350\n",
    "elif units > 250 and units < 350 :\n",
    "    fixed_per_unit = 35\n",
    "    fixed_charges = 450\n",
    "else:\n",
    "    fixed_per_unit = 45\n",
    "    fixed_charges = 1000\n",
    "total_bill = (units * fixed_per_unit) + fixed_charges\n",
    "print(\"Your Electricity Bill is : \", total_bill)"
   ]
  },
  {
   "cell_type": "code",
   "execution_count": 15,
   "metadata": {},
   "outputs": [
    {
     "name": "stdout",
     "output_type": "stream",
     "text": [
      "Select Number from a given option list\n"
     ]
    }
   ],
   "source": [
    "# Menu Driven Program\n",
    "\n",
    "option = input(''' \n",
    "1.Addition\n",
    "2.Substraction\n",
    "3.Multiplication\n",
    "4.Division''')\n",
    "\n",
    "num1 = float(input(\"Enter your desire no\"))\n",
    "num2 = float(input(\"Enter Your desire no\"))\n",
    "\n",
    "if option == '1':\n",
    "    print(\"Addition of\", num1, \"and\" ,num2, \"is :\" ,num1 + num2)\n",
    "elif option == '2':\n",
    "    print(\"Substraction of\",num1, \"and\" ,num2, \"is :\" ,num1 - num2)\n",
    "elif option == '3':\n",
    "    print(\"Multiplication of\",num1, \"and\", num2, \"is :\", num1 * num2)\n",
    "elif option == '4':\n",
    "    print(\"Division of\",num1, \"and\" ,num2, \"is :\" ,num1 / num2)\n",
    "else:\n",
    "    print(\"Select Number from a given option list\")"
   ]
  },
  {
   "cell_type": "markdown",
   "metadata": {},
   "source": [
    "# Iterative Statement / While Loop"
   ]
  },
  {
   "cell_type": "code",
   "execution_count": null,
   "metadata": {},
   "outputs": [],
   "source": [
    "# Syntax\n",
    "# while (Condition):    if condition true\n",
    "    # Body of a while\n",
    "# Outside the body of a while\n",
    "i = 0\n",
    "while i < 5:\n",
    "    #print(i)\n",
    "    print(\"We are Learning Python\")\n",
    "    #i += 1\n",
    "    print(i)\n",
    "print(\"I am out of Loop\")\n"
   ]
  },
  {
   "cell_type": "markdown",
   "metadata": {},
   "source": [
    "### Task"
   ]
  },
  {
   "cell_type": "code",
   "execution_count": 22,
   "metadata": {},
   "outputs": [
    {
     "name": "stdout",
     "output_type": "stream",
     "text": [
      "6 * 1 = 6\n",
      "6 * 2 = 12\n",
      "6 * 3 = 18\n",
      "6 * 4 = 24\n",
      "6 * 5 = 30\n",
      "6 * 6 = 36\n",
      "6 * 7 = 42\n",
      "6 * 8 = 48\n",
      "6 * 9 = 54\n",
      "6 * 10 = 60\n",
      "My Required table was just 1 to 10\n"
     ]
    }
   ],
   "source": [
    "num = int(input(\"Enter the Desire Number\"))\n",
    "\n",
    "i = 1\n",
    "while i < 11:\n",
    "    print(num , \"*\" ,i , \"=\" , num*i)\n",
    "    i +=1\n",
    "print(\"My Required table was just 1 to 10\")"
   ]
  },
  {
   "cell_type": "code",
   "execution_count": 25,
   "metadata": {},
   "outputs": [
    {
     "name": "stdout",
     "output_type": "stream",
     "text": [
      "1\n",
      "2\n",
      "3\n",
      "4\n",
      "5\n",
      "My Desired condition have been true\n"
     ]
    }
   ],
   "source": [
    "i = 1\n",
    "while i < 10:\n",
    "    print(i)\n",
    "    if i== 5:\n",
    "        break\n",
    "    i +=1\n",
    "print(\"My Desired condition have been true\")"
   ]
  },
  {
   "cell_type": "code",
   "execution_count": 26,
   "metadata": {},
   "outputs": [
    {
     "name": "stdout",
     "output_type": "stream",
     "text": [
      "We are learning Python 1\n",
      "We are learning Python 2\n",
      "We are learning Python 3\n",
      "We are learning Python 4\n",
      "We are learning Python 5\n",
      "We are learning Python 6\n"
     ]
    }
   ],
   "source": [
    "i=1\n",
    "while (i<50 and i!=7):\n",
    "    print(\"We are learning Python\",i)\n",
    "    i+=1"
   ]
  },
  {
   "cell_type": "code",
   "execution_count": 28,
   "metadata": {},
   "outputs": [
    {
     "name": "stdout",
     "output_type": "stream",
     "text": [
      "We are learning Python 1\n",
      "We are learning Python 2\n",
      "We are learning Python 3\n",
      "We are learning Python 4\n",
      "We are learning Python 5\n",
      "We are learning Python 6\n",
      "We are learning Python 8\n",
      "We are learning Python 9\n",
      "We are learning Python 10\n",
      "We are learning Python 11\n",
      "We are learning Python 12\n",
      "We are learning Python 13\n",
      "We are learning Python 14\n",
      "We are learning Python 15\n",
      "We are learning Python 16\n",
      "We are learning Python 17\n",
      "We are learning Python 18\n",
      "We are learning Python 19\n"
     ]
    }
   ],
   "source": [
    "i=1\n",
    "while (i<20):\n",
    "    if ( i != 7):\n",
    "        print(\"We are learning Python\",i)\n",
    "    i+=1"
   ]
  },
  {
   "cell_type": "code",
   "execution_count": 33,
   "metadata": {},
   "outputs": [
    {
     "name": "stdout",
     "output_type": "stream",
     "text": [
      "20\n",
      "30\n",
      "40\n",
      "60\n",
      "70\n",
      "80\n"
     ]
    }
   ],
   "source": [
    "num = 10\n",
    "while num < 100:\n",
    "    num = num+10\n",
    "    if num == 50:\n",
    "        continue\n",
    "    if num == 90:\n",
    "        break\n",
    "    print(num)"
   ]
  },
  {
   "cell_type": "code",
   "execution_count": 1,
   "metadata": {},
   "outputs": [
    {
     "name": "stdout",
     "output_type": "stream",
     "text": [
      "Population in 2024 : 1001\n",
      "Population in 2023 : 909.9999999999999\n",
      "Population in 2022 : 827.2727272727271\n",
      "Population in 2021 : 752.0661157024791\n",
      "Population in 2020 : 683.6964688204355\n",
      "Population in 2019 : 621.542244382214\n",
      "Population in 2018 : 565.0384039838309\n",
      "Population in 2017 : 513.6712763489371\n",
      "Population in 2016 : 466.9738875899428\n",
      "Population in 2015 : 424.52171599085705\n"
     ]
    }
   ],
   "source": [
    "population = int(input(\"Enter Population:\"))\n",
    "year = 2024\n",
    "for i in range(10):\n",
    "    print(\"Population in\",year,\":\",population)\n",
    "    population = population/1.1\n",
    "    year = year-1"
   ]
  },
  {
   "cell_type": "code",
   "execution_count": 2,
   "metadata": {},
   "outputs": [
    {
     "name": "stdout",
     "output_type": "stream",
     "text": [
      "['Ovais', 'Ovais', 'ovais shafiq']\n"
     ]
    }
   ],
   "source": [
    "name_list = []\n",
    "for i in range(1,4):\n",
    "    name = input(\"Enter Student's Name: \")\n",
    "    name_list.append(name)\n",
    "print(name_list)"
   ]
  },
  {
   "cell_type": "code",
   "execution_count": 3,
   "metadata": {},
   "outputs": [
    {
     "name": "stdout",
     "output_type": "stream",
     "text": [
      "Name : Syed Muhammad Ovais\n",
      "Profession : Data Scientist\n",
      "Org : Al-Saadat Construction\n"
     ]
    }
   ],
   "source": [
    "person={'Name':'Syed Muhammad Ovais','Profession':'Data Scientist','Org':'Al-Saadat Construction'}\n",
    "for i in person:\n",
    "    print(i,\":\",person[i])"
   ]
  },
  {
   "cell_type": "markdown",
   "metadata": {},
   "source": [
    "# Nested Loop"
   ]
  },
  {
   "cell_type": "code",
   "execution_count": 4,
   "metadata": {},
   "outputs": [
    {
     "name": "stdout",
     "output_type": "stream",
     "text": [
      "1 1\n",
      "1 2\n",
      "1 3\n",
      "1 4\n",
      "2 1\n",
      "2 2\n",
      "2 3\n",
      "2 4\n",
      "3 1\n",
      "3 2\n",
      "3 3\n",
      "3 4\n",
      "4 1\n",
      "4 2\n",
      "4 3\n",
      "4 4\n"
     ]
    }
   ],
   "source": [
    "for i in range(1,5):\n",
    "  for j in range(1,5):\n",
    "    print(i,j)"
   ]
  },
  {
   "cell_type": "code",
   "execution_count": 5,
   "metadata": {},
   "outputs": [
    {
     "name": "stdout",
     "output_type": "stream",
     "text": [
      "range(10, -1, -1)\n"
     ]
    }
   ],
   "source": [
    "print(range(10,-1,-1))"
   ]
  },
  {
   "cell_type": "code",
   "execution_count": 6,
   "metadata": {},
   "outputs": [
    {
     "name": "stdout",
     "output_type": "stream",
     "text": [
      "10\n",
      "9\n",
      "8\n",
      "7\n",
      "6\n",
      "5\n",
      "4\n",
      "3\n",
      "2\n",
      "1\n",
      "0\n"
     ]
    }
   ],
   "source": [
    "for i in range(10,-1,-1):\n",
    "    print(i)"
   ]
  },
  {
   "cell_type": "code",
   "execution_count": 7,
   "metadata": {},
   "outputs": [
    {
     "name": "stdout",
     "output_type": "stream",
     "text": [
      "You Entered a Number: 1\n",
      "You Entered a Number: 3\n",
      "You Entered a Number: 4\n",
      "You Entered a Number: 5\n",
      "You Entered a Number: 6\n",
      "You Entered a Number: 8\n",
      "You Entered a Number: 6\n",
      "You Entered a Number: 4\n",
      "You Entered a Number: 3\n",
      "User Entered 0\n"
     ]
    }
   ],
   "source": [
    "# Iterate until the user enter 0\n",
    "number = int(input(\"Enter your Number: \"))\n",
    "while number!=0:\n",
    "    print(\"You Entered a Number:\" ,number)\n",
    "    number = int(input(\"Enter your Number: \"))\n",
    "print('User Entered 0')"
   ]
  },
  {
   "cell_type": "code",
   "execution_count": 8,
   "metadata": {},
   "outputs": [
    {
     "name": "stdout",
     "output_type": "stream",
     "text": [
      "10 * 1 = 10\n",
      "10 * 2 = 20\n",
      "10 * 3 = 30\n",
      "10 * 4 = 40\n",
      "10 * 5 = 50\n",
      "10 * 6 = 60\n",
      "10 * 7 = 70\n",
      "10 * 8 = 80\n",
      "10 * 9 = 90\n",
      "10 * 10 = 100\n"
     ]
    }
   ],
   "source": [
    "number = int(input('enter the number'))\n",
    "i = 1\n",
    "while i<11:\n",
    "  print(number,'*',i,'=',number * i)\n",
    "  i += 1"
   ]
  },
  {
   "cell_type": "code",
   "execution_count": 9,
   "metadata": {},
   "outputs": [
    {
     "name": "stdout",
     "output_type": "stream",
     "text": [
      "4 x 10 = 40\n",
      "4 x 9 = 36\n",
      "4 x 8 = 32\n",
      "4 x 7 = 28\n",
      "4 x 6 = 24\n",
      "4 x 5 = 20\n",
      "4 x 4 = 16\n",
      "4 x 3 = 12\n",
      "4 x 2 = 8\n",
      "4 x 1 = 4\n",
      "The table is Ended\n"
     ]
    }
   ],
   "source": [
    "# Print the multiplication table in reverse order\n",
    "n = int(input(\"Enter the table you want to print\"))\n",
    "m = 10\n",
    "while m >= 1:\n",
    "    print(f\"{n} x {m} = {n * m}\")\n",
    "    m-=1\n",
    "print(\"The table is Ended\")"
   ]
  }
 ],
 "metadata": {
  "kernelspec": {
   "display_name": "Python 3",
   "language": "python",
   "name": "python3"
  },
  "language_info": {
   "codemirror_mode": {
    "name": "ipython",
    "version": 3
   },
   "file_extension": ".py",
   "mimetype": "text/x-python",
   "name": "python",
   "nbconvert_exporter": "python",
   "pygments_lexer": "ipython3",
   "version": "3.12.7"
  }
 },
 "nbformat": 4,
 "nbformat_minor": 2
}
