{
 "cells": [
  {
   "cell_type": "markdown",
   "metadata": {},
   "source": [
    "# Operators\n"
   ]
  },
  {
   "cell_type": "markdown",
   "metadata": {},
   "source": [
    "### The basic types of Operators in Python:\n",
    "1. Arithmetic Operators\n",
    "2. Relationship Operator"
   ]
  },
  {
   "cell_type": "code",
   "execution_count": 15,
   "metadata": {},
   "outputs": [
    {
     "name": "stdout",
     "output_type": "stream",
     "text": [
      "False\n",
      "False\n",
      "True\n"
     ]
    }
   ],
   "source": [
    "print(2>3)\n",
    "print((4<2))\n",
    "print(4==4)"
   ]
  },
  {
   "cell_type": "code",
   "execution_count": 16,
   "metadata": {},
   "outputs": [
    {
     "name": "stdout",
     "output_type": "stream",
     "text": [
      "Number 1 is :  3.0\n",
      "Number 2 is :  5.0\n",
      "The result of the both numbers is :  True\n"
     ]
    }
   ],
   "source": [
    "number1 = float(input(\"Enter number1 :\"))\n",
    "number2 = float(input(\"Enter number2 :\"))\n",
    "\n",
    "print(\"Number 1 is : \" , number1)\n",
    "print(\"Number 2 is : \" , number2)\n",
    "\n",
    "print(\"The result of the both numbers is : \" , number1 !=  number2)  # This will print True or False based on the input \n"
   ]
  },
  {
   "cell_type": "code",
   "execution_count": 17,
   "metadata": {},
   "outputs": [
    {
     "name": "stdout",
     "output_type": "stream",
     "text": [
      "Number 3 is :  6.0\n",
      "Number 4 is :  7.0\n",
      "The result of the both numbers is :  False\n"
     ]
    }
   ],
   "source": [
    "number3 = float(input(\"Enter number3 :\"))\n",
    "number4 = float(input(\"Enter number4 :\"))\n",
    "\n",
    "print(\"Number 3 is : \" , number3)\n",
    "print(\"Number 4 is : \" , number4)\n",
    "\n",
    "print(\"The result of the both numbers is : \" , number3 >=  number4)"
   ]
  },
  {
   "cell_type": "code",
   "execution_count": 18,
   "metadata": {},
   "outputs": [
    {
     "name": "stdout",
     "output_type": "stream",
     "text": [
      "Number 3 is :  6.0\n",
      "Number 4 is :  7.0\n",
      "The result of the both numbers is :  True\n"
     ]
    }
   ],
   "source": [
    "number5 = float(input(\"Enter number6 :\"))\n",
    "number6 = float(input(\"Enter number5 :\"))\n",
    "\n",
    "print(\"Number 3 is : \" , number5)\n",
    "print(\"Number 4 is : \" , number6)\n",
    "\n",
    "print(\"The result of the both numbers is : \" , number5 <=  number6)"
   ]
  },
  {
   "cell_type": "code",
   "execution_count": 19,
   "metadata": {},
   "outputs": [
    {
     "name": "stdout",
     "output_type": "stream",
     "text": [
      "Number 7 is :  6.0\n",
      "Number 8 is :  7.0\n",
      "Number 9 is :  6.0\n",
      "The result of the three numbers is :  False\n"
     ]
    }
   ],
   "source": [
    "number7 = float(input(\"Enter number7 :\"))\n",
    "number8 = float(input(\"Enter number8 :\"))\n",
    "number9 = float(input(\"Enter number9 :\"))\n",
    "\n",
    "print(\"Number 7 is : \" , number7)\n",
    "print(\"Number 8 is : \" , number8)\n",
    "print(\"Number 9 is : \" , number9)\n",
    "\n",
    "print(\"The result of the three numbers is : \" , number7 >=  number8 !=  number9)\n"
   ]
  },
  {
   "cell_type": "markdown",
   "metadata": {},
   "source": [
    "# Logical Gates or Operator"
   ]
  },
  {
   "cell_type": "code",
   "execution_count": 20,
   "metadata": {},
   "outputs": [
    {
     "data": {
      "text/plain": [
       "False"
      ]
     },
     "execution_count": 20,
     "metadata": {},
     "output_type": "execute_result"
    }
   ],
   "source": [
    "number1 = True\n",
    "number2 = False\n",
    "\n",
    "number2 and number1"
   ]
  },
  {
   "cell_type": "code",
   "execution_count": 21,
   "metadata": {},
   "outputs": [
    {
     "data": {
      "text/plain": [
       "False"
      ]
     },
     "execution_count": 21,
     "metadata": {},
     "output_type": "execute_result"
    }
   ],
   "source": [
    "number1 = False\n",
    "number2 = True\n",
    "\n",
    "number2 and number1"
   ]
  },
  {
   "cell_type": "code",
   "execution_count": 22,
   "metadata": {},
   "outputs": [
    {
     "data": {
      "text/plain": [
       "True"
      ]
     },
     "execution_count": 22,
     "metadata": {},
     "output_type": "execute_result"
    }
   ],
   "source": [
    "number1 = True\n",
    "number2 = False\n",
    "\n",
    "number2 or number1"
   ]
  },
  {
   "cell_type": "code",
   "execution_count": 23,
   "metadata": {},
   "outputs": [
    {
     "name": "stdout",
     "output_type": "stream",
     "text": [
      "Number 1 is :  True\n",
      "Number 2 is :  True\n",
      "The result of 2 inputs of AND gate is :  True\n"
     ]
    }
   ],
   "source": [
    "number1 = bool(input(\"Enter number1 :\"))\n",
    "number2 = bool(input(\"Enter number2 :\"))\n",
    "\n",
    "print(\"Number 1 is : \" , number1)\n",
    "print(\"Number 2 is : \" , number2)\n",
    "\n",
    "print(\"The result of 2 inputs of AND gate is : \" , number1 and number2) "
   ]
  },
  {
   "cell_type": "code",
   "execution_count": 24,
   "metadata": {},
   "outputs": [
    {
     "name": "stdout",
     "output_type": "stream",
     "text": [
      "Number 1 is :  True\n",
      "Number 2 is :  True\n",
      "The result of 2 inputs of OR gate is :  True\n"
     ]
    }
   ],
   "source": [
    "number1 = bool(input(\"Enter number1 :\"))\n",
    "number2 = bool(input(\"Enter number2 :\"))\n",
    "\n",
    "print(\"Number 1 is : \" , number1)\n",
    "print(\"Number 2 is : \" , number2)\n",
    "\n",
    "print(\"The result of 2 inputs of OR gate is : \" , number1 or number2) "
   ]
  },
  {
   "cell_type": "markdown",
   "metadata": {},
   "source": [
    "# Assignment Operators"
   ]
  },
  {
   "cell_type": "code",
   "execution_count": 25,
   "metadata": {},
   "outputs": [
    {
     "data": {
      "text/plain": [
       "15"
      ]
     },
     "execution_count": 25,
     "metadata": {},
     "output_type": "execute_result"
    }
   ],
   "source": [
    "number = 10\n",
    "number +=5\n",
    "number"
   ]
  },
  {
   "cell_type": "code",
   "execution_count": 26,
   "metadata": {},
   "outputs": [
    {
     "data": {
      "text/plain": [
       "15"
      ]
     },
     "execution_count": 26,
     "metadata": {},
     "output_type": "execute_result"
    }
   ],
   "source": [
    "number = 10\n",
    "number = number +5\n",
    "number"
   ]
  },
  {
   "cell_type": "code",
   "execution_count": 27,
   "metadata": {},
   "outputs": [
    {
     "data": {
      "text/plain": [
       "28"
      ]
     },
     "execution_count": 27,
     "metadata": {},
     "output_type": "execute_result"
    }
   ],
   "source": [
    "number = int(input(\"Enter the 1st number :\"))\n",
    "number2 = int(number + 21)\n",
    "\n",
    "number2"
   ]
  },
  {
   "cell_type": "markdown",
   "metadata": {},
   "source": [
    "## Special Operator"
   ]
  },
  {
   "cell_type": "code",
   "execution_count": 28,
   "metadata": {},
   "outputs": [
    {
     "data": {
      "text/plain": [
       "True"
      ]
     },
     "execution_count": 28,
     "metadata": {},
     "output_type": "execute_result"
    }
   ],
   "source": [
    "a = 5\n",
    "b = 5\n",
    "a==b  # Basic comparision operator"
   ]
  },
  {
   "cell_type": "code",
   "execution_count": 29,
   "metadata": {},
   "outputs": [
    {
     "data": {
      "text/plain": [
       "True"
      ]
     },
     "execution_count": 29,
     "metadata": {},
     "output_type": "execute_result"
    }
   ],
   "source": [
    "a = 5\n",
    "b = 5\n",
    "\n",
    "a is b"
   ]
  },
  {
   "cell_type": "code",
   "execution_count": 30,
   "metadata": {},
   "outputs": [
    {
     "data": {
      "text/plain": [
       "False"
      ]
     },
     "execution_count": 30,
     "metadata": {},
     "output_type": "execute_result"
    }
   ],
   "source": [
    "a = 5\n",
    "b = 4\n",
    "\n",
    "a is b"
   ]
  },
  {
   "cell_type": "code",
   "execution_count": 31,
   "metadata": {},
   "outputs": [
    {
     "data": {
      "text/plain": [
       "True"
      ]
     },
     "execution_count": 31,
     "metadata": {},
     "output_type": "execute_result"
    }
   ],
   "source": [
    "a = 5\n",
    "b = 4\n",
    "\n",
    "a is not b"
   ]
  },
  {
   "cell_type": "code",
   "execution_count": 32,
   "metadata": {},
   "outputs": [
    {
     "data": {
      "text/plain": [
       "False"
      ]
     },
     "execution_count": 32,
     "metadata": {},
     "output_type": "execute_result"
    }
   ],
   "source": [
    "a = 5\n",
    "b = 5\n",
    "\n",
    "a is not b"
   ]
  },
  {
   "cell_type": "code",
   "execution_count": 33,
   "metadata": {},
   "outputs": [
    {
     "data": {
      "text/plain": [
       "False"
      ]
     },
     "execution_count": 33,
     "metadata": {},
     "output_type": "execute_result"
    }
   ],
   "source": [
    "a = \"Passage describes the act of passing or traveling from one place to the next. People often use the word passage to specifically refer to a journey by ship, as in, The passage to America was long and hard.\"\n",
    "\n",
    "b = \"Passage describes the act of passing or traveling from one place to the next. People often use the word passage to specifically refer to a journey by ship, as in, The passage to America was long and hard.\"\n",
    "\n",
    "a is b"
   ]
  },
  {
   "cell_type": "code",
   "execution_count": 34,
   "metadata": {},
   "outputs": [
    {
     "name": "stdout",
     "output_type": "stream",
     "text": [
      "2561271726448\n",
      "2561271726448\n"
     ]
    },
    {
     "data": {
      "text/plain": [
       "False"
      ]
     },
     "execution_count": 34,
     "metadata": {},
     "output_type": "execute_result"
    }
   ],
   "source": [
    "c = \"Passage describes the act of passing or traveling from one place to the next. People often use the word passage to specifically refer to a journey by ship, as in, The passage to America was long and hard. A section of written work or music can also be called a passage.\"\n",
    "c = \"Passage describes the act of passing or traveling from one place to the next. People often use the word passage to specifically refer to a journey by ship, as in, The passage to America was long and hard. A section of written work or music can also be called a passage.\"\n",
    "\n",
    "print(id(c))\n",
    "print(id(c))\n",
    "\n",
    "c is not c\n"
   ]
  },
  {
   "cell_type": "markdown",
   "metadata": {},
   "source": [
    "### Membership Operator"
   ]
  },
  {
   "cell_type": "code",
   "execution_count": 35,
   "metadata": {},
   "outputs": [
    {
     "data": {
      "text/plain": [
       "True"
      ]
     },
     "execution_count": 35,
     "metadata": {},
     "output_type": "execute_result"
    }
   ],
   "source": [
    "# in\n",
    "# in not\n",
    "\n",
    "fruits = \"apple\"\n",
    "'a' in fruits"
   ]
  },
  {
   "cell_type": "code",
   "execution_count": 36,
   "metadata": {},
   "outputs": [
    {
     "data": {
      "text/plain": [
       "True"
      ]
     },
     "execution_count": 36,
     "metadata": {},
     "output_type": "execute_result"
    }
   ],
   "source": [
    "# in\n",
    "# in not\n",
    "\n",
    "fruits = \"apple\"\n",
    "'s' not in fruits"
   ]
  },
  {
   "cell_type": "code",
   "execution_count": 37,
   "metadata": {},
   "outputs": [
    {
     "data": {
      "text/plain": [
       "False"
      ]
     },
     "execution_count": 37,
     "metadata": {},
     "output_type": "execute_result"
    }
   ],
   "source": [
    "name = [\"ovais\" , 'rashid',\"ahmed\"]\n",
    "\"ovais\" not in name"
   ]
  },
  {
   "cell_type": "markdown",
   "metadata": {},
   "source": [
    "# Assignment:"
   ]
  },
  {
   "cell_type": "code",
   "execution_count": 38,
   "metadata": {},
   "outputs": [
    {
     "name": "stdout",
     "output_type": "stream",
     "text": [
      "My Full Name is : bnvhvj\n"
     ]
    },
    {
     "data": {
      "text/plain": [
       "True"
      ]
     },
     "execution_count": 38,
     "metadata": {},
     "output_type": "execute_result"
    }
   ],
   "source": [
    "name = input(\"Enter your Full Name :\")\n",
    "print(\"My Full Name is :\" , name)\n",
    "\n",
    "# full_name = (name)\n",
    "'Syed' not in  name\n"
   ]
  },
  {
   "cell_type": "markdown",
   "metadata": {},
   "source": [
    "# Data Types :\n",
    "#### 1. List\n",
    "#### 2. tuple\n",
    "#### 3. Dictionary\n",
    "#### 4. Set"
   ]
  },
  {
   "cell_type": "code",
   "execution_count": 39,
   "metadata": {},
   "outputs": [
    {
     "name": "stdout",
     "output_type": "stream",
     "text": [
      "<class 'list'>\n",
      "Declaring an empty List:  []\n"
     ]
    }
   ],
   "source": [
    "# List is a collection of Data and  it is ordered and changeable.[multible  data type]\n",
    "# Declaring an empty List\n",
    "fruits = []\n",
    "print(type(fruits))\n",
    "print(\"Declaring an empty List: \",  fruits)\n"
   ]
  },
  {
   "cell_type": "code",
   "execution_count": 40,
   "metadata": {},
   "outputs": [
    {
     "name": "stdout",
     "output_type": "stream",
     "text": [
      "<class 'list'>\n",
      "['mango', 'Banana', 'Cherry', 'Avacado', 'Dragon']\n",
      "5\n"
     ]
    }
   ],
   "source": [
    "fruits = [\"mango\",'Banana','Cherry','Avacado', 'Dragon']\n",
    "print(type(fruits))\n",
    "print(fruits)\n",
    "print(len(fruits))"
   ]
  },
  {
   "cell_type": "code",
   "execution_count": 41,
   "metadata": {},
   "outputs": [
    {
     "name": "stdout",
     "output_type": "stream",
     "text": [
      "['mango', 'Banana', 'Cherry', 'Avacado', 'Dragon', 'Apple']\n"
     ]
    }
   ],
   "source": [
    "# Adding elements in list by using append and insert\n",
    "fruits.append('Apple')\n",
    "print(fruits)"
   ]
  },
  {
   "cell_type": "code",
   "execution_count": 42,
   "metadata": {},
   "outputs": [
    {
     "name": "stdout",
     "output_type": "stream",
     "text": [
      "['mango', 'Banana', 'Cherry', 'Avacado', 'Dragon', 'Apple', 'Dragon Fruits']\n"
     ]
    }
   ],
   "source": [
    "fruits.append(\"Dragon Fruits\")\n",
    "print(fruits)"
   ]
  },
  {
   "cell_type": "markdown",
   "metadata": {},
   "source": [
    "# Indexing always start  from 0 to onwords:"
   ]
  },
  {
   "cell_type": "code",
   "execution_count": 43,
   "metadata": {},
   "outputs": [
    {
     "name": "stdout",
     "output_type": "stream",
     "text": [
      "Banana\n",
      "Avacado\n",
      "['mango', 'Banana', 'Cherry', 'Avacado', 'Dragon', 'Apple', 'Dragon Fruits']\n",
      "['Banana', 'Cherry', 'Avacado', 'Dragon']\n",
      "['mango', 'Cherry', 'Dragon']\n",
      "['Cherry', 'Dragon', 'Dragon Fruits']\n"
     ]
    }
   ],
   "source": [
    "print(fruits[1])\n",
    "print(fruits[3])\n",
    "# print(fruits[])\n",
    "print(fruits[:]) # Inclusive : Exclusive\n",
    "print(fruits[1:5])\n",
    "print(fruits[0:6:2])\n",
    "print(fruits[2:7:2])\n"
   ]
  },
  {
   "cell_type": "code",
   "execution_count": 44,
   "metadata": {},
   "outputs": [
    {
     "name": "stdout",
     "output_type": "stream",
     "text": [
      "['Banana', 'Cherry', 'Avacado', 'Dragon']\n"
     ]
    }
   ],
   "source": [
    "print(fruits[1:5])"
   ]
  },
  {
   "cell_type": "code",
   "execution_count": 45,
   "metadata": {},
   "outputs": [
    {
     "name": "stdout",
     "output_type": "stream",
     "text": [
      "<class 'list'>\n",
      "[100, 200, 300, 400, 500]\n",
      "[100, 200, 300, 400, 500, 600]\n",
      "[300, 400, 500]\n"
     ]
    }
   ],
   "source": [
    "list = [100,200,300, 400,500]\n",
    "print(type(list))\n",
    "print(list)\n",
    "\n",
    "list.append(600)\n",
    "print(list)\n",
    "print(list[-4:-1])\n"
   ]
  },
  {
   "cell_type": "markdown",
   "metadata": {},
   "source": [
    "# Negative Indexing:"
   ]
  },
  {
   "cell_type": "code",
   "execution_count": 46,
   "metadata": {},
   "outputs": [
    {
     "name": "stdout",
     "output_type": "stream",
     "text": [
      "Dragon Fruits\n",
      "['Cherry', 'Avacado', 'Dragon']\n",
      "['Banana', 'Avacado', 'Apple']\n",
      "['Banana', 'Avacado', 'Apple']\n"
     ]
    }
   ],
   "source": [
    "print(fruits[-1])\n",
    "print(fruits[-5:-2])\n",
    "print(fruits[-6:-1:2])\n",
    "print(fruits[-6::2])"
   ]
  },
  {
   "cell_type": "code",
   "execution_count": 48,
   "metadata": {},
   "outputs": [
    {
     "name": "stdout",
     "output_type": "stream",
     "text": [
      "7\n",
      "['mango', 'Banana', 'Cherry', 'Avacado', 'Dragon', 'Apple', 'Dragon Fruits']\n"
     ]
    }
   ],
   "source": [
    "print(len(fruits))\n",
    "print(fruits)"
   ]
  },
  {
   "cell_type": "markdown",
   "metadata": {},
   "source": [
    "# Insert Function:\n"
   ]
  },
  {
   "cell_type": "code",
   "execution_count": 53,
   "metadata": {},
   "outputs": [
    {
     "name": "stdout",
     "output_type": "stream",
     "text": [
      "['mango', 'Banana', 'Cherry', 'Appricot', 'Avacado', 'Dragon', 'Apple', 'Dragon Fruits']\n"
     ]
    }
   ],
   "source": [
    "fruits.insert(3,'Appricot')\n",
    "print(fruits)"
   ]
  },
  {
   "cell_type": "code",
   "execution_count": 11,
   "metadata": {},
   "outputs": [
    {
     "name": "stdout",
     "output_type": "stream",
     "text": [
      "['mango', 'Banana', 'Appricot', 'Cherry', 'Avacado', 'water melon', 'Dragon', 'Apple', 'Dragon Fruits']\n"
     ]
    },
    {
     "data": {
      "text/plain": [
       "9"
      ]
     },
     "execution_count": 11,
     "metadata": {},
     "output_type": "execute_result"
    }
   ],
   "source": [
    "fruits.insert(5,'water melon')\n",
    "print(fruits)\n",
    "len(fruits)"
   ]
  },
  {
   "cell_type": "markdown",
   "metadata": {},
   "source": [
    "# POP always delete an element from the end:"
   ]
  },
  {
   "cell_type": "code",
   "execution_count": 54,
   "metadata": {},
   "outputs": [
    {
     "name": "stdout",
     "output_type": "stream",
     "text": [
      "['mango', 'Banana', 'Cherry', 'Appricot', 'Avacado', 'Dragon', 'Apple']\n"
     ]
    }
   ],
   "source": [
    "fruits.pop()\n",
    "print(fruits)"
   ]
  },
  {
   "cell_type": "code",
   "execution_count": 49,
   "metadata": {},
   "outputs": [
    {
     "name": "stdout",
     "output_type": "stream",
     "text": [
      "['mango', 'Cherry', 'Avacado', 'Dragon', 'Apple', 'Dragon Fruits']\n"
     ]
    }
   ],
   "source": [
    "fruits.pop(1)\n",
    "print(fruits)"
   ]
  },
  {
   "cell_type": "code",
   "execution_count": 55,
   "metadata": {},
   "outputs": [
    {
     "name": "stdout",
     "output_type": "stream",
     "text": [
      "['Banana', 'Cherry', 'Appricot', 'Avacado', 'Dragon', 'Apple']\n"
     ]
    }
   ],
   "source": [
    "# pop always use for indexing number as an int\n",
    "fruits.pop(0)\n",
    "print(fruits)"
   ]
  },
  {
   "cell_type": "code",
   "execution_count": 56,
   "metadata": {},
   "outputs": [
    {
     "name": "stdout",
     "output_type": "stream",
     "text": [
      "['Banana', 'Cherry', 'Appricot', 'Avacado', 'Dragon']\n"
     ]
    }
   ],
   "source": [
    "# Remove function always use remove elements as in str\n",
    "fruits.remove('Apple')\n",
    "print(fruits)"
   ]
  },
  {
   "cell_type": "code",
   "execution_count": 15,
   "metadata": {},
   "outputs": [
    {
     "name": "stdout",
     "output_type": "stream",
     "text": [
      "['Banana', 'Appricot', 'Avacado', 'water melon', 'Dragon', 'Apple', ['mango', 'kiwi', 'melon']]\n"
     ]
    }
   ],
   "source": [
    "fruits_in_summer = [\"mango\" , 'kiwi','melon']\n",
    "fruits.append(fruits_in_summer)\n",
    "print(fruits)"
   ]
  },
  {
   "cell_type": "code",
   "execution_count": 19,
   "metadata": {},
   "outputs": [
    {
     "name": "stdout",
     "output_type": "stream",
     "text": [
      "Apple\n",
      "['mango', 'kiwi', 'melon']\n",
      "['kiwi', 'melon']\n",
      "kiwi\n",
      "['mango', 'melon']\n"
     ]
    }
   ],
   "source": [
    "print(fruits[5])\n",
    "print(fruits[6])\n",
    "print(fruits[6][1:])  #  Accessing the second element of the list at index 6\n",
    "print(fruits[6][1])\n",
    "print(fruits[6][0::2])"
   ]
  },
  {
   "cell_type": "code",
   "execution_count": 52,
   "metadata": {},
   "outputs": [
    {
     "name": "stdout",
     "output_type": "stream",
     "text": [
      "['mango', 'Cherry', 'Avacado', 'Dragon', 'Apple', 'Dragon Fruits']\n"
     ]
    }
   ],
   "source": [
    "print(fruits)"
   ]
  },
  {
   "cell_type": "code",
   "execution_count": null,
   "metadata": {},
   "outputs": [
    {
     "name": "stdout",
     "output_type": "stream",
     "text": [
      "1\n"
     ]
    }
   ],
   "source": [
    "# Count Function is used for how many times element  is present in the list\n",
    "fruits.count('mango')\n",
    "fruits.count('Banana')\n",
    "print(fruits.count('Dragon'))"
   ]
  },
  {
   "cell_type": "code",
   "execution_count": 61,
   "metadata": {},
   "outputs": [
    {
     "name": "stdout",
     "output_type": "stream",
     "text": [
      "0\n"
     ]
    }
   ],
   "source": [
    "fruits[3].count('melon')\n",
    "print(fruits[3].count('melon'))"
   ]
  },
  {
   "cell_type": "code",
   "execution_count": 36,
   "metadata": {},
   "outputs": [
    {
     "name": "stdout",
     "output_type": "stream",
     "text": [
      "[['mango', 'kiwi', 'melon'], 'Apple', 'Dragon', 'water melon', 'Avacado', 'Appricot', 'Banana']\n"
     ]
    }
   ],
   "source": [
    "# Reverse Function is  used to reverse the string\n",
    "\n",
    "fruits.reverse()\n",
    "print(fruits)"
   ]
  }
 ],
 "metadata": {
  "kernelspec": {
   "display_name": "Python 3",
   "language": "python",
   "name": "python3"
  },
  "language_info": {
   "codemirror_mode": {
    "name": "ipython",
    "version": 3
   },
   "file_extension": ".py",
   "mimetype": "text/x-python",
   "name": "python",
   "nbconvert_exporter": "python",
   "pygments_lexer": "ipython3",
   "version": "3.12.7"
  }
 },
 "nbformat": 4,
 "nbformat_minor": 2
}
