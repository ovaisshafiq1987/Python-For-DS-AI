{
 "cells": [
  {
   "cell_type": "markdown",
   "metadata": {},
   "source": [
    "# 4th Week"
   ]
  },
  {
   "cell_type": "markdown",
   "metadata": {},
   "source": [
    "# 7. Dictionary (dict)\n",
    "\n",
    "Dictionaries are un ordered collection  of key-value pairs. They are mutable, meaning they can be changed after creation.define using curly braces {}\n"
   ]
  },
  {
   "cell_type": "code",
   "execution_count": 15,
   "metadata": {},
   "outputs": [
    {
     "name": "stdout",
     "output_type": "stream",
     "text": [
      "<class 'dict'>\n"
     ]
    }
   ],
   "source": [
    "d = {}\n",
    "print(type(d))"
   ]
  },
  {
   "cell_type": "code",
   "execution_count": 16,
   "metadata": {},
   "outputs": [
    {
     "name": "stdout",
     "output_type": "stream",
     "text": [
      "<class 'set'>\n",
      "<class 'set'>\n"
     ]
    }
   ],
   "source": [
    "d = set({})\n",
    "print(type(d))\n",
    "\n",
    "emp_d = set()\n",
    "print(type(emp_d))"
   ]
  },
  {
   "cell_type": "code",
   "execution_count": 17,
   "metadata": {},
   "outputs": [
    {
     "name": "stdout",
     "output_type": "stream",
     "text": [
      "{'Name': 'Ovais', 'Gender': 'Male', 'Skills': ['Data Science', 'ML', 'AI'], 'Age': 36}\n",
      "<class 'dict'>\n"
     ]
    }
   ],
   "source": [
    "person = {'Name' : 'Ovais',\n",
    "          'Gender' : 'Male',\n",
    "          'Skills' : ['Data Science','ML','AI'],\n",
    "          'Age' : 36}\n",
    "print(person)\n",
    "print(type(person))"
   ]
  },
  {
   "cell_type": "code",
   "execution_count": 18,
   "metadata": {},
   "outputs": [
    {
     "data": {
      "text/plain": [
       "dict_keys(['Name', 'Gender', 'Skills', 'Age'])"
      ]
     },
     "execution_count": 18,
     "metadata": {},
     "output_type": "execute_result"
    }
   ],
   "source": [
    "# Keys of a Dict\n",
    "\n",
    "person.keys()"
   ]
  },
  {
   "cell_type": "code",
   "execution_count": 19,
   "metadata": {},
   "outputs": [
    {
     "data": {
      "text/plain": [
       "dict_values(['Ovais', 'Male', ['Data Science', 'ML', 'AI'], 36])"
      ]
     },
     "execution_count": 19,
     "metadata": {},
     "output_type": "execute_result"
    }
   ],
   "source": [
    "# Values in our Dict\n",
    "\n",
    "person.values()"
   ]
  },
  {
   "cell_type": "code",
   "execution_count": 20,
   "metadata": {},
   "outputs": [
    {
     "data": {
      "text/plain": [
       "dict_items([('Name', 'Ovais'), ('Gender', 'Male'), ('Skills', ['Data Science', 'ML', 'AI']), ('Age', 36)])"
      ]
     },
     "execution_count": 20,
     "metadata": {},
     "output_type": "execute_result"
    }
   ],
   "source": [
    "# Keys and values together\n",
    "\n",
    "person.items()"
   ]
  },
  {
   "cell_type": "code",
   "execution_count": 25,
   "metadata": {},
   "outputs": [
    {
     "name": "stdout",
     "output_type": "stream",
     "text": [
      "['Data Science', 'ML', 'AI']\n"
     ]
    }
   ],
   "source": [
    "# # If i want specific keys in our dict\n",
    "print(person.get('Skills'))\n",
    "# person.get('Age')\n",
    "# print(person.get('Skills' , 'name'))"
   ]
  },
  {
   "cell_type": "code",
   "execution_count": 26,
   "metadata": {},
   "outputs": [
    {
     "name": "stdout",
     "output_type": "stream",
     "text": [
      "{'name': 'Ovais', 'Gender': 'Male', 'Marks': {'Python': 70, 'JS': 61, 'CSS': 58}, 'Age': 36}\n",
      "<class 'dict'>\n"
     ]
    }
   ],
   "source": [
    "person1 = {'name' : 'Ovais',\n",
    "          'Gender' : 'Male',\n",
    "          'Marks' : {'Python':70 , 'JS':61,'CSS':58},\n",
    "          'Age' : 36}\n",
    "print(person1)\n",
    "print(type(person1))"
   ]
  },
  {
   "cell_type": "code",
   "execution_count": 28,
   "metadata": {},
   "outputs": [
    {
     "name": "stdout",
     "output_type": "stream",
     "text": [
      "58\n"
     ]
    }
   ],
   "source": [
    "print(person1.get('Marks')['CSS'])"
   ]
  },
  {
   "cell_type": "code",
   "execution_count": 131,
   "metadata": {},
   "outputs": [
    {
     "data": {
      "text/plain": [
       "70"
      ]
     },
     "execution_count": 131,
     "metadata": {},
     "output_type": "execute_result"
    }
   ],
   "source": [
    "person1.get('Marks')['Python']"
   ]
  },
  {
   "cell_type": "code",
   "execution_count": 132,
   "metadata": {},
   "outputs": [
    {
     "ename": "TypeError",
     "evalue": "unsupported operand type(s) for +: 'dict' and 'dict'",
     "output_type": "error",
     "traceback": [
      "\u001b[1;31m---------------------------------------------------------------------------\u001b[0m",
      "\u001b[1;31mTypeError\u001b[0m                                 Traceback (most recent call last)",
      "Cell \u001b[1;32mIn[132], line 3\u001b[0m\n\u001b[0;32m      1\u001b[0m \u001b[38;5;66;03m# Concatination not allaowed\u001b[39;00m\n\u001b[1;32m----> 3\u001b[0m persons \u001b[38;5;241m=\u001b[39m \u001b[43mperson\u001b[49m\u001b[43m \u001b[49m\u001b[38;5;241;43m+\u001b[39;49m\u001b[43m \u001b[49m\u001b[43mperson1\u001b[49m\n\u001b[0;32m      4\u001b[0m \u001b[38;5;28mprint\u001b[39m(persons)\n",
      "\u001b[1;31mTypeError\u001b[0m: unsupported operand type(s) for +: 'dict' and 'dict'"
     ]
    }
   ],
   "source": [
    "# Concatination not allaowed\n",
    "\n",
    "persons = person + person1\n",
    "print(persons)"
   ]
  },
  {
   "cell_type": "code",
   "execution_count": 133,
   "metadata": {},
   "outputs": [
    {
     "name": "stdout",
     "output_type": "stream",
     "text": [
      "4\n",
      "4\n"
     ]
    }
   ],
   "source": [
    "print(len(person))\n",
    "print(len(person1))"
   ]
  },
  {
   "cell_type": "code",
   "execution_count": 134,
   "metadata": {},
   "outputs": [
    {
     "name": "stdout",
     "output_type": "stream",
     "text": [
      "{'Name': 'Ovais', 'Gender': 'Male', 'Skills': ['Data Science', 'ML', 'AI'], 'Age': 36, 'name': 'Ovais', 'Marks': {'Python': 70, 'JS': 61, 'CSS': 58}}\n"
     ]
    }
   ],
   "source": [
    "# Update\n",
    "\n",
    "person.update(person1)\n",
    "print(person)"
   ]
  },
  {
   "cell_type": "code",
   "execution_count": 135,
   "metadata": {},
   "outputs": [
    {
     "data": {
      "text/plain": [
       "70"
      ]
     },
     "execution_count": 135,
     "metadata": {},
     "output_type": "execute_result"
    }
   ],
   "source": [
    "person.get('Marks')['Python']\n",
    "\n"
   ]
  },
  {
   "cell_type": "code",
   "execution_count": 136,
   "metadata": {},
   "outputs": [
    {
     "name": "stdout",
     "output_type": "stream",
     "text": [
      "{'Name': 'Ovais', 'Gender': 'Male', 'Skills': ['Data Science', 'ML', 'AI'], 'Age': 36, 'name': 'Ovais', 'Marks': {'Python': 70, 'JS': 61, 'CSS': 58}, 'Organization': 'Al-Saadat Construction Solution'}\n"
     ]
    },
    {
     "data": {
      "text/plain": [
       "'Al-Saadat Construction Solution'"
      ]
     },
     "execution_count": 136,
     "metadata": {},
     "output_type": "execute_result"
    }
   ],
   "source": [
    "# Add key-value pair in  dictionary\n",
    "\n",
    "person['Organization']='Al-Saadat Construction Solution'\n",
    "print(person)\n",
    "\n",
    "person.get('Organization')\n",
    "# person.get('Address')\n"
   ]
  },
  {
   "cell_type": "code",
   "execution_count": 137,
   "metadata": {},
   "outputs": [
    {
     "name": "stdout",
     "output_type": "stream",
     "text": [
      "{'Name': 'Ovais', 'Gender': 'Male', 'Skills': ['Data Science', 'ML', 'AI'], 'Age': 36, 'name': 'Ovais', 'Marks': {'Python': 70, 'JS': 61, 'CSS': 58}, 'Organization': 'Al-Saadat Construction Solution', 'Roll': 14, 'Address': 'Saadi Town'}\n"
     ]
    },
    {
     "data": {
      "text/plain": [
       "'Saadi Town'"
      ]
     },
     "execution_count": 137,
     "metadata": {},
     "output_type": "execute_result"
    }
   ],
   "source": [
    "#Update\n",
    "\n",
    "person.update({'Roll':14,'Address':'Saadi Town'})\n",
    "print(person)\n",
    "person.get('Address')"
   ]
  },
  {
   "cell_type": "code",
   "execution_count": 138,
   "metadata": {},
   "outputs": [
    {
     "data": {
      "text/plain": [
       "['Address',\n",
       " 'Age',\n",
       " 'Gender',\n",
       " 'Marks',\n",
       " 'Name',\n",
       " 'Organization',\n",
       " 'Roll',\n",
       " 'Skills',\n",
       " 'name']"
      ]
     },
     "execution_count": 138,
     "metadata": {},
     "output_type": "execute_result"
    }
   ],
   "source": [
    "sorted(person)"
   ]
  },
  {
   "cell_type": "code",
   "execution_count": 139,
   "metadata": {},
   "outputs": [
    {
     "data": {
      "text/plain": [
       "'Male'"
      ]
     },
     "execution_count": 139,
     "metadata": {},
     "output_type": "execute_result"
    }
   ],
   "source": [
    "# Working with Keys and delete the key from dict\n",
    "person.pop('Gender')"
   ]
  },
  {
   "cell_type": "code",
   "execution_count": 92,
   "metadata": {},
   "outputs": [
    {
     "name": "stdout",
     "output_type": "stream",
     "text": [
      "{'Name': 'Ovais', 'Skills': ['Data Science', 'ML', 'AI'], 'Age': 36, 'name': 'Ovais', 'Marks': {'Python': 70, 'JS': 61, 'CSS': 58}, 'Organization': 'Al-Saadat Construction Solution', 'Roll': 14, 'Address': 'Saadi Town'}\n"
     ]
    }
   ],
   "source": [
    "print(person)"
   ]
  },
  {
   "cell_type": "code",
   "execution_count": 140,
   "metadata": {},
   "outputs": [
    {
     "data": {
      "text/plain": [
       "('Address', 'Saadi Town')"
      ]
     },
     "execution_count": 140,
     "metadata": {},
     "output_type": "execute_result"
    }
   ],
   "source": [
    "# This function take last items and delete last items\n",
    "person.popitem()"
   ]
  },
  {
   "cell_type": "code",
   "execution_count": 141,
   "metadata": {},
   "outputs": [
    {
     "data": {
      "text/plain": [
       "{'Name': 'Ovais',\n",
       " 'Skills': ['Data Science', 'ML', 'AI'],\n",
       " 'Age': 36,\n",
       " 'name': 'Ovais',\n",
       " 'Marks': {'Python': 70, 'JS': 61, 'CSS': 58},\n",
       " 'Organization': 'Al-Saadat Construction Solution',\n",
       " 'Roll': 14}"
      ]
     },
     "execution_count": 141,
     "metadata": {},
     "output_type": "execute_result"
    }
   ],
   "source": [
    "person"
   ]
  },
  {
   "cell_type": "code",
   "execution_count": 97,
   "metadata": {},
   "outputs": [
    {
     "data": {
      "text/plain": [
       "{'n': 'Ovais', 'a': 'Ovais', 'm': 'Ovais', 'e': 'Ovais'}"
      ]
     },
     "execution_count": 97,
     "metadata": {},
     "output_type": "execute_result"
    }
   ],
   "source": [
    "person.fromkeys('name','Ovais')"
   ]
  },
  {
   "cell_type": "code",
   "execution_count": 142,
   "metadata": {},
   "outputs": [
    {
     "data": {
      "text/plain": [
       "{'Name': 'Ovais',\n",
       " 'Skills': ['Data Science', 'ML', 'AI'],\n",
       " 'Age': 36,\n",
       " 'name': 'Ovais',\n",
       " 'Marks': {'Python': 70, 'JS': 61, 'CSS': 58},\n",
       " 'Organization': 'Al-Saadat Construction Solution',\n",
       " 'Roll': 14,\n",
       " 'Profession': 'System Engineer'}"
      ]
     },
     "execution_count": 142,
     "metadata": {},
     "output_type": "execute_result"
    }
   ],
   "source": [
    "person['Profession']='System Engineer'\n",
    "person"
   ]
  },
  {
   "cell_type": "code",
   "execution_count": 100,
   "metadata": {},
   "outputs": [],
   "source": [
    "del person"
   ]
  },
  {
   "cell_type": "code",
   "execution_count": 144,
   "metadata": {},
   "outputs": [
    {
     "name": "stdout",
     "output_type": "stream",
     "text": [
      "Sajid Majeed\n"
     ]
    }
   ],
   "source": [
    "python = {\n",
    "    'Brand':'Ford',\n",
    "    'Teacher':'Sajid Majeed',\n",
    "    'Year':1996\n",
    "    }\n",
    "x = python.setdefault('Teacher','Ovais')\n",
    "\n",
    "print(x)\n"
   ]
  },
  {
   "cell_type": "markdown",
   "metadata": {},
   "source": [
    "# Built in Libraries"
   ]
  },
  {
   "cell_type": "code",
   "execution_count": 145,
   "metadata": {},
   "outputs": [
    {
     "name": "stdout",
     "output_type": "stream",
     "text": [
      "['__doc__', '__loader__', '__name__', '__package__', '__spec__', 'acos', 'acosh', 'asin', 'asinh', 'atan', 'atan2', 'atanh', 'cbrt', 'ceil', 'comb', 'copysign', 'cos', 'cosh', 'degrees', 'dist', 'e', 'erf', 'erfc', 'exp', 'exp2', 'expm1', 'fabs', 'factorial', 'floor', 'fmod', 'frexp', 'fsum', 'gamma', 'gcd', 'hypot', 'inf', 'isclose', 'isfinite', 'isinf', 'isnan', 'isqrt', 'lcm', 'ldexp', 'lgamma', 'log', 'log10', 'log1p', 'log2', 'modf', 'nan', 'nextafter', 'perm', 'pi', 'pow', 'prod', 'radians', 'remainder', 'sin', 'sinh', 'sqrt', 'sumprod', 'tan', 'tanh', 'tau', 'trunc', 'ulp']\n"
     ]
    }
   ],
   "source": [
    "import math\n",
    "print(dir(math))"
   ]
  },
  {
   "cell_type": "code",
   "execution_count": 146,
   "metadata": {},
   "outputs": [
    {
     "data": {
      "text/plain": [
       "3"
      ]
     },
     "execution_count": 146,
     "metadata": {},
     "output_type": "execute_result"
    }
   ],
   "source": [
    "math.floor(3.4)"
   ]
  },
  {
   "cell_type": "code",
   "execution_count": 147,
   "metadata": {},
   "outputs": [
    {
     "data": {
      "text/plain": [
       "4"
      ]
     },
     "execution_count": 147,
     "metadata": {},
     "output_type": "execute_result"
    }
   ],
   "source": [
    "math.ceil(3.5)"
   ]
  },
  {
   "cell_type": "code",
   "execution_count": 148,
   "metadata": {},
   "outputs": [
    {
     "data": {
      "text/plain": [
       "4.0"
      ]
     },
     "execution_count": 148,
     "metadata": {},
     "output_type": "execute_result"
    }
   ],
   "source": [
    "math.sqrt(16)"
   ]
  },
  {
   "cell_type": "code",
   "execution_count": 149,
   "metadata": {},
   "outputs": [
    {
     "data": {
      "text/plain": [
       "0.8939966636005579"
      ]
     },
     "execution_count": 149,
     "metadata": {},
     "output_type": "execute_result"
    }
   ],
   "source": [
    "math.sin(90)"
   ]
  },
  {
   "cell_type": "code",
   "execution_count": 150,
   "metadata": {},
   "outputs": [
    {
     "data": {
      "text/plain": [
       "32.0"
      ]
     },
     "execution_count": 150,
     "metadata": {},
     "output_type": "execute_result"
    }
   ],
   "source": [
    "math.pow(2,5)"
   ]
  },
  {
   "cell_type": "code",
   "execution_count": 151,
   "metadata": {},
   "outputs": [
    {
     "data": {
      "text/plain": [
       "6"
      ]
     },
     "execution_count": 151,
     "metadata": {},
     "output_type": "execute_result"
    }
   ],
   "source": [
    "math.factorial(3)"
   ]
  },
  {
   "cell_type": "code",
   "execution_count": 152,
   "metadata": {},
   "outputs": [
    {
     "data": {
      "text/plain": [
       "720"
      ]
     },
     "execution_count": 152,
     "metadata": {},
     "output_type": "execute_result"
    }
   ],
   "source": [
    "math.factorial(6)"
   ]
  },
  {
   "cell_type": "code",
   "execution_count": 153,
   "metadata": {},
   "outputs": [
    {
     "data": {
      "text/plain": [
       "['AddPackagePath',\n",
       " 'Module',\n",
       " 'ModuleFinder',\n",
       " 'ReplacePackage',\n",
       " '_C_BUILTIN',\n",
       " '_C_EXTENSION',\n",
       " '_PKG_DIRECTORY',\n",
       " '_PY_COMPILED',\n",
       " '_PY_FROZEN',\n",
       " '_PY_SOURCE',\n",
       " '_SEARCH_ERROR',\n",
       " '__builtins__',\n",
       " '__cached__',\n",
       " '__doc__',\n",
       " '__file__',\n",
       " '__loader__',\n",
       " '__name__',\n",
       " '__package__',\n",
       " '__spec__',\n",
       " '_find_module',\n",
       " 'dis',\n",
       " 'importlib',\n",
       " 'io',\n",
       " 'marshal',\n",
       " 'os',\n",
       " 'packagePathMap',\n",
       " 'replacePackageMap',\n",
       " 'sys',\n",
       " 'test']"
      ]
     },
     "execution_count": 153,
     "metadata": {},
     "output_type": "execute_result"
    }
   ],
   "source": [
    "import modulefinder\n",
    "dir(modulefinder)"
   ]
  },
  {
   "cell_type": "code",
   "execution_count": 157,
   "metadata": {},
   "outputs": [
    {
     "data": {
      "text/plain": [
       "8"
      ]
     },
     "execution_count": 157,
     "metadata": {},
     "output_type": "execute_result"
    }
   ],
   "source": [
    "import random\n",
    "random.randint(1,20)"
   ]
  },
  {
   "cell_type": "markdown",
   "metadata": {},
   "source": [
    "# Conditional Statements\n",
    "\n",
    "### if - Elif  - Else Statement\n"
   ]
  },
  {
   "cell_type": "code",
   "execution_count": 164,
   "metadata": {},
   "outputs": [
    {
     "name": "stdout",
     "output_type": "stream",
     "text": [
      "You are an adult\n"
     ]
    }
   ],
   "source": [
    "age = int(input(\"Enter Your Age\"))\n",
    "\n",
    "if age > 18:\n",
    "    print(\"You are an adult\")\n",
    "else:\n",
    "    print(\"You are a minor\")"
   ]
  },
  {
   "cell_type": "code",
   "execution_count": null,
   "metadata": {},
   "outputs": [
    {
     "name": "stdout",
     "output_type": "stream",
     "text": [
      "You are not elegible for any of the above\n"
     ]
    }
   ],
   "source": [
    "age = int(input(\"Enter Your Age\"))\n",
    "\n",
    "if age >= 18:\n",
    "    print(\"You are elegible for University\")\n",
    "elif age >=14 :\n",
    "    print(\"Your are elegible for HSE\")\n",
    "else:\n",
    "    print(\"You are not elegible for any of the above\")\n"
   ]
  },
  {
   "cell_type": "code",
   "execution_count": 3,
   "metadata": {},
   "outputs": [
    {
     "name": "stdout",
     "output_type": "stream",
     "text": [
      "Your name is quite long!\n",
      "The length of your name is: 7 characters.and Your Name is : Shafeeq\n"
     ]
    }
   ],
   "source": [
    "# Get user input for the name\n",
    "name = input(\"Please enter your name: \")\n",
    "\n",
    "# Check the length of the name and respond accordingly\n",
    "if len(name) < 4:\n",
    "    print(\"Your name is too short!\")\n",
    "elif len(name) <= 6:\n",
    "    print(\"Your name is of average length.\")\n",
    "else:\n",
    "    print(\"Your name is quite long!\")\n",
    "\n",
    "# Optionally, print the actual length of the name\n",
    "print(f\"The length of your name is: {len(name)} characters.and Your Name is : {name}\")\n",
    "\n"
   ]
  },
  {
   "cell_type": "code",
   "execution_count": 6,
   "metadata": {},
   "outputs": [
    {
     "name": "stdout",
     "output_type": "stream",
     "text": [
      "The largest number is: 14.0\n",
      "The smallest number is: 12.0\n"
     ]
    }
   ],
   "source": [
    "# Get input from the user\n",
    "num1 = float(input(\"Enter the first number: \"))\n",
    "num2 = float(input(\"Enter the second number: \"))\n",
    "num3 = float(input(\"Enter the third number: \"))\n",
    "\n",
    "# Determine the largest number\n",
    "if num1 >= num2 and num1 >= num3:\n",
    "    largest = num1\n",
    "elif num2 >= num1 and num2 >= num3:\n",
    "    largest = num2\n",
    "else:\n",
    "    largest = num3\n",
    "\n",
    "# Determine the smallest number\n",
    "if num1 <= num2 and num1 <= num3:\n",
    "    smallest = num1\n",
    "elif num2 <= num1 and num2 <= num3:\n",
    "    smallest = num2\n",
    "else:\n",
    "    smallest = num3\n",
    "\n",
    "# Output the results\n",
    "print(f\"The largest number is: {largest}\")\n",
    "print(f\"The smallest number is: {smallest}\")\n"
   ]
  },
  {
   "cell_type": "code",
   "execution_count": 7,
   "metadata": {},
   "outputs": [
    {
     "name": "stdout",
     "output_type": "stream",
     "text": [
      "Number 3 is Largest 16.0\n"
     ]
    }
   ],
   "source": [
    "# Get input from the user\n",
    "num1 = float(input(\"Enter the first number: \"))\n",
    "num2 = float(input(\"Enter the second number: \"))\n",
    "num3 = float(input(\"Enter the third number: \"))\n",
    "\n",
    "if num1>num2 and num1>num3:\n",
    "    print(\"Number 1 is Largest\" , num1)\n",
    "elif num2>num3:\n",
    "    print(\"Number 2 is Largest\" ,num2)\n",
    "else:\n",
    "    print(\"Number 3 is Largest\", num3)"
   ]
  },
  {
   "cell_type": "code",
   "execution_count": null,
   "metadata": {},
   "outputs": [],
   "source": [
    "# Get user input\n",
    "number = float(input(\"Please enter a number: \"))\n",
    "\n",
    "# Check if the number is positive, negative, or zero\n",
    "if number > 0:\n",
    "    print(\"The number is positive.\")\n",
    "elif number < 0:\n",
    "    print(\"The number is negative.\")\n",
    "else:\n",
    "    print(\"The number is zero.\")\n"
   ]
  },
  {
   "cell_type": "markdown",
   "metadata": {},
   "source": [
    "# In This program is mai uer ager space ya str dalta hai tu invalid daiga ye just one of code"
   ]
  },
  {
   "cell_type": "code",
   "execution_count": 12,
   "metadata": {},
   "outputs": [
    {
     "name": "stdout",
     "output_type": "stream",
     "text": [
      "The number is Zero.\n"
     ]
    }
   ],
   "source": [
    "user_input = input(\"Enter YOur Number\")\n",
    "\n",
    "if user_input.replace(\".\" , \"\").replace(\"-\" , \"\").replace(\"+\" , \"\").isdigit():\n",
    "# check if input is digit\n",
    "    num = float(user_input)\n",
    "    if num > 0:\n",
    "        print(\"The number is positive.\")\n",
    "    \n",
    "    elif num == 0:\n",
    "        print(\"The number is Zero.\")\n",
    "    else:\n",
    "        print(\"The number is Negative.\")\n",
    "else:\n",
    "    print(\"Invalid input. Please enter a valid number.\")\n"
   ]
  },
  {
   "cell_type": "markdown",
   "metadata": {},
   "source": [
    "## User Name and Password"
   ]
  },
  {
   "cell_type": "code",
   "execution_count": 30,
   "metadata": {},
   "outputs": [
    {
     "name": "stdout",
     "output_type": "stream",
     "text": [
      "Welcome to Dashboard\n"
     ]
    }
   ],
   "source": [
    "user_id = input(\"Enter Your Email\")\n",
    "user_pass = int(input(\"Enter Your Password\"))\n",
    "\n",
    "user_name = \"ovais\"\n",
    "password = 12345\n",
    "\n",
    "if user_id==user_name and user_pass==password:\n",
    "    print(\"Welcome to Dashboard\")\n",
    "else:\n",
    "    print(\"Invalid User\")\n",
    "    \n"
   ]
  },
  {
   "cell_type": "code",
   "execution_count": 4,
   "metadata": {},
   "outputs": [
    {
     "name": "stdout",
     "output_type": "stream",
     "text": [
      "Wrong password.\n",
      "Wrong email and password.\n",
      "Wrong email and password.\n",
      "You are not authorized to attempt furthermore.\n"
     ]
    }
   ],
   "source": [
    "# Stored email and password\n",
    "stored_email = \"ovais@gmail.com\"\n",
    "stored_password = \"password123\"\n",
    "\n",
    "# Maximum number of attempts\n",
    "max_attempts = 3\n",
    "attempts = 0\n",
    "\n",
    "while attempts < max_attempts:\n",
    "    # Get user input\n",
    "    email = input(\"Enter your email: \")\n",
    "    password = input(\"Enter your password: \")\n",
    "\n",
    "    # Check if email and password match\n",
    "    if email == stored_email and password == stored_password:\n",
    "        print(\"Login successful!\")\n",
    "        break  # Exit the loop if login is successful\n",
    "    elif email != stored_email and password != stored_password:\n",
    "        print(\"Wrong email and password.\")\n",
    "    elif email != stored_email:\n",
    "        print(\"Wrong email.\")\n",
    "    elif password != stored_password:\n",
    "        print(\"Wrong password.\")\n",
    "\n",
    "    # Increment the number of attempts\n",
    "    attempts += 1\n",
    "\n",
    "# If maximum attempts reached\n",
    "if attempts == max_attempts:\n",
    "    print(\"You are not authorized to attempt furthermore.\")\n"
   ]
  },
  {
   "cell_type": "code",
   "execution_count": 9,
   "metadata": {},
   "outputs": [
    {
     "name": "stdout",
     "output_type": "stream",
     "text": [
      "Wrong Email and Password\n",
      "Wrong Password\n",
      "Wrong Email\n",
      "You are not authorized to attempt furthermore.\n"
     ]
    }
   ],
   "source": [
    "fix_email = 'ovais@gmail.com'\n",
    "fix_pass = \"12345\"\n",
    "\n",
    "maximum_attempts = 3\n",
    "attempt = 0\n",
    "\n",
    "while attempt < maximum_attempts:\n",
    "    email_1 = input(\"Enter Your Email \")\n",
    "    password_1 = input(\"Enter you Password\")\n",
    "    \n",
    "    if email_1==fix_email and password_1==fix_pass:\n",
    "        print(\"Successfully Login\")\n",
    "        break\n",
    "    elif fix_email!=email_1 and fix_pass!=password_1:\n",
    "        print(\"Wrong Email and Password\")\n",
    "    elif email_1!=fix_email:\n",
    "        print(\"Wrong Email\")\n",
    "    elif password_1!=fix_pass:\n",
    "        print(\"Wrong Password\")\n",
    "    \n",
    "    attempt +=1\n",
    "    \n",
    "    if attempt==maximum_attempts:\n",
    "        print(\"You are not authorized to attempt furthermore.\")   "
   ]
  }
 ],
 "metadata": {
  "kernelspec": {
   "display_name": "Python 3",
   "language": "python",
   "name": "python3"
  },
  "language_info": {
   "codemirror_mode": {
    "name": "ipython",
    "version": 3
   },
   "file_extension": ".py",
   "mimetype": "text/x-python",
   "name": "python",
   "nbconvert_exporter": "python",
   "pygments_lexer": "ipython3",
   "version": "3.12.7"
  }
 },
 "nbformat": 4,
 "nbformat_minor": 2
}
