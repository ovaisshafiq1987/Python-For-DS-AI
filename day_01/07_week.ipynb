{
 "cells": [
  {
   "cell_type": "code",
   "execution_count": 1,
   "metadata": {},
   "outputs": [
    {
     "name": "stdout",
     "output_type": "stream",
     "text": [
      "1\n",
      "121\n",
      "12321\n",
      "1234321\n",
      "123454321\n"
     ]
    }
   ],
   "source": [
    "rows = int(input('Enter Number of Rows'))\n",
    "\n",
    "for i in range(1 , rows+1):\n",
    "    for j in range(1 , i+1):\n",
    "        print(j,end='')\n",
    "    for k in range(i-1 , 0 , -1):\n",
    "        print(k ,end='')\n",
    "        \n",
    "    print()"
   ]
  },
  {
   "cell_type": "markdown",
   "metadata": {},
   "source": [
    "# Python Functions\n",
    "\n",
    "### In python, the function is a block of code define with a name. It can be reused multiple times in the program.\n",
    "### The function can take arguments and return values.\n",
    "### The function can be defined inside another function.\n",
    "### The function can be defined with default arguments."
   ]
  },
  {
   "cell_type": "code",
   "execution_count": 18,
   "metadata": {},
   "outputs": [
    {
     "name": "stdout",
     "output_type": "stream",
     "text": [
      "Welcome to Python\n"
     ]
    }
   ],
   "source": [
    "# function\n",
    "def message():\n",
    "    print(\"Welcome to Python\")\n",
    "# call function using its name\n",
    "message()"
   ]
  },
  {
   "cell_type": "code",
   "execution_count": 19,
   "metadata": {},
   "outputs": [
    {
     "data": {
      "text/plain": [
       "'Welcome to Python'"
      ]
     },
     "execution_count": 19,
     "metadata": {},
     "output_type": "execute_result"
    }
   ],
   "source": [
    "# function\n",
    "def message():\n",
    "    return \"Welcome to Python\"\n",
    "# call function using its name\n",
    "message()"
   ]
  },
  {
   "cell_type": "code",
   "execution_count": null,
   "metadata": {},
   "outputs": [],
   "source": [
    "def is_even(num):\n",
    "  \"\"\"\n",
    "  This function returns if a given number is odd or even\n",
    "  input - any valid integer\n",
    "  output - odd/even\n",
    "  created on - 29th August 2024\n",
    "  \"\"\"\n",
    "  if type(num) == int:\n",
    "    if num % 2 == 0:\n",
    "      return 'even'\n",
    "    else:\n",
    "      return 'odd'\n",
    "  else:\n",
    "    return 'Enter valid Number'\n",
    "\n",
    "print(is_even(7))\n",
    "print(is_even(8))\n",
    "print(is_even('Hello'))"
   ]
  },
  {
   "cell_type": "code",
   "execution_count": 26,
   "metadata": {},
   "outputs": [
    {
     "data": {
      "text/plain": [
       "9"
      ]
     },
     "execution_count": 26,
     "metadata": {},
     "output_type": "execute_result"
    }
   ],
   "source": [
    "#function to find square of a number\n",
    "def square(): \n",
    "    # \"\"\"doc string\"\"\"\n",
    "    \"\"\"\n",
    "    This function is used for only square\n",
    "    \"\"\"  \n",
    "    x = 3**2  # expression\n",
    "    return x # statement\n",
    "\n",
    "square()"
   ]
  },
  {
   "cell_type": "code",
   "execution_count": 27,
   "metadata": {},
   "outputs": [
    {
     "data": {
      "text/plain": [
       "8"
      ]
     },
     "execution_count": 27,
     "metadata": {},
     "output_type": "execute_result"
    }
   ],
   "source": [
    "number = int(input(\"enter a number: \"))\n",
    "\n",
    "def cube():\n",
    "  x = number**3\n",
    "  return x\n",
    "\n",
    "cube()"
   ]
  },
  {
   "cell_type": "code",
   "execution_count": 28,
   "metadata": {},
   "outputs": [
    {
     "name": "stdout",
     "output_type": "stream",
     "text": [
      "Ovais Shafiq\n"
     ]
    }
   ],
   "source": [
    "def my_function(fname, lname):\n",
    "  print(fname + \" \" + lname)\n",
    "  \n",
    "  \n",
    "my_function(\"Ovais\", \"Shafiq\")"
   ]
  },
  {
   "cell_type": "code",
   "execution_count": 30,
   "metadata": {},
   "outputs": [
    {
     "name": "stdout",
     "output_type": "stream",
     "text": [
      "Name:  Ovais Shafiq\n",
      "Age:  36\n",
      "Organization:  Al-Saadat\n"
     ]
    }
   ],
   "source": [
    "def data(fn,ln,age,org):\n",
    "  print('Name: ',fn,ln)\n",
    "  print('Age: ',age)\n",
    "  print('Organization: ',org)\n",
    "\n",
    "data('Ovais','Shafiq',36,'Al-Saadat')"
   ]
  },
  {
   "cell_type": "code",
   "execution_count": 2,
   "metadata": {},
   "outputs": [
    {
     "name": "stdout",
     "output_type": "stream",
     "text": [
      "Number 1: 2\n",
      "Number 2: 4\n",
      "6\n"
     ]
    }
   ],
   "source": [
    "def add(num1 , num2):\n",
    "    print(\"Number 1:\", num1)\n",
    "    print(\"Number 2:\", num2)\n",
    "    addition = num1 + num2\n",
    "    \n",
    "    return addition\n",
    "# This is the body of the function.\n",
    "\n",
    "res = add(2,4)\n",
    "print(res)"
   ]
  },
  {
   "cell_type": "code",
   "execution_count": 4,
   "metadata": {},
   "outputs": [],
   "source": [
    "def welcome():\n",
    "    print(\"Good Morning! Have a nice Day\")"
   ]
  },
  {
   "cell_type": "code",
   "execution_count": 5,
   "metadata": {},
   "outputs": [
    {
     "name": "stdout",
     "output_type": "stream",
     "text": [
      "Good Morning! Have a nice Day\n"
     ]
    }
   ],
   "source": [
    "welcome()"
   ]
  },
  {
   "cell_type": "code",
   "execution_count": 7,
   "metadata": {},
   "outputs": [
    {
     "name": "stdout",
     "output_type": "stream",
     "text": [
      "Good Morning Ovais Have a nice Day\n"
     ]
    }
   ],
   "source": [
    "def welcome(name):\n",
    "    print(\"Good Morning\" , name, \"Have a nice Day\")\n",
    "welcome('Ovais')"
   ]
  },
  {
   "cell_type": "code",
   "execution_count": 8,
   "metadata": {},
   "outputs": [
    {
     "name": "stdout",
     "output_type": "stream",
     "text": [
      "Good Morning Syed Muhammad Ovais Have a nice Day\n"
     ]
    }
   ],
   "source": [
    "def welcome(name):\n",
    "    print(\"Good Morning\" , name, \"Have a nice Day\")\n",
    "name = input(\"Enter Your Name\")\n",
    "welcome(name)"
   ]
  },
  {
   "cell_type": "code",
   "execution_count": 10,
   "metadata": {},
   "outputs": [
    {
     "name": "stdout",
     "output_type": "stream",
     "text": [
      "8\n"
     ]
    }
   ],
   "source": [
    "def add(num1 , num2):\n",
    "    print(\"Number 1 is: \", num1)\n",
    "    print(\"Number 2 is: \", num2)\n",
    "nuumber1 = int(input(\"Enter the 1st number\"))\n",
    "nuumber2 = int(input(\"Enter the 2nd number\"))\n",
    "result = nuumber1+nuumber2\n",
    "\n",
    "print(result)"
   ]
  },
  {
   "cell_type": "code",
   "execution_count": 11,
   "metadata": {},
   "outputs": [
    {
     "name": "stdout",
     "output_type": "stream",
     "text": [
      "The sum of the given numbers 3 and 5 is 8\n"
     ]
    }
   ],
   "source": [
    "def add(num1,num2):\n",
    "    sum=num1+num2\n",
    "    print(\"The sum of the given numbers\",num1,\"and\",num2,\"is\",sum)\n",
    "num1=int(input(\"Enter first number:\"))\n",
    "num2=int(input(\"Enter second number:\"))\n",
    "add(num1,num2)"
   ]
  },
  {
   "cell_type": "code",
   "execution_count": 12,
   "metadata": {},
   "outputs": [
    {
     "data": {
      "text/plain": [
       "9"
      ]
     },
     "execution_count": 12,
     "metadata": {},
     "output_type": "execute_result"
    }
   ],
   "source": [
    "def add(num1,num2):\n",
    "    return num1+num2\n",
    "add(3,6)"
   ]
  },
  {
   "cell_type": "code",
   "execution_count": 14,
   "metadata": {},
   "outputs": [
    {
     "name": "stdout",
     "output_type": "stream",
     "text": [
      "The number you entered is even\n"
     ]
    }
   ],
   "source": [
    "def check_even(num):\n",
    "    if num%2==0:\n",
    "        print(\"The number you entered is even\")\n",
    "    else:\n",
    "        print(\"The number you entered is odd\")\n",
    "num=int(input(\"Enter a number\"))\n",
    "check_even(num)"
   ]
  },
  {
   "cell_type": "code",
   "execution_count": 16,
   "metadata": {},
   "outputs": [
    {
     "name": "stdout",
     "output_type": "stream",
     "text": [
      "Number is Odd\n"
     ]
    }
   ],
   "source": [
    "def num_even(num):\n",
    "    if num % 2 == 0:\n",
    "        print(\"Number is Even\")\n",
    "    else:\n",
    "        print(\"Number is Odd\")\n",
    "num = int(input(\"Enter a number: \"))\n",
    "num_even(num)"
   ]
  },
  {
   "cell_type": "code",
   "execution_count": 35,
   "metadata": {},
   "outputs": [
    {
     "name": "stdout",
     "output_type": "stream",
     "text": [
      "Area of the circle: 28.27\n",
      "Circumference of the circle: 18.85\n"
     ]
    }
   ],
   "source": [
    "import math\n",
    "\n",
    "def circle_properties(radius):\n",
    "    \"\"\"\n",
    "    This function calculates the area and circumference of a circle given its radius.\n",
    "    \"\"\"\n",
    "    area = math.pi * radius**2  # Area formula\n",
    "    circumference = 2 * math.pi * radius  # Circumference formula\n",
    "    return area, circumference\n",
    "\n",
    "# Example usage\n",
    "radius = float(input(\"Enter the radius of the circle: \"))\n",
    "area, circumference = circle_properties(radius)\n",
    "\n",
    "print(f\"Area of the circle: {area:.2f}\")\n",
    "print(f\"Circumference of the circle: {circumference:.2f}\")\n",
    "\n"
   ]
  },
  {
   "cell_type": "markdown",
   "metadata": {},
   "source": [
    "# Week 7 2nd Day"
   ]
  },
  {
   "cell_type": "code",
   "execution_count": null,
   "metadata": {},
   "outputs": [],
   "source": [
    "def list_sqr():\n",
    "    \n",
    "    temp_list = []\n",
    "    for num in num_list:\n",
    "        temp_list.append(num ** 2)\n",
    "    return temp_list\n",
    "        \n",
    "        \n",
    "num_list = [2,3,4,5]\n",
    "print(\"Orignal List\" , num_list)\n",
    "list_sqr(num_list)"
   ]
  },
  {
   "cell_type": "code",
   "execution_count": 37,
   "metadata": {},
   "outputs": [
    {
     "name": "stdout",
     "output_type": "stream",
     "text": [
      "4\n",
      "9\n",
      "16\n",
      "25\n",
      "36\n"
     ]
    }
   ],
   "source": [
    "def list_squares(num):\n",
    "    for x in num:\n",
    "        print(x**2)\n",
    "num=[2,3,4,5,6]\n",
    "\n",
    "list_squares(num)"
   ]
  },
  {
   "cell_type": "code",
   "execution_count": 42,
   "metadata": {},
   "outputs": [
    {
     "name": "stdout",
     "output_type": "stream",
     "text": [
      "oringnal List [2, 3, 4, 5]\n"
     ]
    },
    {
     "data": {
      "text/plain": [
       "14"
      ]
     },
     "execution_count": 42,
     "metadata": {},
     "output_type": "execute_result"
    }
   ],
   "source": [
    "def sum_list(num_list):\n",
    "    sum = 0\n",
    "    for i in num_list:\n",
    "        sum = sum + i\n",
    "    return sum\n",
    "num_list = [2,3,4,5]\n",
    "print(\"oringnal List\" , num_list)\n",
    "sum_list(num_list)"
   ]
  },
  {
   "cell_type": "code",
   "execution_count": 43,
   "metadata": {},
   "outputs": [
    {
     "name": "stdout",
     "output_type": "stream",
     "text": [
      "120\n"
     ]
    }
   ],
   "source": [
    "def productOfTuple(tup):\n",
    "  product_num = 1\n",
    "  for num in tup:\n",
    "    # print(num)\n",
    "    product_num = product_num * num\n",
    "  return product_num   \n",
    "\n",
    "\n",
    "ori_tup = (1,2,3,4,5)\n",
    "print(productOfTuple(ori_tup))"
   ]
  },
  {
   "cell_type": "code",
   "execution_count": 44,
   "metadata": {},
   "outputs": [
    {
     "name": "stdout",
     "output_type": "stream",
     "text": [
      "(1, 2, 3, 4)\n",
      "24\n"
     ]
    }
   ],
   "source": [
    "def prod_func(num_tuple):\n",
    "    prod=1\n",
    "    for num in num_tuple:\n",
    "        prod*=num\n",
    "    return prod\n",
    "num_tuple=(1,2,3,4)\n",
    "print(num_tuple)\n",
    "print(prod_func(num_tuple))"
   ]
  },
  {
   "cell_type": "code",
   "execution_count": 45,
   "metadata": {},
   "outputs": [
    {
     "name": "stdout",
     "output_type": "stream",
     "text": [
      "6\n"
     ]
    }
   ],
   "source": [
    "def sum_func(num_list):\n",
    "    i=0\n",
    "    for num in num_list:\n",
    "        i+=num\n",
    "    return i\n",
    "num_list=[1,2,3]\n",
    "print(sum_func(num_list))"
   ]
  },
  {
   "cell_type": "code",
   "execution_count": null,
   "metadata": {},
   "outputs": [
    {
     "name": "stdout",
     "output_type": "stream",
     "text": [
      "Enter Valid Number\n"
     ]
    }
   ],
   "source": [
    "def is_valid_even(num):\n",
    "    if type(num) == int:\n",
    "        if num % 2 == 0:\n",
    "            print(\"Number is Even\")\n",
    "        else:\n",
    "            print(\"Number is Odd\")\n",
    "    else:\n",
    "        print(\"Enter Valid Number\")\n",
    "        \n",
    "# num = int(input(\"Enter a number: \"))\n",
    "is_valid_even('h')"
   ]
  },
  {
   "cell_type": "code",
   "execution_count": 63,
   "metadata": {},
   "outputs": [
    {
     "name": "stdout",
     "output_type": "stream",
     "text": [
      "10 is Even\n",
      "11 is Odd\n",
      "12 is Even\n",
      "13 is Odd\n",
      "14 is Even\n",
      "15 is Odd\n",
      "16 is Even\n",
      "17 is Odd\n",
      "18 is Even\n",
      "19 is Odd\n",
      "20 is Even\n",
      "21 is Odd\n",
      "22 is Even\n",
      "23 is Odd\n",
      "24 is Even\n"
     ]
    }
   ],
   "source": [
    "for i in range(10,25):\n",
    "    \n",
    "    if (i % 2 == 0):  \n",
    "        print(f\"{i} is Even\")\n",
    "    else:\n",
    "        print(f\"{i} is Odd\")\n"
   ]
  },
  {
   "cell_type": "code",
   "execution_count": 64,
   "metadata": {},
   "outputs": [
    {
     "name": "stdout",
     "output_type": "stream",
     "text": [
      "Number is Even\n",
      "Number is Odd\n",
      "Number is Even\n",
      "Number is Odd\n",
      "Number is Even\n",
      "Number is Odd\n",
      "Number is Even\n",
      "Number is Odd\n",
      "Number is Even\n",
      "Number is Odd\n"
     ]
    }
   ],
   "source": [
    "for i in range(10,20):\n",
    "    is_valid_even(i)"
   ]
  },
  {
   "cell_type": "markdown",
   "metadata": {},
   "source": [
    "# Parameters Vs Arguments\n",
    "\n",
    "# Types of Arguments\n",
    "### Default Argument\n",
    "### Positional Argument\n",
    "### Keyword Argument"
   ]
  },
  {
   "cell_type": "code",
   "execution_count": 70,
   "metadata": {},
   "outputs": [
    {
     "data": {
      "text/plain": [
       "8"
      ]
     },
     "execution_count": 70,
     "metadata": {},
     "output_type": "execute_result"
    }
   ],
   "source": [
    "def power(a=3,b=2):\n",
    "  return a**b\n",
    "\n",
    "\n",
    "power(2,3)"
   ]
  },
  {
   "cell_type": "markdown",
   "metadata": {},
   "source": [
    "# positional argument"
   ]
  },
  {
   "cell_type": "code",
   "execution_count": null,
   "metadata": {},
   "outputs": [
    {
     "name": "stdout",
     "output_type": "stream",
     "text": [
      "8\n",
      "16\n",
      "9\n"
     ]
    }
   ],
   "source": [
    "\n",
    "print(power(2,3))\n",
    "print(power(2,4))\n",
    "print(power(3,2))"
   ]
  },
  {
   "cell_type": "code",
   "execution_count": null,
   "metadata": {},
   "outputs": [
    {
     "data": {
      "text/plain": [
       "8"
      ]
     },
     "execution_count": 73,
     "metadata": {},
     "output_type": "execute_result"
    }
   ],
   "source": [
    "# Positional Argument\n",
    "power(b=3,a=2)"
   ]
  },
  {
   "cell_type": "code",
   "execution_count": 74,
   "metadata": {},
   "outputs": [
    {
     "name": "stdout",
     "output_type": "stream",
     "text": [
      "('Ovais Shafiq', 'Engineer', 'Male', '37')\n"
     ]
    }
   ],
   "source": [
    "def UserDetails(*args):\n",
    "    print(args)  \n",
    "fullname = input(\"Enter your Name\")\n",
    "profession = input(\"Enter your profession\")\n",
    "gender = input(\"Enter your gender\")\n",
    "Age = input(\"Enter your Age\")\n",
    "Specialization = input(\"Enter your Specialization\")\n",
    "UserDetails(fullname,profession,gender,Age)"
   ]
  },
  {
   "cell_type": "markdown",
   "metadata": {},
   "source": [
    "# Keyward Argument\n",
    "### args , keywargs"
   ]
  },
  {
   "cell_type": "code",
   "execution_count": 76,
   "metadata": {},
   "outputs": [
    {
     "name": "stdout",
     "output_type": "stream",
     "text": [
      "1 2 3 4 5 6\n"
     ]
    },
    {
     "data": {
      "text/plain": [
       "(1, 2, [3, 4, 5, 6])"
      ]
     },
     "execution_count": 76,
     "metadata": {},
     "output_type": "execute_result"
    }
   ],
   "source": [
    "a,b,*other = (1,2,3,4,5,6)\n",
    "\n",
    "print(a,b,*other) # Output: 1 2 3 4 5\n",
    "a,b, other"
   ]
  },
  {
   "cell_type": "code",
   "execution_count": null,
   "metadata": {},
   "outputs": [
    {
     "name": "stdout",
     "output_type": "stream",
     "text": [
      "(1, 2, 3, 4, 5, 6)\n"
     ]
    },
    {
     "data": {
      "text/plain": [
       "720"
      ]
     },
     "execution_count": 79,
     "metadata": {},
     "output_type": "execute_result"
    }
   ],
   "source": [
    "def product(*args):\n",
    "    product = 1\n",
    "    for i in args:\n",
    "        product = product*i\n",
    "    print(args)\n",
    "    return product\n",
    "# product(1,2,3,4,5,6)"
   ]
  },
  {
   "cell_type": "code",
   "execution_count": 80,
   "metadata": {},
   "outputs": [
    {
     "name": "stdout",
     "output_type": "stream",
     "text": [
      "(2, 3, 4, 5, 6, 7)\n"
     ]
    },
    {
     "data": {
      "text/plain": [
       "5040"
      ]
     },
     "execution_count": 80,
     "metadata": {},
     "output_type": "execute_result"
    }
   ],
   "source": [
    "product(2,3,4,5,6,7)"
   ]
  },
  {
   "cell_type": "code",
   "execution_count": 85,
   "metadata": {},
   "outputs": [
    {
     "name": "stdout",
     "output_type": "stream",
     "text": [
      "{'fullname': 'ovais', 'profession': 'Engineer', 'gender': 'Male', 'Age': '36', 'Expertise': 'DS'}\n"
     ]
    }
   ],
   "source": [
    "def user_detail(**kwargs):\n",
    "    print(kwargs)  \n",
    "fullname = input(\"Enter your Name\")\n",
    "profession = input(\"Enter your profession\")\n",
    "gender = input(\"Enter your gender\")\n",
    "Age = input(\"Enter your Age\")\n",
    "Expertise = input(\"Enter your Expertise\")\n",
    "user_detail(fullname=fullname,profession=profession,gender=gender,Age=Age,Expertise=Expertise)"
   ]
  },
  {
   "cell_type": "code",
   "execution_count": 87,
   "metadata": {},
   "outputs": [
    {
     "name": "stdout",
     "output_type": "stream",
     "text": [
      "fullname ----> Ovais\n",
      "profession ----> Engineer\n",
      "gender ----> Male\n",
      "Age ----> 36\n",
      "Expertise ----> DS\n"
     ]
    }
   ],
   "source": [
    "def user_detail(**kwargs):\n",
    "    for key,value in kwargs.items():\n",
    "        print(key, '---->' ,value )  \n",
    "fullname = input(\"Enter your Name\")\n",
    "profession = input(\"Enter your profession\")\n",
    "gender = input(\"Enter your gender\")\n",
    "Age = input(\"Enter your Age\")\n",
    "Expertise = input(\"Enter your Expertise\")\n",
    "user_detail(fullname=fullname,profession=profession,gender=gender,Age=Age,Expertise=Expertise)"
   ]
  },
  {
   "cell_type": "code",
   "execution_count": 86,
   "metadata": {},
   "outputs": [
    {
     "name": "stdout",
     "output_type": "stream",
     "text": [
      "Pakistan ----> Islamabad\n",
      "India ----> Dehli\n",
      "Bangladesh ----> Dhaka\n"
     ]
    }
   ],
   "source": [
    "def capital_of_country(**kwargs):\n",
    "    for key,value in kwargs.items():\n",
    "        print(key, '---->' ,value )\n",
    "        \n",
    "capital_of_country(Pakistan = 'Islamabad' , India='Dehli', Bangladesh='Dhaka')        "
   ]
  },
  {
   "cell_type": "code",
   "execution_count": 88,
   "metadata": {},
   "outputs": [
    {
     "name": "stdout",
     "output_type": "stream",
     "text": [
      "Pakistan ----> Islamabad\n",
      "India ----> Dehli\n",
      "Bangladesh ----> Dhaka\n"
     ]
    }
   ],
   "source": [
    "def capital_of_country(**Ovais):\n",
    "    for key,value in Ovais.items():\n",
    "        print(key, '---->' ,value )\n",
    "        \n",
    "capital_of_country(Pakistan = 'Islamabad' , India='Dehli', Bangladesh='Dhaka') "
   ]
  },
  {
   "cell_type": "code",
   "execution_count": 92,
   "metadata": {},
   "outputs": [
    {
     "name": "stdout",
     "output_type": "stream",
     "text": [
      "Number is Even\n",
      "Number is Odd\n",
      "Number is Even\n",
      "Number is Odd\n",
      "Number is Even\n",
      "Number is Odd\n",
      "Number is Even\n",
      "Number is Odd\n",
      "Number is Even\n",
      "Number is Odd\n"
     ]
    }
   ],
   "source": [
    "# Example of previous function\n",
    "\n",
    "for i in range(10,20):\n",
    "    is_valid_even(i)"
   ]
  },
  {
   "cell_type": "code",
   "execution_count": 97,
   "metadata": {},
   "outputs": [
    {
     "name": "stdout",
     "output_type": "stream",
     "text": [
      "[1, 2, 3, 4, 5]\n"
     ]
    }
   ],
   "source": [
    "list = [1,2,3,4]\n",
    "list.append(5)\n",
    "print(list)"
   ]
  },
  {
   "cell_type": "code",
   "execution_count": 99,
   "metadata": {},
   "outputs": [
    {
     "name": "stdout",
     "output_type": "stream",
     "text": [
      "None\n",
      "[1, 2, 3, 4, 5]\n"
     ]
    }
   ],
   "source": [
    "list = [1,2,3,4]\n",
    "print(list.append(5))\n",
    "print(list)"
   ]
  }
 ],
 "metadata": {
  "kernelspec": {
   "display_name": "Python 3",
   "language": "python",
   "name": "python3"
  },
  "language_info": {
   "codemirror_mode": {
    "name": "ipython",
    "version": 3
   },
   "file_extension": ".py",
   "mimetype": "text/x-python",
   "name": "python",
   "nbconvert_exporter": "python",
   "pygments_lexer": "ipython3",
   "version": "3.12.7"
  }
 },
 "nbformat": 4,
 "nbformat_minor": 2
}
