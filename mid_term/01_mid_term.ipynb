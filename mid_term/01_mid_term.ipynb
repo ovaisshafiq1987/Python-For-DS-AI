{
 "cells": [
  {
   "cell_type": "markdown",
   "metadata": {},
   "source": [
    "# Mid Term 1\n",
    "### Name : Syed Muhammad Ovais\n",
    "### Profession : Bussiness Men\n",
    "### Organization : Al-Saadat COnstruction Solution\n",
    "### Contact # 0312-2830873\n",
    "### Email : ovais.shafiq1987@gmail.com"
   ]
  },
  {
   "cell_type": "markdown",
   "metadata": {},
   "source": [
    "### Answer No 1"
   ]
  },
  {
   "cell_type": "code",
   "execution_count": null,
   "metadata": {},
   "outputs": [],
   "source": [
    "fruits = ['apple', 'banana', 'cherry', 'date']"
   ]
  },
  {
   "cell_type": "markdown",
   "metadata": {},
   "source": [
    "a) The method fruits.append('elderberry') will add 'elderberry' to the end of the fruits list. After executing this method"
   ]
  },
  {
   "cell_type": "code",
   "execution_count": 2,
   "metadata": {},
   "outputs": [
    {
     "name": "stdout",
     "output_type": "stream",
     "text": [
      "['apple', 'banana', 'cherry', 'date', 'elderberry']\n"
     ]
    }
   ],
   "source": [
    "fruits.append('elderberry')\n",
    "print(fruits)"
   ]
  },
  {
   "cell_type": "markdown",
   "metadata": {},
   "source": [
    "2) The method fruits.remove('banana') will search for the first occurrence of 'banana' in the fruits list and remove it. If 'banana' is present in the list, it modifies the list in place."
   ]
  },
  {
   "cell_type": "code",
   "execution_count": 3,
   "metadata": {},
   "outputs": [
    {
     "name": "stdout",
     "output_type": "stream",
     "text": [
      "['apple', 'cherry', 'date', 'elderberry']\n"
     ]
    }
   ],
   "source": [
    "fruits.remove('banana')\n",
    "print(fruits)"
   ]
  },
  {
   "cell_type": "markdown",
   "metadata": {},
   "source": [
    "3) The method fruits.pop(2) will remove and return the element at index 2 from the fruits list."
   ]
  },
  {
   "cell_type": "code",
   "execution_count": 4,
   "metadata": {},
   "outputs": [
    {
     "name": "stdout",
     "output_type": "stream",
     "text": [
      "['apple', 'cherry', 'elderberry']\n"
     ]
    }
   ],
   "source": [
    "fruits.pop(2)\n",
    "print(fruits)"
   ]
  },
  {
   "cell_type": "markdown",
   "metadata": {},
   "source": [
    "### Answer No 2"
   ]
  },
  {
   "cell_type": "code",
   "execution_count": 5,
   "metadata": {},
   "outputs": [
    {
     "name": "stdout",
     "output_type": "stream",
     "text": [
      "Hello Syed Muhammad Ovais, you are 36 years old.\n"
     ]
    }
   ],
   "source": [
    "name = input(\"Enter your name: \")\n",
    "age = input(\"Enter your age: \")\n",
    "\n",
    "print(f\"Hello {name}, you are {age} years old.\")\n"
   ]
  },
  {
   "cell_type": "markdown",
   "metadata": {},
   "source": [
    "### Answer No 3"
   ]
  },
  {
   "cell_type": "code",
   "execution_count": 6,
   "metadata": {},
   "outputs": [
    {
     "name": "stdout",
     "output_type": "stream",
     "text": [
      "The Number is Positive\n"
     ]
    }
   ],
   "source": [
    "number = (input(\"Enter Your No\"))\n",
    "\n",
    "if number.replace(\".\" , \"\").replace(\"-\" ,\"\").replace(\"+\" ,\"\").isdigit():\n",
    "    num = float(number)\n",
    "    if num > 0:\n",
    "        print(\"The Number is Positive\")\n",
    "    elif num < 0:\n",
    "        print(\"The Number is Negative\")\n",
    "    else:\n",
    "        print(\"The Number is Zero\")\n",
    "else:\n",
    "    print(\"Invalid Input\")"
   ]
  },
  {
   "cell_type": "markdown",
   "metadata": {},
   "source": [
    "### Answer No 5"
   ]
  },
  {
   "cell_type": "code",
   "execution_count": 8,
   "metadata": {},
   "outputs": [
    {
     "name": "stdout",
     "output_type": "stream",
     "text": [
      "The area of the circle with diameter 15 meters is 176.71458676442586 square meters.\n",
      "The circumference of the circle with diameter 15 meters is 47.12388980384689 meters.\n",
      "The area of the circle with diameter 9.0 meters is 63.61725123519331 square meters.\n"
     ]
    }
   ],
   "source": [
    "import math\n",
    "diameter = 15\n",
    "radius = diameter / 2\n",
    "\n",
    "# i- Calculate the area of a circle\n",
    "area_of_circle = math.pi * (radius ** 2)\n",
    "print(f\"The area of the circle with diameter 15 meters is {area_of_circle} square meters.\")\n",
    "\n",
    "# ii- Calculate the circumference of a circle\n",
    "circum_of_circle = 2 * math.pi * radius\n",
    "print(f\"The circumference of the circle with diameter 15 meters is {circum_of_circle} meters.\")\n",
    "\n",
    "# iii- Take diameter as user input and calculate the area\n",
    "diameter_input = input(\"Enter the diameter of the circle: \")\n",
    "\n",
    "diameter = float(diameter_input)\n",
    "radius = diameter / 2\n",
    "area_of_circle = math.pi * (radius ** 2)\n",
    "print(f\"The area of the circle with diameter {diameter} meters is {area_of_circle} square meters.\")"
   ]
  },
  {
   "cell_type": "markdown",
   "metadata": {},
   "source": [
    "### Answer No 6"
   ]
  },
  {
   "cell_type": "code",
   "execution_count": 9,
   "metadata": {},
   "outputs": [
    {
     "name": "stdout",
     "output_type": "stream",
     "text": [
      "Total Revenue from Ticket Sales: $ 5800\n",
      "The profit made by the company is: $ 800\n"
     ]
    }
   ],
   "source": [
    "# Given Values\n",
    "\n",
    "cost_of_flight = 5000\n",
    "num_of_people = 29\n",
    "ticket_price = 200\n",
    "\n",
    "# Calculate the total revenue from ticket sales\n",
    "total_revenue = num_of_people * ticket_price\n",
    "print(\"Total Revenue from Ticket Sales: $\", total_revenue)\n",
    "\n",
    "# Calculate the Profit\n",
    "profit =  total_revenue - cost_of_flight\n",
    "print(\"The profit made by the company is: $\", profit)"
   ]
  },
  {
   "cell_type": "markdown",
   "metadata": {},
   "source": [
    "### Answer No 7"
   ]
  },
  {
   "cell_type": "code",
   "execution_count": 13,
   "metadata": {},
   "outputs": [
    {
     "name": "stdout",
     "output_type": "stream",
     "text": [
      "\n",
      "Menu-driven Calculator\n",
      "1. Addition\n",
      "2. Subtraction\n",
      "3. Multiplication\n",
      "4. Factorial\n",
      "5. Division\n",
      "6. Exponentiation (Power)\n",
      "7. Square Root\n",
      "8. Exit\n",
      "Factorial: 120\n",
      "\n",
      "Menu-driven Calculator\n",
      "1. Addition\n",
      "2. Subtraction\n",
      "3. Multiplication\n",
      "4. Factorial\n",
      "5. Division\n",
      "6. Exponentiation (Power)\n",
      "7. Square Root\n",
      "8. Exit\n",
      "Result: 243.0\n",
      "\n",
      "Menu-driven Calculator\n",
      "1. Addition\n",
      "2. Subtraction\n",
      "3. Multiplication\n",
      "4. Factorial\n",
      "5. Division\n",
      "6. Exponentiation (Power)\n",
      "7. Square Root\n",
      "8. Exit\n",
      "Square Root: 2.8284271247461903\n",
      "\n",
      "Menu-driven Calculator\n",
      "1. Addition\n",
      "2. Subtraction\n",
      "3. Multiplication\n",
      "4. Factorial\n",
      "5. Division\n",
      "6. Exponentiation (Power)\n",
      "7. Square Root\n",
      "8. Exit\n",
      "Exiting the calculator. Goodbye!\n"
     ]
    }
   ],
   "source": [
    "import math\n",
    "\n",
    "while True:\n",
    "    # Display the menu\n",
    "    print(\"\\nMenu-driven Calculator\")\n",
    "    print(\"1. Addition\")\n",
    "    print(\"2. Subtraction\")\n",
    "    print(\"3. Multiplication\")\n",
    "    print(\"4. Factorial\")\n",
    "    print(\"5. Division\")\n",
    "    print(\"6. Exponentiation (Power)\")\n",
    "    print(\"7. Square Root\")\n",
    "    print(\"8. Exit\")\n",
    "    \n",
    "    # Taking user's choice\n",
    "    choice = int(input(\"Enter your choice (1-8): \"))\n",
    "    \n",
    "    if choice == 1:\n",
    "        num1 = float(input(\"Enter first number: \"))\n",
    "        num2 = float(input(\"Enter second number: \"))\n",
    "        print(f\"Result: {num1 + num2}\")\n",
    "    \n",
    "    elif choice == 2:\n",
    "        num1 = float(input(\"Enter first number: \"))\n",
    "        num2 = float(input(\"Enter second number: \"))\n",
    "        print(f\"Result: {num1 - num2}\")\n",
    "    \n",
    "    elif choice == 3:\n",
    "        num1 = float(input(\"Enter first number: \"))\n",
    "        num2 = float(input(\"Enter second number: \"))\n",
    "        print(f\"Result: {num1 * num2}\")\n",
    "    \n",
    "    elif choice == 4:\n",
    "        num = int(input(\"Enter a non-negative integer: \"))\n",
    "        if num >= 0:\n",
    "            print(f\"Factorial: {math.factorial(num)}\")\n",
    "        else:\n",
    "            print(\"Error: Factorial is not defined for negative numbers\")\n",
    "    \n",
    "    elif choice == 5:\n",
    "        num1 = float(input(\"Enter numerator: \"))\n",
    "        num2 = float(input(\"Enter denominator: \"))\n",
    "        if num2 != 0:\n",
    "            print(f\"Result: {num1 / num2}\")\n",
    "        else:\n",
    "            print(\"Error: Cannot divide by zero\")\n",
    "    \n",
    "    elif choice == 6:\n",
    "        num1 = float(input(\"Enter base: \"))\n",
    "        num2 = float(input(\"Enter exponent: \"))\n",
    "        print(f\"Result: {num1 ** num2}\")\n",
    "    \n",
    "    elif choice == 7:\n",
    "        num = float(input(\"Enter a non-negative number: \"))\n",
    "        if num >= 0:\n",
    "            print(f\"Square Root: {math.sqrt(num)}\")\n",
    "        else:\n",
    "            print(\"Error: Square root is not defined for negative numbers\")\n",
    "    \n",
    "    elif choice == 8:\n",
    "        print(\"Exiting the calculator. Goodbye!\")\n",
    "        break\n",
    "    \n",
    "    else:\n",
    "        print(\"Invalid choice! Please choose a valid option (1-8).\")\n"
   ]
  },
  {
   "cell_type": "markdown",
   "metadata": {},
   "source": [
    "### Answer No 8"
   ]
  },
  {
   "cell_type": "code",
   "execution_count": 16,
   "metadata": {},
   "outputs": [
    {
     "name": "stdout",
     "output_type": "stream",
     "text": [
      "The email format is valid.\n",
      "Email is valid. Please enter your credentials.\n",
      "Welcome! You have successfully logged in.\n"
     ]
    }
   ],
   "source": [
    "import re\n",
    "\n",
    "stored_username = \"ahmed@gmail.com\"\n",
    "stored_password = \"ahmed@321\"\n",
    "\n",
    "# Step 1: Email Format Validation\n",
    "email = input(\"Enter your email address: \")\n",
    "\n",
    "# Regular expression pattern for basic email validation\n",
    "pattern = r'^[a-zA-Z0-9_.+-]+@[a-zA-Z0-9-]+\\.[a-zA-Z0-9-.]+$'\n",
    "\n",
    "# Check if the email matches the pattern\n",
    "if re.match(pattern, email):\n",
    "    print(\"The email format is valid.\")\n",
    "    \n",
    "    # Step 2: Credentials Check\n",
    "    print(\"Email is valid. Please enter your credentials.\")\n",
    "    \n",
    "    username = input(\"Enter your username: \")\n",
    "    password = input(\"Enter your password: \")\n",
    "    \n",
    "    if username == stored_username and password == stored_password:\n",
    "        print(\"Welcome! You have successfully logged in.\")\n",
    "    else:\n",
    "        print(\"Incorrect username or password. Please try again.\")\n",
    "        # Retry on Incorrect Password\n",
    "        username = input(\"Enter your username: \")\n",
    "        password = input(\"Enter your password: \")\n",
    "        \n",
    "        if username == stored_username and password == stored_password:\n",
    "            print(\"Welcome! You have successfully logged in.\")\n",
    "        else:\n",
    "            print(\"Login failed. Incorrect username or password.\")\n",
    "else:\n",
    "    print(\"Invalid email format. Please enter a valid email address.\")\n",
    "\n"
   ]
  },
  {
   "cell_type": "markdown",
   "metadata": {},
   "source": [
    "### Answer No 9 (a)"
   ]
  },
  {
   "cell_type": "code",
   "execution_count": 3,
   "metadata": {},
   "outputs": [
    {
     "name": "stdout",
     "output_type": "stream",
     "text": [
      "X = 12.5\n",
      "Y = 45.8\n",
      "Z = 33.1\n"
     ]
    }
   ],
   "source": [
    "coordinates = (12.5, 45.8, 33.1)\n",
    "\n",
    "x , y, z = coordinates\n",
    "print(\"X =\" , x)\n",
    "print(\"Y =\" , y)\n",
    "print(\"Z =\" , z)"
   ]
  },
  {
   "cell_type": "markdown",
   "metadata": {},
   "source": [
    "Tuples are immutable, meaning once a tuple is created, its elements cannot be changed no adding, removing, or modifying elements. This makes tuples a safer option when dealing with data that should not change.\n",
    "Lists, on the other hand, are mutable, meaning their elements can be changed. While this provides flexibility, it can also lead to unintended side effects or bugs if the data is modified unintentionally."
   ]
  },
  {
   "cell_type": "markdown",
   "metadata": {},
   "source": [
    "### Answer No 9 (b)"
   ]
  },
  {
   "cell_type": "code",
   "execution_count": 2,
   "metadata": {},
   "outputs": [
    {
     "name": "stdout",
     "output_type": "stream",
     "text": [
      "{'Ali': 85, 'Saima': 90, 'Kabeer': 78, 'Ahmed': 92}\n"
     ]
    }
   ],
   "source": [
    "student_scores = {'Ali' : 85 , 'Saima' : 90 , 'Kabeer' : 78}\n",
    "student_scores['Ahmed'] = 92\n",
    "print(student_scores)"
   ]
  },
  {
   "cell_type": "code",
   "execution_count": 4,
   "metadata": {},
   "outputs": [
    {
     "name": "stdout",
     "output_type": "stream",
     "text": [
      "{'Ali': 85, 'Saima': 90, 'Kabeer': 82, 'Ahmed': 92}\n"
     ]
    }
   ],
   "source": [
    "student_scores.update({'Kabeer' : 82})\n",
    "print(student_scores)"
   ]
  }
 ],
 "metadata": {
  "kernelspec": {
   "display_name": "Python 3",
   "language": "python",
   "name": "python3"
  },
  "language_info": {
   "codemirror_mode": {
    "name": "ipython",
    "version": 3
   },
   "file_extension": ".py",
   "mimetype": "text/x-python",
   "name": "python",
   "nbconvert_exporter": "python",
   "pygments_lexer": "ipython3",
   "version": "3.12.7"
  }
 },
 "nbformat": 4,
 "nbformat_minor": 2
}
