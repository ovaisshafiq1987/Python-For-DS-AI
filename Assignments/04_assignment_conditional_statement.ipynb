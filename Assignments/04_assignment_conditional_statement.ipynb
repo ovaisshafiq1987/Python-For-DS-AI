{
 "cells": [
  {
   "cell_type": "markdown",
   "metadata": {},
   "source": [
    "# Assignments # 04\n",
    "### Created By : Syed Muhammad Ovais\n",
    "### Created On : 29-11-2024\n",
    "### Email : ovais.shafiq1987@gmail.com\n",
    "### Contact # 0312-2830873\n",
    "\n",
    "\n",
    "# Conditional Statements"
   ]
  },
  {
   "cell_type": "markdown",
   "metadata": {},
   "source": [
    "### Answer No 1"
   ]
  },
  {
   "cell_type": "code",
   "execution_count": 3,
   "metadata": {},
   "outputs": [
    {
     "name": "stdout",
     "output_type": "stream",
     "text": [
      "The Input Number is: 7\n",
      "Number is not divisible by 3.\n"
     ]
    }
   ],
   "source": [
    "number = int(input(\"Enter a number: \"))\n",
    "print(\"The Input Number is:\", number)\n",
    "\n",
    "if number % 3 == 0:\n",
    "    print(f\"The number {number} is divisible by 3.\")\n",
    "else:\n",
    "    print(\"Number is not divisible by 3.\")\n"
   ]
  },
  {
   "cell_type": "markdown",
   "metadata": {},
   "source": [
    "### Answer No 2"
   ]
  },
  {
   "cell_type": "code",
   "execution_count": 4,
   "metadata": {},
   "outputs": [
    {
     "name": "stdout",
     "output_type": "stream",
     "text": [
      "The Given Input Number is: 8\n",
      "The number 8 is even.\n"
     ]
    }
   ],
   "source": [
    "number = int(input(\"Enter a number: \"))\n",
    "print(\"The Given Input Number is:\", number)\n",
    "if number % 2 == 0:\n",
    "    print(f\"The number {number} is even.\")\n",
    "else:\n",
    "    print(f\"The number {number} is odd.\")\n"
   ]
  },
  {
   "cell_type": "markdown",
   "metadata": {},
   "source": [
    "### Answer No 3"
   ]
  },
  {
   "cell_type": "code",
   "execution_count": 5,
   "metadata": {},
   "outputs": [
    {
     "name": "stdout",
     "output_type": "stream",
     "text": [
      "Old enough\n"
     ]
    }
   ],
   "source": [
    "age = int(input(\"Enter your age: \"))\n",
    "\n",
    "if age > 18:\n",
    "    print(\"Old enough\")\n",
    "else:\n",
    "    print(\"Too young\")\n"
   ]
  },
  {
   "cell_type": "markdown",
   "metadata": {},
   "source": [
    "### Answer No 4"
   ]
  },
  {
   "cell_type": "code",
   "execution_count": 7,
   "metadata": {},
   "outputs": [
    {
     "name": "stdout",
     "output_type": "stream",
     "text": [
      "Hello, Syed Muhammad Ovais! Nice to see you.\n"
     ]
    }
   ],
   "source": [
    "my_name = \"Syed Muhammad Ovais\"  \n",
    "\n",
    "user_name = input(\"Enter Your Name: \")\n",
    "\n",
    "if user_name == my_name:\n",
    "    print(f\"Hello, {user_name}! Nice to see you.\")\n"
   ]
  },
  {
   "cell_type": "markdown",
   "metadata": {},
   "source": [
    "### Answer No 5"
   ]
  },
  {
   "cell_type": "code",
   "execution_count": 8,
   "metadata": {},
   "outputs": [
    {
     "name": "stdout",
     "output_type": "stream",
     "text": [
      "The year 2017 is not a leap year.\n"
     ]
    }
   ],
   "source": [
    "year = int(input(\"Enter a year (YYYY): \"))\n",
    "\n",
    "if (year % 4 == 0 and year % 100 != 0) or (year % 400 == 0):\n",
    "    print(f\"The year {year} is a leap year.\")\n",
    "else:\n",
    "    print(f\"The year {year} is not a leap year.\")\n"
   ]
  },
  {
   "cell_type": "markdown",
   "metadata": {},
   "source": [
    "### Answer No 6"
   ]
  },
  {
   "cell_type": "code",
   "execution_count": 11,
   "metadata": {},
   "outputs": [
    {
     "name": "stdout",
     "output_type": "stream",
     "text": [
      "Both numbers are equal.\n"
     ]
    }
   ],
   "source": [
    "num1 = int(input(\"Enter the first integer: \"))\n",
    "num2 = int(input(\"Enter the second integer: \"))\n",
    "\n",
    "# Compare the two numbers and display the result\n",
    "if num1 > num2:\n",
    "    print(f\"The First Number is Larger {num1}.\")\n",
    "elif num2 > num1:\n",
    "    print(f\"The Second Number is Larger {num2}.\")\n",
    "else:\n",
    "    print(\"Both numbers are equal.\")\n"
   ]
  },
  {
   "cell_type": "markdown",
   "metadata": {},
   "source": [
    "### Answer No 7"
   ]
  },
  {
   "cell_type": "code",
   "execution_count": 12,
   "metadata": {},
   "outputs": [
    {
     "name": "stdout",
     "output_type": "stream",
     "text": [
      "The number is positive.\n"
     ]
    }
   ],
   "source": [
    "number = float(input(\"Enter a number: \"))\n",
    "\n",
    "# The number is positive, negative, or zero\n",
    "if number > 0:\n",
    "    print(\"The number is positive.\")\n",
    "elif number < 0:\n",
    "    print(\"The number is negative.\")\n",
    "else:\n",
    "    print(\"The number is zero.\")\n"
   ]
  },
  {
   "cell_type": "markdown",
   "metadata": {},
   "source": [
    "### Answer No 8"
   ]
  },
  {
   "cell_type": "code",
   "execution_count": 14,
   "metadata": {},
   "outputs": [
    {
     "name": "stdout",
     "output_type": "stream",
     "text": [
      "False\n"
     ]
    }
   ],
   "source": [
    "character = input(\"Enter a single character: \").lower()\n",
    "\n",
    "# Check if the character is a vowel\n",
    "if len(character) == 1:\n",
    "    if character in \"aeiou\":\n",
    "        print(True)  \n",
    "    else:\n",
    "        print(False) \n",
    "else:\n",
    "    print(\"Please enter only one character.\")\n"
   ]
  },
  {
   "cell_type": "markdown",
   "metadata": {},
   "source": [
    "### Answer No 9"
   ]
  },
  {
   "cell_type": "code",
   "execution_count": 15,
   "metadata": {},
   "outputs": [
    {
     "name": "stdout",
     "output_type": "stream",
     "text": [
      "Old enough\n"
     ]
    }
   ],
   "source": [
    "age = int(input(\"Enter your age: \"))\n",
    "\n",
    "# Use a conditional (ternary) operator to determine voteable status\n",
    "voteable = \"Too young\" if age < 18 else \"Old enough\"\n",
    "print(voteable)\n"
   ]
  },
  {
   "cell_type": "markdown",
   "metadata": {},
   "source": [
    "### Answer No 10 (a)\n"
   ]
  },
  {
   "cell_type": "code",
   "execution_count": 17,
   "metadata": {},
   "outputs": [],
   "source": [
    "# a) Store the correct password in a variable\n",
    "correct_password = \"ovais123\"\n",
    "\n"
   ]
  },
  {
   "cell_type": "markdown",
   "metadata": {},
   "source": [
    "### Answer No 10 (b & c)"
   ]
  },
  {
   "cell_type": "code",
   "execution_count": 19,
   "metadata": {},
   "outputs": [
    {
     "name": "stdout",
     "output_type": "stream",
     "text": [
      "Correct! The password you entered matches the original password.\n"
     ]
    }
   ],
   "source": [
    "# b) Ask the user to enter their password\n",
    "user_password = input(\"Please enter your password: \")\n",
    "\n",
    "# c) Validate the entered password\n",
    "if user_password == \"\":  # i) Check if the user has entered a password\n",
    "    print(\"Please enter your password.\")\n",
    "elif user_password == correct_password:  # ii) Check if both passwords are the same\n",
    "    print(\"Correct! The password you entered matches the original password.\")\n",
    "else:  # iii) If passwords don't match\n",
    "    print(\"Incorrect password.\")\n"
   ]
  },
  {
   "cell_type": "markdown",
   "metadata": {},
   "source": [
    "### Answer No 11"
   ]
  },
  {
   "cell_type": "code",
   "execution_count": 25,
   "metadata": {},
   "outputs": [
    {
     "name": "stdout",
     "output_type": "stream",
     "text": [
      "Good afternoon!\n"
     ]
    }
   ],
   "source": [
    "time = int(input(\"Enter time in 24-hour format (HHMM): \"))\n",
    "\n",
    "if time >= 0000 and time <1200:\n",
    "    print(\"Good morning!\")\n",
    "\n",
    "elif time >= 1200 and time < 1700:\n",
    "    print(\"Good afternoon!\")\n",
    "\n",
    "elif time >= 1700 and time < 2100:\n",
    "    print(\"Good Evening!\")\n",
    "\n",
    "elif time >= 2100 and time <= 2359:\n",
    "    print(\"Good Night!\")\n"
   ]
  }
 ],
 "metadata": {
  "kernelspec": {
   "display_name": "Python 3",
   "language": "python",
   "name": "python3"
  },
  "language_info": {
   "codemirror_mode": {
    "name": "ipython",
    "version": 3
   },
   "file_extension": ".py",
   "mimetype": "text/x-python",
   "name": "python",
   "nbconvert_exporter": "python",
   "pygments_lexer": "ipython3",
   "version": "3.12.7"
  }
 },
 "nbformat": 4,
 "nbformat_minor": 2
}
