{
 "cells": [
  {
   "cell_type": "markdown",
   "metadata": {},
   "source": [
    "# Assignments # 05\n",
    "### Created By : Syed Muhammad Ovais\n",
    "### Created On : 29-11-2024\n",
    "### Email : ovais.shafiq1987@gmail.com\n",
    "### Contact # 0312-2830873\n",
    "\n",
    "\n",
    "# Iterative Statements"
   ]
  },
  {
   "cell_type": "markdown",
   "metadata": {},
   "source": [
    "### Answer No 1"
   ]
  },
  {
   "cell_type": "code",
   "execution_count": null,
   "metadata": {},
   "outputs": [],
   "source": [
    "# Loop to print the triangle pattern\n",
    "for i in range(1, 8):  \n",
    "    print('#' * i)  "
   ]
  },
  {
   "cell_type": "markdown",
   "metadata": {},
   "source": [
    "### Answer No 2"
   ]
  },
  {
   "cell_type": "code",
   "execution_count": null,
   "metadata": {},
   "outputs": [],
   "source": [
    "for i in range(8):\n",
    "    \n",
    "    for j in range(8):\n",
    "        print('#', end=' ')  \n",
    "    print()  \n"
   ]
  },
  {
   "cell_type": "markdown",
   "metadata": {},
   "source": [
    "### Answer No 3"
   ]
  },
  {
   "cell_type": "code",
   "execution_count": null,
   "metadata": {},
   "outputs": [],
   "source": [
    "items = ['Python', 'Numpy', 'Pandas', 'Django', 'Flask']\n",
    "\n",
    "for item in items:\n",
    "    print(item)\n"
   ]
  },
  {
   "cell_type": "markdown",
   "metadata": {},
   "source": [
    "### Answer No 4"
   ]
  },
  {
   "cell_type": "code",
   "execution_count": null,
   "metadata": {},
   "outputs": [],
   "source": [
    "even_sum = 0\n",
    "odd_sum = 0\n",
    "\n",
    "# Iterate through numbers from 0 to 100\n",
    "for num in range(101):\n",
    "    if num % 2 == 0:\n",
    "        even_sum += num  \n",
    "    else:\n",
    "        odd_sum += num   \n",
    "        \n",
    "print(f\"Sum of even numbers: {even_sum}\")\n",
    "print(f\"Sum of odd numbers: {odd_sum}\")\n"
   ]
  },
  {
   "cell_type": "markdown",
   "metadata": {},
   "source": [
    "### Answer No 5"
   ]
  },
  {
   "cell_type": "code",
   "execution_count": null,
   "metadata": {},
   "outputs": [],
   "source": [
    "n = int(input(\"Enter a number: \"))\n",
    "\n",
    "for num in range(1, n + 1):\n",
    "    cube = num ** 3  \n",
    "    print(f\"The cube of {num} is {cube}\")\n"
   ]
  },
  {
   "cell_type": "markdown",
   "metadata": {},
   "source": [
    "### Answer No 6"
   ]
  },
  {
   "cell_type": "code",
   "execution_count": null,
   "metadata": {},
   "outputs": [],
   "source": [
    "def add_two_numbers(num1, num2):\n",
    "    return num1 + num2\n",
    "\n",
    "result = add_two_numbers(5, 7)\n",
    "print(f\"The sum is: {result}\")\n"
   ]
  },
  {
   "cell_type": "markdown",
   "metadata": {},
   "source": [
    "### Answer No 7"
   ]
  },
  {
   "cell_type": "code",
   "execution_count": null,
   "metadata": {},
   "outputs": [],
   "source": [
    "import math \n",
    "\n",
    "# Function to calculate the area of a circle\n",
    "def area_of_circle(radius):\n",
    "    area = math.pi * radius * radius\n",
    "    return area\n",
    "\n",
    "radius = float(input(\"Enter the radius of the circle: \"))\n",
    "area = area_of_circle(radius)\n",
    "print(f\"The area of the circle with radius {radius} is {area:.2f}\")\n"
   ]
  },
  {
   "cell_type": "markdown",
   "metadata": {},
   "source": [
    "### Answer No 8"
   ]
  },
  {
   "cell_type": "code",
   "execution_count": null,
   "metadata": {},
   "outputs": [],
   "source": [
    "def add_all_nums(*args):\n",
    "    # Check if all items are numbers\n",
    "    if all(isinstance(arg, (int, float)) for arg in args):\n",
    "        total = sum(args)\n",
    "        return total\n",
    "    else:\n",
    "        return \"Error: All arguments must be numbers.\"\n",
    "\n",
    "result = add_all_nums(1, 2, 3, 4.5, 6)\n",
    "print(f\"Sum: {result}\")\n",
    "\n",
    "result2 = add_all_nums(1, 2, 'three', 4)\n",
    "print(f\"Sum: {result2}\")\n"
   ]
  },
  {
   "cell_type": "markdown",
   "metadata": {},
   "source": [
    "### Answer No 9"
   ]
  },
  {
   "cell_type": "code",
   "execution_count": null,
   "metadata": {},
   "outputs": [],
   "source": [
    "def convert_celsius_to_fahrenheit(celsius):\n",
    "    fahrenheit = (celsius * 9/5) + 32\n",
    "    return fahrenheit\n",
    "\n",
    "celsius = float(input(\"Enter temperature in Celsius: \"))\n",
    "fahrenheit = convert_celsius_to_fahrenheit(celsius)\n",
    "print(f\"{celsius}°C is equal to {fahrenheit}°F\")\n"
   ]
  },
  {
   "cell_type": "markdown",
   "metadata": {},
   "source": [
    "### Answer No 10"
   ]
  },
  {
   "cell_type": "code",
   "execution_count": null,
   "metadata": {},
   "outputs": [],
   "source": [
    "def check_season(month):\n",
    "    \n",
    "    if month in ['December', 'January', 'February']:\n",
    "        return \"Winter\"\n",
    "    elif month in ['March', 'April', 'May']:\n",
    "        return \"Spring\"\n",
    "    elif month in ['June', 'July', 'August']:\n",
    "        return \"Summer\"\n",
    "    elif month in ['September', 'October', 'November']:\n",
    "        return \"Autumn\"\n",
    "    else:\n",
    "        return \"Invalid month\"  \n",
    "    \n",
    "month = input(\"Enter the name of the month: \").capitalize()\n",
    "season = check_season(month)\n",
    "print(f\"The season in {month} is {season}.\")\n"
   ]
  },
  {
   "cell_type": "markdown",
   "metadata": {},
   "source": [
    "### Answer No 11"
   ]
  },
  {
   "cell_type": "code",
   "execution_count": null,
   "metadata": {},
   "outputs": [],
   "source": [
    "# Slope Formula y2-y1/x2-x1\n",
    "\n",
    "def calculate_slope(x1, y1, x2, y2):\n",
    "    \n",
    "    if x2 - x1 == 0:\n",
    "        return \"Undefined (vertical line)\"\n",
    "    else:\n",
    "        slope = (y2 - y1) / (x2 - x1)\n",
    "        return slope\n",
    "\n",
    "x1, y1 = 7, 3\n",
    "x2, y2 = 31, 11\n",
    "slope = calculate_slope(x1, y1, x2, y2)\n",
    "print(f\"The slope of the line is: {slope}\")\n"
   ]
  },
  {
   "cell_type": "markdown",
   "metadata": {},
   "source": [
    "### Answer No 12"
   ]
  },
  {
   "cell_type": "code",
   "execution_count": null,
   "metadata": {},
   "outputs": [],
   "source": [
    "import cmath\n",
    "\n",
    "# Function to solve the quadratic equation ax^2 + bx + c = 0\n",
    "def solve_quadratic_eqn(a, b, c):\n",
    "    # Calculate the discriminant\n",
    "    discriminant = b**2 - 4*a*c\n",
    "    \n",
    "    # Calculate two solutions using the quadratic formula\n",
    "    root1 = (-b + cmath.sqrt(discriminant)) / (2 * a)\n",
    "    root2 = (-b - cmath.sqrt(discriminant)) / (2 * a)\n",
    "    \n",
    "    return root1, root2\n",
    "\n",
    "# Example usage\n",
    "a = 1\n",
    "b = -3\n",
    "c = 2\n",
    "root1, root2 = solve_quadratic_eqn(a, b, c)\n",
    "print(f\"The solutions are: {root1} and {root2}\")\n"
   ]
  },
  {
   "cell_type": "markdown",
   "metadata": {},
   "source": [
    "### Answer No 13"
   ]
  },
  {
   "cell_type": "code",
   "execution_count": 18,
   "metadata": {},
   "outputs": [
    {
     "name": "stdout",
     "output_type": "stream",
     "text": [
      "10\n",
      "20\n",
      "30\n",
      "40\n",
      "50\n"
     ]
    }
   ],
   "source": [
    "def print_list(lst):\n",
    "    for item in lst:\n",
    "        print(item)\n",
    "\n",
    "sample_list = [10, 20, 30, 40, 50]\n",
    "print_list(sample_list)\n"
   ]
  },
  {
   "cell_type": "markdown",
   "metadata": {},
   "source": [
    "### Answer No 14"
   ]
  },
  {
   "cell_type": "code",
   "execution_count": 21,
   "metadata": {},
   "outputs": [
    {
     "name": "stdout",
     "output_type": "stream",
     "text": [
      "[5, 4, 3, 2, 1]\n",
      "['C', 'B', 'A']\n"
     ]
    }
   ],
   "source": [
    "def reverse_list(lst):\n",
    "    reversed_lst = []\n",
    "    for item in lst:\n",
    "        reversed_lst.insert(0, item)\n",
    "    return reversed_lst\n",
    "\n",
    "print(reverse_list([1, 2, 3, 4, 5])) \n",
    "print(reverse_list([\"A\", \"B\", \"C\"])) \n"
   ]
  },
  {
   "cell_type": "markdown",
   "metadata": {},
   "source": [
    "### Answer No 15"
   ]
  },
  {
   "cell_type": "code",
   "execution_count": 22,
   "metadata": {},
   "outputs": [
    {
     "name": "stdout",
     "output_type": "stream",
     "text": [
      "Even digits: 3, Odd digits: 4\n"
     ]
    }
   ],
   "source": [
    "def evens_and_odds(number):\n",
    "    \n",
    "    even_count = 0\n",
    "    odd_count = 0\n",
    "    \n",
    "    for digit in str(number):\n",
    "        if int(digit) % 2 == 0:\n",
    "            even_count += 1\n",
    "        else: \n",
    "            odd_count += 1\n",
    "    return even_count, odd_count\n",
    "\n",
    "number = 1234567\n",
    "even_count, odd_count = evens_and_odds(number)\n",
    "print(f\"Even digits: {even_count}, Odd digits: {odd_count}\")\n"
   ]
  },
  {
   "cell_type": "markdown",
   "metadata": {},
   "source": [
    "### Answer No 16"
   ]
  },
  {
   "cell_type": "code",
   "execution_count": 23,
   "metadata": {},
   "outputs": [
    {
     "name": "stdout",
     "output_type": "stream",
     "text": [
      "Mean: 4.25\n",
      "Median: 4.5\n",
      "Mode: 6\n",
      "Range: 6\n",
      "Variance: 4.5\n",
      "Standard Deviation: 2.1213203435596424\n"
     ]
    }
   ],
   "source": [
    "import statistics\n",
    "\n",
    "def calculate_mean(lst):\n",
    "    return sum(lst) / len(lst)\n",
    "\n",
    "# Function to calculate the median of a list\n",
    "def calculate_median(lst):\n",
    "    return statistics.median(lst)\n",
    "\n",
    "# Function to calculate the mode of a list\n",
    "def calculate_mode(lst):\n",
    "    try:\n",
    "        return statistics.mode(lst)\n",
    "    except statistics.StatisticsError:\n",
    "        return \"No unique mode\"\n",
    "\n",
    "# Function to calculate the range (max - min) of a list\n",
    "def calculate_range(lst):\n",
    "    return max(lst) - min(lst)\n",
    "\n",
    "# Function to calculate the variance of a list\n",
    "def calculate_variance(lst):\n",
    "    return statistics.variance(lst)\n",
    "\n",
    "# Function to calculate the standard deviation of a list\n",
    "def calculate_std(lst):\n",
    "    return statistics.stdev(lst)\n",
    "\n",
    "data = [1, 2, 3, 4, 5, 6, 6, 7]\n",
    "\n",
    "mean = calculate_mean(data)\n",
    "median = calculate_median(data)\n",
    "mode = calculate_mode(data)\n",
    "range_value = calculate_range(data)\n",
    "variance = calculate_variance(data)\n",
    "std_dev = calculate_std(data)\n",
    "\n",
    "print(f\"Mean: {mean}\")\n",
    "print(f\"Median: {median}\")\n",
    "print(f\"Mode: {mode}\")\n",
    "print(f\"Range: {range_value}\")\n",
    "print(f\"Variance: {variance}\")\n",
    "print(f\"Standard Deviation: {std_dev}\")\n"
   ]
  },
  {
   "cell_type": "markdown",
   "metadata": {},
   "source": [
    "### Answer No 17"
   ]
  },
  {
   "cell_type": "code",
   "execution_count": 24,
   "metadata": {},
   "outputs": [
    {
     "name": "stdout",
     "output_type": "stream",
     "text": [
      "True\n",
      "False\n"
     ]
    }
   ],
   "source": [
    "def are_all_items_unique(lst):\n",
    "    \n",
    "    return len(lst) == len(set(lst))\n",
    "\n",
    "sample_list = [1, 2, 3, 4, 5]\n",
    "print(are_all_items_unique(sample_list))  \n",
    "\n",
    "sample_list_with_duplicates = [1, 2, 3, 3, 4, 5]\n",
    "print(are_all_items_unique(sample_list_with_duplicates))\n"
   ]
  },
  {
   "cell_type": "markdown",
   "metadata": {},
   "source": [
    "### Answer No 18"
   ]
  },
  {
   "cell_type": "code",
   "execution_count": 25,
   "metadata": {},
   "outputs": [
    {
     "name": "stdout",
     "output_type": "stream",
     "text": [
      "True\n",
      "False\n"
     ]
    }
   ],
   "source": [
    "def are_all_items_same_type(lst):\n",
    "\n",
    "    return all(type(item) == type(lst[0]) for item in lst)\n",
    "\n",
    "sample_list = [1, 2, 3, 4, 5]\n",
    "print(are_all_items_same_type(sample_list))\n",
    "\n",
    "sample_list_mixed = [1, 2, 'Ovais', 4, 5]\n",
    "print(are_all_items_same_type(sample_list_mixed))\n"
   ]
  },
  {
   "cell_type": "markdown",
   "metadata": {},
   "source": [
    "### Answer No 19"
   ]
  },
  {
   "cell_type": "code",
   "execution_count": 26,
   "metadata": {},
   "outputs": [
    {
     "name": "stdout",
     "output_type": "stream",
     "text": [
      "True\n",
      "False\n",
      "False\n",
      "True\n"
     ]
    }
   ],
   "source": [
    "import keyword\n",
    "\n",
    "def is_valid_python_variable(var):\n",
    "\n",
    "    return var.isidentifier() and not keyword.iskeyword(var)\n",
    "\n",
    "print(is_valid_python_variable(\"my_var\"))  \n",
    "print(is_valid_python_variable(\"2ndVar\"))  \n",
    "print(is_valid_python_variable(\"if\"))      \n",
    "print(is_valid_python_variable(\"my_var_123\"))\n"
   ]
  },
  {
   "cell_type": "markdown",
   "metadata": {},
   "source": [
    "### Answer No 20"
   ]
  },
  {
   "cell_type": "code",
   "execution_count": 27,
   "metadata": {},
   "outputs": [
    {
     "name": "stdout",
     "output_type": "stream",
     "text": [
      "Number of local variables: 3\n"
     ]
    }
   ],
   "source": [
    "def count_local_variables():\n",
    "\n",
    "    a = 10\n",
    "    b = 20\n",
    "    c = 30\n",
    "    \n",
    "    local_vars = locals()\n",
    "    return len(local_vars)\n",
    "\n",
    "print(\"Number of local variables:\", count_local_variables())\n"
   ]
  }
 ],
 "metadata": {
  "kernelspec": {
   "display_name": "Python 3",
   "language": "python",
   "name": "python3"
  },
  "language_info": {
   "codemirror_mode": {
    "name": "ipython",
    "version": 3
   },
   "file_extension": ".py",
   "mimetype": "text/x-python",
   "name": "python",
   "nbconvert_exporter": "python",
   "pygments_lexer": "ipython3",
   "version": "3.12.7"
  }
 },
 "nbformat": 4,
 "nbformat_minor": 2
}
