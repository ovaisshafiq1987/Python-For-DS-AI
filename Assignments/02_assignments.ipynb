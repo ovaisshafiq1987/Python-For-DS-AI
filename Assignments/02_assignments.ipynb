{
 "cells": [
  {
   "cell_type": "markdown",
   "metadata": {},
   "source": [
    "# Assignments # 02\n",
    "### Created By : Syed Muhammad Ovais\n",
    "### Created On : 03-11-2024\n",
    "### Email : ovais.shafiq1987@gmail.com\n",
    "### Contact # 0312-2830873"
   ]
  },
  {
   "cell_type": "markdown",
   "metadata": {},
   "source": [
    "### 1. List :\n",
    "##### Question 1"
   ]
  },
  {
   "cell_type": "code",
   "execution_count": 1,
   "metadata": {},
   "outputs": [
    {
     "name": "stdout",
     "output_type": "stream",
     "text": [
      "[]\n",
      "<class 'list'>\n"
     ]
    }
   ],
   "source": [
    "empty_list = []\n",
    "print(empty_list)\n",
    "print(type(empty_list))"
   ]
  },
  {
   "cell_type": "markdown",
   "metadata": {},
   "source": [
    "##### Question 02"
   ]
  },
  {
   "cell_type": "code",
   "execution_count": 2,
   "metadata": {},
   "outputs": [
    {
     "name": "stdout",
     "output_type": "stream",
     "text": [
      "['apple', 'banana', 'orange', 'kiwi', 'gava', 'mango', 'appricot']\n"
     ]
    }
   ],
   "source": [
    "list_1 = ['apple','banana','orange','kiwi','gava','mango','appricot']\n",
    "print(list_1)"
   ]
  },
  {
   "cell_type": "markdown",
   "metadata": {},
   "source": [
    "##### Question 03"
   ]
  },
  {
   "cell_type": "code",
   "execution_count": 3,
   "metadata": {},
   "outputs": [
    {
     "name": "stdout",
     "output_type": "stream",
     "text": [
      "7\n"
     ]
    }
   ],
   "source": [
    "print(len(list_1))"
   ]
  },
  {
   "cell_type": "markdown",
   "metadata": {},
   "source": [
    "##### Question 04"
   ]
  },
  {
   "cell_type": "code",
   "execution_count": 5,
   "metadata": {},
   "outputs": [
    {
     "name": "stdout",
     "output_type": "stream",
     "text": [
      "['apple', 'banana', 'orange', 'kiwi', 'gava', 'mango', 'appricot']\n",
      "apple\n",
      "appricot\n",
      "kiwi\n"
     ]
    }
   ],
   "source": [
    "print(list_1)\n",
    "first_item = list_1[0]\n",
    "last_item = list_1[-1]\n",
    "print(first_item)\n",
    "print(last_item)\n",
    "\n",
    "middle_item = list_1[len(list_1) // 2]\n",
    "print(middle_item)"
   ]
  },
  {
   "cell_type": "markdown",
   "metadata": {},
   "source": [
    "##### Question 05"
   ]
  },
  {
   "cell_type": "code",
   "execution_count": 11,
   "metadata": {},
   "outputs": [
    {
     "name": "stdout",
     "output_type": "stream",
     "text": [
      "['Ovais', 35, 5.9, 'Married', 'Saadi Town']\n"
     ]
    }
   ],
   "source": [
    "mixed_data_types =  ['Ovais', 35, 5.9, 'Married', 'Saadi Town']\n",
    "print(mixed_data_types)"
   ]
  },
  {
   "cell_type": "markdown",
   "metadata": {},
   "source": [
    "##### Question 06"
   ]
  },
  {
   "cell_type": "code",
   "execution_count": 102,
   "metadata": {},
   "outputs": [
    {
     "name": "stdout",
     "output_type": "stream",
     "text": [
      "['Facebook', 'Google', 'Microsoft', 'Apple', 'IBM', 'Oracle', 'Amazon']\n",
      "7\n"
     ]
    }
   ],
   "source": [
    "IT_companies =['Facebook', 'Google', \n",
    "'Microsoft', 'Apple', 'IBM', 'Oracle', 'Amazon',]\n",
    "\n",
    "print(IT_companies)\n",
    "print(len(IT_companies))"
   ]
  },
  {
   "cell_type": "markdown",
   "metadata": {},
   "source": [
    "##### Question 07"
   ]
  },
  {
   "cell_type": "code",
   "execution_count": 103,
   "metadata": {},
   "outputs": [
    {
     "name": "stdout",
     "output_type": "stream",
     "text": [
      "Facebook\n",
      "Amazon\n",
      "Apple\n"
     ]
    }
   ],
   "source": [
    "first_company = IT_companies[0]\n",
    "last_company = IT_companies[-1]\n",
    "middle_company = IT_companies[len(IT_companies) //2 ]\n",
    "\n",
    "print(first_company)\n",
    "print(last_company)\n",
    "print(middle_company)"
   ]
  },
  {
   "cell_type": "markdown",
   "metadata": {},
   "source": [
    "##### Question 08"
   ]
  },
  {
   "cell_type": "code",
   "execution_count": 104,
   "metadata": {},
   "outputs": [
    {
     "name": "stdout",
     "output_type": "stream",
     "text": [
      "['Facebook', 'Google', 'Microsoft', 'Apple', 'IBM', 'Oracle', 'Amazon']\n",
      "['Facebook', 'Google', 'Sidat Haider', 'Apple', 'IBM', 'Oracle', 'Amazon']\n"
     ]
    }
   ],
   "source": [
    "print(IT_companies)\n",
    "# Modify one of the Company, Replace Microsoft with Sidat Haider\n",
    "IT_companies[2] = 'Sidat Haider'\n",
    "print(IT_companies)"
   ]
  },
  {
   "cell_type": "markdown",
   "metadata": {},
   "source": [
    "##### Question 09"
   ]
  },
  {
   "cell_type": "code",
   "execution_count": 105,
   "metadata": {},
   "outputs": [
    {
     "name": "stdout",
     "output_type": "stream",
     "text": [
      "['Facebook', 'Google', 'Sidat Haider', 'Apple', 'IBM', 'Oracle', 'Amazon']\n",
      "['Facebook', 'Google', 'Sidat Haider', 'Apple', 'IBM', 'Oracle', 'Amazon', 'Twitter', 'Yahoo']\n"
     ]
    }
   ],
   "source": [
    "print(IT_companies)\n",
    "IT_companies.append('Twitter')\n",
    "IT_companies.append('Yahoo')\n",
    "print(IT_companies)"
   ]
  },
  {
   "cell_type": "markdown",
   "metadata": {},
   "source": [
    "##### Question 10"
   ]
  },
  {
   "cell_type": "code",
   "execution_count": 106,
   "metadata": {},
   "outputs": [
    {
     "name": "stdout",
     "output_type": "stream",
     "text": [
      "['Facebook', 'Google', 'Sidat Haider', 'Apple', 'IBM', 'Oracle', 'Amazon', 'Twitter', 'Yahoo']\n",
      "4\n",
      "['Facebook', 'Google', 'Sidat Haider', 'Apple', 'Wikipedia', 'IBM', 'Oracle', 'Amazon', 'Twitter', 'Yahoo']\n"
     ]
    }
   ],
   "source": [
    "print(IT_companies)\n",
    "middle_index = len(IT_companies) // 2\n",
    "print(middle_index) \n",
    "\n",
    "IT_companies.insert(middle_index , 'Wikipedia')\n",
    "print(IT_companies)"
   ]
  },
  {
   "cell_type": "markdown",
   "metadata": {},
   "source": [
    "##### Question 11"
   ]
  },
  {
   "cell_type": "code",
   "execution_count": 107,
   "metadata": {},
   "outputs": [
    {
     "name": "stdout",
     "output_type": "stream",
     "text": [
      "['Facebook', 'Google', 'Sidat Haider', 'Apple', 'Wikipedia', 'IBM', 'Oracle', 'Amazon', 'Twitter', 'Yahoo']\n",
      "['Facebook', 'GOOGLE', 'Sidat Haider', 'APPLE', 'Wikipedia', 'IBM', 'ORACLE', 'Amazon', 'Twitter', 'Yahoo']\n"
     ]
    }
   ],
   "source": [
    "print(IT_companies)\n",
    "# Change 'Google' to Upper Case\n",
    "IT_companies[1] = IT_companies[1].upper()\n",
    "IT_companies[3] = IT_companies[3].upper()\n",
    "IT_companies[6] = IT_companies[6].upper()\n",
    "print(IT_companies)"
   ]
  },
  {
   "cell_type": "markdown",
   "metadata": {},
   "source": [
    "##### Question 12"
   ]
  },
  {
   "cell_type": "code",
   "execution_count": 108,
   "metadata": {},
   "outputs": [
    {
     "name": "stdout",
     "output_type": "stream",
     "text": [
      "['APPLE', 'Amazon', 'Facebook', 'GOOGLE', 'IBM', 'ORACLE', 'Sidat Haider', 'Twitter', 'Wikipedia', 'Yahoo']\n"
     ]
    }
   ],
   "source": [
    "IT_companies.sort()\n",
    "print(IT_companies)"
   ]
  },
  {
   "cell_type": "markdown",
   "metadata": {},
   "source": [
    "##### Question 13"
   ]
  },
  {
   "cell_type": "code",
   "execution_count": 109,
   "metadata": {},
   "outputs": [
    {
     "name": "stdout",
     "output_type": "stream",
     "text": [
      "['APPLE', 'Amazon', 'Facebook', 'GOOGLE', 'IBM', 'ORACLE', 'Sidat Haider', 'Twitter', 'Wikipedia', 'Yahoo']\n",
      "['Yahoo', 'Wikipedia', 'Twitter', 'Sidat Haider', 'ORACLE', 'IBM', 'GOOGLE', 'Facebook', 'Amazon', 'APPLE']\n"
     ]
    }
   ],
   "source": [
    "print(IT_companies)\n",
    "IT_companies.reverse()\n",
    "print(IT_companies)"
   ]
  },
  {
   "cell_type": "markdown",
   "metadata": {},
   "source": [
    "##### Question 14"
   ]
  },
  {
   "cell_type": "code",
   "execution_count": 110,
   "metadata": {},
   "outputs": [
    {
     "name": "stdout",
     "output_type": "stream",
     "text": [
      "['APPLE', 'Amazon', 'Facebook', 'GOOGLE', 'IBM', 'ORACLE', 'Sidat Haider', 'Twitter', 'Wikipedia', 'Yahoo']\n",
      "['APPLE', 'Amazon', 'Facebook']\n"
     ]
    }
   ],
   "source": [
    "(IT_companies).reverse()\n",
    "print(IT_companies)\n",
    "\n",
    "first_three_companies = IT_companies[:3]\n",
    "print(first_three_companies)"
   ]
  },
  {
   "cell_type": "markdown",
   "metadata": {},
   "source": [
    "##### Question 15"
   ]
  },
  {
   "cell_type": "code",
   "execution_count": 111,
   "metadata": {},
   "outputs": [
    {
     "name": "stdout",
     "output_type": "stream",
     "text": [
      "['APPLE', 'Amazon', 'Facebook', 'GOOGLE', 'IBM', 'ORACLE', 'Sidat Haider', 'Twitter', 'Wikipedia', 'Yahoo']\n",
      "['Twitter', 'Wikipedia', 'Yahoo']\n"
     ]
    }
   ],
   "source": [
    "print(IT_companies)\n",
    "\n",
    "last_three_companies = IT_companies[-3:]\n",
    "print(last_three_companies)"
   ]
  },
  {
   "cell_type": "markdown",
   "metadata": {},
   "source": [
    "Question 16"
   ]
  },
  {
   "cell_type": "code",
   "execution_count": 6,
   "metadata": {},
   "outputs": [
    {
     "name": "stdout",
     "output_type": "stream",
     "text": [
      "Middle company or companies: ['IBM', 'ORACLE']\n"
     ]
    }
   ],
   "source": [
    "IT_companies = ['APPLE', 'Amazon', 'Facebook', 'GOOGLE', 'IBM', 'ORACLE', 'Sidat Haider', 'Twitter', 'Wikipedia', 'Yahoo']\n",
    "\n",
    "# Calculate the length of the list\n",
    "n = len(IT_companies)\n",
    "\n",
    "# Check if the list length is odd or even\n",
    "if n % 2 == 1:\n",
    "    # If odd, get the single middle element\n",
    "    middle = IT_companies[n // 2]\n",
    "    middle_companies = [middle]\n",
    "else:\n",
    "    # If even, get the two middle elements\n",
    "    middle1 = IT_companies[(n // 2) - 1]\n",
    "    middle2 = IT_companies[n // 2]\n",
    "    middle_companies = [middle1, middle2]\n",
    "\n",
    "print(\"Middle company or companies:\", middle_companies)\n",
    "\n"
   ]
  },
  {
   "cell_type": "markdown",
   "metadata": {},
   "source": [
    "##### Question 17"
   ]
  },
  {
   "cell_type": "code",
   "execution_count": 8,
   "metadata": {},
   "outputs": [
    {
     "name": "stdout",
     "output_type": "stream",
     "text": [
      "['Amazon', 'Facebook', 'GOOGLE', 'IBM', 'ORACLE', 'Sidat Haider', 'Twitter', 'Wikipedia', 'Yahoo']\n",
      "['Facebook', 'GOOGLE', 'IBM', 'ORACLE', 'Sidat Haider', 'Twitter', 'Wikipedia', 'Yahoo']\n"
     ]
    }
   ],
   "source": [
    "print(IT_companies)\n",
    "\n",
    "# Remove first Element in the List\n",
    "IT_companies.pop(0)\n",
    "print(IT_companies)"
   ]
  },
  {
   "cell_type": "markdown",
   "metadata": {},
   "source": [
    "##### Question 18"
   ]
  },
  {
   "cell_type": "code",
   "execution_count": 114,
   "metadata": {},
   "outputs": [
    {
     "name": "stdout",
     "output_type": "stream",
     "text": [
      "['APPLE', 'Amazon', 'Facebook', 'GOOGLE', 'IBM', 'ORACLE', 'Sidat Haider', 'Twitter', 'Wikipedia', 'Yahoo']\n",
      "5\n",
      "['APPLE', 'Amazon', 'Facebook', 'GOOGLE', 'IBM', 'Sidat Haider', 'Twitter', 'Wikipedia', 'Yahoo']\n"
     ]
    }
   ],
   "source": [
    "print(IT_companies)\n",
    "# Find the Middle Value of the List\n",
    "mid_company = len(IT_companies)//2\n",
    "print(mid_company)\n",
    "\n",
    "# Remove the middle index which is index 4\n",
    "IT_companies.pop(mid_company)\n",
    "print(IT_companies)"
   ]
  },
  {
   "cell_type": "markdown",
   "metadata": {},
   "source": [
    "##### Question 19"
   ]
  },
  {
   "cell_type": "code",
   "execution_count": 115,
   "metadata": {},
   "outputs": [
    {
     "name": "stdout",
     "output_type": "stream",
     "text": [
      "['APPLE', 'Amazon', 'Facebook', 'GOOGLE', 'IBM', 'Sidat Haider', 'Twitter', 'Wikipedia', 'Yahoo']\n",
      "['APPLE', 'Amazon', 'Facebook', 'GOOGLE', 'IBM', 'Sidat Haider', 'Twitter', 'Wikipedia']\n"
     ]
    }
   ],
   "source": [
    "print(IT_companies)\n",
    "IT_companies.pop(-1)\n",
    "print(IT_companies)"
   ]
  },
  {
   "cell_type": "markdown",
   "metadata": {},
   "source": [
    "##### Question 20"
   ]
  },
  {
   "cell_type": "code",
   "execution_count": 118,
   "metadata": {},
   "outputs": [
    {
     "name": "stdout",
     "output_type": "stream",
     "text": [
      "['APPLE', 'Amazon', 'Facebook', 'GOOGLE', 'IBM', 'Sidat Haider', 'Twitter', 'Wikipedia']\n",
      "[]\n"
     ]
    }
   ],
   "source": [
    "print(IT_companies)\n",
    "\n",
    "# Remove all the companies from the list\n",
    "IT_companies.clear()\n",
    "print(IT_companies)"
   ]
  },
  {
   "cell_type": "markdown",
   "metadata": {},
   "source": [
    "##### Question 21"
   ]
  },
  {
   "cell_type": "code",
   "execution_count": 120,
   "metadata": {},
   "outputs": [
    {
     "name": "stdout",
     "output_type": "stream",
     "text": [
      "[]\n"
     ]
    },
    {
     "ename": "NameError",
     "evalue": "name 'IT_companies' is not defined",
     "output_type": "error",
     "traceback": [
      "\u001b[1;31m---------------------------------------------------------------------------\u001b[0m",
      "\u001b[1;31mNameError\u001b[0m                                 Traceback (most recent call last)",
      "Cell \u001b[1;32mIn[120], line 4\u001b[0m\n\u001b[0;32m      2\u001b[0m \u001b[38;5;66;03m# Completely Destroy the List\u001b[39;00m\n\u001b[0;32m      3\u001b[0m \u001b[38;5;28;01mdel\u001b[39;00m IT_companies\n\u001b[1;32m----> 4\u001b[0m \u001b[38;5;28mprint\u001b[39m(\u001b[43mIT_companies\u001b[49m)\n",
      "\u001b[1;31mNameError\u001b[0m: name 'IT_companies' is not defined"
     ]
    }
   ],
   "source": [
    "print(IT_companies)\n",
    "# Completely Destroy the List\n",
    "del IT_companies\n",
    "print(IT_companies)"
   ]
  },
  {
   "cell_type": "markdown",
   "metadata": {},
   "source": [
    "##### Question 22"
   ]
  },
  {
   "cell_type": "code",
   "execution_count": 121,
   "metadata": {},
   "outputs": [
    {
     "name": "stdout",
     "output_type": "stream",
     "text": [
      "Full stack: ['HTML', 'CSS', 'JS', 'React', 'Redux', 'Node', 'Express', 'MongoDB']\n"
     ]
    }
   ],
   "source": [
    "front_end = ['HTML', 'CSS', 'JS', 'React', 'Redux']\n",
    "back_end = ['Node', 'Express', 'MongoDB']\n",
    "\n",
    "full_stack = front_end + back_end\n",
    "print(\"Full stack:\", full_stack)\n"
   ]
  },
  {
   "cell_type": "markdown",
   "metadata": {},
   "source": [
    "##### Question 23 & 24"
   ]
  },
  {
   "cell_type": "code",
   "execution_count": 126,
   "metadata": {},
   "outputs": [
    {
     "name": "stdout",
     "output_type": "stream",
     "text": [
      "['HTML', 'CSS', 'JS', 'React', 'Redux', 'Python', 'Node', 'Express', 'MongoDB']\n",
      "5\n",
      "['HTML', 'CSS', 'JS', 'React', 'Redux', 'Python', 'Python', 'Node', 'Express', 'MongoDB']\n",
      "['HTML', 'CSS', 'JS', 'React', 'Redux', 'Python', 'SQL', 'Python', 'Node', 'Express', 'MongoDB']\n"
     ]
    }
   ],
   "source": [
    "print(full_stack)\n",
    "\n",
    "index = full_stack.index('Redux') + 1\n",
    "print(index)\n",
    "full_stack.insert(index,'Python')\n",
    "print(full_stack)\n",
    "full_stack.insert(index+1, 'SQL')\n",
    "print(full_stack)"
   ]
  },
  {
   "cell_type": "markdown",
   "metadata": {},
   "source": [
    "##### Question 25 , 26 & 27"
   ]
  },
  {
   "cell_type": "code",
   "execution_count": 131,
   "metadata": {},
   "outputs": [
    {
     "name": "stdout",
     "output_type": "stream",
     "text": [
      "[19, 19, 20, 22, 24, 24, 24, 25, 25, 26]\n",
      "Minimum Age is :  19\n",
      "Maximum Age is :  26\n"
     ]
    }
   ],
   "source": [
    "ages = [19 , 22 , 19, 24, 20, 25, 26, 24, 25, 24]\n",
    "# Sort the List\n",
    "ages.sort()\n",
    "print(ages)\n",
    "min_age = min(ages)\n",
    "max_age = max(ages)\n",
    "\n",
    "print(\"Minimum Age is : \" , min_age)\n",
    "print(\"Maximum Age is : \" , max_age)"
   ]
  },
  {
   "cell_type": "markdown",
   "metadata": {},
   "source": [
    "##### Question 28"
   ]
  },
  {
   "cell_type": "code",
   "execution_count": 134,
   "metadata": {},
   "outputs": [
    {
     "name": "stdout",
     "output_type": "stream",
     "text": [
      "[19, 19, 20, 22, 24, 24, 24, 25, 25, 26, 9]\n",
      "[19, 19, 20, 22, 24, 24, 24, 25, 25, 26, 9, 9, 29]\n"
     ]
    }
   ],
   "source": [
    "print(ages)\n",
    "\n",
    "ages.append(9)\n",
    "ages.append(29)\n",
    "print(ages)"
   ]
  },
  {
   "cell_type": "code",
   "execution_count": 135,
   "metadata": {},
   "outputs": [
    {
     "name": "stdout",
     "output_type": "stream",
     "text": [
      "[9, 9, 19, 19, 20, 22, 24, 24, 24, 25, 25, 26, 29]\n"
     ]
    }
   ],
   "source": [
    "ages.sort()\n",
    "print(ages)"
   ]
  },
  {
   "cell_type": "markdown",
   "metadata": {},
   "source": [
    "##### Question 29"
   ]
  },
  {
   "cell_type": "code",
   "execution_count": 140,
   "metadata": {},
   "outputs": [
    {
     "name": "stdout",
     "output_type": "stream",
     "text": [
      "[9, 9, 19, 19, 20, 22, 24, 24, 24, 25, 25, 26, 29]\n",
      "13\n",
      "Median Age is : 24\n"
     ]
    }
   ],
   "source": [
    "print(ages)\n",
    "length = len(ages)\n",
    "print(length)\n",
    "\n",
    "median = ages[length // 2]\n",
    "print(\"Median Age is :\" , median)"
   ]
  },
  {
   "cell_type": "markdown",
   "metadata": {},
   "source": [
    "##### Question 30"
   ]
  },
  {
   "cell_type": "code",
   "execution_count": 142,
   "metadata": {},
   "outputs": [
    {
     "name": "stdout",
     "output_type": "stream",
     "text": [
      "[9, 9, 19, 19, 20, 22, 24, 24, 24, 25, 25, 26, 29]\n",
      "The Average Age is :  21.153846153846153\n"
     ]
    }
   ],
   "source": [
    "print(ages)\n",
    "# Find the Average Age\n",
    "\n",
    "avg_age = sum(ages) / len(ages)\n",
    "\n",
    "print(\"The Average Age is : \", avg_age)"
   ]
  },
  {
   "cell_type": "markdown",
   "metadata": {},
   "source": [
    "##### Question 31"
   ]
  },
  {
   "cell_type": "code",
   "execution_count": 144,
   "metadata": {},
   "outputs": [
    {
     "name": "stdout",
     "output_type": "stream",
     "text": [
      "[9, 9, 19, 19, 20, 22, 24, 24, 24, 25, 25, 26, 29]\n",
      "Minimum Age is :  9\n",
      "Maximum Age is :  29\n",
      "Age range is :  20\n"
     ]
    }
   ],
   "source": [
    "print(ages)\n",
    "\n",
    "min_age = min(ages)\n",
    "max_age = max(ages)\n",
    "\n",
    "age_range = max_age - min_age\n",
    "\n",
    "print(\"Minimum Age is : \" , min_age)\n",
    "print(\"Maximum Age is : \" , max_age)\n",
    "print(\"Age range is : \" , age_range)"
   ]
  },
  {
   "cell_type": "markdown",
   "metadata": {},
   "source": [
    "##### Question 32"
   ]
  },
  {
   "cell_type": "code",
   "execution_count": 146,
   "metadata": {},
   "outputs": [
    {
     "name": "stdout",
     "output_type": "stream",
     "text": [
      "[9, 9, 19, 19, 20, 22, 24, 24, 24, 25, 25, 26, 29]\n",
      "Min - Average: 12.153846153846153\n",
      "Max - Average: 7.846153846153847\n",
      "The absolute difference (min - average) is greater.\n"
     ]
    }
   ],
   "source": [
    "print(ages)\n",
    "\n",
    "min_age = min(ages)\n",
    "max_age = max(ages)\n",
    "average_age = sum(ages) / len(ages)\n",
    "\n",
    "# Calculate the absolute differences\n",
    "diff_min_avg = abs(min_age - average_age)\n",
    "diff_max_avg = abs(max_age - average_age)\n",
    "\n",
    "# Compare the values\n",
    "print(\"Min - Average:\", diff_min_avg)\n",
    "print(\"Max - Average:\", diff_max_avg)\n",
    "\n",
    "if diff_min_avg > diff_max_avg:\n",
    "    print(\"The absolute difference (min - average) is greater.\")\n",
    "elif diff_min_avg < diff_max_avg:\n",
    "    print(\"The absolute difference (max - average) is greater.\")\n",
    "else:\n",
    "    print(\"The absolute differences are equal.\")"
   ]
  },
  {
   "cell_type": "markdown",
   "metadata": {},
   "source": [
    "##### Question 33"
   ]
  },
  {
   "cell_type": "code",
   "execution_count": 150,
   "metadata": {},
   "outputs": [
    {
     "name": "stdout",
     "output_type": "stream",
     "text": [
      "['China', 'Russia', 'USA', 'Finland', 'Sweden', 'Norway', 'Denmark']\n",
      "The Middle Country is : Finland\n"
     ]
    }
   ],
   "source": [
    "countries = ['China', 'Russia', 'USA', 'Finland', 'Sweden', 'Norway', 'Denmark']\n",
    "print(countries)\n",
    "\n",
    "n = len(countries)\n",
    "middle_country = countries[n // 2]\n",
    "\n",
    "print(\"The Middle Country is :\" , middle_country)"
   ]
  },
  {
   "cell_type": "markdown",
   "metadata": {},
   "source": [
    "##### Question 34"
   ]
  },
  {
   "cell_type": "code",
   "execution_count": 161,
   "metadata": {},
   "outputs": [
    {
     "name": "stdout",
     "output_type": "stream",
     "text": [
      "['China', 'Russia', 'USA', 'Finland', 'Sweden', 'Norway', 'Denmark']\n",
      "First half: ['China', 'Russia', 'USA', 'Finland']\n",
      "Second half: ['Sweden', 'Norway', 'Denmark']\n"
     ]
    }
   ],
   "source": [
    "print(countries)\n",
    "\n",
    "# Calculate the midpoint\n",
    "midpoint = (len(countries) + 1) // 2  # +1 ensures the first half is larger if odd\n",
    "\n",
    "# Split the list into two halves\n",
    "first_half = countries[:midpoint]\n",
    "second_half = countries[midpoint:]\n",
    "\n",
    "print(\"First half:\", first_half)\n",
    "print(\"Second half:\", second_half)"
   ]
  },
  {
   "cell_type": "markdown",
   "metadata": {},
   "source": [
    "##### Another Example"
   ]
  },
  {
   "cell_type": "code",
   "execution_count": 163,
   "metadata": {},
   "outputs": [
    {
     "name": "stdout",
     "output_type": "stream",
     "text": [
      "['China', 'Russia', 'USA', 'Finland', 'Sweden', 'Norway', 'Denmark', 'Germany']\n",
      "First half: ['China', 'Russia', 'USA', 'Finland']\n",
      "Second half: ['Sweden', 'Norway', 'Denmark', 'Germany']\n"
     ]
    }
   ],
   "source": [
    "print(countries_1)\n",
    "\n",
    "# Calculate the midpoint\n",
    "midpoint = (len(countries_1)) // 2  # +1 ensures the first half is larger if odd\n",
    "\n",
    "# Split the list into two halves\n",
    "first_half = countries_1[:midpoint]\n",
    "second_half = countries_1[midpoint:]\n",
    "\n",
    "print(\"First half:\", first_half)\n",
    "print(\"Second half:\", second_half)"
   ]
  },
  {
   "cell_type": "markdown",
   "metadata": {},
   "source": [
    "##### Question 35"
   ]
  },
  {
   "cell_type": "code",
   "execution_count": 164,
   "metadata": {},
   "outputs": [
    {
     "name": "stdout",
     "output_type": "stream",
     "text": [
      "['China', 'Russia', 'USA', 'Finland', 'Sweden', 'Norway', 'Denmark']\n",
      "First country: China\n",
      "Second country: Russia\n",
      "Third country: USA\n",
      "Scandic countries: ['Finland', 'Sweden', 'Norway', 'Denmark']\n"
     ]
    }
   ],
   "source": [
    "print(countries)\n",
    "\n",
    "# Unpack the first three countries and the rest as Scandic countries\n",
    "first, second, third, *scandic_countries = countries\n",
    "\n",
    "print(\"First country:\", first)\n",
    "print(\"Second country:\", second)\n",
    "print(\"Third country:\", third)\n",
    "print(\"Scandic countries:\", scandic_countries)\n"
   ]
  },
  {
   "cell_type": "markdown",
   "metadata": {},
   "source": [
    "### 2. Tuple"
   ]
  },
  {
   "cell_type": "markdown",
   "metadata": {},
   "source": [
    "##### Question 1"
   ]
  },
  {
   "cell_type": "code",
   "execution_count": 165,
   "metadata": {},
   "outputs": [
    {
     "name": "stdout",
     "output_type": "stream",
     "text": [
      "()\n",
      "<class 'tuple'>\n"
     ]
    }
   ],
   "source": [
    "empty_tuple = ()\n",
    "print(empty_tuple)\n",
    "print(type(empty_tuple))"
   ]
  },
  {
   "cell_type": "markdown",
   "metadata": {},
   "source": [
    "##### Question 2"
   ]
  },
  {
   "cell_type": "code",
   "execution_count": 181,
   "metadata": {},
   "outputs": [
    {
     "name": "stdout",
     "output_type": "stream",
     "text": [
      "Siblings are : ('Anas', 'Saad', 'Shayan', 'Maria', 'Javeria')\n"
     ]
    }
   ],
   "source": [
    "siblings = ('Anas', 'Saad' , 'Shayan','Maria' , 'Javeria')\n",
    "print(\"Siblings are :\" ,siblings)"
   ]
  },
  {
   "cell_type": "markdown",
   "metadata": {},
   "source": [
    "##### Question 3"
   ]
  },
  {
   "cell_type": "code",
   "execution_count": 182,
   "metadata": {},
   "outputs": [
    {
     "name": "stdout",
     "output_type": "stream",
     "text": [
      "Brothers are :  ('Anas', 'Saad', 'Shayan')\n",
      "Sisters are :  ('Maria', 'Javeria')\n",
      "All siblings are :  ('Anas', 'Saad', 'Shayan', 'Maria', 'Javeria')\n"
     ]
    }
   ],
   "source": [
    "brothers = ('Anas' , 'Saad' , 'Shayan')\n",
    "sisters = ('Maria' , 'Javeria')\n",
    "\n",
    "siblings = brothers + sisters\n",
    "\n",
    "print(\"Brothers are : \" , brothers)\n",
    "print(\"Sisters are : \" , sisters)\n",
    "print(\"All siblings are : \" , siblings)\n"
   ]
  },
  {
   "cell_type": "markdown",
   "metadata": {},
   "source": [
    "##### Question 4"
   ]
  },
  {
   "cell_type": "code",
   "execution_count": 183,
   "metadata": {},
   "outputs": [
    {
     "name": "stdout",
     "output_type": "stream",
     "text": [
      "Number of Siblings are : 5\n"
     ]
    }
   ],
   "source": [
    "number_of_siblings = len(siblings)\n",
    "\n",
    "print(\"Number of Siblings are :\" , number_of_siblings)"
   ]
  },
  {
   "cell_type": "markdown",
   "metadata": {},
   "source": [
    "##### Question 5"
   ]
  },
  {
   "cell_type": "code",
   "execution_count": 184,
   "metadata": {},
   "outputs": [
    {
     "name": "stdout",
     "output_type": "stream",
     "text": [
      "Siblings are : ('Anas', 'Saad', 'Shayan', 'Maria', 'Javeria')\n",
      "Family Members are : ('Anas', 'Saad', 'Shayan', 'Maria', 'Javeria', 'Shafeeq', 'Farzana')\n"
     ]
    }
   ],
   "source": [
    "\n",
    "parents = ('Shafeeq' , 'Farzana')\n",
    "family_members = siblings + parents\n",
    "\n",
    "print(\"Siblings are :\" , siblings)\n",
    "print(\"Family Members are :\" , family_members)"
   ]
  },
  {
   "cell_type": "markdown",
   "metadata": {},
   "source": [
    "##### Question 6"
   ]
  },
  {
   "cell_type": "code",
   "execution_count": 190,
   "metadata": {},
   "outputs": [
    {
     "name": "stdout",
     "output_type": "stream",
     "text": [
      "('Anas', 'Saad', 'Shayan', 'Maria', 'Javeria', 'Shafeeq', 'Farzana')\n",
      "Siblings are : ['Anas', 'Saad', 'Shayan', 'Maria', 'Javeria']\n",
      "Father is : Shafeeq\n",
      "Mother is : Farzana\n"
     ]
    }
   ],
   "source": [
    "print(family_members)\n",
    "\n",
    "# Unpack \n",
    "\n",
    "*siblings , father , mother =  family_members\n",
    "\n",
    "print(\"Siblings are :\", siblings)\n",
    "print(\"Father is :\" , father)\n",
    "print(\"Mother is :\" , mother)"
   ]
  },
  {
   "cell_type": "markdown",
   "metadata": {},
   "source": [
    "##### Question 7"
   ]
  },
  {
   "cell_type": "code",
   "execution_count": 193,
   "metadata": {},
   "outputs": [
    {
     "name": "stdout",
     "output_type": "stream",
     "text": [
      "Food Stuff are : ('Apple', 'Banana', 'Orange', 'Strawberry', 'Cherry', 'Egg Plant', 'Carrot', 'BEans', 'Potato', 'Meat', 'poultry', 'fish', 'shellfish', 'dairy', 'eggs')\n"
     ]
    }
   ],
   "source": [
    "fruits = (\"Apple\", \"Banana\",\"Orange\",\"Strawberry\",\"Cherry\")\n",
    "vegetables = (\"Egg Plant\",\"Carrot\",\"BEans\",\"Potato\")\n",
    "animal_product = ('Meat', 'poultry', 'fish', 'shellfish', 'dairy', 'eggs')\n",
    "\n",
    "food_stuff_tp = fruits + vegetables +  animal_product\n",
    "\n",
    "print(\"Food Stuff are :\" ,food_stuff_tp)"
   ]
  },
  {
   "cell_type": "markdown",
   "metadata": {},
   "source": [
    "##### Question 8"
   ]
  },
  {
   "cell_type": "code",
   "execution_count": 196,
   "metadata": {},
   "outputs": [
    {
     "name": "stdout",
     "output_type": "stream",
     "text": [
      "Food Stuff Tuple :  ('Apple', 'Banana', 'Orange', 'Strawberry', 'Cherry', 'Egg Plant', 'Carrot', 'BEans', 'Potato', 'Meat', 'poultry', 'fish', 'shellfish', 'dairy', 'eggs')\n",
      "<class 'tuple'>\n",
      "Food Stuff List is : ['Apple', 'Banana', 'Orange', 'Strawberry', 'Cherry', 'Egg Plant', 'Carrot', 'BEans', 'Potato', 'Meat', 'poultry', 'fish', 'shellfish', 'dairy', 'eggs']\n",
      "<class 'list'>\n"
     ]
    }
   ],
   "source": [
    "print(\"Food Stuff Tuple : \", food_stuff_tp)\n",
    "print(type(food_stuff_tp))\n",
    "\n",
    "# Change tuple into List\n",
    "\n",
    "food_stuff_lt = list(food_stuff_tp)\n",
    "print(\"Food Stuff List is :\" , food_stuff_lt)\n",
    "print(type(food_stuff_lt))"
   ]
  },
  {
   "cell_type": "markdown",
   "metadata": {},
   "source": [
    "##### Question 9"
   ]
  },
  {
   "cell_type": "code",
   "execution_count": 199,
   "metadata": {},
   "outputs": [
    {
     "name": "stdout",
     "output_type": "stream",
     "text": [
      "('Apple', 'Banana', 'Orange', 'Strawberry', 'Cherry', 'Egg Plant', 'Carrot', 'BEans', 'Potato', 'Meat', 'poultry', 'fish', 'shellfish', 'dairy', 'eggs')\n",
      "7\n",
      "Middle item(s): ('BEans',)\n"
     ]
    }
   ],
   "source": [
    "\n",
    "print(food_stuff_tp)\n",
    "\n",
    "# Calculate the midpoint\n",
    "midpoint = len(food_stuff_tp) // 2\n",
    "print(midpoint)\n",
    "\n",
    "# Slice out the middle item or items\n",
    "if len(food_stuff_tp) % 2 == 0:  # Even number of items\n",
    "    middle_items = food_stuff_tp[midpoint - 1:midpoint + 1]\n",
    "else:  # Odd number of items\n",
    "    middle_items = food_stuff_tp[midpoint:midpoint + 1]\n",
    "\n",
    "print(\"Middle item(s):\", middle_items)"
   ]
  },
  {
   "cell_type": "code",
   "execution_count": 200,
   "metadata": {},
   "outputs": [
    {
     "name": "stdout",
     "output_type": "stream",
     "text": [
      "['Apple', 'Banana', 'Orange', 'Strawberry', 'Cherry', 'Egg Plant', 'Carrot', 'BEans', 'Potato', 'Meat', 'poultry', 'fish', 'shellfish', 'dairy', 'eggs']\n",
      "7\n",
      "Middle item(s): ['BEans']\n"
     ]
    }
   ],
   "source": [
    "print(food_stuff_lt)\n",
    "\n",
    "# Calculate the midpoint\n",
    "midpoint_1 = len(food_stuff_lt) // 2\n",
    "print(midpoint_1)\n",
    "\n",
    "# Slice out the middle item or items\n",
    "if len(food_stuff_lt) % 2 == 0:  # Even number of items\n",
    "    middle_item = food_stuff_lt[midpoint_1 - 1:midpoint_1 + 1]\n",
    "else:  # Odd number of items\n",
    "    middle_item = food_stuff_lt[midpoint_1:midpoint_1 + 1]\n",
    "\n",
    "print(\"Middle item(s):\", middle_item)"
   ]
  },
  {
   "cell_type": "markdown",
   "metadata": {},
   "source": [
    "##### Question 10"
   ]
  },
  {
   "cell_type": "code",
   "execution_count": 201,
   "metadata": {},
   "outputs": [
    {
     "name": "stdout",
     "output_type": "stream",
     "text": [
      "['Apple', 'Banana', 'Orange', 'Strawberry', 'Cherry', 'Egg Plant', 'Carrot', 'BEans', 'Potato', 'Meat', 'poultry', 'fish', 'shellfish', 'dairy', 'eggs']\n",
      "First three items: ['Apple', 'Banana', 'Orange']\n",
      "Last three items: ['shellfish', 'dairy', 'eggs']\n"
     ]
    }
   ],
   "source": [
    "print(food_stuff_lt)\n",
    "\n",
    "# Slice out the first three items\n",
    "first_three = food_stuff_lt[:3]\n",
    "\n",
    "# Slice out the last three items\n",
    "last_three = food_stuff_lt[-3:]\n",
    "\n",
    "print(\"First three items:\", first_three)\n",
    "print(\"Last three items:\", last_three)\n"
   ]
  },
  {
   "cell_type": "markdown",
   "metadata": {},
   "source": [
    "##### Question 11"
   ]
  },
  {
   "cell_type": "code",
   "execution_count": 203,
   "metadata": {},
   "outputs": [
    {
     "name": "stdout",
     "output_type": "stream",
     "text": [
      "('Apple', 'Banana', 'Orange', 'Strawberry', 'Cherry', 'Egg Plant', 'Carrot', 'BEans', 'Potato', 'Meat', 'poultry', 'fish', 'shellfish', 'dairy', 'eggs')\n"
     ]
    },
    {
     "ename": "NameError",
     "evalue": "name 'food_stuff_tp' is not defined",
     "output_type": "error",
     "traceback": [
      "\u001b[1;31m---------------------------------------------------------------------------\u001b[0m",
      "\u001b[1;31mNameError\u001b[0m                                 Traceback (most recent call last)",
      "Cell \u001b[1;32mIn[203], line 4\u001b[0m\n\u001b[0;32m      1\u001b[0m \u001b[38;5;28mprint\u001b[39m(food_stuff_tp)\n\u001b[0;32m      3\u001b[0m \u001b[38;5;28;01mdel\u001b[39;00m food_stuff_tp\n\u001b[1;32m----> 4\u001b[0m \u001b[38;5;28mprint\u001b[39m(\u001b[43mfood_stuff_tp\u001b[49m)\n",
      "\u001b[1;31mNameError\u001b[0m: name 'food_stuff_tp' is not defined"
     ]
    }
   ],
   "source": [
    "print(food_stuff_tp)\n",
    "\n",
    "del food_stuff_tp\n",
    "print(food_stuff_tp)"
   ]
  },
  {
   "cell_type": "markdown",
   "metadata": {},
   "source": [
    "### 3. Set"
   ]
  },
  {
   "cell_type": "markdown",
   "metadata": {},
   "source": [
    "##### Question 1"
   ]
  },
  {
   "cell_type": "code",
   "execution_count": 205,
   "metadata": {},
   "outputs": [
    {
     "data": {
      "text/plain": [
       "7"
      ]
     },
     "execution_count": 205,
     "metadata": {},
     "output_type": "execute_result"
    }
   ],
   "source": [
    "it_companies = {'Facebook', 'Google', 'Microsoft', 'Apple', 'IBM', 'Oracle',\n",
    "'Amazon'}\n",
    "\n",
    "len(it_companies)"
   ]
  },
  {
   "cell_type": "markdown",
   "metadata": {},
   "source": [
    "##### Question 2"
   ]
  },
  {
   "cell_type": "code",
   "execution_count": 207,
   "metadata": {},
   "outputs": [
    {
     "name": "stdout",
     "output_type": "stream",
     "text": [
      "{'IBM', 'Facebook', 'Oracle', 'Amazon', 'Microsoft', 'Apple', 'Google'}\n",
      "{'IBM', 'Twitter', 'Facebook', 'Oracle', 'Amazon', 'Microsoft', 'Apple', 'Google'}\n"
     ]
    }
   ],
   "source": [
    "print(it_companies)\n",
    "it_companies.add(\"Twitter\")\n",
    "print(it_companies)"
   ]
  },
  {
   "cell_type": "markdown",
   "metadata": {},
   "source": [
    "##### Question 3"
   ]
  },
  {
   "cell_type": "code",
   "execution_count": 209,
   "metadata": {},
   "outputs": [
    {
     "name": "stdout",
     "output_type": "stream",
     "text": [
      "{'IBM', 'Twitter', 'Facebook', 'Oracle', 'Amazon', 'Microsoft', 'Apple', 'Google'}\n",
      "{'Shopify', 'Facebook', 'Oracle', 'Microsoft', 'Apple', 'Intel', 'Google', 'Ali Baba', 'Daraz', 'Twitter', 'Amazon', 'Cisco', 'IBM'}\n"
     ]
    }
   ],
   "source": [
    "print(it_companies)\n",
    "\n",
    "new_companies = {\"Intel\",\"Cisco\",\"Shopify\",\"Daraz\",\"Ali Baba\"}\n",
    "\n",
    "it_companies.update(new_companies)\n",
    "print(it_companies)"
   ]
  },
  {
   "cell_type": "markdown",
   "metadata": {},
   "source": [
    "##### Question 4"
   ]
  },
  {
   "cell_type": "code",
   "execution_count": 210,
   "metadata": {},
   "outputs": [
    {
     "name": "stdout",
     "output_type": "stream",
     "text": [
      "{'Shopify', 'Facebook', 'Oracle', 'Microsoft', 'Apple', 'Intel', 'Google', 'Ali Baba', 'Daraz', 'Twitter', 'Amazon', 'Cisco', 'IBM'}\n",
      "Set After removing  Amazon:  {'Shopify', 'Facebook', 'Oracle', 'Microsoft', 'Apple', 'Intel', 'Google', 'Ali Baba', 'Daraz', 'Twitter', 'Cisco', 'IBM'}\n"
     ]
    }
   ],
   "source": [
    "print(it_companies)\n",
    "\n",
    "it_companies.remove(\"Amazon\")\n",
    "\n",
    "print(\"Set After removing  Amazon: \", it_companies)\n"
   ]
  },
  {
   "cell_type": "markdown",
   "metadata": {},
   "source": [
    "##### Question 5"
   ]
  },
  {
   "cell_type": "markdown",
   "metadata": {},
   "source": [
    "##### The remove() method will raise an error if the element is not found, while discard() will not raise an error."
   ]
  },
  {
   "cell_type": "markdown",
   "metadata": {},
   "source": [
    "##### Question 6"
   ]
  },
  {
   "cell_type": "code",
   "execution_count": 212,
   "metadata": {},
   "outputs": [
    {
     "name": "stdout",
     "output_type": "stream",
     "text": [
      "Joined Sets using Union() : {19, 20, 22, 24, 25, 26, 27, 28}\n"
     ]
    }
   ],
   "source": [
    "A = {19, 22, 24, 20, 25, 26}\n",
    "B = {19, 22, 20, 25, 26, 24, 28, 27}\n",
    "\n",
    "joined_sets = A.union(B)\n",
    "\n",
    "print(\"Joined Sets using Union() :\" , joined_sets)"
   ]
  },
  {
   "cell_type": "code",
   "execution_count": 213,
   "metadata": {},
   "outputs": [
    {
     "name": "stdout",
     "output_type": "stream",
     "text": [
      "Joined Sets using | Method : {19, 20, 22, 24, 25, 26, 27, 28}\n"
     ]
    }
   ],
   "source": [
    "A = {19, 22, 24, 20, 25, 26}\n",
    "B = {19, 22, 20, 25, 26, 24, 28, 27}\n",
    "\n",
    "joined_sets = A | B\n",
    "\n",
    "print(\"Joined Sets using | Method :\" , joined_sets)"
   ]
  },
  {
   "cell_type": "markdown",
   "metadata": {},
   "source": [
    "##### Question 7"
   ]
  },
  {
   "cell_type": "code",
   "execution_count": 214,
   "metadata": {},
   "outputs": [
    {
     "name": "stdout",
     "output_type": "stream",
     "text": [
      "Intersection using intersection() : {19, 20, 22, 24, 25, 26}\n"
     ]
    }
   ],
   "source": [
    "A = {19, 22, 24, 20, 25, 26}\n",
    "B = {19, 22, 20, 25, 26, 24, 28, 27}\n",
    "\n",
    "joined_sets = A.intersection(B)\n",
    "\n",
    "print(\"Intersection using intersection() :\" , joined_sets)"
   ]
  },
  {
   "cell_type": "code",
   "execution_count": 215,
   "metadata": {},
   "outputs": [
    {
     "name": "stdout",
     "output_type": "stream",
     "text": [
      "Intersection using & : {19, 20, 22, 24, 25, 26}\n"
     ]
    }
   ],
   "source": [
    "A = {19, 22, 24, 20, 25, 26}\n",
    "B = {19, 22, 20, 25, 26, 24, 28, 27}\n",
    "\n",
    "joined_sets = A & B\n",
    "\n",
    "print(\"Intersection using & :\" , joined_sets)"
   ]
  },
  {
   "cell_type": "markdown",
   "metadata": {},
   "source": [
    "##### Question 8"
   ]
  },
  {
   "cell_type": "code",
   "execution_count": 216,
   "metadata": {},
   "outputs": [
    {
     "name": "stdout",
     "output_type": "stream",
     "text": [
      "Is A a subset of B ? : True\n"
     ]
    }
   ],
   "source": [
    "A = {19, 22, 24, 20, 25, 26}\n",
    "B = {19, 22, 20, 25, 26, 24, 28, 27}\n",
    "\n",
    "is_subset = A.issubset(B)\n",
    "\n",
    "print(\"Is A a subset of B ? :\" , is_subset)"
   ]
  },
  {
   "cell_type": "markdown",
   "metadata": {},
   "source": [
    "##### Question 9"
   ]
  },
  {
   "cell_type": "code",
   "execution_count": 217,
   "metadata": {},
   "outputs": [
    {
     "name": "stdout",
     "output_type": "stream",
     "text": [
      "Are A and B Disjoint ? : False\n"
     ]
    }
   ],
   "source": [
    "A = {19, 22, 24, 20, 25, 26}\n",
    "B = {19, 22, 20, 25, 26, 24, 28, 27}\n",
    "\n",
    "are_disjoint = A.isdisjoint(B)\n",
    "\n",
    "print(\"Are A and B Disjoint ? :\" , are_disjoint)"
   ]
  },
  {
   "cell_type": "markdown",
   "metadata": {},
   "source": [
    "##### Question 10"
   ]
  },
  {
   "cell_type": "code",
   "execution_count": 218,
   "metadata": {},
   "outputs": [
    {
     "name": "stdout",
     "output_type": "stream",
     "text": [
      "Join A with B : {19, 20, 22, 24, 25, 26, 27, 28}\n",
      "Join B with A : {19, 20, 22, 24, 25, 26, 27, 28}\n"
     ]
    }
   ],
   "source": [
    "A = {19, 22, 24, 20, 25, 26}\n",
    "B = {19, 22, 20, 25, 26, 24, 28, 27}\n",
    "\n",
    "join_A_with_B = A.union(B)\n",
    "\n",
    "join_B_with_A = B.union(A)\n",
    "\n",
    "print(\"Join A with B :\" , join_A_with_B)\n",
    "print(\"Join B with A :\" , join_B_with_A)"
   ]
  },
  {
   "cell_type": "markdown",
   "metadata": {},
   "source": [
    "##### Question 11"
   ]
  },
  {
   "cell_type": "code",
   "execution_count": 219,
   "metadata": {},
   "outputs": [
    {
     "name": "stdout",
     "output_type": "stream",
     "text": [
      "Symmetric difference using symmetric_difference(): {27, 28}\n"
     ]
    }
   ],
   "source": [
    "A = {19, 22, 24, 20, 25, 26}\n",
    "B = {19, 22, 20, 25, 26, 24, 28, 27}\n",
    "# Symmetric Difference\n",
    "symm_diff = A.symmetric_difference(B)\n",
    "\n",
    "print(\"Symmetric difference using symmetric_difference():\", symm_diff)"
   ]
  },
  {
   "cell_type": "markdown",
   "metadata": {},
   "source": [
    "##### Question 12"
   ]
  },
  {
   "cell_type": "code",
   "execution_count": 222,
   "metadata": {},
   "outputs": [
    {
     "ename": "NameError",
     "evalue": "name 'A' is not defined",
     "output_type": "error",
     "traceback": [
      "\u001b[1;31m---------------------------------------------------------------------------\u001b[0m",
      "\u001b[1;31mNameError\u001b[0m                                 Traceback (most recent call last)",
      "Cell \u001b[1;32mIn[222], line 1\u001b[0m\n\u001b[1;32m----> 1\u001b[0m \u001b[38;5;28mprint\u001b[39m(\u001b[43mA\u001b[49m)\n\u001b[0;32m      2\u001b[0m \u001b[38;5;28mprint\u001b[39m(B)\n\u001b[0;32m      4\u001b[0m \u001b[38;5;28;01mdel\u001b[39;00m A\n",
      "\u001b[1;31mNameError\u001b[0m: name 'A' is not defined"
     ]
    }
   ],
   "source": [
    "print(A)\n",
    "print(B)\n",
    "\n",
    "del A\n",
    "del B\n",
    "\n",
    "print(A)\n",
    "print(B)"
   ]
  },
  {
   "cell_type": "markdown",
   "metadata": {},
   "source": [
    "##### Question 13"
   ]
  },
  {
   "cell_type": "code",
   "execution_count": 228,
   "metadata": {},
   "outputs": [
    {
     "name": "stdout",
     "output_type": "stream",
     "text": [
      "<class 'list'>\n",
      "<class 'set'>\n",
      "Length of the List is : 8\n",
      "Length of the Set is : 5\n",
      "The list is bigger.\n"
     ]
    }
   ],
   "source": [
    "age = [22, 19, 24, 25, 26, 24, 25, 24]\n",
    "print(type(age))\n",
    "\n",
    "# Convert list to a set\n",
    "\n",
    "age_set = set(age)\n",
    "print(type(age_set))\n",
    "\n",
    "# Compare the length of the list and a set\n",
    "list_length = len(age)\n",
    "set_length = len(age_set)\n",
    "\n",
    "print(\"Length of the List is :\" , list_length)\n",
    "print(\"Length of the Set is :\" ,  set_length)\n",
    "\n",
    "# Which One is Bigger\n",
    "\n",
    "if list_length > set_length:\n",
    "    print(\"The list is bigger.\")\n",
    "elif set_length > list_length:\n",
    "    print(\"The set is bigger.\")\n",
    "else:\n",
    "    print(\"The list and the set are of the same length.\")"
   ]
  },
  {
   "cell_type": "markdown",
   "metadata": {},
   "source": [
    "##### Question 14"
   ]
  },
  {
   "cell_type": "markdown",
   "metadata": {},
   "source": [
    "### 1. String\n",
    "##### Definition: A string is a sequence of characters enclosed in single quotes ('...'), double quotes (\"...\"), or triple quotes ('''...''' or \"\"\"...\"\"\"). Characteristics: Immutable: Once a string is created, it cannot be changed. Any operation that modifies a string will create a new string. Indexed: Strings can be indexed to access individual characters."
   ]
  },
  {
   "cell_type": "markdown",
   "metadata": {},
   "source": [
    "### 2. List\n",
    "##### Definition: A list is an ordered collection of items, which can be of different data types, enclosed in square brackets ([...]).\n",
    "##### Characteristics:\n",
    "##### Mutable: Lists can be modified after their creation. You can add, remove, or change items.\n",
    "##### Indexed: Like strings, lists are indexed and allow access to elements by their position."
   ]
  },
  {
   "cell_type": "markdown",
   "metadata": {},
   "source": [
    "### 3. Tuple\n",
    "##### Definition: A tuple is similar to a list, but it is immutable and is defined by enclosing items in parentheses ((...)). Characteristics: Immutable: Once a tuple is created, its contents cannot be changed. Any modification will create a new tuple. Ordered: Tuples maintain the order of elements. Indexed: Tuples can be indexed to access individual elements."
   ]
  },
  {
   "cell_type": "markdown",
   "metadata": {},
   "source": [
    "### 4. Set\n",
    "##### Definition: A set is an unordered collection of unique items, defined by enclosing items in curly braces ({...}) or using the set() constructor. Characteristics: Mutable: Sets can be modified by adding or removing items, but the items themselves must be immutable (e.g., you cannot add a list to a set). Unordered: The items in a set do not have a defined order, and indexing does not apply. Unique Elements: Sets automatically remove duplicates."
   ]
  }
 ],
 "metadata": {
  "kernelspec": {
   "display_name": "Python 3",
   "language": "python",
   "name": "python3"
  },
  "language_info": {
   "codemirror_mode": {
    "name": "ipython",
    "version": 3
   },
   "file_extension": ".py",
   "mimetype": "text/x-python",
   "name": "python",
   "nbconvert_exporter": "python",
   "pygments_lexer": "ipython3",
   "version": "3.12.7"
  }
 },
 "nbformat": 4,
 "nbformat_minor": 2
}
