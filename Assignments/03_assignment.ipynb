{
 "cells": [
  {
   "cell_type": "markdown",
   "metadata": {},
   "source": [
    "# Assignments # 03\n",
    "### Created By : Syed Muhammad Ovais\n",
    "### Created On : 20-11-2024\n",
    "### Email : ovais.shafiq1987@gmail.com\n",
    "### Contact # 0312-2830873"
   ]
  },
  {
   "cell_type": "markdown",
   "metadata": {},
   "source": [
    "### Question No 1"
   ]
  },
  {
   "cell_type": "code",
   "execution_count": 2,
   "metadata": {},
   "outputs": [
    {
     "name": "stdout",
     "output_type": "stream",
     "text": [
      "Welcome to ATM System\n",
      "\n",
      "1. Check Balance\n",
      "2. Withdraw\n",
      "3. Deposit\n",
      "4. Exit\n",
      "Insufficient balance\n"
     ]
    }
   ],
   "source": [
    "print(\"Welcome to ATM System\")\n",
    "\n",
    "amount = 1000\n",
    "while True:\n",
    "    print(\"\\n1. Check Balance\")\n",
    "    print(\"2. Withdraw\")\n",
    "    print(\"3. Deposit\")\n",
    "    print(\"4. Exit\")\n",
    "    choice = input(\"Enter your choice: \")\n",
    "    if choice == \"1\":\n",
    "        print(f\"Your balance is {amount}\")\n",
    "    elif choice == \"2\":\n",
    "        \n",
    "        try:\n",
    "            withdraw = int(input(\"Enter amount to withdraw: \"))\n",
    "            if withdraw > 0:\n",
    "                if withdraw <= amount:\n",
    "                    amount -= withdraw\n",
    "                    print(f\"Withdrawn {withdraw}. Remaining balance is {amount}\")\n",
    "                else:\n",
    "                    print(\"Insufficient balance\")\n",
    "            else:\n",
    "                print(\"Invalid amount. Please enter a positive value.\")\n",
    "        except ValueError:\n",
    "            print(\"Invalid Input. Please enter a valid number.\")\n",
    "    elif choice == \"3\":\n",
    "        deposit = int(input(\"Enter amount to deposit: \"))\n",
    "        if deposit > 0:\n",
    "            amount += deposit\n",
    "            print(f\"Deposited {deposit}. New balance is {amount}\")\n",
    "        else:\n",
    "            print(\"Invalid amount\")\n",
    "    elif choice == \"4\":\n",
    "        print(\"Thank you for using our ATM system\")\n",
    "    break\n",
    "else:\n",
    "    print(\"Invalid choice\")"
   ]
  },
  {
   "cell_type": "markdown",
   "metadata": {},
   "source": [
    "### Question No 2"
   ]
  },
  {
   "cell_type": "code",
   "execution_count": null,
   "metadata": {},
   "outputs": [],
   "source": [
    "# Coffee Machine Resources\n",
    "resources = {\n",
    "    \"water\": 100,  # ml\n",
    "    \"milk\": 50,    # ml\n",
    "    \"coffee\": 76,  # g\n",
    "    \"money\": 2.5      # dollars\n",
    "}\n",
    "\n",
    "# Coffee Menu\n",
    "menu = {\n",
    "    \"espresso\": {\"water\": 50, \"milk\": 0, \"coffee\": 18, \"cost\": 1.5},\n",
    "    \"latte\": {\"water\": 200, \"milk\": 150, \"coffee\": 24, \"cost\": 2.5},\n",
    "    \"cappuccino\": {\"water\": 250, \"milk\": 100, \"coffee\": 24, \"cost\": 3.0}\n",
    "}\n",
    "\n",
    "# Coffee Machine Loop\n",
    "is_on = True\n",
    "\n",
    "while is_on:\n",
    "    choice = input(\"\\nWhat would you like? (espresso/latte/cappuccino): \").lower()\n",
    "    \n",
    "    if choice == \"off\":\n",
    "        print(\"Turning off the coffee machine. Goodbye!\")\n",
    "        is_on = False\n",
    "    elif choice == \"report\":\n",
    "        print(f\"Water: {resources['water']}ml\")\n",
    "        print(f\"Milk: {resources['milk']}ml\")\n",
    "        print(f\"Coffee: {resources['coffee']}g\")\n",
    "        print(f\"Money: ${resources['money']:.2f}\")\n",
    "    elif choice in menu:\n",
    "        # Check if resources are sufficient\n",
    "        enough_resources = True\n",
    "        for item in menu[choice]:\n",
    "            if item in resources and resources[item] < menu[choice][item]:\n",
    "                print(f\"Sorry, there is not enough {item}.\")\n",
    "                enough_resources = False\n",
    "                break\n",
    "        \n",
    "        # Process payment if resources are sufficient\n",
    "        if enough_resources:\n",
    "            print(f\"The cost is ${menu[choice]['cost']:.2f}. Please insert coins.\")\n",
    "            total = int(input(\"How many quarters? \")) * 0.25\n",
    "            total += int(input(\"How many dimes? \")) * 0.10*2\n",
    "            total += int(input(\"How many nickels? \")) * 0.05\n",
    "            total += int(input(\"How many pennies? \")) * 0.01*2\n",
    "\n",
    "            if total >= menu[choice][\"cost\"]:\n",
    "                change = round(total - menu[choice][\"cost\"], 2)\n",
    "                if change > 0:\n",
    "                    print(f\"Here is ${change:.2f} in change.\")\n",
    "                resources[\"money\"] += menu[choice][\"cost\"]\n",
    "\n",
    "                # Deduct resources\n",
    "                for item in menu[choice]:\n",
    "                    if item in resources:\n",
    "                        resources[item] -= menu[choice][item]\n",
    "\n",
    "                print(f\"Here is your {choice}. Enjoy!\")\n",
    "            else:\n",
    "                print(\"Sorry, that's not enough money. Money refunded.\")\n",
    "    else:\n",
    "        print(\"Invalid choice. Please try again.\")\n"
   ]
  }
 ],
 "metadata": {
  "kernelspec": {
   "display_name": "Python 3",
   "language": "python",
   "name": "python3"
  },
  "language_info": {
   "codemirror_mode": {
    "name": "ipython",
    "version": 3
   },
   "file_extension": ".py",
   "mimetype": "text/x-python",
   "name": "python",
   "nbconvert_exporter": "python",
   "pygments_lexer": "ipython3",
   "version": "3.12.7"
  }
 },
 "nbformat": 4,
 "nbformat_minor": 2
}
