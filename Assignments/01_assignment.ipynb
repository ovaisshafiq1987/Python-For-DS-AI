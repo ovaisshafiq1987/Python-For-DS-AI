{
 "cells": [
  {
   "cell_type": "markdown",
   "metadata": {},
   "source": [
    "# Assignments And Tasks\n",
    "### Created By : Syed Muhammad Ovais\n",
    "### Created On : 2024-10-17\n",
    "### Email : ovais.shafiq1987@gmail.com\n",
    "### Contact # 0312-2830873"
   ]
  },
  {
   "cell_type": "markdown",
   "metadata": {},
   "source": [
    "## Assignment # 1"
   ]
  },
  {
   "cell_type": "code",
   "execution_count": 3,
   "metadata": {},
   "outputs": [
    {
     "name": "stdout",
     "output_type": "stream",
     "text": [
      "##############PORTFOLIO##############\n",
      "My Name is : Syed Muhammad Ovais\n",
      "My Age is : 36\n",
      "My Gender is : Male\n",
      "My Designation is : Enterpreneur\n",
      "My Occupation is : Bussiness\n",
      "My Education is : Computer System Engineer\n",
      "My Organization Name is : Al-Saadat Construction Solution\n",
      "#####################################\n"
     ]
    }
   ],
   "source": [
    "print(\"##############PORTFOLIO##############\")\n",
    "name = 'Syed Muhammad Ovais'\n",
    "age = 36\n",
    "gender  = 'Male'\n",
    "Designation = 'Enterpreneur'\n",
    "Occupation = 'Bussiness'\n",
    "education = 'Computer System Engineer'\n",
    "Organization = 'Al-Saadat Construction Solution'\n",
    "\n",
    "\n",
    "print('My Name is :' , name)\n",
    "print('My Age is :' , age)\n",
    "print('My Gender is :' , gender)\n",
    "print('My Designation is :' , Designation)\n",
    "print('My Occupation is :' , Occupation)\n",
    "print('My Education is :' , education)\n",
    "print('My Organization Name is :' , Organization)\n",
    "\n",
    "print(\"#####################################\")"
   ]
  },
  {
   "cell_type": "markdown",
   "metadata": {},
   "source": [
    "# Assignment # 2"
   ]
  },
  {
   "cell_type": "code",
   "execution_count": 3,
   "metadata": {},
   "outputs": [
    {
     "name": "stdout",
     "output_type": "stream",
     "text": [
      "Obtained Marks in English :  77.0\n",
      "Obtained Marks in Math :  91.0\n",
      "Obtained Marks in Physics :  39.0\n",
      "Obtained Marks in Calculus :  52.0\n",
      "Obtained Marks in Applied Physics :  59.0\n",
      "The Result is : 63.6 %\n"
     ]
    }
   ],
   "source": [
    "# Percentage \n",
    "\n",
    "english = float(input('Enter the Marks : '))\n",
    "math =  float(input('Enter the Marks : '))\n",
    "physics = float(input('Enter the Marks : '))\n",
    "calculus = float(input('Enter the Marks : '))\n",
    "applied_physics = float(input('Enter the Marks : '))\n",
    "\n",
    "total_marks = 500\n",
    "\n",
    "print('Obtained Marks in English : ' , english)\n",
    "print('Obtained Marks in Math : ' , math)\n",
    "print('Obtained Marks in Physics : ' , physics)\n",
    "print('Obtained Marks in Calculus : ' , calculus)\n",
    "print('Obtained Marks in Applied Physics : ' , applied_physics)\n",
    "\n",
    "result = ((english+math+physics+calculus+applied_physics) / total_marks) * 100\n",
    "\n",
    "print(\"The Result is :\" , result ,'%')"
   ]
  },
  {
   "cell_type": "markdown",
   "metadata": {},
   "source": [
    "## Tasks :\n",
    "\n",
    "### Question # 1 (a)"
   ]
  },
  {
   "cell_type": "code",
   "execution_count": 1,
   "metadata": {},
   "outputs": [
    {
     "name": "stdout",
     "output_type": "stream",
     "text": [
      "Your last name Shafiq is longer than your first name.\n"
     ]
    }
   ],
   "source": [
    "first_name = input(\"Enter Your First Name : \")\n",
    "last_name = input(\"Enter Your Last Name :\")\n",
    "\n",
    "# Compare the lengths of the first and last name\n",
    "\n",
    "if len(first_name) > len(last_name):\n",
    "    print(\"Your first name \" +first_name+ \" is longer than your last name.\")\n",
    "elif len(first_name) < len(last_name):\n",
    "    print(\"Your last name \" +last_name+ \" is longer than your first name.\")\n",
    "else:\n",
    "    print(\"Your first name and last name are the same length.\")\n"
   ]
  },
  {
   "cell_type": "markdown",
   "metadata": {},
   "source": [
    "### Question # 1 (b)"
   ]
  },
  {
   "cell_type": "code",
   "execution_count": 3,
   "metadata": {},
   "outputs": [
    {
     "name": "stdout",
     "output_type": "stream",
     "text": [
      "The length of the first name is:7\n"
     ]
    }
   ],
   "source": [
    "first_name = \"Shafeeq\"\n",
    "length_of_first_name = len(first_name)\n",
    "\n",
    "print(f\"The length of the first name is:{length_of_first_name}\")\n"
   ]
  },
  {
   "cell_type": "markdown",
   "metadata": {},
   "source": [
    "### Question No 2"
   ]
  },
  {
   "cell_type": "code",
   "execution_count": 6,
   "metadata": {},
   "outputs": [],
   "source": [
    "num_one = 5\n",
    "num_two = 4"
   ]
  },
  {
   "cell_type": "markdown",
   "metadata": {},
   "source": [
    "#### Question No 2 (a)"
   ]
  },
  {
   "cell_type": "code",
   "execution_count": 8,
   "metadata": {},
   "outputs": [
    {
     "name": "stdout",
     "output_type": "stream",
     "text": [
      "9\n"
     ]
    }
   ],
   "source": [
    "total = num_one + num_two\n",
    "\n",
    "print(total)"
   ]
  },
  {
   "cell_type": "markdown",
   "metadata": {},
   "source": [
    "#### Question No 2 (b)"
   ]
  },
  {
   "cell_type": "code",
   "execution_count": 19,
   "metadata": {},
   "outputs": [
    {
     "name": "stdout",
     "output_type": "stream",
     "text": [
      "-1\n"
     ]
    }
   ],
   "source": [
    "diff = num_two - num_one\n",
    "print(diff)"
   ]
  },
  {
   "cell_type": "markdown",
   "metadata": {},
   "source": [
    "#### Question No 2 (c)"
   ]
  },
  {
   "cell_type": "code",
   "execution_count": 27,
   "metadata": {},
   "outputs": [
    {
     "name": "stdout",
     "output_type": "stream",
     "text": [
      "The product of 4 multiply by 5 is: 20\n"
     ]
    }
   ],
   "source": [
    "product = num_two * num_one\n",
    "print(f\"The product of {num_two} multiply by {num_one} is: {product}\")"
   ]
  },
  {
   "cell_type": "markdown",
   "metadata": {},
   "source": [
    "#### Question No 2 (d)"
   ]
  },
  {
   "cell_type": "code",
   "execution_count": 24,
   "metadata": {},
   "outputs": [
    {
     "name": "stdout",
     "output_type": "stream",
     "text": [
      "The divison of 5 divided by 4 is: 1.25\n"
     ]
    }
   ],
   "source": [
    "division = num_one / num_two\n",
    "\n",
    "print(f\"The divison of {num_one} divided by {num_two} is: {division}\")"
   ]
  },
  {
   "cell_type": "markdown",
   "metadata": {},
   "source": [
    "#### Question No 2 (e)"
   ]
  },
  {
   "cell_type": "code",
   "execution_count": 30,
   "metadata": {},
   "outputs": [
    {
     "name": "stdout",
     "output_type": "stream",
     "text": [
      "The reminder of 4 divide by 5 is: 4\n"
     ]
    }
   ],
   "source": [
    "reminder = num_two % num_one  # Finds the remainder \n",
    "print(f\"The reminder of {num_two} divide by {num_one} is: {reminder}\")\n"
   ]
  },
  {
   "cell_type": "markdown",
   "metadata": {},
   "source": [
    "#### Question No 2 (f)"
   ]
  },
  {
   "cell_type": "code",
   "execution_count": 31,
   "metadata": {},
   "outputs": [
    {
     "name": "stdout",
     "output_type": "stream",
     "text": [
      "5 to the power of 4 is: 625\n"
     ]
    }
   ],
   "source": [
    "exp = num_one ** num_two  # Raises num_one to the power of num_two\n",
    "print(f\"{num_one} to the power of {num_two} is: {exp}\")\n"
   ]
  },
  {
   "cell_type": "markdown",
   "metadata": {},
   "source": [
    "#### Question No 2 (g)"
   ]
  },
  {
   "cell_type": "code",
   "execution_count": 32,
   "metadata": {},
   "outputs": [
    {
     "name": "stdout",
     "output_type": "stream",
     "text": [
      "The floor division of 5 by 4 is: 1\n"
     ]
    }
   ],
   "source": [
    "floor_division = num_one // num_two  # Performs floor division of num_one by num_two\n",
    "print(f\"The floor division of {num_one} by {num_two} is: {floor_division}\")\n"
   ]
  },
  {
   "cell_type": "markdown",
   "metadata": {},
   "source": [
    "### Question No 3"
   ]
  },
  {
   "cell_type": "code",
   "execution_count": 4,
   "metadata": {},
   "outputs": [
    {
     "name": "stdout",
     "output_type": "stream",
     "text": [
      "The Area of the Circle is :  2827.4333882308138\n"
     ]
    }
   ],
   "source": [
    "# Find Area of Circle\n",
    "\n",
    "import math\n",
    "\n",
    "# Given Radius:\n",
    "radius = 30\n",
    "\n",
    "# Calculate the area of the Circle\n",
    "area_of_circle = math.pi * (radius ** 2)\n",
    "\n",
    "print(  \"Area of the Circle is : \" ,area_of_circle)\n",
    "\n"
   ]
  },
  {
   "cell_type": "code",
   "execution_count": 10,
   "metadata": {},
   "outputs": [
    {
     "name": "stdout",
     "output_type": "stream",
     "text": [
      "Area of the Circle is :  188.49555921538757 m.Sq\n"
     ]
    }
   ],
   "source": [
    "# Find Circumference  of Circle\n",
    "\n",
    "circum_of_circle = 2 * math.pi * radius\n",
    "\n",
    "print(  \"Area of the Circle is : \" , circum_of_circle , \"m.Sq\")"
   ]
  },
  {
   "cell_type": "code",
   "execution_count": 11,
   "metadata": {},
   "outputs": [
    {
     "name": "stdout",
     "output_type": "stream",
     "text": [
      "Area of the circle with radius 16.0 is: 804.247719318987\n"
     ]
    }
   ],
   "source": [
    "# Take radius as user input and calculate the area\n",
    "\n",
    "user_radius = float(input(\"Enter the radius of the circle : \"))\n",
    "\n",
    "# Calculate the area for the user-provided radius\n",
    "area_for_user_input = math.pi * user_radius ** 2\n",
    "\n",
    "# Display the area for user-provided radius\n",
    "print(\"Area of the circle with radius\", user_radius, \"is:\", area_for_user_input)"
   ]
  },
  {
   "cell_type": "markdown",
   "metadata": {},
   "source": [
    "### Question No 4\n",
    "##### A grocery store sells a bag of ice for $1.25 and makes a 20% profit. If it sells 500 bags of ice, how much total profit does it make?"
   ]
  },
  {
   "cell_type": "code",
   "execution_count": 12,
   "metadata": {},
   "outputs": [
    {
     "name": "stdout",
     "output_type": "stream",
     "text": [
      "The total profit from selling 500 bags of ice is: $ 125.0\n"
     ]
    }
   ],
   "source": [
    "# Given values\n",
    "price_per_bag = 1.25\n",
    "profit_margin = 0.20\n",
    "number_of_bags = 500\n",
    "\n",
    "# Calculate the profit per bag\n",
    "profit_per_bag = price_per_bag * profit_margin\n",
    "\n",
    "# Calculate the total profit\n",
    "total_profit = profit_per_bag * number_of_bags\n",
    "\n",
    "# The total profit\n",
    "print(\"The total profit from selling 500 bags of ice is: $\", total_profit)\n"
   ]
  },
  {
   "cell_type": "markdown",
   "metadata": {},
   "source": [
    "### Question No 5\n",
    "\n",
    "##### A travel company wants to fly a plane to the Bahamas. Flying the plane costs 5000 dollars. So far, 29 people have signed up for the trip. If the company charges 200 dollars per ticket, what is the profit made by the company? Create variables for each numeric quantity and use appropriate arithmetic operations."
   ]
  },
  {
   "cell_type": "code",
   "execution_count": 13,
   "metadata": {},
   "outputs": [
    {
     "name": "stdout",
     "output_type": "stream",
     "text": [
      "Total Revenue from Ticket Sales: $ 5800\n",
      "The profit made by the company is: $ 800\n"
     ]
    }
   ],
   "source": [
    "# Given Values\n",
    "\n",
    "cost_of_flight = 5000\n",
    "num_of_people = 29\n",
    "ticket_price = 200\n",
    "\n",
    "# Calculate the total revenue from ticket sales\n",
    "total_revenue = num_of_people * ticket_price\n",
    "print(\"Total Revenue from Ticket Sales: $\", total_revenue)\n",
    "\n",
    "# Calculate the Profit\n",
    "profit =  total_revenue - cost_of_flight\n",
    "print(\"The profit made by the company is: $\", profit)"
   ]
  },
  {
   "cell_type": "markdown",
   "metadata": {},
   "source": [
    "### Another Method of Question No 5"
   ]
  },
  {
   "cell_type": "code",
   "execution_count": 14,
   "metadata": {},
   "outputs": [
    {
     "name": "stdout",
     "output_type": "stream",
     "text": [
      "The actual cost of per pessenger is:  172.41379310344828\n",
      "The  actual profit is:  27.586206896551715\n",
      "The total profit is:  799.9999999999998\n"
     ]
    }
   ],
   "source": [
    "flight_cost = 5000\n",
    "pessengers = 29\n",
    "ticket = 200\n",
    "\n",
    "actual_cost_of_per_pessenger = flight_cost / pessengers\n",
    "print(\"The actual cost of per pessenger is: \", actual_cost_of_per_pessenger)\n",
    "\n",
    "actual_profit = ticket - actual_cost_of_per_pessenger\n",
    "print(\"The  actual profit is: \", actual_profit)\n",
    "\n",
    "total_profit = actual_profit *  pessengers\n",
    "print(\"The total profit is: \", total_profit)\n",
    "\n",
    "\n"
   ]
  }
 ],
 "metadata": {
  "kernelspec": {
   "display_name": "Python 3",
   "language": "python",
   "name": "python3"
  },
  "language_info": {
   "codemirror_mode": {
    "name": "ipython",
    "version": 3
   },
   "file_extension": ".py",
   "mimetype": "text/x-python",
   "name": "python",
   "nbconvert_exporter": "python",
   "pygments_lexer": "ipython3",
   "version": "3.12.7"
  }
 },
 "nbformat": 4,
 "nbformat_minor": 2
}
